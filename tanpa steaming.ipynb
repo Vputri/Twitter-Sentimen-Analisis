{
 "cells": [
  {
   "cell_type": "code",
   "execution_count": 1,
   "metadata": {
    "execution": {
     "iopub.execute_input": "2021-02-19T02:33:00.920858Z",
     "iopub.status.busy": "2021-02-19T02:33:00.920149Z",
     "iopub.status.idle": "2021-02-19T02:33:09.529588Z",
     "shell.execute_reply": "2021-02-19T02:33:09.528840Z"
    },
    "papermill": {
     "duration": 8.650415,
     "end_time": "2021-02-19T02:33:09.529825",
     "exception": false,
     "start_time": "2021-02-19T02:33:00.879410",
     "status": "completed"
    },
    "tags": []
   },
   "outputs": [
    {
     "name": "stdout",
     "output_type": "stream",
     "text": [
      "Collecting Sastrawi\r\n",
      "  Downloading Sastrawi-1.0.1-py2.py3-none-any.whl (209 kB)\r\n",
      "\u001b[K     |████████████████████████████████| 209 kB 4.4 MB/s \r\n",
      "\u001b[?25hInstalling collected packages: Sastrawi\r\n",
      "Successfully installed Sastrawi-1.0.1\r\n"
     ]
    }
   ],
   "source": [
    "!pip install Sastrawi"
   ]
  },
  {
   "cell_type": "markdown",
   "metadata": {
    "papermill": {
     "duration": 0.034985,
     "end_time": "2021-02-19T02:33:09.602155",
     "exception": false,
     "start_time": "2021-02-19T02:33:09.567170",
     "status": "completed"
    },
    "tags": []
   },
   "source": [
    "# READ DATASET"
   ]
  },
  {
   "cell_type": "code",
   "execution_count": 2,
   "metadata": {
    "_cell_guid": "b1076dfc-b9ad-4769-8c92-a6c4dae69d19",
    "_uuid": "8f2839f25d086af736a60e9eeb907d3b93b6e0e5",
    "execution": {
     "iopub.execute_input": "2021-02-19T02:33:09.678463Z",
     "iopub.status.busy": "2021-02-19T02:33:09.677786Z",
     "iopub.status.idle": "2021-02-19T02:33:09.689795Z",
     "shell.execute_reply": "2021-02-19T02:33:09.689197Z"
    },
    "papermill": {
     "duration": 0.052567,
     "end_time": "2021-02-19T02:33:09.689955",
     "exception": false,
     "start_time": "2021-02-19T02:33:09.637388",
     "status": "completed"
    },
    "tags": []
   },
   "outputs": [
    {
     "name": "stdout",
     "output_type": "stream",
     "text": [
      "/kaggle/input/cleaning/vaksin.csv\n",
      "/kaggle/input/cleaning/kbba.csv\n"
     ]
    }
   ],
   "source": [
    "import pandas as pd\n",
    "\n",
    "import os\n",
    "for dirname, _, filenames in os.walk('/kaggle/input'):\n",
    "    for filename in filenames:\n",
    "        print(os.path.join(dirname, filename))"
   ]
  },
  {
   "cell_type": "code",
   "execution_count": 3,
   "metadata": {
    "execution": {
     "iopub.execute_input": "2021-02-19T02:33:09.767474Z",
     "iopub.status.busy": "2021-02-19T02:33:09.766574Z",
     "iopub.status.idle": "2021-02-19T02:33:09.789893Z",
     "shell.execute_reply": "2021-02-19T02:33:09.788740Z"
    },
    "papermill": {
     "duration": 0.064846,
     "end_time": "2021-02-19T02:33:09.790157",
     "exception": false,
     "start_time": "2021-02-19T02:33:09.725311",
     "status": "completed"
    },
    "tags": []
   },
   "outputs": [],
   "source": [
    "import pandas as pd\n",
    "\n",
    "df = pd.read_csv(\"/kaggle/input/cleaning/vaksin.csv\")\n",
    "kbba = pd.read_csv(\"/kaggle/input/cleaning/kbba.csv\")"
   ]
  },
  {
   "cell_type": "code",
   "execution_count": 4,
   "metadata": {
    "execution": {
     "iopub.execute_input": "2021-02-19T02:33:09.881109Z",
     "iopub.status.busy": "2021-02-19T02:33:09.880427Z",
     "iopub.status.idle": "2021-02-19T02:33:09.902561Z",
     "shell.execute_reply": "2021-02-19T02:33:09.902009Z"
    },
    "papermill": {
     "duration": 0.07564,
     "end_time": "2021-02-19T02:33:09.902705",
     "exception": false,
     "start_time": "2021-02-19T02:33:09.827065",
     "status": "completed"
    },
    "tags": []
   },
   "outputs": [
    {
     "data": {
      "text/html": [
       "<div>\n",
       "<style scoped>\n",
       "    .dataframe tbody tr th:only-of-type {\n",
       "        vertical-align: middle;\n",
       "    }\n",
       "\n",
       "    .dataframe tbody tr th {\n",
       "        vertical-align: top;\n",
       "    }\n",
       "\n",
       "    .dataframe thead th {\n",
       "        text-align: right;\n",
       "    }\n",
       "</style>\n",
       "<table border=\"1\" class=\"dataframe\">\n",
       "  <thead>\n",
       "    <tr style=\"text-align: right;\">\n",
       "      <th></th>\n",
       "      <th>id</th>\n",
       "      <th>date</th>\n",
       "      <th>username</th>\n",
       "      <th>tweet</th>\n",
       "      <th>Kategori</th>\n",
       "    </tr>\n",
       "  </thead>\n",
       "  <tbody>\n",
       "    <tr>\n",
       "      <th>0</th>\n",
       "      <td>1.351675e+18</td>\n",
       "      <td>2021-01-20</td>\n",
       "      <td>gunung_bandung</td>\n",
       "      <td>Mudah2an kita yg merasa beragama, apalagi org ...</td>\n",
       "      <td>1</td>\n",
       "    </tr>\n",
       "    <tr>\n",
       "      <th>1</th>\n",
       "      <td>1.351673e+18</td>\n",
       "      <td>2021-01-20</td>\n",
       "      <td>gunung_bandung</td>\n",
       "      <td>Kalo ada ancaman, misal mati, yah harus ada up...</td>\n",
       "      <td>1</td>\n",
       "    </tr>\n",
       "    <tr>\n",
       "      <th>2</th>\n",
       "      <td>1.351670e+18</td>\n",
       "      <td>2021-01-20</td>\n",
       "      <td>dubie_tina</td>\n",
       "      <td>PERHATIAN KHUSUS INI AYO DISIPLIN PROKES LEBIH...</td>\n",
       "      <td>1</td>\n",
       "    </tr>\n",
       "    <tr>\n",
       "      <th>3</th>\n",
       "      <td>1.351655e+18</td>\n",
       "      <td>2021-01-20</td>\n",
       "      <td>windjalil</td>\n",
       "      <td>Pada dasarnya hanya NAFSU akan kekuasaan dan m...</td>\n",
       "      <td>2</td>\n",
       "    </tr>\n",
       "    <tr>\n",
       "      <th>4</th>\n",
       "      <td>1.351652e+18</td>\n",
       "      <td>2021-01-20</td>\n",
       "      <td>breakkucing</td>\n",
       "      <td>Vaksin konspirasi Flat earthers Pandemi konspi...</td>\n",
       "      <td>2</td>\n",
       "    </tr>\n",
       "    <tr>\n",
       "      <th>...</th>\n",
       "      <td>...</td>\n",
       "      <td>...</td>\n",
       "      <td>...</td>\n",
       "      <td>...</td>\n",
       "      <td>...</td>\n",
       "    </tr>\n",
       "    <tr>\n",
       "      <th>367</th>\n",
       "      <td>1.350000e+18</td>\n",
       "      <td>2021-01-26</td>\n",
       "      <td>lilapama2011</td>\n",
       "      <td>meski ada efek samping setelah vaksinasi. Seca...</td>\n",
       "      <td>1</td>\n",
       "    </tr>\n",
       "    <tr>\n",
       "      <th>368</th>\n",
       "      <td>1.350000e+18</td>\n",
       "      <td>2021-01-26</td>\n",
       "      <td>kianinara1</td>\n",
       "      <td>Cintai bumimu Lindungi dari virus corona Taati...</td>\n",
       "      <td>1</td>\n",
       "    </tr>\n",
       "    <tr>\n",
       "      <th>369</th>\n",
       "      <td>1.350000e+18</td>\n",
       "      <td>2021-01-26</td>\n",
       "      <td>boy99under</td>\n",
       "      <td>https://t.co/3Hh8rGpcaH  Saat nya kita bersatu...</td>\n",
       "      <td>1</td>\n",
       "    </tr>\n",
       "    <tr>\n",
       "      <th>370</th>\n",
       "      <td>1.350410e+18</td>\n",
       "      <td>2021-01-16</td>\n",
       "      <td>thalibhelmy</td>\n",
       "      <td>@cursedkidd \"Vaksin corona terbuat dari peju k...</td>\n",
       "      <td>2</td>\n",
       "    </tr>\n",
       "    <tr>\n",
       "      <th>371</th>\n",
       "      <td>1.351358e+18</td>\n",
       "      <td>2021-01-19</td>\n",
       "      <td>rigel_antarest</td>\n",
       "      <td>@daungoyang Vcs = vaksin corona sue?</td>\n",
       "      <td>2</td>\n",
       "    </tr>\n",
       "  </tbody>\n",
       "</table>\n",
       "<p>372 rows × 5 columns</p>\n",
       "</div>"
      ],
      "text/plain": [
       "               id        date        username  \\\n",
       "0    1.351675e+18  2021-01-20  gunung_bandung   \n",
       "1    1.351673e+18  2021-01-20  gunung_bandung   \n",
       "2    1.351670e+18  2021-01-20      dubie_tina   \n",
       "3    1.351655e+18  2021-01-20       windjalil   \n",
       "4    1.351652e+18  2021-01-20     breakkucing   \n",
       "..            ...         ...             ...   \n",
       "367  1.350000e+18  2021-01-26    lilapama2011   \n",
       "368  1.350000e+18  2021-01-26      kianinara1   \n",
       "369  1.350000e+18  2021-01-26      boy99under   \n",
       "370  1.350410e+18  2021-01-16     thalibhelmy   \n",
       "371  1.351358e+18  2021-01-19  rigel_antarest   \n",
       "\n",
       "                                                 tweet  Kategori  \n",
       "0    Mudah2an kita yg merasa beragama, apalagi org ...         1  \n",
       "1    Kalo ada ancaman, misal mati, yah harus ada up...         1  \n",
       "2    PERHATIAN KHUSUS INI AYO DISIPLIN PROKES LEBIH...         1  \n",
       "3    Pada dasarnya hanya NAFSU akan kekuasaan dan m...         2  \n",
       "4    Vaksin konspirasi Flat earthers Pandemi konspi...         2  \n",
       "..                                                 ...       ...  \n",
       "367  meski ada efek samping setelah vaksinasi. Seca...         1  \n",
       "368  Cintai bumimu Lindungi dari virus corona Taati...         1  \n",
       "369  https://t.co/3Hh8rGpcaH  Saat nya kita bersatu...         1  \n",
       "370  @cursedkidd \"Vaksin corona terbuat dari peju k...         2  \n",
       "371               @daungoyang Vcs = vaksin corona sue?         2  \n",
       "\n",
       "[372 rows x 5 columns]"
      ]
     },
     "execution_count": 4,
     "metadata": {},
     "output_type": "execute_result"
    }
   ],
   "source": [
    "df"
   ]
  },
  {
   "cell_type": "code",
   "execution_count": 5,
   "metadata": {
    "execution": {
     "iopub.execute_input": "2021-02-19T02:33:09.980521Z",
     "iopub.status.busy": "2021-02-19T02:33:09.978465Z",
     "iopub.status.idle": "2021-02-19T02:33:09.993225Z",
     "shell.execute_reply": "2021-02-19T02:33:09.992708Z"
    },
    "papermill": {
     "duration": 0.054655,
     "end_time": "2021-02-19T02:33:09.993374",
     "exception": false,
     "start_time": "2021-02-19T02:33:09.938719",
     "status": "completed"
    },
    "tags": []
   },
   "outputs": [
    {
     "data": {
      "text/html": [
       "<div>\n",
       "<style scoped>\n",
       "    .dataframe tbody tr th:only-of-type {\n",
       "        vertical-align: middle;\n",
       "    }\n",
       "\n",
       "    .dataframe tbody tr th {\n",
       "        vertical-align: top;\n",
       "    }\n",
       "\n",
       "    .dataframe thead th {\n",
       "        text-align: right;\n",
       "    }\n",
       "</style>\n",
       "<table border=\"1\" class=\"dataframe\">\n",
       "  <thead>\n",
       "    <tr style=\"text-align: right;\">\n",
       "      <th></th>\n",
       "      <th>tweet</th>\n",
       "      <th>Kategori</th>\n",
       "    </tr>\n",
       "  </thead>\n",
       "  <tbody>\n",
       "    <tr>\n",
       "      <th>0</th>\n",
       "      <td>Mudah2an kita yg merasa beragama, apalagi org ...</td>\n",
       "      <td>1</td>\n",
       "    </tr>\n",
       "    <tr>\n",
       "      <th>1</th>\n",
       "      <td>Kalo ada ancaman, misal mati, yah harus ada up...</td>\n",
       "      <td>1</td>\n",
       "    </tr>\n",
       "    <tr>\n",
       "      <th>2</th>\n",
       "      <td>PERHATIAN KHUSUS INI AYO DISIPLIN PROKES LEBIH...</td>\n",
       "      <td>1</td>\n",
       "    </tr>\n",
       "    <tr>\n",
       "      <th>3</th>\n",
       "      <td>Pada dasarnya hanya NAFSU akan kekuasaan dan m...</td>\n",
       "      <td>2</td>\n",
       "    </tr>\n",
       "    <tr>\n",
       "      <th>4</th>\n",
       "      <td>Vaksin konspirasi Flat earthers Pandemi konspi...</td>\n",
       "      <td>2</td>\n",
       "    </tr>\n",
       "    <tr>\n",
       "      <th>...</th>\n",
       "      <td>...</td>\n",
       "      <td>...</td>\n",
       "    </tr>\n",
       "    <tr>\n",
       "      <th>367</th>\n",
       "      <td>meski ada efek samping setelah vaksinasi. Seca...</td>\n",
       "      <td>1</td>\n",
       "    </tr>\n",
       "    <tr>\n",
       "      <th>368</th>\n",
       "      <td>Cintai bumimu Lindungi dari virus corona Taati...</td>\n",
       "      <td>1</td>\n",
       "    </tr>\n",
       "    <tr>\n",
       "      <th>369</th>\n",
       "      <td>https://t.co/3Hh8rGpcaH  Saat nya kita bersatu...</td>\n",
       "      <td>1</td>\n",
       "    </tr>\n",
       "    <tr>\n",
       "      <th>370</th>\n",
       "      <td>@cursedkidd \"Vaksin corona terbuat dari peju k...</td>\n",
       "      <td>2</td>\n",
       "    </tr>\n",
       "    <tr>\n",
       "      <th>371</th>\n",
       "      <td>@daungoyang Vcs = vaksin corona sue?</td>\n",
       "      <td>2</td>\n",
       "    </tr>\n",
       "  </tbody>\n",
       "</table>\n",
       "<p>372 rows × 2 columns</p>\n",
       "</div>"
      ],
      "text/plain": [
       "                                                 tweet  Kategori\n",
       "0    Mudah2an kita yg merasa beragama, apalagi org ...         1\n",
       "1    Kalo ada ancaman, misal mati, yah harus ada up...         1\n",
       "2    PERHATIAN KHUSUS INI AYO DISIPLIN PROKES LEBIH...         1\n",
       "3    Pada dasarnya hanya NAFSU akan kekuasaan dan m...         2\n",
       "4    Vaksin konspirasi Flat earthers Pandemi konspi...         2\n",
       "..                                                 ...       ...\n",
       "367  meski ada efek samping setelah vaksinasi. Seca...         1\n",
       "368  Cintai bumimu Lindungi dari virus corona Taati...         1\n",
       "369  https://t.co/3Hh8rGpcaH  Saat nya kita bersatu...         1\n",
       "370  @cursedkidd \"Vaksin corona terbuat dari peju k...         2\n",
       "371               @daungoyang Vcs = vaksin corona sue?         2\n",
       "\n",
       "[372 rows x 2 columns]"
      ]
     },
     "execution_count": 5,
     "metadata": {},
     "output_type": "execute_result"
    }
   ],
   "source": [
    "df1 = df.copy()\n",
    "del df1['id'], df1['date'], df1['username']\n",
    "df1"
   ]
  },
  {
   "cell_type": "code",
   "execution_count": 6,
   "metadata": {
    "execution": {
     "iopub.execute_input": "2021-02-19T02:33:10.076350Z",
     "iopub.status.busy": "2021-02-19T02:33:10.075610Z",
     "iopub.status.idle": "2021-02-19T02:33:10.079340Z",
     "shell.execute_reply": "2021-02-19T02:33:10.078693Z"
    },
    "papermill": {
     "duration": 0.049365,
     "end_time": "2021-02-19T02:33:10.079484",
     "exception": false,
     "start_time": "2021-02-19T02:33:10.030119",
     "status": "completed"
    },
    "tags": []
   },
   "outputs": [
    {
     "data": {
      "text/plain": [
       "1    191\n",
       "2    181\n",
       "Name: Kategori, dtype: int64"
      ]
     },
     "execution_count": 6,
     "metadata": {},
     "output_type": "execute_result"
    }
   ],
   "source": [
    "df1['Kategori'].value_counts()"
   ]
  },
  {
   "cell_type": "markdown",
   "metadata": {
    "papermill": {
     "duration": 0.050879,
     "end_time": "2021-02-19T02:33:10.174188",
     "exception": false,
     "start_time": "2021-02-19T02:33:10.123309",
     "status": "completed"
    },
    "tags": []
   },
   "source": [
    "# PREPROCESSING"
   ]
  },
  {
   "cell_type": "markdown",
   "metadata": {
    "papermill": {
     "duration": 0.04117,
     "end_time": "2021-02-19T02:33:10.255393",
     "exception": false,
     "start_time": "2021-02-19T02:33:10.214223",
     "status": "completed"
    },
    "tags": []
   },
   "source": [
    "# 1. CASE FOLDING"
   ]
  },
  {
   "cell_type": "code",
   "execution_count": 7,
   "metadata": {
    "execution": {
     "iopub.execute_input": "2021-02-19T02:33:10.342151Z",
     "iopub.status.busy": "2021-02-19T02:33:10.336941Z",
     "iopub.status.idle": "2021-02-19T02:33:10.352402Z",
     "shell.execute_reply": "2021-02-19T02:33:10.351835Z"
    },
    "papermill": {
     "duration": 0.058732,
     "end_time": "2021-02-19T02:33:10.352631",
     "exception": false,
     "start_time": "2021-02-19T02:33:10.293899",
     "status": "completed"
    },
    "tags": []
   },
   "outputs": [
    {
     "data": {
      "text/html": [
       "<div>\n",
       "<style scoped>\n",
       "    .dataframe tbody tr th:only-of-type {\n",
       "        vertical-align: middle;\n",
       "    }\n",
       "\n",
       "    .dataframe tbody tr th {\n",
       "        vertical-align: top;\n",
       "    }\n",
       "\n",
       "    .dataframe thead th {\n",
       "        text-align: right;\n",
       "    }\n",
       "</style>\n",
       "<table border=\"1\" class=\"dataframe\">\n",
       "  <thead>\n",
       "    <tr style=\"text-align: right;\">\n",
       "      <th></th>\n",
       "      <th>tweet</th>\n",
       "      <th>Kategori</th>\n",
       "      <th>cleaned_tweets</th>\n",
       "    </tr>\n",
       "  </thead>\n",
       "  <tbody>\n",
       "    <tr>\n",
       "      <th>0</th>\n",
       "      <td>Mudah2an kita yg merasa beragama, apalagi org ...</td>\n",
       "      <td>1</td>\n",
       "      <td>mudah2an kita yg merasa beragama, apalagi org ...</td>\n",
       "    </tr>\n",
       "    <tr>\n",
       "      <th>1</th>\n",
       "      <td>Kalo ada ancaman, misal mati, yah harus ada up...</td>\n",
       "      <td>1</td>\n",
       "      <td>kalo ada ancaman, misal mati, yah harus ada up...</td>\n",
       "    </tr>\n",
       "    <tr>\n",
       "      <th>2</th>\n",
       "      <td>PERHATIAN KHUSUS INI AYO DISIPLIN PROKES LEBIH...</td>\n",
       "      <td>1</td>\n",
       "      <td>perhatian khusus ini ayo disiplin prokes lebih...</td>\n",
       "    </tr>\n",
       "    <tr>\n",
       "      <th>3</th>\n",
       "      <td>Pada dasarnya hanya NAFSU akan kekuasaan dan m...</td>\n",
       "      <td>2</td>\n",
       "      <td>pada dasarnya hanya nafsu akan kekuasaan dan m...</td>\n",
       "    </tr>\n",
       "    <tr>\n",
       "      <th>4</th>\n",
       "      <td>Vaksin konspirasi Flat earthers Pandemi konspi...</td>\n",
       "      <td>2</td>\n",
       "      <td>vaksin konspirasi flat earthers pandemi konspi...</td>\n",
       "    </tr>\n",
       "    <tr>\n",
       "      <th>...</th>\n",
       "      <td>...</td>\n",
       "      <td>...</td>\n",
       "      <td>...</td>\n",
       "    </tr>\n",
       "    <tr>\n",
       "      <th>367</th>\n",
       "      <td>meski ada efek samping setelah vaksinasi. Seca...</td>\n",
       "      <td>1</td>\n",
       "      <td>meski ada efek samping setelah vaksinasi. seca...</td>\n",
       "    </tr>\n",
       "    <tr>\n",
       "      <th>368</th>\n",
       "      <td>Cintai bumimu Lindungi dari virus corona Taati...</td>\n",
       "      <td>1</td>\n",
       "      <td>cintai bumimu lindungi dari virus corona taati...</td>\n",
       "    </tr>\n",
       "    <tr>\n",
       "      <th>369</th>\n",
       "      <td>https://t.co/3Hh8rGpcaH  Saat nya kita bersatu...</td>\n",
       "      <td>1</td>\n",
       "      <td>https://t.co/3hh8rgpcah  saat nya kita bersatu...</td>\n",
       "    </tr>\n",
       "    <tr>\n",
       "      <th>370</th>\n",
       "      <td>@cursedkidd \"Vaksin corona terbuat dari peju k...</td>\n",
       "      <td>2</td>\n",
       "      <td>@cursedkidd \"vaksin corona terbuat dari peju k...</td>\n",
       "    </tr>\n",
       "    <tr>\n",
       "      <th>371</th>\n",
       "      <td>@daungoyang Vcs = vaksin corona sue?</td>\n",
       "      <td>2</td>\n",
       "      <td>@daungoyang vcs = vaksin corona sue?</td>\n",
       "    </tr>\n",
       "  </tbody>\n",
       "</table>\n",
       "<p>372 rows × 3 columns</p>\n",
       "</div>"
      ],
      "text/plain": [
       "                                                 tweet  Kategori  \\\n",
       "0    Mudah2an kita yg merasa beragama, apalagi org ...         1   \n",
       "1    Kalo ada ancaman, misal mati, yah harus ada up...         1   \n",
       "2    PERHATIAN KHUSUS INI AYO DISIPLIN PROKES LEBIH...         1   \n",
       "3    Pada dasarnya hanya NAFSU akan kekuasaan dan m...         2   \n",
       "4    Vaksin konspirasi Flat earthers Pandemi konspi...         2   \n",
       "..                                                 ...       ...   \n",
       "367  meski ada efek samping setelah vaksinasi. Seca...         1   \n",
       "368  Cintai bumimu Lindungi dari virus corona Taati...         1   \n",
       "369  https://t.co/3Hh8rGpcaH  Saat nya kita bersatu...         1   \n",
       "370  @cursedkidd \"Vaksin corona terbuat dari peju k...         2   \n",
       "371               @daungoyang Vcs = vaksin corona sue?         2   \n",
       "\n",
       "                                        cleaned_tweets  \n",
       "0    mudah2an kita yg merasa beragama, apalagi org ...  \n",
       "1    kalo ada ancaman, misal mati, yah harus ada up...  \n",
       "2    perhatian khusus ini ayo disiplin prokes lebih...  \n",
       "3    pada dasarnya hanya nafsu akan kekuasaan dan m...  \n",
       "4    vaksin konspirasi flat earthers pandemi konspi...  \n",
       "..                                                 ...  \n",
       "367  meski ada efek samping setelah vaksinasi. seca...  \n",
       "368  cintai bumimu lindungi dari virus corona taati...  \n",
       "369  https://t.co/3hh8rgpcah  saat nya kita bersatu...  \n",
       "370  @cursedkidd \"vaksin corona terbuat dari peju k...  \n",
       "371               @daungoyang vcs = vaksin corona sue?  \n",
       "\n",
       "[372 rows x 3 columns]"
      ]
     },
     "execution_count": 7,
     "metadata": {},
     "output_type": "execute_result"
    }
   ],
   "source": [
    "df1['cleaned_tweets'] = df1['tweet'].apply(lambda x: x.lower())\n",
    "df1"
   ]
  },
  {
   "cell_type": "markdown",
   "metadata": {
    "papermill": {
     "duration": 0.036549,
     "end_time": "2021-02-19T02:33:10.426591",
     "exception": false,
     "start_time": "2021-02-19T02:33:10.390042",
     "status": "completed"
    },
    "tags": []
   },
   "source": [
    "# 3. NORMALISASI"
   ]
  },
  {
   "cell_type": "code",
   "execution_count": 8,
   "metadata": {
    "execution": {
     "iopub.execute_input": "2021-02-19T02:33:10.508860Z",
     "iopub.status.busy": "2021-02-19T02:33:10.507869Z",
     "iopub.status.idle": "2021-02-19T02:33:10.511010Z",
     "shell.execute_reply": "2021-02-19T02:33:10.510351Z"
    },
    "papermill": {
     "duration": 0.047777,
     "end_time": "2021-02-19T02:33:10.511158",
     "exception": false,
     "start_time": "2021-02-19T02:33:10.463381",
     "status": "completed"
    },
    "tags": []
   },
   "outputs": [],
   "source": [
    "import re\n",
    "\n",
    "def normalisasi(text):\n",
    "  text = re.sub(r\"http\\S+\", \" \", text)\n",
    "  text = re.sub(r\"@\\w+\", \" \", text)\n",
    "  text = re.sub(r\"#\\w+\", \" \", text)\n",
    "  text = re.sub(r'\\W', \" \", text)\n",
    "  text = re.sub(r\"\\d+\", \"\", text)\n",
    "  text = re.sub(r'_', ' ',text)\n",
    "  text = re.sub(r' +', ' ', text)\n",
    "  text = re.sub(r\"^\\s+\", '', text)\n",
    "  #text = text.lstrip()\n",
    "  return text"
   ]
  },
  {
   "cell_type": "code",
   "execution_count": 9,
   "metadata": {
    "execution": {
     "iopub.execute_input": "2021-02-19T02:33:10.605929Z",
     "iopub.status.busy": "2021-02-19T02:33:10.600737Z",
     "iopub.status.idle": "2021-02-19T02:33:10.609474Z",
     "shell.execute_reply": "2021-02-19T02:33:10.610012Z"
    },
    "papermill": {
     "duration": 0.061887,
     "end_time": "2021-02-19T02:33:10.610204",
     "exception": false,
     "start_time": "2021-02-19T02:33:10.548317",
     "status": "completed"
    },
    "tags": []
   },
   "outputs": [],
   "source": [
    "df1['cleaned_tweets'] = df1['cleaned_tweets'].apply(lambda x: normalisasi(x))"
   ]
  },
  {
   "cell_type": "markdown",
   "metadata": {
    "papermill": {
     "duration": 0.037795,
     "end_time": "2021-02-19T02:33:10.686387",
     "exception": false,
     "start_time": "2021-02-19T02:33:10.648592",
     "status": "completed"
    },
    "tags": []
   },
   "source": [
    "# 4. BAKU"
   ]
  },
  {
   "cell_type": "code",
   "execution_count": 10,
   "metadata": {
    "execution": {
     "iopub.execute_input": "2021-02-19T02:33:10.766405Z",
     "iopub.status.busy": "2021-02-19T02:33:10.765730Z",
     "iopub.status.idle": "2021-02-19T02:33:10.802730Z",
     "shell.execute_reply": "2021-02-19T02:33:10.802103Z"
    },
    "papermill": {
     "duration": 0.079054,
     "end_time": "2021-02-19T02:33:10.802879",
     "exception": false,
     "start_time": "2021-02-19T02:33:10.723825",
     "status": "completed"
    },
    "tags": []
   },
   "outputs": [],
   "source": [
    "dict = {row[0] : row[1] for _, row in pd.read_csv(\"/kaggle/input/cleaning/kbba.csv\").iterrows()}"
   ]
  },
  {
   "cell_type": "code",
   "execution_count": 11,
   "metadata": {
    "execution": {
     "iopub.execute_input": "2021-02-19T02:33:10.885740Z",
     "iopub.status.busy": "2021-02-19T02:33:10.885047Z",
     "iopub.status.idle": "2021-02-19T02:33:10.888653Z",
     "shell.execute_reply": "2021-02-19T02:33:10.888099Z"
    },
    "papermill": {
     "duration": 0.047374,
     "end_time": "2021-02-19T02:33:10.888806",
     "exception": false,
     "start_time": "2021-02-19T02:33:10.841432",
     "status": "completed"
    },
    "tags": []
   },
   "outputs": [],
   "source": [
    "def kbbi(token): \n",
    "    final_string = ' '.join(str(dict.get(word, word)) for word in token)\n",
    "    return final_string\n",
    "\n",
    "def baku(text):\n",
    "    text=text.split()\n",
    "    text=kbbi(text)\n",
    "    return text"
   ]
  },
  {
   "cell_type": "code",
   "execution_count": 12,
   "metadata": {
    "execution": {
     "iopub.execute_input": "2021-02-19T02:33:10.973989Z",
     "iopub.status.busy": "2021-02-19T02:33:10.973311Z",
     "iopub.status.idle": "2021-02-19T02:33:10.976047Z",
     "shell.execute_reply": "2021-02-19T02:33:10.975414Z"
    },
    "papermill": {
     "duration": 0.049716,
     "end_time": "2021-02-19T02:33:10.976191",
     "exception": false,
     "start_time": "2021-02-19T02:33:10.926475",
     "status": "completed"
    },
    "tags": []
   },
   "outputs": [],
   "source": [
    "df1['cleaned_tweets'] = df1['cleaned_tweets'].apply(lambda x: baku(x))"
   ]
  },
  {
   "cell_type": "markdown",
   "metadata": {
    "papermill": {
     "duration": 0.039645,
     "end_time": "2021-02-19T02:33:11.055654",
     "exception": false,
     "start_time": "2021-02-19T02:33:11.016009",
     "status": "completed"
    },
    "tags": []
   },
   "source": [
    "# 5. STOPWORDS"
   ]
  },
  {
   "cell_type": "code",
   "execution_count": 13,
   "metadata": {
    "execution": {
     "iopub.execute_input": "2021-02-19T02:33:11.138617Z",
     "iopub.status.busy": "2021-02-19T02:33:11.137926Z",
     "iopub.status.idle": "2021-02-19T02:33:12.907622Z",
     "shell.execute_reply": "2021-02-19T02:33:12.906876Z"
    },
    "papermill": {
     "duration": 1.814081,
     "end_time": "2021-02-19T02:33:12.907772",
     "exception": false,
     "start_time": "2021-02-19T02:33:11.093691",
     "status": "completed"
    },
    "tags": []
   },
   "outputs": [
    {
     "name": "stdout",
     "output_type": "stream",
     "text": [
      "[nltk_data] Downloading package stopwords to /usr/share/nltk_data...\n",
      "[nltk_data]   Package stopwords is already up-to-date!\n"
     ]
    }
   ],
   "source": [
    "import nltk\n",
    "nltk.download('stopwords')\n",
    "from nltk.corpus import stopwords  \n",
    "\n",
    "def remove_stop_words(text):\n",
    "    text = text.split()\n",
    "    listStopword =  set(stopwords.words('indonesian'))\n",
    "    text = [w for w in text if not w in listStopword]\n",
    "    text = \" \".join(text)\n",
    "    return text"
   ]
  },
  {
   "cell_type": "code",
   "execution_count": 14,
   "metadata": {
    "execution": {
     "iopub.execute_input": "2021-02-19T02:33:12.995626Z",
     "iopub.status.busy": "2021-02-19T02:33:12.994881Z",
     "iopub.status.idle": "2021-02-19T02:33:13.163087Z",
     "shell.execute_reply": "2021-02-19T02:33:13.162553Z"
    },
    "papermill": {
     "duration": 0.217521,
     "end_time": "2021-02-19T02:33:13.163236",
     "exception": false,
     "start_time": "2021-02-19T02:33:12.945715",
     "status": "completed"
    },
    "tags": []
   },
   "outputs": [
    {
     "data": {
      "text/html": [
       "<div>\n",
       "<style scoped>\n",
       "    .dataframe tbody tr th:only-of-type {\n",
       "        vertical-align: middle;\n",
       "    }\n",
       "\n",
       "    .dataframe tbody tr th {\n",
       "        vertical-align: top;\n",
       "    }\n",
       "\n",
       "    .dataframe thead th {\n",
       "        text-align: right;\n",
       "    }\n",
       "</style>\n",
       "<table border=\"1\" class=\"dataframe\">\n",
       "  <thead>\n",
       "    <tr style=\"text-align: right;\">\n",
       "      <th></th>\n",
       "      <th>tweet</th>\n",
       "      <th>Kategori</th>\n",
       "      <th>cleaned_tweets</th>\n",
       "    </tr>\n",
       "  </thead>\n",
       "  <tbody>\n",
       "    <tr>\n",
       "      <th>0</th>\n",
       "      <td>Mudah2an kita yg merasa beragama, apalagi org ...</td>\n",
       "      <td>1</td>\n",
       "      <td>mudahan beragama orang islam mendukung upaya p...</td>\n",
       "    </tr>\n",
       "    <tr>\n",
       "      <th>1</th>\n",
       "      <td>Kalo ada ancaman, misal mati, yah harus ada up...</td>\n",
       "      <td>1</td>\n",
       "      <td>ancaman mati ya upaya mencegahnya contoh virus...</td>\n",
       "    </tr>\n",
       "    <tr>\n",
       "      <th>2</th>\n",
       "      <td>PERHATIAN KHUSUS INI AYO DISIPLIN PROKES LEBIH...</td>\n",
       "      <td>1</td>\n",
       "      <td>perhatian khusus ayo disiplin prokes vaksin se...</td>\n",
       "    </tr>\n",
       "    <tr>\n",
       "      <th>3</th>\n",
       "      <td>Pada dasarnya hanya NAFSU akan kekuasaan dan m...</td>\n",
       "      <td>2</td>\n",
       "      <td>dasarnya nafsu kekuasaan menguasai dunia menja...</td>\n",
       "    </tr>\n",
       "    <tr>\n",
       "      <th>4</th>\n",
       "      <td>Vaksin konspirasi Flat earthers Pandemi konspi...</td>\n",
       "      <td>2</td>\n",
       "      <td>vaksin konspirasi flat earthers pandemi konspi...</td>\n",
       "    </tr>\n",
       "    <tr>\n",
       "      <th>...</th>\n",
       "      <td>...</td>\n",
       "      <td>...</td>\n",
       "      <td>...</td>\n",
       "    </tr>\n",
       "    <tr>\n",
       "      <th>367</th>\n",
       "      <td>meski ada efek samping setelah vaksinasi. Seca...</td>\n",
       "      <td>1</td>\n",
       "      <td>efek samping vaksinasi vaksin corona aman keja...</td>\n",
       "    </tr>\n",
       "    <tr>\n",
       "      <th>368</th>\n",
       "      <td>Cintai bumimu Lindungi dari virus corona Taati...</td>\n",
       "      <td>1</td>\n",
       "      <td>cintai bumimu lindungi virus corona taati pera...</td>\n",
       "    </tr>\n",
       "    <tr>\n",
       "      <th>369</th>\n",
       "      <td>https://t.co/3Hh8rGpcaH  Saat nya kita bersatu...</td>\n",
       "      <td>1</td>\n",
       "      <td>nya bersatu padu perang melawan corona menteri...</td>\n",
       "    </tr>\n",
       "    <tr>\n",
       "      <th>370</th>\n",
       "      <td>@cursedkidd \"Vaksin corona terbuat dari peju k...</td>\n",
       "      <td>2</td>\n",
       "      <td>vaksin corona terbuat sperma ku loh</td>\n",
       "    </tr>\n",
       "    <tr>\n",
       "      <th>371</th>\n",
       "      <td>@daungoyang Vcs = vaksin corona sue?</td>\n",
       "      <td>2</td>\n",
       "      <td>vcs vaksin corona sue</td>\n",
       "    </tr>\n",
       "  </tbody>\n",
       "</table>\n",
       "<p>372 rows × 3 columns</p>\n",
       "</div>"
      ],
      "text/plain": [
       "                                                 tweet  Kategori  \\\n",
       "0    Mudah2an kita yg merasa beragama, apalagi org ...         1   \n",
       "1    Kalo ada ancaman, misal mati, yah harus ada up...         1   \n",
       "2    PERHATIAN KHUSUS INI AYO DISIPLIN PROKES LEBIH...         1   \n",
       "3    Pada dasarnya hanya NAFSU akan kekuasaan dan m...         2   \n",
       "4    Vaksin konspirasi Flat earthers Pandemi konspi...         2   \n",
       "..                                                 ...       ...   \n",
       "367  meski ada efek samping setelah vaksinasi. Seca...         1   \n",
       "368  Cintai bumimu Lindungi dari virus corona Taati...         1   \n",
       "369  https://t.co/3Hh8rGpcaH  Saat nya kita bersatu...         1   \n",
       "370  @cursedkidd \"Vaksin corona terbuat dari peju k...         2   \n",
       "371               @daungoyang Vcs = vaksin corona sue?         2   \n",
       "\n",
       "                                        cleaned_tweets  \n",
       "0    mudahan beragama orang islam mendukung upaya p...  \n",
       "1    ancaman mati ya upaya mencegahnya contoh virus...  \n",
       "2    perhatian khusus ayo disiplin prokes vaksin se...  \n",
       "3    dasarnya nafsu kekuasaan menguasai dunia menja...  \n",
       "4    vaksin konspirasi flat earthers pandemi konspi...  \n",
       "..                                                 ...  \n",
       "367  efek samping vaksinasi vaksin corona aman keja...  \n",
       "368  cintai bumimu lindungi virus corona taati pera...  \n",
       "369  nya bersatu padu perang melawan corona menteri...  \n",
       "370                vaksin corona terbuat sperma ku loh  \n",
       "371                              vcs vaksin corona sue  \n",
       "\n",
       "[372 rows x 3 columns]"
      ]
     },
     "execution_count": 14,
     "metadata": {},
     "output_type": "execute_result"
    }
   ],
   "source": [
    "df1['cleaned_tweets'] = df1['cleaned_tweets'].apply(lambda x: remove_stop_words(x))\n",
    "df1"
   ]
  },
  {
   "cell_type": "code",
   "execution_count": 15,
   "metadata": {
    "execution": {
     "iopub.execute_input": "2021-02-19T02:33:13.247729Z",
     "iopub.status.busy": "2021-02-19T02:33:13.247057Z",
     "iopub.status.idle": "2021-02-19T02:33:13.250121Z",
     "shell.execute_reply": "2021-02-19T02:33:13.249585Z"
    },
    "papermill": {
     "duration": 0.048174,
     "end_time": "2021-02-19T02:33:13.250273",
     "exception": false,
     "start_time": "2021-02-19T02:33:13.202099",
     "status": "completed"
    },
    "tags": []
   },
   "outputs": [],
   "source": [
    "def noise(text): \n",
    "    text = text.split()\n",
    "    listStopword =  ['amp', 'tong', 'fry', 'vcs', 'bahh', 'a', 'wkwkwk', 'c', 'yeey', 'oi', 'pret', 'iya', 'nya', 'sih', 'mbok', 'ku', 'loh', 'lho', 'ah', 'nihh', 'ya', 'hah', 'joss', 'deh''rmp', 'v', 'via', 'lha', 'mah', 'xixi']\n",
    "    text = [w for w in text if not w in listStopword]\n",
    "    text = \" \".join(text)\n",
    "    return text"
   ]
  },
  {
   "cell_type": "code",
   "execution_count": 16,
   "metadata": {
    "execution": {
     "iopub.execute_input": "2021-02-19T02:33:13.338466Z",
     "iopub.status.busy": "2021-02-19T02:33:13.337413Z",
     "iopub.status.idle": "2021-02-19T02:33:13.340948Z",
     "shell.execute_reply": "2021-02-19T02:33:13.340412Z"
    },
    "papermill": {
     "duration": 0.052182,
     "end_time": "2021-02-19T02:33:13.341098",
     "exception": false,
     "start_time": "2021-02-19T02:33:13.288916",
     "status": "completed"
    },
    "tags": []
   },
   "outputs": [],
   "source": [
    "df1['cleaned_tweets'] = df1['cleaned_tweets'].apply(lambda x: noise(x))"
   ]
  },
  {
   "cell_type": "markdown",
   "metadata": {
    "papermill": {
     "duration": 0.03837,
     "end_time": "2021-02-19T02:33:13.418451",
     "exception": false,
     "start_time": "2021-02-19T02:33:13.380081",
     "status": "completed"
    },
    "tags": []
   },
   "source": [
    "# 6. STEAMING"
   ]
  },
  {
   "cell_type": "code",
   "execution_count": 17,
   "metadata": {
    "execution": {
     "iopub.execute_input": "2021-02-19T02:33:13.502651Z",
     "iopub.status.busy": "2021-02-19T02:33:13.501708Z",
     "iopub.status.idle": "2021-02-19T02:33:13.506091Z",
     "shell.execute_reply": "2021-02-19T02:33:13.505475Z"
    },
    "papermill": {
     "duration": 0.048192,
     "end_time": "2021-02-19T02:33:13.506234",
     "exception": false,
     "start_time": "2021-02-19T02:33:13.458042",
     "status": "completed"
    },
    "tags": []
   },
   "outputs": [
    {
     "data": {
      "text/plain": [
       "'from Sastrawi.Stemmer.StemmerFactory import StemmerFactory\\n\\ndef steamming(text):\\n    factory = StemmerFactory()\\n    stemmer = factory.create_stemmer()\\n    split = text.split()\\n    hasil = [stemmer.stem(token) for token in split]\\n    hasil = \" \".join(hasil)\\n    return hasil'"
      ]
     },
     "execution_count": 17,
     "metadata": {},
     "output_type": "execute_result"
    }
   ],
   "source": [
    "\"\"\"from Sastrawi.Stemmer.StemmerFactory import StemmerFactory\n",
    "\n",
    "def steamming(text):\n",
    "    factory = StemmerFactory()\n",
    "    stemmer = factory.create_stemmer()\n",
    "    split = text.split()\n",
    "    hasil = [stemmer.stem(token) for token in split]\n",
    "    hasil = \" \".join(hasil)\n",
    "    return hasil\"\"\""
   ]
  },
  {
   "cell_type": "code",
   "execution_count": 18,
   "metadata": {
    "execution": {
     "iopub.execute_input": "2021-02-19T02:33:13.589179Z",
     "iopub.status.busy": "2021-02-19T02:33:13.588452Z",
     "iopub.status.idle": "2021-02-19T02:33:13.592466Z",
     "shell.execute_reply": "2021-02-19T02:33:13.591861Z"
    },
    "papermill": {
     "duration": 0.047547,
     "end_time": "2021-02-19T02:33:13.592621",
     "exception": false,
     "start_time": "2021-02-19T02:33:13.545074",
     "status": "completed"
    },
    "tags": []
   },
   "outputs": [
    {
     "data": {
      "text/plain": [
       "\"df1['cleaned_tweets'] = df1['cleaned_tweets'].apply(lambda x: steamming(x))\\ndf1\""
      ]
     },
     "execution_count": 18,
     "metadata": {},
     "output_type": "execute_result"
    }
   ],
   "source": [
    "\"\"\"df1['cleaned_tweets'] = df1['cleaned_tweets'].apply(lambda x: steamming(x))\n",
    "df1\"\"\""
   ]
  },
  {
   "cell_type": "code",
   "execution_count": 19,
   "metadata": {
    "execution": {
     "iopub.execute_input": "2021-02-19T02:33:13.673909Z",
     "iopub.status.busy": "2021-02-19T02:33:13.673280Z",
     "iopub.status.idle": "2021-02-19T02:33:13.711699Z",
     "shell.execute_reply": "2021-02-19T02:33:13.711096Z"
    },
    "papermill": {
     "duration": 0.079907,
     "end_time": "2021-02-19T02:33:13.711849",
     "exception": false,
     "start_time": "2021-02-19T02:33:13.631942",
     "status": "completed"
    },
    "tags": []
   },
   "outputs": [
    {
     "data": {
      "text/html": [
       "<div>\n",
       "<style scoped>\n",
       "    .dataframe tbody tr th:only-of-type {\n",
       "        vertical-align: middle;\n",
       "    }\n",
       "\n",
       "    .dataframe tbody tr th {\n",
       "        vertical-align: top;\n",
       "    }\n",
       "\n",
       "    .dataframe thead th {\n",
       "        text-align: right;\n",
       "    }\n",
       "</style>\n",
       "<table border=\"1\" class=\"dataframe\">\n",
       "  <thead>\n",
       "    <tr style=\"text-align: right;\">\n",
       "      <th></th>\n",
       "      <th>Kategori</th>\n",
       "      <th>cleaned_tweets</th>\n",
       "    </tr>\n",
       "  </thead>\n",
       "  <tbody>\n",
       "    <tr>\n",
       "      <th>0</th>\n",
       "      <td>1</td>\n",
       "      <td>mudahan beragama orang islam mendukung upaya p...</td>\n",
       "    </tr>\n",
       "    <tr>\n",
       "      <th>1</th>\n",
       "      <td>1</td>\n",
       "      <td>ancaman mati upaya mencegahnya contoh virus co...</td>\n",
       "    </tr>\n",
       "    <tr>\n",
       "      <th>2</th>\n",
       "      <td>1</td>\n",
       "      <td>perhatian khusus ayo disiplin prokes vaksin se...</td>\n",
       "    </tr>\n",
       "    <tr>\n",
       "      <th>3</th>\n",
       "      <td>2</td>\n",
       "      <td>dasarnya nafsu kekuasaan menguasai dunia menja...</td>\n",
       "    </tr>\n",
       "    <tr>\n",
       "      <th>4</th>\n",
       "      <td>2</td>\n",
       "      <td>vaksin konspirasi flat earthers pandemi konspi...</td>\n",
       "    </tr>\n",
       "    <tr>\n",
       "      <th>...</th>\n",
       "      <td>...</td>\n",
       "      <td>...</td>\n",
       "    </tr>\n",
       "    <tr>\n",
       "      <th>365</th>\n",
       "      <td>1</td>\n",
       "      <td>berharap ustadz ikadi mendukung program pemeri...</td>\n",
       "    </tr>\n",
       "    <tr>\n",
       "      <th>366</th>\n",
       "      <td>1</td>\n",
       "      <td>pandemi corona berdampak kesehatan perekonomia...</td>\n",
       "    </tr>\n",
       "    <tr>\n",
       "      <th>367</th>\n",
       "      <td>1</td>\n",
       "      <td>efek samping vaksinasi vaksin corona aman keja...</td>\n",
       "    </tr>\n",
       "    <tr>\n",
       "      <th>370</th>\n",
       "      <td>2</td>\n",
       "      <td>vaksin corona terbuat sperma</td>\n",
       "    </tr>\n",
       "    <tr>\n",
       "      <th>371</th>\n",
       "      <td>2</td>\n",
       "      <td>vaksin corona sue</td>\n",
       "    </tr>\n",
       "  </tbody>\n",
       "</table>\n",
       "<p>344 rows × 2 columns</p>\n",
       "</div>"
      ],
      "text/plain": [
       "     Kategori                                     cleaned_tweets\n",
       "0           1  mudahan beragama orang islam mendukung upaya p...\n",
       "1           1  ancaman mati upaya mencegahnya contoh virus co...\n",
       "2           1  perhatian khusus ayo disiplin prokes vaksin se...\n",
       "3           2  dasarnya nafsu kekuasaan menguasai dunia menja...\n",
       "4           2  vaksin konspirasi flat earthers pandemi konspi...\n",
       "..        ...                                                ...\n",
       "365         1  berharap ustadz ikadi mendukung program pemeri...\n",
       "366         1  pandemi corona berdampak kesehatan perekonomia...\n",
       "367         1  efek samping vaksinasi vaksin corona aman keja...\n",
       "370         2                       vaksin corona terbuat sperma\n",
       "371         2                                  vaksin corona sue\n",
       "\n",
       "[344 rows x 2 columns]"
      ]
     },
     "execution_count": 19,
     "metadata": {},
     "output_type": "execute_result"
    }
   ],
   "source": [
    "df2 = df1.copy()\n",
    "del df2['tweet']\n",
    "df2 = df2.drop_duplicates()\n",
    "df2 = df2.dropna()\n",
    "df2"
   ]
  },
  {
   "cell_type": "code",
   "execution_count": 20,
   "metadata": {
    "execution": {
     "iopub.execute_input": "2021-02-19T02:33:13.799134Z",
     "iopub.status.busy": "2021-02-19T02:33:13.798425Z",
     "iopub.status.idle": "2021-02-19T02:33:13.808378Z",
     "shell.execute_reply": "2021-02-19T02:33:13.807740Z"
    },
    "papermill": {
     "duration": 0.05431,
     "end_time": "2021-02-19T02:33:13.808522",
     "exception": false,
     "start_time": "2021-02-19T02:33:13.754212",
     "status": "completed"
    },
    "tags": []
   },
   "outputs": [],
   "source": [
    "df2.to_csv('prepocessing.csv',index=False)"
   ]
  },
  {
   "cell_type": "code",
   "execution_count": 21,
   "metadata": {
    "execution": {
     "iopub.execute_input": "2021-02-19T02:33:13.898089Z",
     "iopub.status.busy": "2021-02-19T02:33:13.897206Z",
     "iopub.status.idle": "2021-02-19T02:33:15.370461Z",
     "shell.execute_reply": "2021-02-19T02:33:15.371043Z"
    },
    "papermill": {
     "duration": 1.521058,
     "end_time": "2021-02-19T02:33:15.371222",
     "exception": false,
     "start_time": "2021-02-19T02:33:13.850164",
     "status": "completed"
    },
    "tags": []
   },
   "outputs": [
    {
     "data": {
      "image/png": "[encoded data removed]",
      "text/plain": [
       "<Figure size 864x720 with 1 Axes>"
      ]
     },
     "metadata": {
      "needs_background": "light"
     },
     "output_type": "display_data"
    }
   ],
   "source": [
    "import matplotlib.pyplot as plt\n",
    "from wordcloud import WordCloud, ImageColorGenerator\n",
    "\n",
    "wd_list = df2['cleaned_tweets']\n",
    "#liststopwords = set(stopwords.words('indonesian'))\n",
    "all_words = ' '.join([text for text in wd_list])\n",
    "\n",
    "wordcloud = WordCloud(\n",
    "    background_color='white',\n",
    "    #stopwords=liststopwords,\n",
    "    width=1600,\n",
    "    height=800,\n",
    "    random_state=1,\n",
    "    colormap='jet',\n",
    "    max_words=80,\n",
    "    max_font_size=200).generate(all_words)\n",
    "plt.figure(figsize=(12, 10))\n",
    "plt.axis('off')\n",
    "plt.imshow(wordcloud, interpolation=\"bilinear\");"
   ]
  },
  {
   "cell_type": "markdown",
   "metadata": {
    "papermill": {
     "duration": 0.045163,
     "end_time": "2021-02-19T02:33:15.462417",
     "exception": false,
     "start_time": "2021-02-19T02:33:15.417254",
     "status": "completed"
    },
    "tags": []
   },
   "source": [
    "# VEKTORISASI"
   ]
  },
  {
   "cell_type": "code",
   "execution_count": 22,
   "metadata": {
    "execution": {
     "iopub.execute_input": "2021-02-19T02:33:15.564998Z",
     "iopub.status.busy": "2021-02-19T02:33:15.561929Z",
     "iopub.status.idle": "2021-02-19T02:33:15.573014Z",
     "shell.execute_reply": "2021-02-19T02:33:15.573609Z"
    },
    "papermill": {
     "duration": 0.065937,
     "end_time": "2021-02-19T02:33:15.573791",
     "exception": false,
     "start_time": "2021-02-19T02:33:15.507854",
     "status": "completed"
    },
    "tags": []
   },
   "outputs": [],
   "source": [
    "from sklearn.feature_extraction.text import CountVectorizer\n",
    "\n",
    "cv = CountVectorizer()\n",
    "text_counts = cv.fit_transform(df2['cleaned_tweets'])"
   ]
  },
  {
   "cell_type": "markdown",
   "metadata": {
    "papermill": {
     "duration": 0.046523,
     "end_time": "2021-02-19T02:33:15.666901",
     "exception": false,
     "start_time": "2021-02-19T02:33:15.620378",
     "status": "completed"
    },
    "tags": []
   },
   "source": [
    "# SPLIT DATASET"
   ]
  },
  {
   "cell_type": "code",
   "execution_count": 23,
   "metadata": {
    "execution": {
     "iopub.execute_input": "2021-02-19T02:33:15.766917Z",
     "iopub.status.busy": "2021-02-19T02:33:15.765833Z",
     "iopub.status.idle": "2021-02-19T02:33:15.775329Z",
     "shell.execute_reply": "2021-02-19T02:33:15.774767Z"
    },
    "papermill": {
     "duration": 0.06199,
     "end_time": "2021-02-19T02:33:15.775493",
     "exception": false,
     "start_time": "2021-02-19T02:33:15.713503",
     "status": "completed"
    },
    "tags": []
   },
   "outputs": [],
   "source": [
    "from sklearn.model_selection import train_test_split\n",
    "\n",
    "X_train, X_test, Y_train, Y_test = train_test_split(text_counts, df2['Kategori'], test_size=0.25)"
   ]
  },
  {
   "cell_type": "code",
   "execution_count": 24,
   "metadata": {
    "execution": {
     "iopub.execute_input": "2021-02-19T02:33:15.874870Z",
     "iopub.status.busy": "2021-02-19T02:33:15.874164Z",
     "iopub.status.idle": "2021-02-19T02:33:15.877361Z",
     "shell.execute_reply": "2021-02-19T02:33:15.877918Z"
    },
    "papermill": {
     "duration": 0.055108,
     "end_time": "2021-02-19T02:33:15.878109",
     "exception": false,
     "start_time": "2021-02-19T02:33:15.823001",
     "status": "completed"
    },
    "tags": []
   },
   "outputs": [
    {
     "name": "stdout",
     "output_type": "stream",
     "text": [
      "(258, 1212) (86, 1212)\n"
     ]
    }
   ],
   "source": [
    "print(X_train.shape, X_test.shape)"
   ]
  },
  {
   "cell_type": "markdown",
   "metadata": {
    "papermill": {
     "duration": 0.045592,
     "end_time": "2021-02-19T02:33:15.969856",
     "exception": false,
     "start_time": "2021-02-19T02:33:15.924264",
     "status": "completed"
    },
    "tags": []
   },
   "source": [
    "# KLASIFIKASI"
   ]
  },
  {
   "cell_type": "markdown",
   "metadata": {
    "papermill": {
     "duration": 0.045714,
     "end_time": "2021-02-19T02:33:16.062293",
     "exception": false,
     "start_time": "2021-02-19T02:33:16.016579",
     "status": "completed"
    },
    "tags": []
   },
   "source": [
    "# 1. Naive Bayes MNB"
   ]
  },
  {
   "cell_type": "code",
   "execution_count": 25,
   "metadata": {
    "execution": {
     "iopub.execute_input": "2021-02-19T02:33:16.160133Z",
     "iopub.status.busy": "2021-02-19T02:33:16.159175Z",
     "iopub.status.idle": "2021-02-19T02:33:16.173460Z",
     "shell.execute_reply": "2021-02-19T02:33:16.173980Z"
    },
    "papermill": {
     "duration": 0.06517,
     "end_time": "2021-02-19T02:33:16.174166",
     "exception": false,
     "start_time": "2021-02-19T02:33:16.108996",
     "status": "completed"
    },
    "tags": []
   },
   "outputs": [
    {
     "data": {
      "text/plain": [
       "MultinomialNB()"
      ]
     },
     "execution_count": 25,
     "metadata": {},
     "output_type": "execute_result"
    }
   ],
   "source": [
    "from sklearn.naive_bayes import MultinomialNB\n",
    "\n",
    "MNB = MultinomialNB()\n",
    "MNB.fit(X_train, Y_train)"
   ]
  },
  {
   "cell_type": "code",
   "execution_count": 26,
   "metadata": {
    "execution": {
     "iopub.execute_input": "2021-02-19T02:33:16.274172Z",
     "iopub.status.busy": "2021-02-19T02:33:16.273200Z",
     "iopub.status.idle": "2021-02-19T02:33:16.276646Z",
     "shell.execute_reply": "2021-02-19T02:33:16.277156Z"
    },
    "papermill": {
     "duration": 0.056868,
     "end_time": "2021-02-19T02:33:16.277334",
     "exception": false,
     "start_time": "2021-02-19T02:33:16.220466",
     "status": "completed"
    },
    "tags": []
   },
   "outputs": [
    {
     "name": "stdout",
     "output_type": "stream",
     "text": [
      "87.21%\n"
     ]
    }
   ],
   "source": [
    "from sklearn import metrics\n",
    "\n",
    "predicted = MNB.predict(X_test)\n",
    "model1 = metrics.accuracy_score(predicted, Y_test)\n",
    "print(str('{:04.2f}'.format(model1*100))+'%')"
   ]
  },
  {
   "cell_type": "code",
   "execution_count": 27,
   "metadata": {
    "execution": {
     "iopub.execute_input": "2021-02-19T02:33:16.380257Z",
     "iopub.status.busy": "2021-02-19T02:33:16.379270Z",
     "iopub.status.idle": "2021-02-19T02:33:16.383842Z",
     "shell.execute_reply": "2021-02-19T02:33:16.383272Z"
    },
    "papermill": {
     "duration": 0.059371,
     "end_time": "2021-02-19T02:33:16.384000",
     "exception": false,
     "start_time": "2021-02-19T02:33:16.324629",
     "status": "completed"
    },
    "tags": []
   },
   "outputs": [
    {
     "name": "stdout",
     "output_type": "stream",
     "text": [
      "[[36  4]\n",
      " [ 7 39]]\n"
     ]
    }
   ],
   "source": [
    "from sklearn.metrics import confusion_matrix\n",
    "import numpy as np\n",
    "\n",
    "confusion = confusion_matrix(Y_test, predicted)\n",
    "print(confusion)"
   ]
  },
  {
   "cell_type": "code",
   "execution_count": 28,
   "metadata": {
    "execution": {
     "iopub.execute_input": "2021-02-19T02:33:16.486641Z",
     "iopub.status.busy": "2021-02-19T02:33:16.485526Z",
     "iopub.status.idle": "2021-02-19T02:33:16.822881Z",
     "shell.execute_reply": "2021-02-19T02:33:16.823457Z"
    },
    "papermill": {
     "duration": 0.391326,
     "end_time": "2021-02-19T02:33:16.823675",
     "exception": false,
     "start_time": "2021-02-19T02:33:16.432349",
     "status": "completed"
    },
    "tags": []
   },
   "outputs": [
    {
     "data": {
      "text/plain": [
       "<AxesSubplot:>"
      ]
     },
     "execution_count": 28,
     "metadata": {},
     "output_type": "execute_result"
    },
    {
     "data": {
      "image/png": "[encoded data removed]",
      "text/plain": [
       "<Figure size 432x288 with 2 Axes>"
      ]
     },
     "metadata": {
      "needs_background": "light"
     },
     "output_type": "display_data"
    }
   ],
   "source": [
    "import seaborn as sns\n",
    "\n",
    "sns.heatmap(confusion/np.sum(confusion) , annot=True,  cmap='Blues')"
   ]
  },
  {
   "cell_type": "code",
   "execution_count": 29,
   "metadata": {
    "execution": {
     "iopub.execute_input": "2021-02-19T02:33:16.930073Z",
     "iopub.status.busy": "2021-02-19T02:33:16.927463Z",
     "iopub.status.idle": "2021-02-19T02:33:16.935908Z",
     "shell.execute_reply": "2021-02-19T02:33:16.937170Z"
    },
    "papermill": {
     "duration": 0.063772,
     "end_time": "2021-02-19T02:33:16.937453",
     "exception": false,
     "start_time": "2021-02-19T02:33:16.873681",
     "status": "completed"
    },
    "tags": []
   },
   "outputs": [],
   "source": [
    "output1 = pd.DataFrame({'tweet': X_test, 'label': predicted})"
   ]
  },
  {
   "cell_type": "code",
   "execution_count": 30,
   "metadata": {
    "execution": {
     "iopub.execute_input": "2021-02-19T02:33:17.052225Z",
     "iopub.status.busy": "2021-02-19T02:33:17.051225Z",
     "iopub.status.idle": "2021-02-19T02:33:17.059676Z",
     "shell.execute_reply": "2021-02-19T02:33:17.060321Z"
    },
    "papermill": {
     "duration": 0.068737,
     "end_time": "2021-02-19T02:33:17.060501",
     "exception": false,
     "start_time": "2021-02-19T02:33:16.991764",
     "status": "completed"
    },
    "tags": []
   },
   "outputs": [
    {
     "data": {
      "text/plain": [
       "1    43\n",
       "2    43\n",
       "Name: label, dtype: int64"
      ]
     },
     "execution_count": 30,
     "metadata": {},
     "output_type": "execute_result"
    }
   ],
   "source": [
    "output1['label'].value_counts()"
   ]
  },
  {
   "cell_type": "markdown",
   "metadata": {
    "papermill": {
     "duration": 0.050574,
     "end_time": "2021-02-19T02:33:17.165619",
     "exception": false,
     "start_time": "2021-02-19T02:33:17.115045",
     "status": "completed"
    },
    "tags": []
   },
   "source": [
    "# 2. Naive Bayes BNB"
   ]
  },
  {
   "cell_type": "code",
   "execution_count": 31,
   "metadata": {
    "execution": {
     "iopub.execute_input": "2021-02-19T02:33:17.273763Z",
     "iopub.status.busy": "2021-02-19T02:33:17.272510Z",
     "iopub.status.idle": "2021-02-19T02:33:17.281061Z",
     "shell.execute_reply": "2021-02-19T02:33:17.281571Z"
    },
    "papermill": {
     "duration": 0.065667,
     "end_time": "2021-02-19T02:33:17.281764",
     "exception": false,
     "start_time": "2021-02-19T02:33:17.216097",
     "status": "completed"
    },
    "tags": []
   },
   "outputs": [
    {
     "name": "stdout",
     "output_type": "stream",
     "text": [
      "BNB accuracy = 87.21%\n"
     ]
    }
   ],
   "source": [
    "from sklearn.naive_bayes import BernoulliNB\n",
    "BNB = BernoulliNB()\n",
    "BNB.fit(X_train, Y_train)\n",
    "model2 = metrics.accuracy_score(BNB.predict(X_test),Y_test)\n",
    "print('BNB accuracy = ' + str('{:4.2f}'.format(model2*100))+'%')"
   ]
  },
  {
   "cell_type": "code",
   "execution_count": 32,
   "metadata": {
    "execution": {
     "iopub.execute_input": "2021-02-19T02:33:17.388691Z",
     "iopub.status.busy": "2021-02-19T02:33:17.387827Z",
     "iopub.status.idle": "2021-02-19T02:33:17.393709Z",
     "shell.execute_reply": "2021-02-19T02:33:17.392961Z"
    },
    "papermill": {
     "duration": 0.061487,
     "end_time": "2021-02-19T02:33:17.393874",
     "exception": false,
     "start_time": "2021-02-19T02:33:17.332387",
     "status": "completed"
    },
    "tags": []
   },
   "outputs": [
    {
     "name": "stdout",
     "output_type": "stream",
     "text": [
      "[[36  4]\n",
      " [ 7 39]]\n"
     ]
    }
   ],
   "source": [
    "predicted = BNB.predict(X_test)\n",
    "confusion = confusion_matrix(Y_test, predicted)\n",
    "print(confusion)"
   ]
  },
  {
   "cell_type": "code",
   "execution_count": 33,
   "metadata": {
    "execution": {
     "iopub.execute_input": "2021-02-19T02:33:17.498433Z",
     "iopub.status.busy": "2021-02-19T02:33:17.497753Z",
     "iopub.status.idle": "2021-02-19T02:33:17.731172Z",
     "shell.execute_reply": "2021-02-19T02:33:17.730081Z"
    },
    "papermill": {
     "duration": 0.287652,
     "end_time": "2021-02-19T02:33:17.731330",
     "exception": false,
     "start_time": "2021-02-19T02:33:17.443678",
     "status": "completed"
    },
    "tags": []
   },
   "outputs": [
    {
     "data": {
      "text/plain": [
       "<AxesSubplot:>"
      ]
     },
     "execution_count": 33,
     "metadata": {},
     "output_type": "execute_result"
    },
    {
     "data": {
      "image/png": "[encoded data removed]",
      "text/plain": [
       "<Figure size 432x288 with 2 Axes>"
      ]
     },
     "metadata": {
      "needs_background": "light"
     },
     "output_type": "display_data"
    }
   ],
   "source": [
    "sns.heatmap(confusion/np.sum(confusion) , annot=True,  cmap='Blues')"
   ]
  },
  {
   "cell_type": "code",
   "execution_count": 34,
   "metadata": {
    "execution": {
     "iopub.execute_input": "2021-02-19T02:33:17.839382Z",
     "iopub.status.busy": "2021-02-19T02:33:17.838676Z",
     "iopub.status.idle": "2021-02-19T02:33:17.840783Z",
     "shell.execute_reply": "2021-02-19T02:33:17.841246Z"
    },
    "papermill": {
     "duration": 0.059233,
     "end_time": "2021-02-19T02:33:17.841439",
     "exception": false,
     "start_time": "2021-02-19T02:33:17.782206",
     "status": "completed"
    },
    "tags": []
   },
   "outputs": [],
   "source": [
    "output = pd.DataFrame({'tweet': X_test, 'label': predicted})"
   ]
  },
  {
   "cell_type": "code",
   "execution_count": 35,
   "metadata": {
    "execution": {
     "iopub.execute_input": "2021-02-19T02:33:17.948164Z",
     "iopub.status.busy": "2021-02-19T02:33:17.947487Z",
     "iopub.status.idle": "2021-02-19T02:33:17.955026Z",
     "shell.execute_reply": "2021-02-19T02:33:17.954416Z"
    },
    "papermill": {
     "duration": 0.061438,
     "end_time": "2021-02-19T02:33:17.955179",
     "exception": false,
     "start_time": "2021-02-19T02:33:17.893741",
     "status": "completed"
    },
    "tags": []
   },
   "outputs": [
    {
     "data": {
      "text/plain": [
       "1    43\n",
       "2    43\n",
       "Name: label, dtype: int64"
      ]
     },
     "execution_count": 35,
     "metadata": {},
     "output_type": "execute_result"
    }
   ],
   "source": [
    "output['label'].value_counts()"
   ]
  },
  {
   "cell_type": "markdown",
   "metadata": {
    "papermill": {
     "duration": 0.052464,
     "end_time": "2021-02-19T02:33:18.058483",
     "exception": false,
     "start_time": "2021-02-19T02:33:18.006019",
     "status": "completed"
    },
    "tags": []
   },
   "source": [
    "# SAVE MODEL"
   ]
  },
  {
   "cell_type": "code",
   "execution_count": 36,
   "metadata": {
    "execution": {
     "iopub.execute_input": "2021-02-19T02:33:18.168267Z",
     "iopub.status.busy": "2021-02-19T02:33:18.167563Z",
     "iopub.status.idle": "2021-02-19T02:33:18.183471Z",
     "shell.execute_reply": "2021-02-19T02:33:18.182949Z"
    },
    "papermill": {
     "duration": 0.074544,
     "end_time": "2021-02-19T02:33:18.183642",
     "exception": false,
     "start_time": "2021-02-19T02:33:18.109098",
     "status": "completed"
    },
    "tags": []
   },
   "outputs": [
    {
     "data": {
      "text/plain": [
       "['vektor.sav']"
      ]
     },
     "execution_count": 36,
     "metadata": {},
     "output_type": "execute_result"
    }
   ],
   "source": [
    "import joblib\n",
    "\n",
    "filename = 'vektor.sav'\n",
    "joblib.dump(cv, filename)"
   ]
  },
  {
   "cell_type": "code",
   "execution_count": 37,
   "metadata": {
    "execution": {
     "iopub.execute_input": "2021-02-19T02:33:18.289608Z",
     "iopub.status.busy": "2021-02-19T02:33:18.288949Z",
     "iopub.status.idle": "2021-02-19T02:33:18.294830Z",
     "shell.execute_reply": "2021-02-19T02:33:18.295380Z"
    },
    "papermill": {
     "duration": 0.059848,
     "end_time": "2021-02-19T02:33:18.295599",
     "exception": false,
     "start_time": "2021-02-19T02:33:18.235751",
     "status": "completed"
    },
    "tags": []
   },
   "outputs": [
    {
     "data": {
      "text/plain": [
       "['MNB.sav']"
      ]
     },
     "execution_count": 37,
     "metadata": {},
     "output_type": "execute_result"
    }
   ],
   "source": [
    "filename = 'MNB.sav'\n",
    "joblib.dump(MNB, filename)"
   ]
  },
  {
   "cell_type": "code",
   "execution_count": 38,
   "metadata": {
    "execution": {
     "iopub.execute_input": "2021-02-19T02:33:18.402576Z",
     "iopub.status.busy": "2021-02-19T02:33:18.401905Z",
     "iopub.status.idle": "2021-02-19T02:33:18.408029Z",
     "shell.execute_reply": "2021-02-19T02:33:18.408626Z"
    },
    "papermill": {
     "duration": 0.06106,
     "end_time": "2021-02-19T02:33:18.408807",
     "exception": false,
     "start_time": "2021-02-19T02:33:18.347747",
     "status": "completed"
    },
    "tags": []
   },
   "outputs": [
    {
     "data": {
      "text/plain": [
       "['BNB.sav']"
      ]
     },
     "execution_count": 38,
     "metadata": {},
     "output_type": "execute_result"
    }
   ],
   "source": [
    "filename = 'BNB.sav'\n",
    "joblib.dump(BNB, filename)"
   ]
  },
  {
   "cell_type": "markdown",
   "metadata": {
    "papermill": {
     "duration": 0.051595,
     "end_time": "2021-02-19T02:33:18.512336",
     "exception": false,
     "start_time": "2021-02-19T02:33:18.460741",
     "status": "completed"
    },
    "tags": []
   },
   "source": [
    "# IMPLEMENTASI"
   ]
  },
  {
   "cell_type": "code",
   "execution_count": 39,
   "metadata": {
    "execution": {
     "iopub.execute_input": "2021-02-19T02:33:18.619434Z",
     "iopub.status.busy": "2021-02-19T02:33:18.618769Z",
     "iopub.status.idle": "2021-02-19T02:33:18.631418Z",
     "shell.execute_reply": "2021-02-19T02:33:18.632006Z"
    },
    "papermill": {
     "duration": 0.067832,
     "end_time": "2021-02-19T02:33:18.632205",
     "exception": false,
     "start_time": "2021-02-19T02:33:18.564373",
     "status": "completed"
    },
    "tags": []
   },
   "outputs": [],
   "source": [
    "vektor = joblib.load(\"vektor.sav\")\n",
    "MNB = joblib.load(\"MNB.sav\")"
   ]
  },
  {
   "cell_type": "code",
   "execution_count": 40,
   "metadata": {
    "execution": {
     "iopub.execute_input": "2021-02-19T02:33:18.739163Z",
     "iopub.status.busy": "2021-02-19T02:33:18.738468Z",
     "iopub.status.idle": "2021-02-19T02:33:18.745560Z",
     "shell.execute_reply": "2021-02-19T02:33:18.745035Z"
    },
    "papermill": {
     "duration": 0.061277,
     "end_time": "2021-02-19T02:33:18.745706",
     "exception": false,
     "start_time": "2021-02-19T02:33:18.684429",
     "status": "completed"
    },
    "tags": []
   },
   "outputs": [
    {
     "data": {
      "text/plain": [
       "'positif'"
      ]
     },
     "execution_count": 40,
     "metadata": {},
     "output_type": "execute_result"
    }
   ],
   "source": [
    "result = MNB.predict(vektor.transform([\"Harapan kita dengan vaksin ini bisa menghilangkan virus corona #DukungSehatkanBangsa Wajib Bebas Covid\"]))\n",
    "if (result == [2]) :\n",
    "  result = \"negatif\"\n",
    "elif (result == [1]) :\n",
    "  result = \"positif\"\n",
    "\n",
    "result"
   ]
  },
  {
   "cell_type": "code",
   "execution_count": 41,
   "metadata": {
    "execution": {
     "iopub.execute_input": "2021-02-19T02:33:18.856491Z",
     "iopub.status.busy": "2021-02-19T02:33:18.855859Z",
     "iopub.status.idle": "2021-02-19T02:33:18.861105Z",
     "shell.execute_reply": "2021-02-19T02:33:18.861694Z"
    },
    "papermill": {
     "duration": 0.06418,
     "end_time": "2021-02-19T02:33:18.861869",
     "exception": false,
     "start_time": "2021-02-19T02:33:18.797689",
     "status": "completed"
    },
    "tags": []
   },
   "outputs": [
    {
     "data": {
      "text/plain": [
       "'negatif'"
      ]
     },
     "execution_count": 41,
     "metadata": {},
     "output_type": "execute_result"
    }
   ],
   "source": [
    "BNB = joblib.load(\"BNB.sav\")\n",
    "result = BNB.predict(vektor.transform([\"Waduh! Berkurang Lagi, Kemanjuran Vaksin Corona Sinovac di Brasil Cuma 50 Persen\"]))\n",
    "if (result == [2]) :\n",
    "  result = \"negatif\"\n",
    "elif (result == [1]) :\n",
    "  result = \"positif\"\n",
    "\n",
    "result"
   ]
  }
 ],
 "metadata": {
  "kernelspec": {
   "display_name": "Python 3",
   "language": "python",
   "name": "python3"
  },
  "language_info": {
   "codemirror_mode": {
    "name": "ipython",
    "version": 3
   },
   "file_extension": ".py",
   "mimetype": "text/x-python",
   "name": "python",
   "nbconvert_exporter": "python",
   "pygments_lexer": "ipython3",
   "version": "3.7.9"
  },
  "papermill": {
   "default_parameters": {},
   "duration": 24.73993,
   "end_time": "2021-02-19T02:33:19.628701",
   "environment_variables": {},
   "exception": null,
   "input_path": "__notebook__.ipynb",
   "output_path": "__notebook__.ipynb",
   "parameters": {},
   "start_time": "2021-02-19T02:32:54.888771",
   "version": "2.2.2"
  }
 },
 "nbformat": 4,
 "nbformat_minor": 4
}
