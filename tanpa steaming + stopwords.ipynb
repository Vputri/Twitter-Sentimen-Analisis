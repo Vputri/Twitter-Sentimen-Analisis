{
 "cells": [
  {
   "cell_type": "code",
   "execution_count": 1,
   "metadata": {
    "execution": {
     "iopub.execute_input": "2021-02-19T02:35:05.449865Z",
     "iopub.status.busy": "2021-02-19T02:35:05.449253Z",
     "iopub.status.idle": "2021-02-19T02:35:14.140866Z",
     "shell.execute_reply": "2021-02-19T02:35:14.140042Z"
    },
    "papermill": {
     "duration": 8.729476,
     "end_time": "2021-02-19T02:35:14.141114",
     "exception": false,
     "start_time": "2021-02-19T02:35:05.411638",
     "status": "completed"
    },
    "tags": []
   },
   "outputs": [
    {
     "name": "stdout",
     "output_type": "stream",
     "text": [
      "Collecting Sastrawi\r\n",
      "  Downloading Sastrawi-1.0.1-py2.py3-none-any.whl (209 kB)\r\n",
      "\u001b[K     |████████████████████████████████| 209 kB 1.3 MB/s \r\n",
      "\u001b[?25hInstalling collected packages: Sastrawi\r\n",
      "Successfully installed Sastrawi-1.0.1\r\n"
     ]
    }
   ],
   "source": [
    "!pip install Sastrawi"
   ]
  },
  {
   "cell_type": "markdown",
   "metadata": {
    "papermill": {
     "duration": 0.034759,
     "end_time": "2021-02-19T02:35:14.212879",
     "exception": false,
     "start_time": "2021-02-19T02:35:14.178120",
     "status": "completed"
    },
    "tags": []
   },
   "source": [
    "# READ DATASET"
   ]
  },
  {
   "cell_type": "code",
   "execution_count": 2,
   "metadata": {
    "_cell_guid": "b1076dfc-b9ad-4769-8c92-a6c4dae69d19",
    "_uuid": "8f2839f25d086af736a60e9eeb907d3b93b6e0e5",
    "execution": {
     "iopub.execute_input": "2021-02-19T02:35:14.289848Z",
     "iopub.status.busy": "2021-02-19T02:35:14.289203Z",
     "iopub.status.idle": "2021-02-19T02:35:14.301006Z",
     "shell.execute_reply": "2021-02-19T02:35:14.300466Z"
    },
    "papermill": {
     "duration": 0.052703,
     "end_time": "2021-02-19T02:35:14.301155",
     "exception": false,
     "start_time": "2021-02-19T02:35:14.248452",
     "status": "completed"
    },
    "tags": []
   },
   "outputs": [
    {
     "name": "stdout",
     "output_type": "stream",
     "text": [
      "/kaggle/input/cleaning/vaksin.csv\n",
      "/kaggle/input/cleaning/kbba.csv\n"
     ]
    }
   ],
   "source": [
    "import pandas as pd\n",
    "\n",
    "import os\n",
    "for dirname, _, filenames in os.walk('/kaggle/input'):\n",
    "    for filename in filenames:\n",
    "        print(os.path.join(dirname, filename))"
   ]
  },
  {
   "cell_type": "code",
   "execution_count": 3,
   "metadata": {
    "execution": {
     "iopub.execute_input": "2021-02-19T02:35:14.377788Z",
     "iopub.status.busy": "2021-02-19T02:35:14.377116Z",
     "iopub.status.idle": "2021-02-19T02:35:14.405373Z",
     "shell.execute_reply": "2021-02-19T02:35:14.404635Z"
    },
    "papermill": {
     "duration": 0.068959,
     "end_time": "2021-02-19T02:35:14.405538",
     "exception": false,
     "start_time": "2021-02-19T02:35:14.336579",
     "status": "completed"
    },
    "tags": []
   },
   "outputs": [],
   "source": [
    "import pandas as pd\n",
    "\n",
    "df = pd.read_csv(\"/kaggle/input/cleaning/vaksin.csv\")\n",
    "kbba = pd.read_csv(\"/kaggle/input/cleaning/kbba.csv\")"
   ]
  },
  {
   "cell_type": "code",
   "execution_count": 4,
   "metadata": {
    "execution": {
     "iopub.execute_input": "2021-02-19T02:35:14.496661Z",
     "iopub.status.busy": "2021-02-19T02:35:14.495650Z",
     "iopub.status.idle": "2021-02-19T02:35:14.518149Z",
     "shell.execute_reply": "2021-02-19T02:35:14.518675Z"
    },
    "papermill": {
     "duration": 0.076857,
     "end_time": "2021-02-19T02:35:14.518842",
     "exception": false,
     "start_time": "2021-02-19T02:35:14.441985",
     "status": "completed"
    },
    "tags": []
   },
   "outputs": [
    {
     "data": {
      "text/html": [
       "<div>\n",
       "<style scoped>\n",
       "    .dataframe tbody tr th:only-of-type {\n",
       "        vertical-align: middle;\n",
       "    }\n",
       "\n",
       "    .dataframe tbody tr th {\n",
       "        vertical-align: top;\n",
       "    }\n",
       "\n",
       "    .dataframe thead th {\n",
       "        text-align: right;\n",
       "    }\n",
       "</style>\n",
       "<table border=\"1\" class=\"dataframe\">\n",
       "  <thead>\n",
       "    <tr style=\"text-align: right;\">\n",
       "      <th></th>\n",
       "      <th>id</th>\n",
       "      <th>date</th>\n",
       "      <th>username</th>\n",
       "      <th>tweet</th>\n",
       "      <th>Kategori</th>\n",
       "    </tr>\n",
       "  </thead>\n",
       "  <tbody>\n",
       "    <tr>\n",
       "      <th>0</th>\n",
       "      <td>1.351675e+18</td>\n",
       "      <td>2021-01-20</td>\n",
       "      <td>gunung_bandung</td>\n",
       "      <td>Mudah2an kita yg merasa beragama, apalagi org ...</td>\n",
       "      <td>1</td>\n",
       "    </tr>\n",
       "    <tr>\n",
       "      <th>1</th>\n",
       "      <td>1.351673e+18</td>\n",
       "      <td>2021-01-20</td>\n",
       "      <td>gunung_bandung</td>\n",
       "      <td>Kalo ada ancaman, misal mati, yah harus ada up...</td>\n",
       "      <td>1</td>\n",
       "    </tr>\n",
       "    <tr>\n",
       "      <th>2</th>\n",
       "      <td>1.351670e+18</td>\n",
       "      <td>2021-01-20</td>\n",
       "      <td>dubie_tina</td>\n",
       "      <td>PERHATIAN KHUSUS INI AYO DISIPLIN PROKES LEBIH...</td>\n",
       "      <td>1</td>\n",
       "    </tr>\n",
       "    <tr>\n",
       "      <th>3</th>\n",
       "      <td>1.351655e+18</td>\n",
       "      <td>2021-01-20</td>\n",
       "      <td>windjalil</td>\n",
       "      <td>Pada dasarnya hanya NAFSU akan kekuasaan dan m...</td>\n",
       "      <td>2</td>\n",
       "    </tr>\n",
       "    <tr>\n",
       "      <th>4</th>\n",
       "      <td>1.351652e+18</td>\n",
       "      <td>2021-01-20</td>\n",
       "      <td>breakkucing</td>\n",
       "      <td>Vaksin konspirasi Flat earthers Pandemi konspi...</td>\n",
       "      <td>2</td>\n",
       "    </tr>\n",
       "    <tr>\n",
       "      <th>...</th>\n",
       "      <td>...</td>\n",
       "      <td>...</td>\n",
       "      <td>...</td>\n",
       "      <td>...</td>\n",
       "      <td>...</td>\n",
       "    </tr>\n",
       "    <tr>\n",
       "      <th>367</th>\n",
       "      <td>1.350000e+18</td>\n",
       "      <td>2021-01-26</td>\n",
       "      <td>lilapama2011</td>\n",
       "      <td>meski ada efek samping setelah vaksinasi. Seca...</td>\n",
       "      <td>1</td>\n",
       "    </tr>\n",
       "    <tr>\n",
       "      <th>368</th>\n",
       "      <td>1.350000e+18</td>\n",
       "      <td>2021-01-26</td>\n",
       "      <td>kianinara1</td>\n",
       "      <td>Cintai bumimu Lindungi dari virus corona Taati...</td>\n",
       "      <td>1</td>\n",
       "    </tr>\n",
       "    <tr>\n",
       "      <th>369</th>\n",
       "      <td>1.350000e+18</td>\n",
       "      <td>2021-01-26</td>\n",
       "      <td>boy99under</td>\n",
       "      <td>https://t.co/3Hh8rGpcaH  Saat nya kita bersatu...</td>\n",
       "      <td>1</td>\n",
       "    </tr>\n",
       "    <tr>\n",
       "      <th>370</th>\n",
       "      <td>1.350410e+18</td>\n",
       "      <td>2021-01-16</td>\n",
       "      <td>thalibhelmy</td>\n",
       "      <td>@cursedkidd \"Vaksin corona terbuat dari peju k...</td>\n",
       "      <td>2</td>\n",
       "    </tr>\n",
       "    <tr>\n",
       "      <th>371</th>\n",
       "      <td>1.351358e+18</td>\n",
       "      <td>2021-01-19</td>\n",
       "      <td>rigel_antarest</td>\n",
       "      <td>@daungoyang Vcs = vaksin corona sue?</td>\n",
       "      <td>2</td>\n",
       "    </tr>\n",
       "  </tbody>\n",
       "</table>\n",
       "<p>372 rows × 5 columns</p>\n",
       "</div>"
      ],
      "text/plain": [
       "               id        date        username  \\\n",
       "0    1.351675e+18  2021-01-20  gunung_bandung   \n",
       "1    1.351673e+18  2021-01-20  gunung_bandung   \n",
       "2    1.351670e+18  2021-01-20      dubie_tina   \n",
       "3    1.351655e+18  2021-01-20       windjalil   \n",
       "4    1.351652e+18  2021-01-20     breakkucing   \n",
       "..            ...         ...             ...   \n",
       "367  1.350000e+18  2021-01-26    lilapama2011   \n",
       "368  1.350000e+18  2021-01-26      kianinara1   \n",
       "369  1.350000e+18  2021-01-26      boy99under   \n",
       "370  1.350410e+18  2021-01-16     thalibhelmy   \n",
       "371  1.351358e+18  2021-01-19  rigel_antarest   \n",
       "\n",
       "                                                 tweet  Kategori  \n",
       "0    Mudah2an kita yg merasa beragama, apalagi org ...         1  \n",
       "1    Kalo ada ancaman, misal mati, yah harus ada up...         1  \n",
       "2    PERHATIAN KHUSUS INI AYO DISIPLIN PROKES LEBIH...         1  \n",
       "3    Pada dasarnya hanya NAFSU akan kekuasaan dan m...         2  \n",
       "4    Vaksin konspirasi Flat earthers Pandemi konspi...         2  \n",
       "..                                                 ...       ...  \n",
       "367  meski ada efek samping setelah vaksinasi. Seca...         1  \n",
       "368  Cintai bumimu Lindungi dari virus corona Taati...         1  \n",
       "369  https://t.co/3Hh8rGpcaH  Saat nya kita bersatu...         1  \n",
       "370  @cursedkidd \"Vaksin corona terbuat dari peju k...         2  \n",
       "371               @daungoyang Vcs = vaksin corona sue?         2  \n",
       "\n",
       "[372 rows x 5 columns]"
      ]
     },
     "execution_count": 4,
     "metadata": {},
     "output_type": "execute_result"
    }
   ],
   "source": [
    "df"
   ]
  },
  {
   "cell_type": "code",
   "execution_count": 5,
   "metadata": {
    "execution": {
     "iopub.execute_input": "2021-02-19T02:35:14.605527Z",
     "iopub.status.busy": "2021-02-19T02:35:14.604530Z",
     "iopub.status.idle": "2021-02-19T02:35:14.609288Z",
     "shell.execute_reply": "2021-02-19T02:35:14.608638Z"
    },
    "papermill": {
     "duration": 0.054449,
     "end_time": "2021-02-19T02:35:14.609430",
     "exception": false,
     "start_time": "2021-02-19T02:35:14.554981",
     "status": "completed"
    },
    "tags": []
   },
   "outputs": [
    {
     "data": {
      "text/html": [
       "<div>\n",
       "<style scoped>\n",
       "    .dataframe tbody tr th:only-of-type {\n",
       "        vertical-align: middle;\n",
       "    }\n",
       "\n",
       "    .dataframe tbody tr th {\n",
       "        vertical-align: top;\n",
       "    }\n",
       "\n",
       "    .dataframe thead th {\n",
       "        text-align: right;\n",
       "    }\n",
       "</style>\n",
       "<table border=\"1\" class=\"dataframe\">\n",
       "  <thead>\n",
       "    <tr style=\"text-align: right;\">\n",
       "      <th></th>\n",
       "      <th>tweet</th>\n",
       "      <th>Kategori</th>\n",
       "    </tr>\n",
       "  </thead>\n",
       "  <tbody>\n",
       "    <tr>\n",
       "      <th>0</th>\n",
       "      <td>Mudah2an kita yg merasa beragama, apalagi org ...</td>\n",
       "      <td>1</td>\n",
       "    </tr>\n",
       "    <tr>\n",
       "      <th>1</th>\n",
       "      <td>Kalo ada ancaman, misal mati, yah harus ada up...</td>\n",
       "      <td>1</td>\n",
       "    </tr>\n",
       "    <tr>\n",
       "      <th>2</th>\n",
       "      <td>PERHATIAN KHUSUS INI AYO DISIPLIN PROKES LEBIH...</td>\n",
       "      <td>1</td>\n",
       "    </tr>\n",
       "    <tr>\n",
       "      <th>3</th>\n",
       "      <td>Pada dasarnya hanya NAFSU akan kekuasaan dan m...</td>\n",
       "      <td>2</td>\n",
       "    </tr>\n",
       "    <tr>\n",
       "      <th>4</th>\n",
       "      <td>Vaksin konspirasi Flat earthers Pandemi konspi...</td>\n",
       "      <td>2</td>\n",
       "    </tr>\n",
       "    <tr>\n",
       "      <th>...</th>\n",
       "      <td>...</td>\n",
       "      <td>...</td>\n",
       "    </tr>\n",
       "    <tr>\n",
       "      <th>367</th>\n",
       "      <td>meski ada efek samping setelah vaksinasi. Seca...</td>\n",
       "      <td>1</td>\n",
       "    </tr>\n",
       "    <tr>\n",
       "      <th>368</th>\n",
       "      <td>Cintai bumimu Lindungi dari virus corona Taati...</td>\n",
       "      <td>1</td>\n",
       "    </tr>\n",
       "    <tr>\n",
       "      <th>369</th>\n",
       "      <td>https://t.co/3Hh8rGpcaH  Saat nya kita bersatu...</td>\n",
       "      <td>1</td>\n",
       "    </tr>\n",
       "    <tr>\n",
       "      <th>370</th>\n",
       "      <td>@cursedkidd \"Vaksin corona terbuat dari peju k...</td>\n",
       "      <td>2</td>\n",
       "    </tr>\n",
       "    <tr>\n",
       "      <th>371</th>\n",
       "      <td>@daungoyang Vcs = vaksin corona sue?</td>\n",
       "      <td>2</td>\n",
       "    </tr>\n",
       "  </tbody>\n",
       "</table>\n",
       "<p>372 rows × 2 columns</p>\n",
       "</div>"
      ],
      "text/plain": [
       "                                                 tweet  Kategori\n",
       "0    Mudah2an kita yg merasa beragama, apalagi org ...         1\n",
       "1    Kalo ada ancaman, misal mati, yah harus ada up...         1\n",
       "2    PERHATIAN KHUSUS INI AYO DISIPLIN PROKES LEBIH...         1\n",
       "3    Pada dasarnya hanya NAFSU akan kekuasaan dan m...         2\n",
       "4    Vaksin konspirasi Flat earthers Pandemi konspi...         2\n",
       "..                                                 ...       ...\n",
       "367  meski ada efek samping setelah vaksinasi. Seca...         1\n",
       "368  Cintai bumimu Lindungi dari virus corona Taati...         1\n",
       "369  https://t.co/3Hh8rGpcaH  Saat nya kita bersatu...         1\n",
       "370  @cursedkidd \"Vaksin corona terbuat dari peju k...         2\n",
       "371               @daungoyang Vcs = vaksin corona sue?         2\n",
       "\n",
       "[372 rows x 2 columns]"
      ]
     },
     "execution_count": 5,
     "metadata": {},
     "output_type": "execute_result"
    }
   ],
   "source": [
    "df1 = df.copy()\n",
    "del df1['id'], df1['date'], df1['username']\n",
    "df1"
   ]
  },
  {
   "cell_type": "code",
   "execution_count": 6,
   "metadata": {
    "execution": {
     "iopub.execute_input": "2021-02-19T02:35:14.692458Z",
     "iopub.status.busy": "2021-02-19T02:35:14.691426Z",
     "iopub.status.idle": "2021-02-19T02:35:14.695700Z",
     "shell.execute_reply": "2021-02-19T02:35:14.696256Z"
    },
    "papermill": {
     "duration": 0.050616,
     "end_time": "2021-02-19T02:35:14.696457",
     "exception": false,
     "start_time": "2021-02-19T02:35:14.645841",
     "status": "completed"
    },
    "tags": []
   },
   "outputs": [
    {
     "data": {
      "text/plain": [
       "1    191\n",
       "2    181\n",
       "Name: Kategori, dtype: int64"
      ]
     },
     "execution_count": 6,
     "metadata": {},
     "output_type": "execute_result"
    }
   ],
   "source": [
    "df1['Kategori'].value_counts()"
   ]
  },
  {
   "cell_type": "markdown",
   "metadata": {
    "papermill": {
     "duration": 0.036339,
     "end_time": "2021-02-19T02:35:14.770284",
     "exception": false,
     "start_time": "2021-02-19T02:35:14.733945",
     "status": "completed"
    },
    "tags": []
   },
   "source": [
    "# PREPROCESSING"
   ]
  },
  {
   "cell_type": "markdown",
   "metadata": {
    "papermill": {
     "duration": 0.038315,
     "end_time": "2021-02-19T02:35:14.845200",
     "exception": false,
     "start_time": "2021-02-19T02:35:14.806885",
     "status": "completed"
    },
    "tags": []
   },
   "source": [
    "# 1. CASE FOLDING"
   ]
  },
  {
   "cell_type": "code",
   "execution_count": 7,
   "metadata": {
    "execution": {
     "iopub.execute_input": "2021-02-19T02:35:14.935580Z",
     "iopub.status.busy": "2021-02-19T02:35:14.934933Z",
     "iopub.status.idle": "2021-02-19T02:35:14.941989Z",
     "shell.execute_reply": "2021-02-19T02:35:14.941310Z"
    },
    "papermill": {
     "duration": 0.060187,
     "end_time": "2021-02-19T02:35:14.942128",
     "exception": false,
     "start_time": "2021-02-19T02:35:14.881941",
     "status": "completed"
    },
    "tags": []
   },
   "outputs": [
    {
     "data": {
      "text/html": [
       "<div>\n",
       "<style scoped>\n",
       "    .dataframe tbody tr th:only-of-type {\n",
       "        vertical-align: middle;\n",
       "    }\n",
       "\n",
       "    .dataframe tbody tr th {\n",
       "        vertical-align: top;\n",
       "    }\n",
       "\n",
       "    .dataframe thead th {\n",
       "        text-align: right;\n",
       "    }\n",
       "</style>\n",
       "<table border=\"1\" class=\"dataframe\">\n",
       "  <thead>\n",
       "    <tr style=\"text-align: right;\">\n",
       "      <th></th>\n",
       "      <th>tweet</th>\n",
       "      <th>Kategori</th>\n",
       "      <th>cleaned_tweets</th>\n",
       "    </tr>\n",
       "  </thead>\n",
       "  <tbody>\n",
       "    <tr>\n",
       "      <th>0</th>\n",
       "      <td>Mudah2an kita yg merasa beragama, apalagi org ...</td>\n",
       "      <td>1</td>\n",
       "      <td>mudah2an kita yg merasa beragama, apalagi org ...</td>\n",
       "    </tr>\n",
       "    <tr>\n",
       "      <th>1</th>\n",
       "      <td>Kalo ada ancaman, misal mati, yah harus ada up...</td>\n",
       "      <td>1</td>\n",
       "      <td>kalo ada ancaman, misal mati, yah harus ada up...</td>\n",
       "    </tr>\n",
       "    <tr>\n",
       "      <th>2</th>\n",
       "      <td>PERHATIAN KHUSUS INI AYO DISIPLIN PROKES LEBIH...</td>\n",
       "      <td>1</td>\n",
       "      <td>perhatian khusus ini ayo disiplin prokes lebih...</td>\n",
       "    </tr>\n",
       "    <tr>\n",
       "      <th>3</th>\n",
       "      <td>Pada dasarnya hanya NAFSU akan kekuasaan dan m...</td>\n",
       "      <td>2</td>\n",
       "      <td>pada dasarnya hanya nafsu akan kekuasaan dan m...</td>\n",
       "    </tr>\n",
       "    <tr>\n",
       "      <th>4</th>\n",
       "      <td>Vaksin konspirasi Flat earthers Pandemi konspi...</td>\n",
       "      <td>2</td>\n",
       "      <td>vaksin konspirasi flat earthers pandemi konspi...</td>\n",
       "    </tr>\n",
       "    <tr>\n",
       "      <th>...</th>\n",
       "      <td>...</td>\n",
       "      <td>...</td>\n",
       "      <td>...</td>\n",
       "    </tr>\n",
       "    <tr>\n",
       "      <th>367</th>\n",
       "      <td>meski ada efek samping setelah vaksinasi. Seca...</td>\n",
       "      <td>1</td>\n",
       "      <td>meski ada efek samping setelah vaksinasi. seca...</td>\n",
       "    </tr>\n",
       "    <tr>\n",
       "      <th>368</th>\n",
       "      <td>Cintai bumimu Lindungi dari virus corona Taati...</td>\n",
       "      <td>1</td>\n",
       "      <td>cintai bumimu lindungi dari virus corona taati...</td>\n",
       "    </tr>\n",
       "    <tr>\n",
       "      <th>369</th>\n",
       "      <td>https://t.co/3Hh8rGpcaH  Saat nya kita bersatu...</td>\n",
       "      <td>1</td>\n",
       "      <td>https://t.co/3hh8rgpcah  saat nya kita bersatu...</td>\n",
       "    </tr>\n",
       "    <tr>\n",
       "      <th>370</th>\n",
       "      <td>@cursedkidd \"Vaksin corona terbuat dari peju k...</td>\n",
       "      <td>2</td>\n",
       "      <td>@cursedkidd \"vaksin corona terbuat dari peju k...</td>\n",
       "    </tr>\n",
       "    <tr>\n",
       "      <th>371</th>\n",
       "      <td>@daungoyang Vcs = vaksin corona sue?</td>\n",
       "      <td>2</td>\n",
       "      <td>@daungoyang vcs = vaksin corona sue?</td>\n",
       "    </tr>\n",
       "  </tbody>\n",
       "</table>\n",
       "<p>372 rows × 3 columns</p>\n",
       "</div>"
      ],
      "text/plain": [
       "                                                 tweet  Kategori  \\\n",
       "0    Mudah2an kita yg merasa beragama, apalagi org ...         1   \n",
       "1    Kalo ada ancaman, misal mati, yah harus ada up...         1   \n",
       "2    PERHATIAN KHUSUS INI AYO DISIPLIN PROKES LEBIH...         1   \n",
       "3    Pada dasarnya hanya NAFSU akan kekuasaan dan m...         2   \n",
       "4    Vaksin konspirasi Flat earthers Pandemi konspi...         2   \n",
       "..                                                 ...       ...   \n",
       "367  meski ada efek samping setelah vaksinasi. Seca...         1   \n",
       "368  Cintai bumimu Lindungi dari virus corona Taati...         1   \n",
       "369  https://t.co/3Hh8rGpcaH  Saat nya kita bersatu...         1   \n",
       "370  @cursedkidd \"Vaksin corona terbuat dari peju k...         2   \n",
       "371               @daungoyang Vcs = vaksin corona sue?         2   \n",
       "\n",
       "                                        cleaned_tweets  \n",
       "0    mudah2an kita yg merasa beragama, apalagi org ...  \n",
       "1    kalo ada ancaman, misal mati, yah harus ada up...  \n",
       "2    perhatian khusus ini ayo disiplin prokes lebih...  \n",
       "3    pada dasarnya hanya nafsu akan kekuasaan dan m...  \n",
       "4    vaksin konspirasi flat earthers pandemi konspi...  \n",
       "..                                                 ...  \n",
       "367  meski ada efek samping setelah vaksinasi. seca...  \n",
       "368  cintai bumimu lindungi dari virus corona taati...  \n",
       "369  https://t.co/3hh8rgpcah  saat nya kita bersatu...  \n",
       "370  @cursedkidd \"vaksin corona terbuat dari peju k...  \n",
       "371               @daungoyang vcs = vaksin corona sue?  \n",
       "\n",
       "[372 rows x 3 columns]"
      ]
     },
     "execution_count": 7,
     "metadata": {},
     "output_type": "execute_result"
    }
   ],
   "source": [
    "df1['cleaned_tweets'] = df1['tweet'].apply(lambda x: x.lower())\n",
    "df1"
   ]
  },
  {
   "cell_type": "markdown",
   "metadata": {
    "papermill": {
     "duration": 0.036871,
     "end_time": "2021-02-19T02:35:15.016698",
     "exception": false,
     "start_time": "2021-02-19T02:35:14.979827",
     "status": "completed"
    },
    "tags": []
   },
   "source": [
    "# 3. NORMALISASI"
   ]
  },
  {
   "cell_type": "code",
   "execution_count": 8,
   "metadata": {
    "execution": {
     "iopub.execute_input": "2021-02-19T02:35:15.098663Z",
     "iopub.status.busy": "2021-02-19T02:35:15.097798Z",
     "iopub.status.idle": "2021-02-19T02:35:15.101129Z",
     "shell.execute_reply": "2021-02-19T02:35:15.100607Z"
    },
    "papermill": {
     "duration": 0.047215,
     "end_time": "2021-02-19T02:35:15.101264",
     "exception": false,
     "start_time": "2021-02-19T02:35:15.054049",
     "status": "completed"
    },
    "tags": []
   },
   "outputs": [],
   "source": [
    "import re\n",
    "\n",
    "def normalisasi(text):\n",
    "  text = re.sub(r\"http\\S+\", \" \", text)\n",
    "  text = re.sub(r\"@\\w+\", \" \", text)\n",
    "  text = re.sub(r\"#\\w+\", \" \", text)\n",
    "  text = re.sub(r'\\W', \" \", text)\n",
    "  text = re.sub(r\"\\d+\", \"\", text)\n",
    "  text = re.sub(r'_', ' ',text)\n",
    "  text = re.sub(r' +', ' ', text)\n",
    "  text = re.sub(r\"^\\s+\", '', text)\n",
    "  #text = text.lstrip()\n",
    "  return text"
   ]
  },
  {
   "cell_type": "code",
   "execution_count": 9,
   "metadata": {
    "execution": {
     "iopub.execute_input": "2021-02-19T02:35:15.196342Z",
     "iopub.status.busy": "2021-02-19T02:35:15.191543Z",
     "iopub.status.idle": "2021-02-19T02:35:15.199147Z",
     "shell.execute_reply": "2021-02-19T02:35:15.198432Z"
    },
    "papermill": {
     "duration": 0.060882,
     "end_time": "2021-02-19T02:35:15.199301",
     "exception": false,
     "start_time": "2021-02-19T02:35:15.138419",
     "status": "completed"
    },
    "tags": []
   },
   "outputs": [],
   "source": [
    "df1['cleaned_tweets'] = df1['cleaned_tweets'].apply(lambda x: normalisasi(x))"
   ]
  },
  {
   "cell_type": "markdown",
   "metadata": {
    "papermill": {
     "duration": 0.037382,
     "end_time": "2021-02-19T02:35:15.274849",
     "exception": false,
     "start_time": "2021-02-19T02:35:15.237467",
     "status": "completed"
    },
    "tags": []
   },
   "source": [
    "# 4. BAKU"
   ]
  },
  {
   "cell_type": "code",
   "execution_count": 10,
   "metadata": {
    "execution": {
     "iopub.execute_input": "2021-02-19T02:35:15.353904Z",
     "iopub.status.busy": "2021-02-19T02:35:15.353256Z",
     "iopub.status.idle": "2021-02-19T02:35:15.390420Z",
     "shell.execute_reply": "2021-02-19T02:35:15.391043Z"
    },
    "papermill": {
     "duration": 0.078038,
     "end_time": "2021-02-19T02:35:15.391227",
     "exception": false,
     "start_time": "2021-02-19T02:35:15.313189",
     "status": "completed"
    },
    "tags": []
   },
   "outputs": [],
   "source": [
    "dict = {row[0] : row[1] for _, row in pd.read_csv(\"/kaggle/input/cleaning/kbba.csv\").iterrows()}"
   ]
  },
  {
   "cell_type": "code",
   "execution_count": 11,
   "metadata": {
    "execution": {
     "iopub.execute_input": "2021-02-19T02:35:15.470508Z",
     "iopub.status.busy": "2021-02-19T02:35:15.469829Z",
     "iopub.status.idle": "2021-02-19T02:35:15.474434Z",
     "shell.execute_reply": "2021-02-19T02:35:15.475009Z"
    },
    "papermill": {
     "duration": 0.045669,
     "end_time": "2021-02-19T02:35:15.475201",
     "exception": false,
     "start_time": "2021-02-19T02:35:15.429532",
     "status": "completed"
    },
    "tags": []
   },
   "outputs": [],
   "source": [
    "def kbbi(token): \n",
    "    final_string = ' '.join(str(dict.get(word, word)) for word in token)\n",
    "    return final_string\n",
    "\n",
    "def baku(text):\n",
    "    text=text.split()\n",
    "    text=kbbi(text)\n",
    "    return text"
   ]
  },
  {
   "cell_type": "code",
   "execution_count": 12,
   "metadata": {
    "execution": {
     "iopub.execute_input": "2021-02-19T02:35:15.553572Z",
     "iopub.status.busy": "2021-02-19T02:35:15.552974Z",
     "iopub.status.idle": "2021-02-19T02:35:15.561318Z",
     "shell.execute_reply": "2021-02-19T02:35:15.561847Z"
    },
    "papermill": {
     "duration": 0.049135,
     "end_time": "2021-02-19T02:35:15.562039",
     "exception": false,
     "start_time": "2021-02-19T02:35:15.512904",
     "status": "completed"
    },
    "tags": []
   },
   "outputs": [],
   "source": [
    "df1['cleaned_tweets'] = df1['cleaned_tweets'].apply(lambda x: baku(x))"
   ]
  },
  {
   "cell_type": "markdown",
   "metadata": {
    "papermill": {
     "duration": 0.037323,
     "end_time": "2021-02-19T02:35:15.637370",
     "exception": false,
     "start_time": "2021-02-19T02:35:15.600047",
     "status": "completed"
    },
    "tags": []
   },
   "source": [
    "# 5. STOPWORDS"
   ]
  },
  {
   "cell_type": "code",
   "execution_count": 13,
   "metadata": {
    "execution": {
     "iopub.execute_input": "2021-02-19T02:35:15.716691Z",
     "iopub.status.busy": "2021-02-19T02:35:15.716092Z",
     "iopub.status.idle": "2021-02-19T02:35:15.720928Z",
     "shell.execute_reply": "2021-02-19T02:35:15.721472Z"
    },
    "papermill": {
     "duration": 0.045865,
     "end_time": "2021-02-19T02:35:15.721637",
     "exception": false,
     "start_time": "2021-02-19T02:35:15.675772",
     "status": "completed"
    },
    "tags": []
   },
   "outputs": [
    {
     "data": {
      "text/plain": [
       "'import nltk\\nnltk.download(\\'stopwords\\')\\nfrom nltk.corpus import stopwords  \\n\\ndef remove_stop_words(text):\\n    text = text.split()\\n    listStopword =  set(stopwords.words(\\'indonesian\\'))\\n    text = [w for w in text if not w in listStopword]\\n    text = \" \".join(text)\\n    return text'"
      ]
     },
     "execution_count": 13,
     "metadata": {},
     "output_type": "execute_result"
    }
   ],
   "source": [
    "\"\"\"import nltk\n",
    "nltk.download('stopwords')\n",
    "from nltk.corpus import stopwords  \n",
    "\n",
    "def remove_stop_words(text):\n",
    "    text = text.split()\n",
    "    listStopword =  set(stopwords.words('indonesian'))\n",
    "    text = [w for w in text if not w in listStopword]\n",
    "    text = \" \".join(text)\n",
    "    return text\"\"\""
   ]
  },
  {
   "cell_type": "code",
   "execution_count": 14,
   "metadata": {
    "execution": {
     "iopub.execute_input": "2021-02-19T02:35:15.801173Z",
     "iopub.status.busy": "2021-02-19T02:35:15.800577Z",
     "iopub.status.idle": "2021-02-19T02:35:15.804839Z",
     "shell.execute_reply": "2021-02-19T02:35:15.805397Z"
    },
    "papermill": {
     "duration": 0.045345,
     "end_time": "2021-02-19T02:35:15.805553",
     "exception": false,
     "start_time": "2021-02-19T02:35:15.760208",
     "status": "completed"
    },
    "tags": []
   },
   "outputs": [
    {
     "data": {
      "text/plain": [
       "\"df1['cleaned_tweets'] = df1['cleaned_tweets'].apply(lambda x: remove_stop_words(x))\\ndf1\""
      ]
     },
     "execution_count": 14,
     "metadata": {},
     "output_type": "execute_result"
    }
   ],
   "source": [
    "\"\"\"df1['cleaned_tweets'] = df1['cleaned_tweets'].apply(lambda x: remove_stop_words(x))\n",
    "df1\"\"\""
   ]
  },
  {
   "cell_type": "code",
   "execution_count": 15,
   "metadata": {
    "execution": {
     "iopub.execute_input": "2021-02-19T02:35:15.887247Z",
     "iopub.status.busy": "2021-02-19T02:35:15.886632Z",
     "iopub.status.idle": "2021-02-19T02:35:15.892581Z",
     "shell.execute_reply": "2021-02-19T02:35:15.893115Z"
    },
    "papermill": {
     "duration": 0.048694,
     "end_time": "2021-02-19T02:35:15.893317",
     "exception": false,
     "start_time": "2021-02-19T02:35:15.844623",
     "status": "completed"
    },
    "tags": []
   },
   "outputs": [],
   "source": [
    "def noise(text): \n",
    "    text = text.split()\n",
    "    listStopword =  ['amp', 'tong', 'fry', 'vcs', 'bahh', 'a', 'wkwkwk', 'c', 'yeey', 'oi', 'pret', 'iya', 'nya', 'sih', 'mbok', 'ku', 'loh', 'lho', 'ah', 'nihh', 'ya', 'hah', 'joss', 'deh''rmp', 'v', 'via', 'lha', 'mah', 'xixi']\n",
    "    text = [w for w in text if not w in listStopword]\n",
    "    text = \" \".join(text)\n",
    "    return text"
   ]
  },
  {
   "cell_type": "code",
   "execution_count": 16,
   "metadata": {
    "execution": {
     "iopub.execute_input": "2021-02-19T02:35:15.980877Z",
     "iopub.status.busy": "2021-02-19T02:35:15.979985Z",
     "iopub.status.idle": "2021-02-19T02:35:15.983063Z",
     "shell.execute_reply": "2021-02-19T02:35:15.983567Z"
    },
    "papermill": {
     "duration": 0.051744,
     "end_time": "2021-02-19T02:35:15.983743",
     "exception": false,
     "start_time": "2021-02-19T02:35:15.931999",
     "status": "completed"
    },
    "tags": []
   },
   "outputs": [],
   "source": [
    "df1['cleaned_tweets'] = df1['cleaned_tweets'].apply(lambda x: noise(x))"
   ]
  },
  {
   "cell_type": "markdown",
   "metadata": {
    "papermill": {
     "duration": 0.039166,
     "end_time": "2021-02-19T02:35:16.061639",
     "exception": false,
     "start_time": "2021-02-19T02:35:16.022473",
     "status": "completed"
    },
    "tags": []
   },
   "source": [
    "# 6. STEAMING"
   ]
  },
  {
   "cell_type": "code",
   "execution_count": 17,
   "metadata": {
    "execution": {
     "iopub.execute_input": "2021-02-19T02:35:16.144506Z",
     "iopub.status.busy": "2021-02-19T02:35:16.143634Z",
     "iopub.status.idle": "2021-02-19T02:35:16.147871Z",
     "shell.execute_reply": "2021-02-19T02:35:16.147272Z"
    },
    "papermill": {
     "duration": 0.047729,
     "end_time": "2021-02-19T02:35:16.148029",
     "exception": false,
     "start_time": "2021-02-19T02:35:16.100300",
     "status": "completed"
    },
    "tags": []
   },
   "outputs": [
    {
     "data": {
      "text/plain": [
       "'from Sastrawi.Stemmer.StemmerFactory import StemmerFactory\\n\\ndef steamming(text):\\n    factory = StemmerFactory()\\n    stemmer = factory.create_stemmer()\\n    split = text.split()\\n    hasil = [stemmer.stem(token) for token in split]\\n    hasil = \" \".join(hasil)\\n    return hasil'"
      ]
     },
     "execution_count": 17,
     "metadata": {},
     "output_type": "execute_result"
    }
   ],
   "source": [
    "\"\"\"from Sastrawi.Stemmer.StemmerFactory import StemmerFactory\n",
    "\n",
    "def steamming(text):\n",
    "    factory = StemmerFactory()\n",
    "    stemmer = factory.create_stemmer()\n",
    "    split = text.split()\n",
    "    hasil = [stemmer.stem(token) for token in split]\n",
    "    hasil = \" \".join(hasil)\n",
    "    return hasil\"\"\""
   ]
  },
  {
   "cell_type": "code",
   "execution_count": 18,
   "metadata": {
    "execution": {
     "iopub.execute_input": "2021-02-19T02:35:16.231576Z",
     "iopub.status.busy": "2021-02-19T02:35:16.230624Z",
     "iopub.status.idle": "2021-02-19T02:35:16.236062Z",
     "shell.execute_reply": "2021-02-19T02:35:16.235562Z"
    },
    "papermill": {
     "duration": 0.049407,
     "end_time": "2021-02-19T02:35:16.236205",
     "exception": false,
     "start_time": "2021-02-19T02:35:16.186798",
     "status": "completed"
    },
    "tags": []
   },
   "outputs": [
    {
     "data": {
      "text/plain": [
       "\"df1['cleaned_tweets'] = df1['cleaned_tweets'].apply(lambda x: steamming(x))\\ndf1\""
      ]
     },
     "execution_count": 18,
     "metadata": {},
     "output_type": "execute_result"
    }
   ],
   "source": [
    "\"\"\"df1['cleaned_tweets'] = df1['cleaned_tweets'].apply(lambda x: steamming(x))\n",
    "df1\"\"\""
   ]
  },
  {
   "cell_type": "code",
   "execution_count": 19,
   "metadata": {
    "execution": {
     "iopub.execute_input": "2021-02-19T02:35:16.318545Z",
     "iopub.status.busy": "2021-02-19T02:35:16.317876Z",
     "iopub.status.idle": "2021-02-19T02:35:16.355458Z",
     "shell.execute_reply": "2021-02-19T02:35:16.355886Z"
    },
    "papermill": {
     "duration": 0.080061,
     "end_time": "2021-02-19T02:35:16.356107",
     "exception": false,
     "start_time": "2021-02-19T02:35:16.276046",
     "status": "completed"
    },
    "tags": []
   },
   "outputs": [
    {
     "data": {
      "text/html": [
       "<div>\n",
       "<style scoped>\n",
       "    .dataframe tbody tr th:only-of-type {\n",
       "        vertical-align: middle;\n",
       "    }\n",
       "\n",
       "    .dataframe tbody tr th {\n",
       "        vertical-align: top;\n",
       "    }\n",
       "\n",
       "    .dataframe thead th {\n",
       "        text-align: right;\n",
       "    }\n",
       "</style>\n",
       "<table border=\"1\" class=\"dataframe\">\n",
       "  <thead>\n",
       "    <tr style=\"text-align: right;\">\n",
       "      <th></th>\n",
       "      <th>Kategori</th>\n",
       "      <th>cleaned_tweets</th>\n",
       "    </tr>\n",
       "  </thead>\n",
       "  <tbody>\n",
       "    <tr>\n",
       "      <th>0</th>\n",
       "      <td>1</td>\n",
       "      <td>mudahan kita yang merasa beragama apalagi oran...</td>\n",
       "    </tr>\n",
       "    <tr>\n",
       "      <th>1</th>\n",
       "      <td>1</td>\n",
       "      <td>kalau ada ancaman misal mati harus ada upaya m...</td>\n",
       "    </tr>\n",
       "    <tr>\n",
       "      <th>2</th>\n",
       "      <td>1</td>\n",
       "      <td>perhatian khusus ini ayo disiplin prokes lebih...</td>\n",
       "    </tr>\n",
       "    <tr>\n",
       "      <th>3</th>\n",
       "      <td>2</td>\n",
       "      <td>pada dasarnya hanya nafsu akan kekuasaan dan m...</td>\n",
       "    </tr>\n",
       "    <tr>\n",
       "      <th>4</th>\n",
       "      <td>2</td>\n",
       "      <td>vaksin konspirasi flat earthers pandemi konspi...</td>\n",
       "    </tr>\n",
       "    <tr>\n",
       "      <th>...</th>\n",
       "      <td>...</td>\n",
       "      <td>...</td>\n",
       "    </tr>\n",
       "    <tr>\n",
       "      <th>365</th>\n",
       "      <td>1</td>\n",
       "      <td>maka saya berharap kepada para ustadz ikadi me...</td>\n",
       "    </tr>\n",
       "    <tr>\n",
       "      <th>366</th>\n",
       "      <td>1</td>\n",
       "      <td>masa pandemi corona ini tidak hanya berdampak ...</td>\n",
       "    </tr>\n",
       "    <tr>\n",
       "      <th>367</th>\n",
       "      <td>1</td>\n",
       "      <td>meski ada efek samping setelah vaksinasi secar...</td>\n",
       "    </tr>\n",
       "    <tr>\n",
       "      <th>370</th>\n",
       "      <td>2</td>\n",
       "      <td>vaksin corona terbuat dari sperma</td>\n",
       "    </tr>\n",
       "    <tr>\n",
       "      <th>371</th>\n",
       "      <td>2</td>\n",
       "      <td>vaksin corona sue</td>\n",
       "    </tr>\n",
       "  </tbody>\n",
       "</table>\n",
       "<p>347 rows × 2 columns</p>\n",
       "</div>"
      ],
      "text/plain": [
       "     Kategori                                     cleaned_tweets\n",
       "0           1  mudahan kita yang merasa beragama apalagi oran...\n",
       "1           1  kalau ada ancaman misal mati harus ada upaya m...\n",
       "2           1  perhatian khusus ini ayo disiplin prokes lebih...\n",
       "3           2  pada dasarnya hanya nafsu akan kekuasaan dan m...\n",
       "4           2  vaksin konspirasi flat earthers pandemi konspi...\n",
       "..        ...                                                ...\n",
       "365         1  maka saya berharap kepada para ustadz ikadi me...\n",
       "366         1  masa pandemi corona ini tidak hanya berdampak ...\n",
       "367         1  meski ada efek samping setelah vaksinasi secar...\n",
       "370         2                  vaksin corona terbuat dari sperma\n",
       "371         2                                  vaksin corona sue\n",
       "\n",
       "[347 rows x 2 columns]"
      ]
     },
     "execution_count": 19,
     "metadata": {},
     "output_type": "execute_result"
    }
   ],
   "source": [
    "df2 = df1.copy()\n",
    "del df2['tweet']\n",
    "df2 = df2.drop_duplicates()\n",
    "df2 = df2.dropna()\n",
    "df2"
   ]
  },
  {
   "cell_type": "code",
   "execution_count": 20,
   "metadata": {
    "execution": {
     "iopub.execute_input": "2021-02-19T02:35:16.439683Z",
     "iopub.status.busy": "2021-02-19T02:35:16.439089Z",
     "iopub.status.idle": "2021-02-19T02:35:16.448072Z",
     "shell.execute_reply": "2021-02-19T02:35:16.448532Z"
    },
    "papermill": {
     "duration": 0.052482,
     "end_time": "2021-02-19T02:35:16.448699",
     "exception": false,
     "start_time": "2021-02-19T02:35:16.396217",
     "status": "completed"
    },
    "tags": []
   },
   "outputs": [],
   "source": [
    "df2.to_csv('prepocessing.csv',index=False)"
   ]
  },
  {
   "cell_type": "code",
   "execution_count": 21,
   "metadata": {
    "execution": {
     "iopub.execute_input": "2021-02-19T02:35:16.532204Z",
     "iopub.status.busy": "2021-02-19T02:35:16.531555Z",
     "iopub.status.idle": "2021-02-19T02:35:18.004316Z",
     "shell.execute_reply": "2021-02-19T02:35:18.003763Z"
    },
    "papermill": {
     "duration": 1.515767,
     "end_time": "2021-02-19T02:35:18.004453",
     "exception": false,
     "start_time": "2021-02-19T02:35:16.488686",
     "status": "completed"
    },
    "tags": []
   },
   "outputs": [
    {
     "data": {
      "image/png": "[encoded data removed]",
      "text/plain": [
       "<Figure size 864x720 with 1 Axes>"
      ]
     },
     "metadata": {
      "needs_background": "light"
     },
     "output_type": "display_data"
    }
   ],
   "source": [
    "import matplotlib.pyplot as plt\n",
    "from wordcloud import WordCloud, ImageColorGenerator\n",
    "\n",
    "wd_list = df2['cleaned_tweets']\n",
    "#liststopwords = set(stopwords.words('indonesian'))\n",
    "all_words = ' '.join([text for text in wd_list])\n",
    "\n",
    "wordcloud = WordCloud(\n",
    "    background_color='white',\n",
    "    #stopwords=liststopwords,\n",
    "    width=1600,\n",
    "    height=800,\n",
    "    random_state=1,\n",
    "    colormap='jet',\n",
    "    max_words=80,\n",
    "    max_font_size=200).generate(all_words)\n",
    "plt.figure(figsize=(12, 10))\n",
    "plt.axis('off')\n",
    "plt.imshow(wordcloud, interpolation=\"bilinear\");"
   ]
  },
  {
   "cell_type": "markdown",
   "metadata": {
    "papermill": {
     "duration": 0.045528,
     "end_time": "2021-02-19T02:35:18.096051",
     "exception": false,
     "start_time": "2021-02-19T02:35:18.050523",
     "status": "completed"
    },
    "tags": []
   },
   "source": [
    "# VEKTORISASI"
   ]
  },
  {
   "cell_type": "code",
   "execution_count": 22,
   "metadata": {
    "execution": {
     "iopub.execute_input": "2021-02-19T02:35:18.192097Z",
     "iopub.status.busy": "2021-02-19T02:35:18.191375Z",
     "iopub.status.idle": "2021-02-19T02:35:19.182990Z",
     "shell.execute_reply": "2021-02-19T02:35:19.181822Z"
    },
    "papermill": {
     "duration": 1.041549,
     "end_time": "2021-02-19T02:35:19.183154",
     "exception": false,
     "start_time": "2021-02-19T02:35:18.141605",
     "status": "completed"
    },
    "tags": []
   },
   "outputs": [],
   "source": [
    "from sklearn.feature_extraction.text import CountVectorizer\n",
    "\n",
    "cv = CountVectorizer()\n",
    "text_counts = cv.fit_transform(df2['cleaned_tweets'])"
   ]
  },
  {
   "cell_type": "markdown",
   "metadata": {
    "papermill": {
     "duration": 0.045592,
     "end_time": "2021-02-19T02:35:19.276685",
     "exception": false,
     "start_time": "2021-02-19T02:35:19.231093",
     "status": "completed"
    },
    "tags": []
   },
   "source": [
    "# SPLIT DATASET"
   ]
  },
  {
   "cell_type": "code",
   "execution_count": 23,
   "metadata": {
    "execution": {
     "iopub.execute_input": "2021-02-19T02:35:19.373172Z",
     "iopub.status.busy": "2021-02-19T02:35:19.372434Z",
     "iopub.status.idle": "2021-02-19T02:35:19.431096Z",
     "shell.execute_reply": "2021-02-19T02:35:19.430435Z"
    },
    "papermill": {
     "duration": 0.109323,
     "end_time": "2021-02-19T02:35:19.431309",
     "exception": false,
     "start_time": "2021-02-19T02:35:19.321986",
     "status": "completed"
    },
    "tags": []
   },
   "outputs": [],
   "source": [
    "from sklearn.model_selection import train_test_split\n",
    "\n",
    "X_train, X_test, Y_train, Y_test = train_test_split(text_counts, df2['Kategori'], test_size=0.25)"
   ]
  },
  {
   "cell_type": "code",
   "execution_count": 24,
   "metadata": {
    "execution": {
     "iopub.execute_input": "2021-02-19T02:35:19.529180Z",
     "iopub.status.busy": "2021-02-19T02:35:19.528220Z",
     "iopub.status.idle": "2021-02-19T02:35:19.531527Z",
     "shell.execute_reply": "2021-02-19T02:35:19.532239Z"
    },
    "papermill": {
     "duration": 0.055346,
     "end_time": "2021-02-19T02:35:19.532488",
     "exception": false,
     "start_time": "2021-02-19T02:35:19.477142",
     "status": "completed"
    },
    "tags": []
   },
   "outputs": [
    {
     "name": "stdout",
     "output_type": "stream",
     "text": [
      "(260, 1507) (87, 1507)\n"
     ]
    }
   ],
   "source": [
    "print(X_train.shape, X_test.shape)"
   ]
  },
  {
   "cell_type": "markdown",
   "metadata": {
    "papermill": {
     "duration": 0.045712,
     "end_time": "2021-02-19T02:35:19.625495",
     "exception": false,
     "start_time": "2021-02-19T02:35:19.579783",
     "status": "completed"
    },
    "tags": []
   },
   "source": [
    "# KLASIFIKASI"
   ]
  },
  {
   "cell_type": "markdown",
   "metadata": {
    "papermill": {
     "duration": 0.047589,
     "end_time": "2021-02-19T02:35:19.719864",
     "exception": false,
     "start_time": "2021-02-19T02:35:19.672275",
     "status": "completed"
    },
    "tags": []
   },
   "source": [
    "# 1. Naive Bayes MNB"
   ]
  },
  {
   "cell_type": "code",
   "execution_count": 25,
   "metadata": {
    "execution": {
     "iopub.execute_input": "2021-02-19T02:35:19.815691Z",
     "iopub.status.busy": "2021-02-19T02:35:19.814938Z",
     "iopub.status.idle": "2021-02-19T02:35:19.828948Z",
     "shell.execute_reply": "2021-02-19T02:35:19.829561Z"
    },
    "papermill": {
     "duration": 0.063611,
     "end_time": "2021-02-19T02:35:19.829731",
     "exception": false,
     "start_time": "2021-02-19T02:35:19.766120",
     "status": "completed"
    },
    "tags": []
   },
   "outputs": [
    {
     "data": {
      "text/plain": [
       "MultinomialNB()"
      ]
     },
     "execution_count": 25,
     "metadata": {},
     "output_type": "execute_result"
    }
   ],
   "source": [
    "from sklearn.naive_bayes import MultinomialNB\n",
    "\n",
    "MNB = MultinomialNB()\n",
    "MNB.fit(X_train, Y_train)"
   ]
  },
  {
   "cell_type": "code",
   "execution_count": 26,
   "metadata": {
    "execution": {
     "iopub.execute_input": "2021-02-19T02:35:19.927248Z",
     "iopub.status.busy": "2021-02-19T02:35:19.926526Z",
     "iopub.status.idle": "2021-02-19T02:35:19.933341Z",
     "shell.execute_reply": "2021-02-19T02:35:19.933835Z"
    },
    "papermill": {
     "duration": 0.056745,
     "end_time": "2021-02-19T02:35:19.934034",
     "exception": false,
     "start_time": "2021-02-19T02:35:19.877289",
     "status": "completed"
    },
    "tags": []
   },
   "outputs": [
    {
     "name": "stdout",
     "output_type": "stream",
     "text": [
      "88.51%\n"
     ]
    }
   ],
   "source": [
    "from sklearn import metrics\n",
    "\n",
    "predicted = MNB.predict(X_test)\n",
    "model1 = metrics.accuracy_score(predicted, Y_test)\n",
    "print(str('{:04.2f}'.format(model1*100))+'%')"
   ]
  },
  {
   "cell_type": "code",
   "execution_count": 27,
   "metadata": {
    "execution": {
     "iopub.execute_input": "2021-02-19T02:35:20.036920Z",
     "iopub.status.busy": "2021-02-19T02:35:20.036207Z",
     "iopub.status.idle": "2021-02-19T02:35:20.039290Z",
     "shell.execute_reply": "2021-02-19T02:35:20.039778Z"
    },
    "papermill": {
     "duration": 0.057717,
     "end_time": "2021-02-19T02:35:20.039965",
     "exception": false,
     "start_time": "2021-02-19T02:35:19.982248",
     "status": "completed"
    },
    "tags": []
   },
   "outputs": [
    {
     "name": "stdout",
     "output_type": "stream",
     "text": [
      "[[39  5]\n",
      " [ 5 38]]\n"
     ]
    }
   ],
   "source": [
    "from sklearn.metrics import confusion_matrix\n",
    "import numpy as np\n",
    "\n",
    "confusion = confusion_matrix(Y_test, predicted)\n",
    "print(confusion)"
   ]
  },
  {
   "cell_type": "code",
   "execution_count": 28,
   "metadata": {
    "execution": {
     "iopub.execute_input": "2021-02-19T02:35:20.139825Z",
     "iopub.status.busy": "2021-02-19T02:35:20.139034Z",
     "iopub.status.idle": "2021-02-19T02:35:20.452426Z",
     "shell.execute_reply": "2021-02-19T02:35:20.453004Z"
    },
    "papermill": {
     "duration": 0.366123,
     "end_time": "2021-02-19T02:35:20.453172",
     "exception": false,
     "start_time": "2021-02-19T02:35:20.087049",
     "status": "completed"
    },
    "tags": []
   },
   "outputs": [
    {
     "data": {
      "text/plain": [
       "<AxesSubplot:>"
      ]
     },
     "execution_count": 28,
     "metadata": {},
     "output_type": "execute_result"
    },
    {
     "data": {
      "image/png": "[encoded data removed]",
      "text/plain": [
       "<Figure size 432x288 with 2 Axes>"
      ]
     },
     "metadata": {
      "needs_background": "light"
     },
     "output_type": "display_data"
    }
   ],
   "source": [
    "import seaborn as sns\n",
    "\n",
    "sns.heatmap(confusion/np.sum(confusion) , annot=True,  cmap='Blues')"
   ]
  },
  {
   "cell_type": "code",
   "execution_count": 29,
   "metadata": {
    "execution": {
     "iopub.execute_input": "2021-02-19T02:35:20.552760Z",
     "iopub.status.busy": "2021-02-19T02:35:20.551818Z",
     "iopub.status.idle": "2021-02-19T02:35:20.556804Z",
     "shell.execute_reply": "2021-02-19T02:35:20.557327Z"
    },
    "papermill": {
     "duration": 0.056654,
     "end_time": "2021-02-19T02:35:20.557500",
     "exception": false,
     "start_time": "2021-02-19T02:35:20.500846",
     "status": "completed"
    },
    "tags": []
   },
   "outputs": [],
   "source": [
    "output1 = pd.DataFrame({'tweet': X_test, 'label': predicted})"
   ]
  },
  {
   "cell_type": "code",
   "execution_count": 30,
   "metadata": {
    "execution": {
     "iopub.execute_input": "2021-02-19T02:35:20.656782Z",
     "iopub.status.busy": "2021-02-19T02:35:20.655862Z",
     "iopub.status.idle": "2021-02-19T02:35:20.664028Z",
     "shell.execute_reply": "2021-02-19T02:35:20.663512Z"
    },
    "papermill": {
     "duration": 0.058934,
     "end_time": "2021-02-19T02:35:20.664174",
     "exception": false,
     "start_time": "2021-02-19T02:35:20.605240",
     "status": "completed"
    },
    "tags": []
   },
   "outputs": [
    {
     "data": {
      "text/plain": [
       "1    44\n",
       "2    43\n",
       "Name: label, dtype: int64"
      ]
     },
     "execution_count": 30,
     "metadata": {},
     "output_type": "execute_result"
    }
   ],
   "source": [
    "output1['label'].value_counts()"
   ]
  },
  {
   "cell_type": "markdown",
   "metadata": {
    "papermill": {
     "duration": 0.056918,
     "end_time": "2021-02-19T02:35:20.776222",
     "exception": false,
     "start_time": "2021-02-19T02:35:20.719304",
     "status": "completed"
    },
    "tags": []
   },
   "source": [
    "# 2. Naive Bayes BNB"
   ]
  },
  {
   "cell_type": "code",
   "execution_count": 31,
   "metadata": {
    "execution": {
     "iopub.execute_input": "2021-02-19T02:35:20.892986Z",
     "iopub.status.busy": "2021-02-19T02:35:20.892308Z",
     "iopub.status.idle": "2021-02-19T02:35:20.898497Z",
     "shell.execute_reply": "2021-02-19T02:35:20.899018Z"
    },
    "papermill": {
     "duration": 0.064077,
     "end_time": "2021-02-19T02:35:20.899196",
     "exception": false,
     "start_time": "2021-02-19T02:35:20.835119",
     "status": "completed"
    },
    "tags": []
   },
   "outputs": [
    {
     "name": "stdout",
     "output_type": "stream",
     "text": [
      "BNB accuracy = 88.51%\n"
     ]
    }
   ],
   "source": [
    "from sklearn.naive_bayes import BernoulliNB\n",
    "BNB = BernoulliNB()\n",
    "BNB.fit(X_train, Y_train)\n",
    "model2 = metrics.accuracy_score(BNB.predict(X_test),Y_test)\n",
    "print('BNB accuracy = ' + str('{:4.2f}'.format(model2*100))+'%')"
   ]
  },
  {
   "cell_type": "code",
   "execution_count": 32,
   "metadata": {
    "execution": {
     "iopub.execute_input": "2021-02-19T02:35:21.001793Z",
     "iopub.status.busy": "2021-02-19T02:35:21.000770Z",
     "iopub.status.idle": "2021-02-19T02:35:21.009448Z",
     "shell.execute_reply": "2021-02-19T02:35:21.008945Z"
    },
    "papermill": {
     "duration": 0.06128,
     "end_time": "2021-02-19T02:35:21.009601",
     "exception": false,
     "start_time": "2021-02-19T02:35:20.948321",
     "status": "completed"
    },
    "tags": []
   },
   "outputs": [
    {
     "name": "stdout",
     "output_type": "stream",
     "text": [
      "[[40  4]\n",
      " [ 6 37]]\n"
     ]
    }
   ],
   "source": [
    "predicted = BNB.predict(X_test)\n",
    "confusion = confusion_matrix(Y_test, predicted)\n",
    "print(confusion)"
   ]
  },
  {
   "cell_type": "code",
   "execution_count": 33,
   "metadata": {
    "execution": {
     "iopub.execute_input": "2021-02-19T02:35:21.135474Z",
     "iopub.status.busy": "2021-02-19T02:35:21.130667Z",
     "iopub.status.idle": "2021-02-19T02:35:21.332984Z",
     "shell.execute_reply": "2021-02-19T02:35:21.333476Z"
    },
    "papermill": {
     "duration": 0.274819,
     "end_time": "2021-02-19T02:35:21.333656",
     "exception": false,
     "start_time": "2021-02-19T02:35:21.058837",
     "status": "completed"
    },
    "tags": []
   },
   "outputs": [
    {
     "data": {
      "text/plain": [
       "<AxesSubplot:>"
      ]
     },
     "execution_count": 33,
     "metadata": {},
     "output_type": "execute_result"
    },
    {
     "data": {
      "image/png": "[encoded data removed]",
      "text/plain": [
       "<Figure size 432x288 with 2 Axes>"
      ]
     },
     "metadata": {
      "needs_background": "light"
     },
     "output_type": "display_data"
    }
   ],
   "source": [
    "sns.heatmap(confusion/np.sum(confusion) , annot=True,  cmap='Blues')"
   ]
  },
  {
   "cell_type": "code",
   "execution_count": 34,
   "metadata": {
    "execution": {
     "iopub.execute_input": "2021-02-19T02:35:21.437832Z",
     "iopub.status.busy": "2021-02-19T02:35:21.437195Z",
     "iopub.status.idle": "2021-02-19T02:35:21.441756Z",
     "shell.execute_reply": "2021-02-19T02:35:21.442361Z"
    },
    "papermill": {
     "duration": 0.058561,
     "end_time": "2021-02-19T02:35:21.442536",
     "exception": false,
     "start_time": "2021-02-19T02:35:21.383975",
     "status": "completed"
    },
    "tags": []
   },
   "outputs": [],
   "source": [
    "output = pd.DataFrame({'tweet': X_test, 'label': predicted})"
   ]
  },
  {
   "cell_type": "code",
   "execution_count": 35,
   "metadata": {
    "execution": {
     "iopub.execute_input": "2021-02-19T02:35:21.546015Z",
     "iopub.status.busy": "2021-02-19T02:35:21.545382Z",
     "iopub.status.idle": "2021-02-19T02:35:21.551671Z",
     "shell.execute_reply": "2021-02-19T02:35:21.552229Z"
    },
    "papermill": {
     "duration": 0.06034,
     "end_time": "2021-02-19T02:35:21.552404",
     "exception": false,
     "start_time": "2021-02-19T02:35:21.492064",
     "status": "completed"
    },
    "tags": []
   },
   "outputs": [
    {
     "data": {
      "text/plain": [
       "1    46\n",
       "2    41\n",
       "Name: label, dtype: int64"
      ]
     },
     "execution_count": 35,
     "metadata": {},
     "output_type": "execute_result"
    }
   ],
   "source": [
    "output['label'].value_counts()"
   ]
  },
  {
   "cell_type": "markdown",
   "metadata": {
    "papermill": {
     "duration": 0.050462,
     "end_time": "2021-02-19T02:35:21.653805",
     "exception": false,
     "start_time": "2021-02-19T02:35:21.603343",
     "status": "completed"
    },
    "tags": []
   },
   "source": [
    "# SAVE MODEL"
   ]
  },
  {
   "cell_type": "code",
   "execution_count": 36,
   "metadata": {
    "execution": {
     "iopub.execute_input": "2021-02-19T02:35:21.758416Z",
     "iopub.status.busy": "2021-02-19T02:35:21.757790Z",
     "iopub.status.idle": "2021-02-19T02:35:21.778683Z",
     "shell.execute_reply": "2021-02-19T02:35:21.779173Z"
    },
    "papermill": {
     "duration": 0.074472,
     "end_time": "2021-02-19T02:35:21.779351",
     "exception": false,
     "start_time": "2021-02-19T02:35:21.704879",
     "status": "completed"
    },
    "tags": []
   },
   "outputs": [
    {
     "data": {
      "text/plain": [
       "['vektor.sav']"
      ]
     },
     "execution_count": 36,
     "metadata": {},
     "output_type": "execute_result"
    }
   ],
   "source": [
    "import joblib\n",
    "\n",
    "filename = 'vektor.sav'\n",
    "joblib.dump(cv, filename)"
   ]
  },
  {
   "cell_type": "code",
   "execution_count": 37,
   "metadata": {
    "execution": {
     "iopub.execute_input": "2021-02-19T02:35:21.884732Z",
     "iopub.status.busy": "2021-02-19T02:35:21.884076Z",
     "iopub.status.idle": "2021-02-19T02:35:21.889963Z",
     "shell.execute_reply": "2021-02-19T02:35:21.890444Z"
    },
    "papermill": {
     "duration": 0.060637,
     "end_time": "2021-02-19T02:35:21.890624",
     "exception": false,
     "start_time": "2021-02-19T02:35:21.829987",
     "status": "completed"
    },
    "tags": []
   },
   "outputs": [
    {
     "data": {
      "text/plain": [
       "['MNB.sav']"
      ]
     },
     "execution_count": 37,
     "metadata": {},
     "output_type": "execute_result"
    }
   ],
   "source": [
    "filename = 'MNB.sav'\n",
    "joblib.dump(MNB, filename)"
   ]
  },
  {
   "cell_type": "code",
   "execution_count": 38,
   "metadata": {
    "execution": {
     "iopub.execute_input": "2021-02-19T02:35:21.995893Z",
     "iopub.status.busy": "2021-02-19T02:35:21.995299Z",
     "iopub.status.idle": "2021-02-19T02:35:22.001409Z",
     "shell.execute_reply": "2021-02-19T02:35:22.001867Z"
    },
    "papermill": {
     "duration": 0.060409,
     "end_time": "2021-02-19T02:35:22.002151",
     "exception": false,
     "start_time": "2021-02-19T02:35:21.941742",
     "status": "completed"
    },
    "tags": []
   },
   "outputs": [
    {
     "data": {
      "text/plain": [
       "['BNB.sav']"
      ]
     },
     "execution_count": 38,
     "metadata": {},
     "output_type": "execute_result"
    }
   ],
   "source": [
    "filename = 'BNB.sav'\n",
    "joblib.dump(BNB, filename)"
   ]
  },
  {
   "cell_type": "markdown",
   "metadata": {
    "papermill": {
     "duration": 0.051544,
     "end_time": "2021-02-19T02:35:22.106225",
     "exception": false,
     "start_time": "2021-02-19T02:35:22.054681",
     "status": "completed"
    },
    "tags": []
   },
   "source": [
    "# IMPLEMENTASI"
   ]
  },
  {
   "cell_type": "code",
   "execution_count": 39,
   "metadata": {
    "execution": {
     "iopub.execute_input": "2021-02-19T02:35:22.214001Z",
     "iopub.status.busy": "2021-02-19T02:35:22.212974Z",
     "iopub.status.idle": "2021-02-19T02:35:22.228010Z",
     "shell.execute_reply": "2021-02-19T02:35:22.228493Z"
    },
    "papermill": {
     "duration": 0.070591,
     "end_time": "2021-02-19T02:35:22.228676",
     "exception": false,
     "start_time": "2021-02-19T02:35:22.158085",
     "status": "completed"
    },
    "tags": []
   },
   "outputs": [],
   "source": [
    "vektor = joblib.load(\"vektor.sav\")\n",
    "MNB = joblib.load(\"MNB.sav\")"
   ]
  },
  {
   "cell_type": "code",
   "execution_count": 40,
   "metadata": {
    "execution": {
     "iopub.execute_input": "2021-02-19T02:35:22.336437Z",
     "iopub.status.busy": "2021-02-19T02:35:22.335448Z",
     "iopub.status.idle": "2021-02-19T02:35:22.342490Z",
     "shell.execute_reply": "2021-02-19T02:35:22.342941Z"
    },
    "papermill": {
     "duration": 0.062335,
     "end_time": "2021-02-19T02:35:22.343116",
     "exception": false,
     "start_time": "2021-02-19T02:35:22.280781",
     "status": "completed"
    },
    "tags": []
   },
   "outputs": [
    {
     "data": {
      "text/plain": [
       "'positif'"
      ]
     },
     "execution_count": 40,
     "metadata": {},
     "output_type": "execute_result"
    }
   ],
   "source": [
    "result = MNB.predict(vektor.transform([\"Harapan kita dengan vaksin ini bisa menghilangkan virus corona #DukungSehatkanBangsa Wajib Bebas Covid\"]))\n",
    "if (result == [2]) :\n",
    "  result = \"negatif\"\n",
    "elif (result == [1]) :\n",
    "  result = \"positif\"\n",
    "\n",
    "result"
   ]
  },
  {
   "cell_type": "code",
   "execution_count": 41,
   "metadata": {
    "execution": {
     "iopub.execute_input": "2021-02-19T02:35:22.451228Z",
     "iopub.status.busy": "2021-02-19T02:35:22.450245Z",
     "iopub.status.idle": "2021-02-19T02:35:22.460312Z",
     "shell.execute_reply": "2021-02-19T02:35:22.459742Z"
    },
    "papermill": {
     "duration": 0.065903,
     "end_time": "2021-02-19T02:35:22.460464",
     "exception": false,
     "start_time": "2021-02-19T02:35:22.394561",
     "status": "completed"
    },
    "tags": []
   },
   "outputs": [
    {
     "data": {
      "text/plain": [
       "'negatif'"
      ]
     },
     "execution_count": 41,
     "metadata": {},
     "output_type": "execute_result"
    }
   ],
   "source": [
    "BNB = joblib.load(\"BNB.sav\")\n",
    "result = BNB.predict(vektor.transform([\"Waduh! Berkurang Lagi, Kemanjuran Vaksin Corona Sinovac di Brasil Cuma 50 Persen\"]))\n",
    "if (result == [2]) :\n",
    "  result = \"negatif\"\n",
    "elif (result == [1]) :\n",
    "  result = \"positif\"\n",
    "\n",
    "result"
   ]
  }
 ],
 "metadata": {
  "kernelspec": {
   "display_name": "Python 3",
   "language": "python",
   "name": "python3"
  },
  "language_info": {
   "codemirror_mode": {
    "name": "ipython",
    "version": 3
   },
   "file_extension": ".py",
   "mimetype": "text/x-python",
   "name": "python",
   "nbconvert_exporter": "python",
   "pygments_lexer": "ipython3",
   "version": "3.7.9"
  },
  "papermill": {
   "default_parameters": {},
   "duration": 23.0319,
   "end_time": "2021-02-19T02:35:23.122567",
   "environment_variables": {},
   "exception": null,
   "input_path": "__notebook__.ipynb",
   "output_path": "__notebook__.ipynb",
   "parameters": {},
   "start_time": "2021-02-19T02:35:00.090667",
   "version": "2.2.2"
  }
 },
 "nbformat": 4,
 "nbformat_minor": 4
}
