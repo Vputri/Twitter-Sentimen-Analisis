{
 "cells": [
  {
   "cell_type": "code",
   "execution_count": 1,
   "metadata": {
    "execution": {
     "iopub.execute_input": "2021-02-19T19:49:14.475758Z",
     "iopub.status.busy": "2021-02-19T19:49:14.475097Z",
     "iopub.status.idle": "2021-02-19T19:49:23.060184Z",
     "shell.execute_reply": "2021-02-19T19:49:23.059212Z"
    },
    "papermill": {
     "duration": 8.620394,
     "end_time": "2021-02-19T19:49:23.060425",
     "exception": false,
     "start_time": "2021-02-19T19:49:14.440031",
     "status": "completed"
    },
    "tags": []
   },
   "outputs": [
    {
     "name": "stdout",
     "output_type": "stream",
     "text": [
      "Collecting Sastrawi\r\n",
      "  Downloading Sastrawi-1.0.1-py2.py3-none-any.whl (209 kB)\r\n",
      "\u001b[K     |████████████████████████████████| 209 kB 1.3 MB/s \r\n",
      "\u001b[?25hInstalling collected packages: Sastrawi\r\n",
      "Successfully installed Sastrawi-1.0.1\r\n"
     ]
    }
   ],
   "source": [
    "!pip install Sastrawi"
   ]
  },
  {
   "cell_type": "markdown",
   "metadata": {
    "papermill": {
     "duration": 0.035447,
     "end_time": "2021-02-19T19:49:23.134070",
     "exception": false,
     "start_time": "2021-02-19T19:49:23.098623",
     "status": "completed"
    },
    "tags": []
   },
   "source": [
    "# READ DATASET"
   ]
  },
  {
   "cell_type": "code",
   "execution_count": 2,
   "metadata": {
    "_cell_guid": "b1076dfc-b9ad-4769-8c92-a6c4dae69d19",
    "_uuid": "8f2839f25d086af736a60e9eeb907d3b93b6e0e5",
    "execution": {
     "iopub.execute_input": "2021-02-19T19:49:23.211807Z",
     "iopub.status.busy": "2021-02-19T19:49:23.211028Z",
     "iopub.status.idle": "2021-02-19T19:49:23.221408Z",
     "shell.execute_reply": "2021-02-19T19:49:23.220762Z"
    },
    "papermill": {
     "duration": 0.051693,
     "end_time": "2021-02-19T19:49:23.221563",
     "exception": false,
     "start_time": "2021-02-19T19:49:23.169870",
     "status": "completed"
    },
    "tags": []
   },
   "outputs": [
    {
     "name": "stdout",
     "output_type": "stream",
     "text": [
      "/kaggle/input/cleaning/vaksin.csv\n",
      "/kaggle/input/cleaning/kbba.csv\n"
     ]
    }
   ],
   "source": [
    "import pandas as pd\n",
    "\n",
    "import os\n",
    "for dirname, _, filenames in os.walk('/kaggle/input'):\n",
    "    for filename in filenames:\n",
    "        print(os.path.join(dirname, filename))"
   ]
  },
  {
   "cell_type": "code",
   "execution_count": 3,
   "metadata": {
    "execution": {
     "iopub.execute_input": "2021-02-19T19:49:23.297107Z",
     "iopub.status.busy": "2021-02-19T19:49:23.296414Z",
     "iopub.status.idle": "2021-02-19T19:49:23.320428Z",
     "shell.execute_reply": "2021-02-19T19:49:23.319930Z"
    },
    "papermill": {
     "duration": 0.063225,
     "end_time": "2021-02-19T19:49:23.320575",
     "exception": false,
     "start_time": "2021-02-19T19:49:23.257350",
     "status": "completed"
    },
    "tags": []
   },
   "outputs": [],
   "source": [
    "import pandas as pd\n",
    "\n",
    "df = pd.read_csv(\"/kaggle/input/cleaning/vaksin.csv\")\n",
    "kbba = pd.read_csv(\"/kaggle/input/cleaning/kbba.csv\")"
   ]
  },
  {
   "cell_type": "code",
   "execution_count": 4,
   "metadata": {
    "execution": {
     "iopub.execute_input": "2021-02-19T19:49:23.405920Z",
     "iopub.status.busy": "2021-02-19T19:49:23.405177Z",
     "iopub.status.idle": "2021-02-19T19:49:23.429391Z",
     "shell.execute_reply": "2021-02-19T19:49:23.428502Z"
    },
    "papermill": {
     "duration": 0.074286,
     "end_time": "2021-02-19T19:49:23.429535",
     "exception": false,
     "start_time": "2021-02-19T19:49:23.355249",
     "status": "completed"
    },
    "tags": []
   },
   "outputs": [
    {
     "data": {
      "text/html": [
       "<div>\n",
       "<style scoped>\n",
       "    .dataframe tbody tr th:only-of-type {\n",
       "        vertical-align: middle;\n",
       "    }\n",
       "\n",
       "    .dataframe tbody tr th {\n",
       "        vertical-align: top;\n",
       "    }\n",
       "\n",
       "    .dataframe thead th {\n",
       "        text-align: right;\n",
       "    }\n",
       "</style>\n",
       "<table border=\"1\" class=\"dataframe\">\n",
       "  <thead>\n",
       "    <tr style=\"text-align: right;\">\n",
       "      <th></th>\n",
       "      <th>id</th>\n",
       "      <th>date</th>\n",
       "      <th>username</th>\n",
       "      <th>tweet</th>\n",
       "      <th>Kategori</th>\n",
       "    </tr>\n",
       "  </thead>\n",
       "  <tbody>\n",
       "    <tr>\n",
       "      <th>0</th>\n",
       "      <td>1.351675e+18</td>\n",
       "      <td>2021-01-20</td>\n",
       "      <td>gunung_bandung</td>\n",
       "      <td>Mudah2an kita yg merasa beragama, apalagi org ...</td>\n",
       "      <td>1</td>\n",
       "    </tr>\n",
       "    <tr>\n",
       "      <th>1</th>\n",
       "      <td>1.351673e+18</td>\n",
       "      <td>2021-01-20</td>\n",
       "      <td>gunung_bandung</td>\n",
       "      <td>Kalo ada ancaman, misal mati, yah harus ada up...</td>\n",
       "      <td>1</td>\n",
       "    </tr>\n",
       "    <tr>\n",
       "      <th>2</th>\n",
       "      <td>1.351670e+18</td>\n",
       "      <td>2021-01-20</td>\n",
       "      <td>dubie_tina</td>\n",
       "      <td>PERHATIAN KHUSUS INI AYO DISIPLIN PROKES LEBIH...</td>\n",
       "      <td>1</td>\n",
       "    </tr>\n",
       "    <tr>\n",
       "      <th>3</th>\n",
       "      <td>1.351655e+18</td>\n",
       "      <td>2021-01-20</td>\n",
       "      <td>windjalil</td>\n",
       "      <td>Pada dasarnya hanya NAFSU akan kekuasaan dan m...</td>\n",
       "      <td>2</td>\n",
       "    </tr>\n",
       "    <tr>\n",
       "      <th>4</th>\n",
       "      <td>1.351652e+18</td>\n",
       "      <td>2021-01-20</td>\n",
       "      <td>breakkucing</td>\n",
       "      <td>Vaksin konspirasi Flat earthers Pandemi konspi...</td>\n",
       "      <td>2</td>\n",
       "    </tr>\n",
       "    <tr>\n",
       "      <th>...</th>\n",
       "      <td>...</td>\n",
       "      <td>...</td>\n",
       "      <td>...</td>\n",
       "      <td>...</td>\n",
       "      <td>...</td>\n",
       "    </tr>\n",
       "    <tr>\n",
       "      <th>367</th>\n",
       "      <td>1.350000e+18</td>\n",
       "      <td>2021-01-26</td>\n",
       "      <td>lilapama2011</td>\n",
       "      <td>meski ada efek samping setelah vaksinasi. Seca...</td>\n",
       "      <td>1</td>\n",
       "    </tr>\n",
       "    <tr>\n",
       "      <th>368</th>\n",
       "      <td>1.350000e+18</td>\n",
       "      <td>2021-01-26</td>\n",
       "      <td>kianinara1</td>\n",
       "      <td>Cintai bumimu Lindungi dari virus corona Taati...</td>\n",
       "      <td>1</td>\n",
       "    </tr>\n",
       "    <tr>\n",
       "      <th>369</th>\n",
       "      <td>1.350000e+18</td>\n",
       "      <td>2021-01-26</td>\n",
       "      <td>boy99under</td>\n",
       "      <td>https://t.co/3Hh8rGpcaH  Saat nya kita bersatu...</td>\n",
       "      <td>1</td>\n",
       "    </tr>\n",
       "    <tr>\n",
       "      <th>370</th>\n",
       "      <td>1.350410e+18</td>\n",
       "      <td>2021-01-16</td>\n",
       "      <td>thalibhelmy</td>\n",
       "      <td>@cursedkidd \"Vaksin corona terbuat dari peju k...</td>\n",
       "      <td>2</td>\n",
       "    </tr>\n",
       "    <tr>\n",
       "      <th>371</th>\n",
       "      <td>1.351358e+18</td>\n",
       "      <td>2021-01-19</td>\n",
       "      <td>rigel_antarest</td>\n",
       "      <td>@daungoyang Vcs = vaksin corona sue?</td>\n",
       "      <td>2</td>\n",
       "    </tr>\n",
       "  </tbody>\n",
       "</table>\n",
       "<p>372 rows × 5 columns</p>\n",
       "</div>"
      ],
      "text/plain": [
       "               id        date        username  \\\n",
       "0    1.351675e+18  2021-01-20  gunung_bandung   \n",
       "1    1.351673e+18  2021-01-20  gunung_bandung   \n",
       "2    1.351670e+18  2021-01-20      dubie_tina   \n",
       "3    1.351655e+18  2021-01-20       windjalil   \n",
       "4    1.351652e+18  2021-01-20     breakkucing   \n",
       "..            ...         ...             ...   \n",
       "367  1.350000e+18  2021-01-26    lilapama2011   \n",
       "368  1.350000e+18  2021-01-26      kianinara1   \n",
       "369  1.350000e+18  2021-01-26      boy99under   \n",
       "370  1.350410e+18  2021-01-16     thalibhelmy   \n",
       "371  1.351358e+18  2021-01-19  rigel_antarest   \n",
       "\n",
       "                                                 tweet  Kategori  \n",
       "0    Mudah2an kita yg merasa beragama, apalagi org ...         1  \n",
       "1    Kalo ada ancaman, misal mati, yah harus ada up...         1  \n",
       "2    PERHATIAN KHUSUS INI AYO DISIPLIN PROKES LEBIH...         1  \n",
       "3    Pada dasarnya hanya NAFSU akan kekuasaan dan m...         2  \n",
       "4    Vaksin konspirasi Flat earthers Pandemi konspi...         2  \n",
       "..                                                 ...       ...  \n",
       "367  meski ada efek samping setelah vaksinasi. Seca...         1  \n",
       "368  Cintai bumimu Lindungi dari virus corona Taati...         1  \n",
       "369  https://t.co/3Hh8rGpcaH  Saat nya kita bersatu...         1  \n",
       "370  @cursedkidd \"Vaksin corona terbuat dari peju k...         2  \n",
       "371               @daungoyang Vcs = vaksin corona sue?         2  \n",
       "\n",
       "[372 rows x 5 columns]"
      ]
     },
     "execution_count": 4,
     "metadata": {},
     "output_type": "execute_result"
    }
   ],
   "source": [
    "df"
   ]
  },
  {
   "cell_type": "code",
   "execution_count": 5,
   "metadata": {
    "execution": {
     "iopub.execute_input": "2021-02-19T19:49:23.507823Z",
     "iopub.status.busy": "2021-02-19T19:49:23.507211Z",
     "iopub.status.idle": "2021-02-19T19:49:23.514359Z",
     "shell.execute_reply": "2021-02-19T19:49:23.513707Z"
    },
    "papermill": {
     "duration": 0.050738,
     "end_time": "2021-02-19T19:49:23.514500",
     "exception": false,
     "start_time": "2021-02-19T19:49:23.463762",
     "status": "completed"
    },
    "tags": []
   },
   "outputs": [
    {
     "data": {
      "text/html": [
       "<div>\n",
       "<style scoped>\n",
       "    .dataframe tbody tr th:only-of-type {\n",
       "        vertical-align: middle;\n",
       "    }\n",
       "\n",
       "    .dataframe tbody tr th {\n",
       "        vertical-align: top;\n",
       "    }\n",
       "\n",
       "    .dataframe thead th {\n",
       "        text-align: right;\n",
       "    }\n",
       "</style>\n",
       "<table border=\"1\" class=\"dataframe\">\n",
       "  <thead>\n",
       "    <tr style=\"text-align: right;\">\n",
       "      <th></th>\n",
       "      <th>tweet</th>\n",
       "      <th>Kategori</th>\n",
       "    </tr>\n",
       "  </thead>\n",
       "  <tbody>\n",
       "    <tr>\n",
       "      <th>0</th>\n",
       "      <td>Mudah2an kita yg merasa beragama, apalagi org ...</td>\n",
       "      <td>1</td>\n",
       "    </tr>\n",
       "    <tr>\n",
       "      <th>1</th>\n",
       "      <td>Kalo ada ancaman, misal mati, yah harus ada up...</td>\n",
       "      <td>1</td>\n",
       "    </tr>\n",
       "    <tr>\n",
       "      <th>2</th>\n",
       "      <td>PERHATIAN KHUSUS INI AYO DISIPLIN PROKES LEBIH...</td>\n",
       "      <td>1</td>\n",
       "    </tr>\n",
       "    <tr>\n",
       "      <th>3</th>\n",
       "      <td>Pada dasarnya hanya NAFSU akan kekuasaan dan m...</td>\n",
       "      <td>2</td>\n",
       "    </tr>\n",
       "    <tr>\n",
       "      <th>4</th>\n",
       "      <td>Vaksin konspirasi Flat earthers Pandemi konspi...</td>\n",
       "      <td>2</td>\n",
       "    </tr>\n",
       "    <tr>\n",
       "      <th>...</th>\n",
       "      <td>...</td>\n",
       "      <td>...</td>\n",
       "    </tr>\n",
       "    <tr>\n",
       "      <th>367</th>\n",
       "      <td>meski ada efek samping setelah vaksinasi. Seca...</td>\n",
       "      <td>1</td>\n",
       "    </tr>\n",
       "    <tr>\n",
       "      <th>368</th>\n",
       "      <td>Cintai bumimu Lindungi dari virus corona Taati...</td>\n",
       "      <td>1</td>\n",
       "    </tr>\n",
       "    <tr>\n",
       "      <th>369</th>\n",
       "      <td>https://t.co/3Hh8rGpcaH  Saat nya kita bersatu...</td>\n",
       "      <td>1</td>\n",
       "    </tr>\n",
       "    <tr>\n",
       "      <th>370</th>\n",
       "      <td>@cursedkidd \"Vaksin corona terbuat dari peju k...</td>\n",
       "      <td>2</td>\n",
       "    </tr>\n",
       "    <tr>\n",
       "      <th>371</th>\n",
       "      <td>@daungoyang Vcs = vaksin corona sue?</td>\n",
       "      <td>2</td>\n",
       "    </tr>\n",
       "  </tbody>\n",
       "</table>\n",
       "<p>372 rows × 2 columns</p>\n",
       "</div>"
      ],
      "text/plain": [
       "                                                 tweet  Kategori\n",
       "0    Mudah2an kita yg merasa beragama, apalagi org ...         1\n",
       "1    Kalo ada ancaman, misal mati, yah harus ada up...         1\n",
       "2    PERHATIAN KHUSUS INI AYO DISIPLIN PROKES LEBIH...         1\n",
       "3    Pada dasarnya hanya NAFSU akan kekuasaan dan m...         2\n",
       "4    Vaksin konspirasi Flat earthers Pandemi konspi...         2\n",
       "..                                                 ...       ...\n",
       "367  meski ada efek samping setelah vaksinasi. Seca...         1\n",
       "368  Cintai bumimu Lindungi dari virus corona Taati...         1\n",
       "369  https://t.co/3Hh8rGpcaH  Saat nya kita bersatu...         1\n",
       "370  @cursedkidd \"Vaksin corona terbuat dari peju k...         2\n",
       "371               @daungoyang Vcs = vaksin corona sue?         2\n",
       "\n",
       "[372 rows x 2 columns]"
      ]
     },
     "execution_count": 5,
     "metadata": {},
     "output_type": "execute_result"
    }
   ],
   "source": [
    "df1 = df.copy()\n",
    "del df1['id'], df1['date'], df1['username']\n",
    "df1"
   ]
  },
  {
   "cell_type": "code",
   "execution_count": 6,
   "metadata": {
    "execution": {
     "iopub.execute_input": "2021-02-19T19:49:23.594891Z",
     "iopub.status.busy": "2021-02-19T19:49:23.593867Z",
     "iopub.status.idle": "2021-02-19T19:49:23.597881Z",
     "shell.execute_reply": "2021-02-19T19:49:23.597246Z"
    },
    "papermill": {
     "duration": 0.047937,
     "end_time": "2021-02-19T19:49:23.598030",
     "exception": false,
     "start_time": "2021-02-19T19:49:23.550093",
     "status": "completed"
    },
    "tags": []
   },
   "outputs": [
    {
     "data": {
      "text/plain": [
       "1    191\n",
       "2    181\n",
       "Name: Kategori, dtype: int64"
      ]
     },
     "execution_count": 6,
     "metadata": {},
     "output_type": "execute_result"
    }
   ],
   "source": [
    "df1['Kategori'].value_counts()"
   ]
  },
  {
   "cell_type": "markdown",
   "metadata": {
    "papermill": {
     "duration": 0.034383,
     "end_time": "2021-02-19T19:49:23.667592",
     "exception": false,
     "start_time": "2021-02-19T19:49:23.633209",
     "status": "completed"
    },
    "tags": []
   },
   "source": [
    "# PREPROCESSING"
   ]
  },
  {
   "cell_type": "markdown",
   "metadata": {
    "papermill": {
     "duration": 0.035951,
     "end_time": "2021-02-19T19:49:23.738332",
     "exception": false,
     "start_time": "2021-02-19T19:49:23.702381",
     "status": "completed"
    },
    "tags": []
   },
   "source": [
    "# 1. CASE FOLDING"
   ]
  },
  {
   "cell_type": "code",
   "execution_count": 7,
   "metadata": {
    "execution": {
     "iopub.execute_input": "2021-02-19T19:49:23.826923Z",
     "iopub.status.busy": "2021-02-19T19:49:23.825983Z",
     "iopub.status.idle": "2021-02-19T19:49:23.830980Z",
     "shell.execute_reply": "2021-02-19T19:49:23.830455Z"
    },
    "papermill": {
     "duration": 0.056673,
     "end_time": "2021-02-19T19:49:23.831133",
     "exception": false,
     "start_time": "2021-02-19T19:49:23.774460",
     "status": "completed"
    },
    "tags": []
   },
   "outputs": [
    {
     "data": {
      "text/html": [
       "<div>\n",
       "<style scoped>\n",
       "    .dataframe tbody tr th:only-of-type {\n",
       "        vertical-align: middle;\n",
       "    }\n",
       "\n",
       "    .dataframe tbody tr th {\n",
       "        vertical-align: top;\n",
       "    }\n",
       "\n",
       "    .dataframe thead th {\n",
       "        text-align: right;\n",
       "    }\n",
       "</style>\n",
       "<table border=\"1\" class=\"dataframe\">\n",
       "  <thead>\n",
       "    <tr style=\"text-align: right;\">\n",
       "      <th></th>\n",
       "      <th>tweet</th>\n",
       "      <th>Kategori</th>\n",
       "      <th>cleaned_tweets</th>\n",
       "    </tr>\n",
       "  </thead>\n",
       "  <tbody>\n",
       "    <tr>\n",
       "      <th>0</th>\n",
       "      <td>Mudah2an kita yg merasa beragama, apalagi org ...</td>\n",
       "      <td>1</td>\n",
       "      <td>mudah2an kita yg merasa beragama, apalagi org ...</td>\n",
       "    </tr>\n",
       "    <tr>\n",
       "      <th>1</th>\n",
       "      <td>Kalo ada ancaman, misal mati, yah harus ada up...</td>\n",
       "      <td>1</td>\n",
       "      <td>kalo ada ancaman, misal mati, yah harus ada up...</td>\n",
       "    </tr>\n",
       "    <tr>\n",
       "      <th>2</th>\n",
       "      <td>PERHATIAN KHUSUS INI AYO DISIPLIN PROKES LEBIH...</td>\n",
       "      <td>1</td>\n",
       "      <td>perhatian khusus ini ayo disiplin prokes lebih...</td>\n",
       "    </tr>\n",
       "    <tr>\n",
       "      <th>3</th>\n",
       "      <td>Pada dasarnya hanya NAFSU akan kekuasaan dan m...</td>\n",
       "      <td>2</td>\n",
       "      <td>pada dasarnya hanya nafsu akan kekuasaan dan m...</td>\n",
       "    </tr>\n",
       "    <tr>\n",
       "      <th>4</th>\n",
       "      <td>Vaksin konspirasi Flat earthers Pandemi konspi...</td>\n",
       "      <td>2</td>\n",
       "      <td>vaksin konspirasi flat earthers pandemi konspi...</td>\n",
       "    </tr>\n",
       "    <tr>\n",
       "      <th>...</th>\n",
       "      <td>...</td>\n",
       "      <td>...</td>\n",
       "      <td>...</td>\n",
       "    </tr>\n",
       "    <tr>\n",
       "      <th>367</th>\n",
       "      <td>meski ada efek samping setelah vaksinasi. Seca...</td>\n",
       "      <td>1</td>\n",
       "      <td>meski ada efek samping setelah vaksinasi. seca...</td>\n",
       "    </tr>\n",
       "    <tr>\n",
       "      <th>368</th>\n",
       "      <td>Cintai bumimu Lindungi dari virus corona Taati...</td>\n",
       "      <td>1</td>\n",
       "      <td>cintai bumimu lindungi dari virus corona taati...</td>\n",
       "    </tr>\n",
       "    <tr>\n",
       "      <th>369</th>\n",
       "      <td>https://t.co/3Hh8rGpcaH  Saat nya kita bersatu...</td>\n",
       "      <td>1</td>\n",
       "      <td>https://t.co/3hh8rgpcah  saat nya kita bersatu...</td>\n",
       "    </tr>\n",
       "    <tr>\n",
       "      <th>370</th>\n",
       "      <td>@cursedkidd \"Vaksin corona terbuat dari peju k...</td>\n",
       "      <td>2</td>\n",
       "      <td>@cursedkidd \"vaksin corona terbuat dari peju k...</td>\n",
       "    </tr>\n",
       "    <tr>\n",
       "      <th>371</th>\n",
       "      <td>@daungoyang Vcs = vaksin corona sue?</td>\n",
       "      <td>2</td>\n",
       "      <td>@daungoyang vcs = vaksin corona sue?</td>\n",
       "    </tr>\n",
       "  </tbody>\n",
       "</table>\n",
       "<p>372 rows × 3 columns</p>\n",
       "</div>"
      ],
      "text/plain": [
       "                                                 tweet  Kategori  \\\n",
       "0    Mudah2an kita yg merasa beragama, apalagi org ...         1   \n",
       "1    Kalo ada ancaman, misal mati, yah harus ada up...         1   \n",
       "2    PERHATIAN KHUSUS INI AYO DISIPLIN PROKES LEBIH...         1   \n",
       "3    Pada dasarnya hanya NAFSU akan kekuasaan dan m...         2   \n",
       "4    Vaksin konspirasi Flat earthers Pandemi konspi...         2   \n",
       "..                                                 ...       ...   \n",
       "367  meski ada efek samping setelah vaksinasi. Seca...         1   \n",
       "368  Cintai bumimu Lindungi dari virus corona Taati...         1   \n",
       "369  https://t.co/3Hh8rGpcaH  Saat nya kita bersatu...         1   \n",
       "370  @cursedkidd \"Vaksin corona terbuat dari peju k...         2   \n",
       "371               @daungoyang Vcs = vaksin corona sue?         2   \n",
       "\n",
       "                                        cleaned_tweets  \n",
       "0    mudah2an kita yg merasa beragama, apalagi org ...  \n",
       "1    kalo ada ancaman, misal mati, yah harus ada up...  \n",
       "2    perhatian khusus ini ayo disiplin prokes lebih...  \n",
       "3    pada dasarnya hanya nafsu akan kekuasaan dan m...  \n",
       "4    vaksin konspirasi flat earthers pandemi konspi...  \n",
       "..                                                 ...  \n",
       "367  meski ada efek samping setelah vaksinasi. seca...  \n",
       "368  cintai bumimu lindungi dari virus corona taati...  \n",
       "369  https://t.co/3hh8rgpcah  saat nya kita bersatu...  \n",
       "370  @cursedkidd \"vaksin corona terbuat dari peju k...  \n",
       "371               @daungoyang vcs = vaksin corona sue?  \n",
       "\n",
       "[372 rows x 3 columns]"
      ]
     },
     "execution_count": 7,
     "metadata": {},
     "output_type": "execute_result"
    }
   ],
   "source": [
    "df1['cleaned_tweets'] = df1['tweet'].apply(lambda x: x.lower())\n",
    "df1"
   ]
  },
  {
   "cell_type": "markdown",
   "metadata": {
    "papermill": {
     "duration": 0.036676,
     "end_time": "2021-02-19T19:49:23.903885",
     "exception": false,
     "start_time": "2021-02-19T19:49:23.867209",
     "status": "completed"
    },
    "tags": []
   },
   "source": [
    "# 3. NORMALISASI"
   ]
  },
  {
   "cell_type": "code",
   "execution_count": 8,
   "metadata": {
    "execution": {
     "iopub.execute_input": "2021-02-19T19:49:23.984834Z",
     "iopub.status.busy": "2021-02-19T19:49:23.984189Z",
     "iopub.status.idle": "2021-02-19T19:49:23.987269Z",
     "shell.execute_reply": "2021-02-19T19:49:23.986674Z"
    },
    "papermill": {
     "duration": 0.046273,
     "end_time": "2021-02-19T19:49:23.987421",
     "exception": false,
     "start_time": "2021-02-19T19:49:23.941148",
     "status": "completed"
    },
    "tags": []
   },
   "outputs": [],
   "source": [
    "import re\n",
    "\n",
    "def normalisasi(text):\n",
    "  text = re.sub(r\"http\\S+\", \" \", text)\n",
    "  text = re.sub(r\"@\\w+\", \" \", text)\n",
    "  text = re.sub(r\"#\\w+\", \" \", text)\n",
    "  text = re.sub(r'\\W', \" \", text)\n",
    "  text = re.sub(r\"\\d+\", \"\", text)\n",
    "  text = re.sub(r'_', ' ',text)\n",
    "  text = re.sub(r' +', ' ', text)\n",
    "  text = re.sub(r\"^\\s+\", '', text)\n",
    "  #text = text.lstrip()\n",
    "  return text"
   ]
  },
  {
   "cell_type": "code",
   "execution_count": 9,
   "metadata": {
    "execution": {
     "iopub.execute_input": "2021-02-19T19:49:24.080541Z",
     "iopub.status.busy": "2021-02-19T19:49:24.075093Z",
     "iopub.status.idle": "2021-02-19T19:49:24.083573Z",
     "shell.execute_reply": "2021-02-19T19:49:24.082962Z"
    },
    "papermill": {
     "duration": 0.060517,
     "end_time": "2021-02-19T19:49:24.083730",
     "exception": false,
     "start_time": "2021-02-19T19:49:24.023213",
     "status": "completed"
    },
    "tags": []
   },
   "outputs": [],
   "source": [
    "df1['cleaned_tweets'] = df1['cleaned_tweets'].apply(lambda x: normalisasi(x))"
   ]
  },
  {
   "cell_type": "markdown",
   "metadata": {
    "papermill": {
     "duration": 0.036912,
     "end_time": "2021-02-19T19:49:24.157426",
     "exception": false,
     "start_time": "2021-02-19T19:49:24.120514",
     "status": "completed"
    },
    "tags": []
   },
   "source": [
    "# 4. BAKU"
   ]
  },
  {
   "cell_type": "code",
   "execution_count": 10,
   "metadata": {
    "execution": {
     "iopub.execute_input": "2021-02-19T19:49:24.235469Z",
     "iopub.status.busy": "2021-02-19T19:49:24.234490Z",
     "iopub.status.idle": "2021-02-19T19:49:24.269221Z",
     "shell.execute_reply": "2021-02-19T19:49:24.268636Z"
    },
    "papermill": {
     "duration": 0.075855,
     "end_time": "2021-02-19T19:49:24.269425",
     "exception": false,
     "start_time": "2021-02-19T19:49:24.193570",
     "status": "completed"
    },
    "tags": []
   },
   "outputs": [],
   "source": [
    "dict = {row[0] : row[1] for _, row in pd.read_csv(\"/kaggle/input/cleaning/kbba.csv\").iterrows()}"
   ]
  },
  {
   "cell_type": "code",
   "execution_count": 11,
   "metadata": {
    "execution": {
     "iopub.execute_input": "2021-02-19T19:49:24.347405Z",
     "iopub.status.busy": "2021-02-19T19:49:24.346744Z",
     "iopub.status.idle": "2021-02-19T19:49:24.349303Z",
     "shell.execute_reply": "2021-02-19T19:49:24.349822Z"
    },
    "papermill": {
     "duration": 0.044183,
     "end_time": "2021-02-19T19:49:24.349965",
     "exception": false,
     "start_time": "2021-02-19T19:49:24.305782",
     "status": "completed"
    },
    "tags": []
   },
   "outputs": [],
   "source": [
    "def kbbi(text): \n",
    "    token = text.split()\n",
    "    final_string = ' '.join(str(dict.get(word, word)) for word in token)\n",
    "    return final_string"
   ]
  },
  {
   "cell_type": "code",
   "execution_count": 12,
   "metadata": {
    "execution": {
     "iopub.execute_input": "2021-02-19T19:49:24.431690Z",
     "iopub.status.busy": "2021-02-19T19:49:24.431051Z",
     "iopub.status.idle": "2021-02-19T19:49:24.433990Z",
     "shell.execute_reply": "2021-02-19T19:49:24.433502Z"
    },
    "papermill": {
     "duration": 0.048111,
     "end_time": "2021-02-19T19:49:24.434167",
     "exception": false,
     "start_time": "2021-02-19T19:49:24.386056",
     "status": "completed"
    },
    "tags": []
   },
   "outputs": [],
   "source": [
    "df1['cleaned_tweets'] = df1['cleaned_tweets'].apply(lambda x: kbbi(x))"
   ]
  },
  {
   "cell_type": "markdown",
   "metadata": {
    "papermill": {
     "duration": 0.036621,
     "end_time": "2021-02-19T19:49:24.507673",
     "exception": false,
     "start_time": "2021-02-19T19:49:24.471052",
     "status": "completed"
    },
    "tags": []
   },
   "source": [
    "# 5. STOPWORDS"
   ]
  },
  {
   "cell_type": "code",
   "execution_count": 13,
   "metadata": {
    "execution": {
     "iopub.execute_input": "2021-02-19T19:49:24.587933Z",
     "iopub.status.busy": "2021-02-19T19:49:24.587258Z",
     "iopub.status.idle": "2021-02-19T19:49:26.214250Z",
     "shell.execute_reply": "2021-02-19T19:49:26.213473Z"
    },
    "papermill": {
     "duration": 1.668978,
     "end_time": "2021-02-19T19:49:26.214458",
     "exception": false,
     "start_time": "2021-02-19T19:49:24.545480",
     "status": "completed"
    },
    "tags": []
   },
   "outputs": [
    {
     "name": "stdout",
     "output_type": "stream",
     "text": [
      "[nltk_data] Downloading package stopwords to /usr/share/nltk_data...\n",
      "[nltk_data]   Package stopwords is already up-to-date!\n"
     ]
    }
   ],
   "source": [
    "import nltk\n",
    "nltk.download('stopwords')\n",
    "from nltk.corpus import stopwords  \n",
    "\n",
    "def remove_stop_words(text):\n",
    "    text = text.split()\n",
    "    listStopword =  set(stopwords.words('indonesian'))\n",
    "    text = [w for w in text if not w in listStopword]\n",
    "    text = \" \".join(text)\n",
    "    return text"
   ]
  },
  {
   "cell_type": "code",
   "execution_count": 14,
   "metadata": {
    "execution": {
     "iopub.execute_input": "2021-02-19T19:49:26.300629Z",
     "iopub.status.busy": "2021-02-19T19:49:26.299992Z",
     "iopub.status.idle": "2021-02-19T19:49:26.460641Z",
     "shell.execute_reply": "2021-02-19T19:49:26.460118Z"
    },
    "papermill": {
     "duration": 0.207436,
     "end_time": "2021-02-19T19:49:26.460768",
     "exception": false,
     "start_time": "2021-02-19T19:49:26.253332",
     "status": "completed"
    },
    "tags": []
   },
   "outputs": [
    {
     "data": {
      "text/html": [
       "<div>\n",
       "<style scoped>\n",
       "    .dataframe tbody tr th:only-of-type {\n",
       "        vertical-align: middle;\n",
       "    }\n",
       "\n",
       "    .dataframe tbody tr th {\n",
       "        vertical-align: top;\n",
       "    }\n",
       "\n",
       "    .dataframe thead th {\n",
       "        text-align: right;\n",
       "    }\n",
       "</style>\n",
       "<table border=\"1\" class=\"dataframe\">\n",
       "  <thead>\n",
       "    <tr style=\"text-align: right;\">\n",
       "      <th></th>\n",
       "      <th>tweet</th>\n",
       "      <th>Kategori</th>\n",
       "      <th>cleaned_tweets</th>\n",
       "    </tr>\n",
       "  </thead>\n",
       "  <tbody>\n",
       "    <tr>\n",
       "      <th>0</th>\n",
       "      <td>Mudah2an kita yg merasa beragama, apalagi org ...</td>\n",
       "      <td>1</td>\n",
       "      <td>mudahan beragama orang islam mendukung upaya p...</td>\n",
       "    </tr>\n",
       "    <tr>\n",
       "      <th>1</th>\n",
       "      <td>Kalo ada ancaman, misal mati, yah harus ada up...</td>\n",
       "      <td>1</td>\n",
       "      <td>ancaman mati ya upaya mencegahnya contoh virus...</td>\n",
       "    </tr>\n",
       "    <tr>\n",
       "      <th>2</th>\n",
       "      <td>PERHATIAN KHUSUS INI AYO DISIPLIN PROKES LEBIH...</td>\n",
       "      <td>1</td>\n",
       "      <td>perhatian khusus ayo disiplin prokes vaksin se...</td>\n",
       "    </tr>\n",
       "    <tr>\n",
       "      <th>3</th>\n",
       "      <td>Pada dasarnya hanya NAFSU akan kekuasaan dan m...</td>\n",
       "      <td>2</td>\n",
       "      <td>dasarnya nafsu kekuasaan menguasai dunia menja...</td>\n",
       "    </tr>\n",
       "    <tr>\n",
       "      <th>4</th>\n",
       "      <td>Vaksin konspirasi Flat earthers Pandemi konspi...</td>\n",
       "      <td>2</td>\n",
       "      <td>vaksin konspirasi flat earthers pandemi konspi...</td>\n",
       "    </tr>\n",
       "    <tr>\n",
       "      <th>...</th>\n",
       "      <td>...</td>\n",
       "      <td>...</td>\n",
       "      <td>...</td>\n",
       "    </tr>\n",
       "    <tr>\n",
       "      <th>367</th>\n",
       "      <td>meski ada efek samping setelah vaksinasi. Seca...</td>\n",
       "      <td>1</td>\n",
       "      <td>efek samping vaksinasi vaksin corona aman keja...</td>\n",
       "    </tr>\n",
       "    <tr>\n",
       "      <th>368</th>\n",
       "      <td>Cintai bumimu Lindungi dari virus corona Taati...</td>\n",
       "      <td>1</td>\n",
       "      <td>cintai bumimu lindungi virus corona taati pera...</td>\n",
       "    </tr>\n",
       "    <tr>\n",
       "      <th>369</th>\n",
       "      <td>https://t.co/3Hh8rGpcaH  Saat nya kita bersatu...</td>\n",
       "      <td>1</td>\n",
       "      <td>nya bersatu padu perang melawan corona menteri...</td>\n",
       "    </tr>\n",
       "    <tr>\n",
       "      <th>370</th>\n",
       "      <td>@cursedkidd \"Vaksin corona terbuat dari peju k...</td>\n",
       "      <td>2</td>\n",
       "      <td>vaksin corona terbuat sperma ku loh</td>\n",
       "    </tr>\n",
       "    <tr>\n",
       "      <th>371</th>\n",
       "      <td>@daungoyang Vcs = vaksin corona sue?</td>\n",
       "      <td>2</td>\n",
       "      <td>vcs vaksin corona sue</td>\n",
       "    </tr>\n",
       "  </tbody>\n",
       "</table>\n",
       "<p>372 rows × 3 columns</p>\n",
       "</div>"
      ],
      "text/plain": [
       "                                                 tweet  Kategori  \\\n",
       "0    Mudah2an kita yg merasa beragama, apalagi org ...         1   \n",
       "1    Kalo ada ancaman, misal mati, yah harus ada up...         1   \n",
       "2    PERHATIAN KHUSUS INI AYO DISIPLIN PROKES LEBIH...         1   \n",
       "3    Pada dasarnya hanya NAFSU akan kekuasaan dan m...         2   \n",
       "4    Vaksin konspirasi Flat earthers Pandemi konspi...         2   \n",
       "..                                                 ...       ...   \n",
       "367  meski ada efek samping setelah vaksinasi. Seca...         1   \n",
       "368  Cintai bumimu Lindungi dari virus corona Taati...         1   \n",
       "369  https://t.co/3Hh8rGpcaH  Saat nya kita bersatu...         1   \n",
       "370  @cursedkidd \"Vaksin corona terbuat dari peju k...         2   \n",
       "371               @daungoyang Vcs = vaksin corona sue?         2   \n",
       "\n",
       "                                        cleaned_tweets  \n",
       "0    mudahan beragama orang islam mendukung upaya p...  \n",
       "1    ancaman mati ya upaya mencegahnya contoh virus...  \n",
       "2    perhatian khusus ayo disiplin prokes vaksin se...  \n",
       "3    dasarnya nafsu kekuasaan menguasai dunia menja...  \n",
       "4    vaksin konspirasi flat earthers pandemi konspi...  \n",
       "..                                                 ...  \n",
       "367  efek samping vaksinasi vaksin corona aman keja...  \n",
       "368  cintai bumimu lindungi virus corona taati pera...  \n",
       "369  nya bersatu padu perang melawan corona menteri...  \n",
       "370                vaksin corona terbuat sperma ku loh  \n",
       "371                              vcs vaksin corona sue  \n",
       "\n",
       "[372 rows x 3 columns]"
      ]
     },
     "execution_count": 14,
     "metadata": {},
     "output_type": "execute_result"
    }
   ],
   "source": [
    "df1['cleaned_tweets'] = df1['cleaned_tweets'].apply(lambda x: remove_stop_words(x))\n",
    "df1"
   ]
  },
  {
   "cell_type": "code",
   "execution_count": 15,
   "metadata": {
    "execution": {
     "iopub.execute_input": "2021-02-19T19:49:26.542562Z",
     "iopub.status.busy": "2021-02-19T19:49:26.541701Z",
     "iopub.status.idle": "2021-02-19T19:49:26.544767Z",
     "shell.execute_reply": "2021-02-19T19:49:26.544259Z"
    },
    "papermill": {
     "duration": 0.046998,
     "end_time": "2021-02-19T19:49:26.544903",
     "exception": false,
     "start_time": "2021-02-19T19:49:26.497905",
     "status": "completed"
    },
    "tags": []
   },
   "outputs": [],
   "source": [
    "def noise(text): \n",
    "    text = text.split()\n",
    "    listStopword =  ['amp', 'tong', 'fry', 'vcs', 'bahh', 'a', 'wkwkwk', 'c', 'yeey', 'oi', 'pret', 'iya', 'nya', 'sih', 'mbok', 'ku', 'loh', 'lho', 'ah', 'nihh', 'ya', 'hah', 'joss', 'deh''rmp', 'v', 'via', 'lha', 'mah', 'xixi']\n",
    "    text = [w for w in text if not w in listStopword]\n",
    "    text = \" \".join(text)\n",
    "    return text"
   ]
  },
  {
   "cell_type": "code",
   "execution_count": 16,
   "metadata": {
    "execution": {
     "iopub.execute_input": "2021-02-19T19:49:26.629007Z",
     "iopub.status.busy": "2021-02-19T19:49:26.628390Z",
     "iopub.status.idle": "2021-02-19T19:49:26.630732Z",
     "shell.execute_reply": "2021-02-19T19:49:26.631200Z"
    },
    "papermill": {
     "duration": 0.048732,
     "end_time": "2021-02-19T19:49:26.631376",
     "exception": false,
     "start_time": "2021-02-19T19:49:26.582644",
     "status": "completed"
    },
    "tags": []
   },
   "outputs": [],
   "source": [
    "df1['cleaned_tweets'] = df1['cleaned_tweets'].apply(lambda x: noise(x))"
   ]
  },
  {
   "cell_type": "markdown",
   "metadata": {
    "papermill": {
     "duration": 0.038939,
     "end_time": "2021-02-19T19:49:26.708621",
     "exception": false,
     "start_time": "2021-02-19T19:49:26.669682",
     "status": "completed"
    },
    "tags": []
   },
   "source": [
    "# 6. STEAMING"
   ]
  },
  {
   "cell_type": "code",
   "execution_count": 17,
   "metadata": {
    "execution": {
     "iopub.execute_input": "2021-02-19T19:49:26.787218Z",
     "iopub.status.busy": "2021-02-19T19:49:26.786505Z",
     "iopub.status.idle": "2021-02-19T19:49:26.802605Z",
     "shell.execute_reply": "2021-02-19T19:49:26.803197Z"
    },
    "papermill": {
     "duration": 0.056634,
     "end_time": "2021-02-19T19:49:26.803380",
     "exception": false,
     "start_time": "2021-02-19T19:49:26.746746",
     "status": "completed"
    },
    "tags": []
   },
   "outputs": [],
   "source": [
    "from Sastrawi.Stemmer.StemmerFactory import StemmerFactory\n",
    "\n",
    "def steamming(text):\n",
    "    factory = StemmerFactory()\n",
    "    stemmer = factory.create_stemmer()\n",
    "    split = text.split()\n",
    "    hasil = [stemmer.stem(token) for token in split]\n",
    "    hasil = \" \".join(hasil)\n",
    "    return hasil"
   ]
  },
  {
   "cell_type": "code",
   "execution_count": 18,
   "metadata": {
    "execution": {
     "iopub.execute_input": "2021-02-19T19:49:26.883138Z",
     "iopub.status.busy": "2021-02-19T19:49:26.882543Z",
     "iopub.status.idle": "2021-02-19T19:51:39.706652Z",
     "shell.execute_reply": "2021-02-19T19:51:39.707154Z"
    },
    "papermill": {
     "duration": 132.865432,
     "end_time": "2021-02-19T19:51:39.707354",
     "exception": false,
     "start_time": "2021-02-19T19:49:26.841922",
     "status": "completed"
    },
    "tags": []
   },
   "outputs": [
    {
     "data": {
      "text/html": [
       "<div>\n",
       "<style scoped>\n",
       "    .dataframe tbody tr th:only-of-type {\n",
       "        vertical-align: middle;\n",
       "    }\n",
       "\n",
       "    .dataframe tbody tr th {\n",
       "        vertical-align: top;\n",
       "    }\n",
       "\n",
       "    .dataframe thead th {\n",
       "        text-align: right;\n",
       "    }\n",
       "</style>\n",
       "<table border=\"1\" class=\"dataframe\">\n",
       "  <thead>\n",
       "    <tr style=\"text-align: right;\">\n",
       "      <th></th>\n",
       "      <th>tweet</th>\n",
       "      <th>Kategori</th>\n",
       "      <th>cleaned_tweets</th>\n",
       "    </tr>\n",
       "  </thead>\n",
       "  <tbody>\n",
       "    <tr>\n",
       "      <th>0</th>\n",
       "      <td>Mudah2an kita yg merasa beragama, apalagi org ...</td>\n",
       "      <td>1</td>\n",
       "      <td>mudah agama orang islam dukung upaya cegah tul...</td>\n",
       "    </tr>\n",
       "    <tr>\n",
       "      <th>1</th>\n",
       "      <td>Kalo ada ancaman, misal mati, yah harus ada up...</td>\n",
       "      <td>1</td>\n",
       "      <td>ancam mati upaya cegah contoh virus corona int...</td>\n",
       "    </tr>\n",
       "    <tr>\n",
       "      <th>2</th>\n",
       "      <td>PERHATIAN KHUSUS INI AYO DISIPLIN PROKES LEBIH...</td>\n",
       "      <td>1</td>\n",
       "      <td>perhati khusus ayo disiplin prokes vaksin sege...</td>\n",
       "    </tr>\n",
       "    <tr>\n",
       "      <th>3</th>\n",
       "      <td>Pada dasarnya hanya NAFSU akan kekuasaan dan m...</td>\n",
       "      <td>2</td>\n",
       "      <td>dasar nafsu kuasa kuasa dunia jadi sandiwara c...</td>\n",
       "    </tr>\n",
       "    <tr>\n",
       "      <th>4</th>\n",
       "      <td>Vaksin konspirasi Flat earthers Pandemi konspi...</td>\n",
       "      <td>2</td>\n",
       "      <td>vaksin konspirasi flat earthers pandemi konspi...</td>\n",
       "    </tr>\n",
       "    <tr>\n",
       "      <th>...</th>\n",
       "      <td>...</td>\n",
       "      <td>...</td>\n",
       "      <td>...</td>\n",
       "    </tr>\n",
       "    <tr>\n",
       "      <th>367</th>\n",
       "      <td>meski ada efek samping setelah vaksinasi. Seca...</td>\n",
       "      <td>1</td>\n",
       "      <td>efek samping vaksinasi vaksin corona aman jadi...</td>\n",
       "    </tr>\n",
       "    <tr>\n",
       "      <th>368</th>\n",
       "      <td>Cintai bumimu Lindungi dari virus corona Taati...</td>\n",
       "      <td>1</td>\n",
       "      <td>cinta bumi lindung virus corona taat atur pbb ...</td>\n",
       "    </tr>\n",
       "    <tr>\n",
       "      <th>369</th>\n",
       "      <td>https://t.co/3Hh8rGpcaH  Saat nya kita bersatu...</td>\n",
       "      <td>1</td>\n",
       "      <td>satu padu perang lawan corona menteri jhony pl...</td>\n",
       "    </tr>\n",
       "    <tr>\n",
       "      <th>370</th>\n",
       "      <td>@cursedkidd \"Vaksin corona terbuat dari peju k...</td>\n",
       "      <td>2</td>\n",
       "      <td>vaksin corona buat sperma</td>\n",
       "    </tr>\n",
       "    <tr>\n",
       "      <th>371</th>\n",
       "      <td>@daungoyang Vcs = vaksin corona sue?</td>\n",
       "      <td>2</td>\n",
       "      <td>vaksin corona sue</td>\n",
       "    </tr>\n",
       "  </tbody>\n",
       "</table>\n",
       "<p>372 rows × 3 columns</p>\n",
       "</div>"
      ],
      "text/plain": [
       "                                                 tweet  Kategori  \\\n",
       "0    Mudah2an kita yg merasa beragama, apalagi org ...         1   \n",
       "1    Kalo ada ancaman, misal mati, yah harus ada up...         1   \n",
       "2    PERHATIAN KHUSUS INI AYO DISIPLIN PROKES LEBIH...         1   \n",
       "3    Pada dasarnya hanya NAFSU akan kekuasaan dan m...         2   \n",
       "4    Vaksin konspirasi Flat earthers Pandemi konspi...         2   \n",
       "..                                                 ...       ...   \n",
       "367  meski ada efek samping setelah vaksinasi. Seca...         1   \n",
       "368  Cintai bumimu Lindungi dari virus corona Taati...         1   \n",
       "369  https://t.co/3Hh8rGpcaH  Saat nya kita bersatu...         1   \n",
       "370  @cursedkidd \"Vaksin corona terbuat dari peju k...         2   \n",
       "371               @daungoyang Vcs = vaksin corona sue?         2   \n",
       "\n",
       "                                        cleaned_tweets  \n",
       "0    mudah agama orang islam dukung upaya cegah tul...  \n",
       "1    ancam mati upaya cegah contoh virus corona int...  \n",
       "2    perhati khusus ayo disiplin prokes vaksin sege...  \n",
       "3    dasar nafsu kuasa kuasa dunia jadi sandiwara c...  \n",
       "4    vaksin konspirasi flat earthers pandemi konspi...  \n",
       "..                                                 ...  \n",
       "367  efek samping vaksinasi vaksin corona aman jadi...  \n",
       "368  cinta bumi lindung virus corona taat atur pbb ...  \n",
       "369  satu padu perang lawan corona menteri jhony pl...  \n",
       "370                          vaksin corona buat sperma  \n",
       "371                                  vaksin corona sue  \n",
       "\n",
       "[372 rows x 3 columns]"
      ]
     },
     "execution_count": 18,
     "metadata": {},
     "output_type": "execute_result"
    }
   ],
   "source": [
    "df1['cleaned_tweets'] = df1['cleaned_tweets'].apply(lambda x: steamming(x))\n",
    "df1"
   ]
  },
  {
   "cell_type": "code",
   "execution_count": 19,
   "metadata": {
    "execution": {
     "iopub.execute_input": "2021-02-19T19:51:39.798199Z",
     "iopub.status.busy": "2021-02-19T19:51:39.797553Z",
     "iopub.status.idle": "2021-02-19T19:51:39.827307Z",
     "shell.execute_reply": "2021-02-19T19:51:39.827820Z"
    },
    "papermill": {
     "duration": 0.081213,
     "end_time": "2021-02-19T19:51:39.827986",
     "exception": false,
     "start_time": "2021-02-19T19:51:39.746773",
     "status": "completed"
    },
    "tags": []
   },
   "outputs": [
    {
     "data": {
      "text/html": [
       "<div>\n",
       "<style scoped>\n",
       "    .dataframe tbody tr th:only-of-type {\n",
       "        vertical-align: middle;\n",
       "    }\n",
       "\n",
       "    .dataframe tbody tr th {\n",
       "        vertical-align: top;\n",
       "    }\n",
       "\n",
       "    .dataframe thead th {\n",
       "        text-align: right;\n",
       "    }\n",
       "</style>\n",
       "<table border=\"1\" class=\"dataframe\">\n",
       "  <thead>\n",
       "    <tr style=\"text-align: right;\">\n",
       "      <th></th>\n",
       "      <th>Kategori</th>\n",
       "      <th>cleaned_tweets</th>\n",
       "    </tr>\n",
       "  </thead>\n",
       "  <tbody>\n",
       "    <tr>\n",
       "      <th>0</th>\n",
       "      <td>1</td>\n",
       "      <td>mudah agama orang islam dukung upaya cegah tul...</td>\n",
       "    </tr>\n",
       "    <tr>\n",
       "      <th>1</th>\n",
       "      <td>1</td>\n",
       "      <td>ancam mati upaya cegah contoh virus corona int...</td>\n",
       "    </tr>\n",
       "    <tr>\n",
       "      <th>2</th>\n",
       "      <td>1</td>\n",
       "      <td>perhati khusus ayo disiplin prokes vaksin sege...</td>\n",
       "    </tr>\n",
       "    <tr>\n",
       "      <th>3</th>\n",
       "      <td>2</td>\n",
       "      <td>dasar nafsu kuasa kuasa dunia jadi sandiwara c...</td>\n",
       "    </tr>\n",
       "    <tr>\n",
       "      <th>4</th>\n",
       "      <td>2</td>\n",
       "      <td>vaksin konspirasi flat earthers pandemi konspi...</td>\n",
       "    </tr>\n",
       "    <tr>\n",
       "      <th>...</th>\n",
       "      <td>...</td>\n",
       "      <td>...</td>\n",
       "    </tr>\n",
       "    <tr>\n",
       "      <th>365</th>\n",
       "      <td>1</td>\n",
       "      <td>harap ustadz ikadi dukung program perintah put...</td>\n",
       "    </tr>\n",
       "    <tr>\n",
       "      <th>366</th>\n",
       "      <td>1</td>\n",
       "      <td>pandemi corona dampak sehat ekonomi ekonomi uj...</td>\n",
       "    </tr>\n",
       "    <tr>\n",
       "      <th>367</th>\n",
       "      <td>1</td>\n",
       "      <td>efek samping vaksinasi vaksin corona aman jadi...</td>\n",
       "    </tr>\n",
       "    <tr>\n",
       "      <th>370</th>\n",
       "      <td>2</td>\n",
       "      <td>vaksin corona buat sperma</td>\n",
       "    </tr>\n",
       "    <tr>\n",
       "      <th>371</th>\n",
       "      <td>2</td>\n",
       "      <td>vaksin corona sue</td>\n",
       "    </tr>\n",
       "  </tbody>\n",
       "</table>\n",
       "<p>343 rows × 2 columns</p>\n",
       "</div>"
      ],
      "text/plain": [
       "     Kategori                                     cleaned_tweets\n",
       "0           1  mudah agama orang islam dukung upaya cegah tul...\n",
       "1           1  ancam mati upaya cegah contoh virus corona int...\n",
       "2           1  perhati khusus ayo disiplin prokes vaksin sege...\n",
       "3           2  dasar nafsu kuasa kuasa dunia jadi sandiwara c...\n",
       "4           2  vaksin konspirasi flat earthers pandemi konspi...\n",
       "..        ...                                                ...\n",
       "365         1  harap ustadz ikadi dukung program perintah put...\n",
       "366         1  pandemi corona dampak sehat ekonomi ekonomi uj...\n",
       "367         1  efek samping vaksinasi vaksin corona aman jadi...\n",
       "370         2                          vaksin corona buat sperma\n",
       "371         2                                  vaksin corona sue\n",
       "\n",
       "[343 rows x 2 columns]"
      ]
     },
     "execution_count": 19,
     "metadata": {},
     "output_type": "execute_result"
    }
   ],
   "source": [
    "df2 = df1.copy()\n",
    "del df2['tweet']\n",
    "df2 = df2.drop_duplicates()\n",
    "df2 = df2.dropna()\n",
    "df2"
   ]
  },
  {
   "cell_type": "code",
   "execution_count": 20,
   "metadata": {
    "execution": {
     "iopub.execute_input": "2021-02-19T19:51:39.912951Z",
     "iopub.status.busy": "2021-02-19T19:51:39.912320Z",
     "iopub.status.idle": "2021-02-19T19:51:39.918948Z",
     "shell.execute_reply": "2021-02-19T19:51:39.919457Z"
    },
    "papermill": {
     "duration": 0.051547,
     "end_time": "2021-02-19T19:51:39.919638",
     "exception": false,
     "start_time": "2021-02-19T19:51:39.868091",
     "status": "completed"
    },
    "tags": []
   },
   "outputs": [],
   "source": [
    "df2.to_csv('prepocessing.csv',index=False)"
   ]
  },
  {
   "cell_type": "code",
   "execution_count": 21,
   "metadata": {
    "execution": {
     "iopub.execute_input": "2021-02-19T19:51:40.001437Z",
     "iopub.status.busy": "2021-02-19T19:51:40.000777Z",
     "iopub.status.idle": "2021-02-19T19:51:41.424243Z",
     "shell.execute_reply": "2021-02-19T19:51:41.424768Z"
    },
    "papermill": {
     "duration": 1.465119,
     "end_time": "2021-02-19T19:51:41.424928",
     "exception": false,
     "start_time": "2021-02-19T19:51:39.959809",
     "status": "completed"
    },
    "tags": []
   },
   "outputs": [
    {
     "data": {
      "image/png": "[encoded data removed]",
      "text/plain": [
       "<Figure size 864x720 with 1 Axes>"
      ]
     },
     "metadata": {
      "needs_background": "light"
     },
     "output_type": "display_data"
    }
   ],
   "source": [
    "import matplotlib.pyplot as plt\n",
    "from wordcloud import WordCloud, ImageColorGenerator\n",
    "\n",
    "wd_list = df2['cleaned_tweets']\n",
    "#liststopwords = set(stopwords.words('indonesian'))\n",
    "all_words = ' '.join([text for text in wd_list])\n",
    "\n",
    "wordcloud = WordCloud(\n",
    "    background_color='white',\n",
    "    #stopwords=liststopwords,\n",
    "    width=1600,\n",
    "    height=800,\n",
    "    random_state=1,\n",
    "    colormap='jet',\n",
    "    max_words=80,\n",
    "    max_font_size=200).generate(all_words)\n",
    "plt.figure(figsize=(12, 10))\n",
    "plt.axis('off')\n",
    "plt.imshow(wordcloud, interpolation=\"bilinear\");"
   ]
  },
  {
   "cell_type": "markdown",
   "metadata": {
    "papermill": {
     "duration": 0.043271,
     "end_time": "2021-02-19T19:51:41.513441",
     "exception": false,
     "start_time": "2021-02-19T19:51:41.470170",
     "status": "completed"
    },
    "tags": []
   },
   "source": [
    "# VEKTORISASI"
   ]
  },
  {
   "cell_type": "code",
   "execution_count": 22,
   "metadata": {
    "execution": {
     "iopub.execute_input": "2021-02-19T19:51:41.614087Z",
     "iopub.status.busy": "2021-02-19T19:51:41.613487Z",
     "iopub.status.idle": "2021-02-19T19:51:41.620462Z",
     "shell.execute_reply": "2021-02-19T19:51:41.620914Z"
    },
    "papermill": {
     "duration": 0.062976,
     "end_time": "2021-02-19T19:51:41.621094",
     "exception": false,
     "start_time": "2021-02-19T19:51:41.558118",
     "status": "completed"
    },
    "tags": []
   },
   "outputs": [],
   "source": [
    "from sklearn.feature_extraction.text import CountVectorizer\n",
    "\n",
    "cv = CountVectorizer()\n",
    "text_counts = cv.fit_transform(df2['cleaned_tweets'])"
   ]
  },
  {
   "cell_type": "markdown",
   "metadata": {
    "papermill": {
     "duration": 0.044201,
     "end_time": "2021-02-19T19:51:41.708536",
     "exception": false,
     "start_time": "2021-02-19T19:51:41.664335",
     "status": "completed"
    },
    "tags": []
   },
   "source": [
    "# SPLIT DATASET"
   ]
  },
  {
   "cell_type": "code",
   "execution_count": 23,
   "metadata": {
    "execution": {
     "iopub.execute_input": "2021-02-19T19:51:41.800499Z",
     "iopub.status.busy": "2021-02-19T19:51:41.799636Z",
     "iopub.status.idle": "2021-02-19T19:51:41.807393Z",
     "shell.execute_reply": "2021-02-19T19:51:41.806888Z"
    },
    "papermill": {
     "duration": 0.054822,
     "end_time": "2021-02-19T19:51:41.807557",
     "exception": false,
     "start_time": "2021-02-19T19:51:41.752735",
     "status": "completed"
    },
    "tags": []
   },
   "outputs": [],
   "source": [
    "from sklearn.model_selection import train_test_split\n",
    "\n",
    "X_train, X_test, Y_train, Y_test = train_test_split(text_counts, df2['Kategori'], test_size=0.25)"
   ]
  },
  {
   "cell_type": "code",
   "execution_count": 24,
   "metadata": {
    "execution": {
     "iopub.execute_input": "2021-02-19T19:51:41.902725Z",
     "iopub.status.busy": "2021-02-19T19:51:41.902027Z",
     "iopub.status.idle": "2021-02-19T19:51:41.905326Z",
     "shell.execute_reply": "2021-02-19T19:51:41.904753Z"
    },
    "papermill": {
     "duration": 0.054433,
     "end_time": "2021-02-19T19:51:41.905455",
     "exception": false,
     "start_time": "2021-02-19T19:51:41.851022",
     "status": "completed"
    },
    "tags": []
   },
   "outputs": [
    {
     "name": "stdout",
     "output_type": "stream",
     "text": [
      "(257, 965) (86, 965)\n"
     ]
    }
   ],
   "source": [
    "print(X_train.shape, X_test.shape)"
   ]
  },
  {
   "cell_type": "markdown",
   "metadata": {
    "papermill": {
     "duration": 0.043095,
     "end_time": "2021-02-19T19:51:41.993280",
     "exception": false,
     "start_time": "2021-02-19T19:51:41.950185",
     "status": "completed"
    },
    "tags": []
   },
   "source": [
    "# KLASIFIKASI"
   ]
  },
  {
   "cell_type": "markdown",
   "metadata": {
    "papermill": {
     "duration": 0.043232,
     "end_time": "2021-02-19T19:51:42.080961",
     "exception": false,
     "start_time": "2021-02-19T19:51:42.037729",
     "status": "completed"
    },
    "tags": []
   },
   "source": [
    "# 1. Naive Bayes MNB"
   ]
  },
  {
   "cell_type": "code",
   "execution_count": 25,
   "metadata": {
    "execution": {
     "iopub.execute_input": "2021-02-19T19:51:42.175271Z",
     "iopub.status.busy": "2021-02-19T19:51:42.174677Z",
     "iopub.status.idle": "2021-02-19T19:51:42.186713Z",
     "shell.execute_reply": "2021-02-19T19:51:42.186056Z"
    },
    "papermill": {
     "duration": 0.061098,
     "end_time": "2021-02-19T19:51:42.186854",
     "exception": false,
     "start_time": "2021-02-19T19:51:42.125756",
     "status": "completed"
    },
    "tags": []
   },
   "outputs": [
    {
     "data": {
      "text/plain": [
       "MultinomialNB()"
      ]
     },
     "execution_count": 25,
     "metadata": {},
     "output_type": "execute_result"
    }
   ],
   "source": [
    "from sklearn.naive_bayes import MultinomialNB\n",
    "\n",
    "MNB = MultinomialNB()\n",
    "MNB.fit(X_train, Y_train)"
   ]
  },
  {
   "cell_type": "code",
   "execution_count": 26,
   "metadata": {
    "execution": {
     "iopub.execute_input": "2021-02-19T19:51:42.280452Z",
     "iopub.status.busy": "2021-02-19T19:51:42.279466Z",
     "iopub.status.idle": "2021-02-19T19:51:42.284638Z",
     "shell.execute_reply": "2021-02-19T19:51:42.283843Z"
    },
    "papermill": {
     "duration": 0.053589,
     "end_time": "2021-02-19T19:51:42.284803",
     "exception": false,
     "start_time": "2021-02-19T19:51:42.231214",
     "status": "completed"
    },
    "tags": []
   },
   "outputs": [
    {
     "name": "stdout",
     "output_type": "stream",
     "text": [
      "91.86%\n"
     ]
    }
   ],
   "source": [
    "from sklearn import metrics\n",
    "\n",
    "predicted = MNB.predict(X_test)\n",
    "model1 = metrics.accuracy_score(predicted, Y_test)\n",
    "print(str('{:04.2f}'.format(model1*100))+'%')"
   ]
  },
  {
   "cell_type": "code",
   "execution_count": 27,
   "metadata": {
    "execution": {
     "iopub.execute_input": "2021-02-19T19:51:42.380782Z",
     "iopub.status.busy": "2021-02-19T19:51:42.380229Z",
     "iopub.status.idle": "2021-02-19T19:51:42.384204Z",
     "shell.execute_reply": "2021-02-19T19:51:42.383707Z"
    },
    "papermill": {
     "duration": 0.054449,
     "end_time": "2021-02-19T19:51:42.384344",
     "exception": false,
     "start_time": "2021-02-19T19:51:42.329895",
     "status": "completed"
    },
    "tags": []
   },
   "outputs": [
    {
     "name": "stdout",
     "output_type": "stream",
     "text": [
      "[[35  6]\n",
      " [ 1 44]]\n"
     ]
    }
   ],
   "source": [
    "from sklearn.metrics import confusion_matrix\n",
    "import numpy as np\n",
    "\n",
    "confusion = confusion_matrix(Y_test, predicted)\n",
    "print(confusion)"
   ]
  },
  {
   "cell_type": "code",
   "execution_count": 28,
   "metadata": {
    "execution": {
     "iopub.execute_input": "2021-02-19T19:51:42.478923Z",
     "iopub.status.busy": "2021-02-19T19:51:42.478177Z",
     "iopub.status.idle": "2021-02-19T19:51:42.790932Z",
     "shell.execute_reply": "2021-02-19T19:51:42.791715Z"
    },
    "papermill": {
     "duration": 0.36311,
     "end_time": "2021-02-19T19:51:42.791992",
     "exception": false,
     "start_time": "2021-02-19T19:51:42.428882",
     "status": "completed"
    },
    "tags": []
   },
   "outputs": [
    {
     "data": {
      "text/plain": [
       "<AxesSubplot:>"
      ]
     },
     "execution_count": 28,
     "metadata": {},
     "output_type": "execute_result"
    },
    {
     "data": {
      "image/png": "[encoded data removed]",
      "text/plain": [
       "<Figure size 432x288 with 2 Axes>"
      ]
     },
     "metadata": {
      "needs_background": "light"
     },
     "output_type": "display_data"
    }
   ],
   "source": [
    "import seaborn as sns\n",
    "\n",
    "sns.heatmap(confusion, annot=True,  cmap='Blues')"
   ]
  },
  {
   "cell_type": "code",
   "execution_count": 29,
   "metadata": {
    "execution": {
     "iopub.execute_input": "2021-02-19T19:51:42.908317Z",
     "iopub.status.busy": "2021-02-19T19:51:42.907647Z",
     "iopub.status.idle": "2021-02-19T19:51:42.909847Z",
     "shell.execute_reply": "2021-02-19T19:51:42.910478Z"
    },
    "papermill": {
     "duration": 0.058906,
     "end_time": "2021-02-19T19:51:42.910650",
     "exception": false,
     "start_time": "2021-02-19T19:51:42.851744",
     "status": "completed"
    },
    "tags": []
   },
   "outputs": [],
   "source": [
    "output1 = pd.DataFrame({'tweet': X_test, 'label': predicted})"
   ]
  },
  {
   "cell_type": "code",
   "execution_count": 30,
   "metadata": {
    "execution": {
     "iopub.execute_input": "2021-02-19T19:51:43.011018Z",
     "iopub.status.busy": "2021-02-19T19:51:43.010218Z",
     "iopub.status.idle": "2021-02-19T19:51:43.016686Z",
     "shell.execute_reply": "2021-02-19T19:51:43.017239Z"
    },
    "papermill": {
     "duration": 0.058043,
     "end_time": "2021-02-19T19:51:43.017417",
     "exception": false,
     "start_time": "2021-02-19T19:51:42.959374",
     "status": "completed"
    },
    "tags": []
   },
   "outputs": [
    {
     "data": {
      "text/plain": [
       "2    50\n",
       "1    36\n",
       "Name: label, dtype: int64"
      ]
     },
     "execution_count": 30,
     "metadata": {},
     "output_type": "execute_result"
    }
   ],
   "source": [
    "output1['label'].value_counts()"
   ]
  },
  {
   "cell_type": "markdown",
   "metadata": {
    "papermill": {
     "duration": 0.048485,
     "end_time": "2021-02-19T19:51:43.114692",
     "exception": false,
     "start_time": "2021-02-19T19:51:43.066207",
     "status": "completed"
    },
    "tags": []
   },
   "source": [
    "# 2. Naive Bayes BNB"
   ]
  },
  {
   "cell_type": "code",
   "execution_count": 31,
   "metadata": {
    "execution": {
     "iopub.execute_input": "2021-02-19T19:51:43.212816Z",
     "iopub.status.busy": "2021-02-19T19:51:43.212207Z",
     "iopub.status.idle": "2021-02-19T19:51:43.221094Z",
     "shell.execute_reply": "2021-02-19T19:51:43.221735Z"
    },
    "papermill": {
     "duration": 0.06062,
     "end_time": "2021-02-19T19:51:43.221953",
     "exception": false,
     "start_time": "2021-02-19T19:51:43.161333",
     "status": "completed"
    },
    "tags": []
   },
   "outputs": [
    {
     "name": "stdout",
     "output_type": "stream",
     "text": [
      "BNB accuracy = 91.86%\n"
     ]
    }
   ],
   "source": [
    "from sklearn.naive_bayes import BernoulliNB\n",
    "BNB = BernoulliNB()\n",
    "BNB.fit(X_train, Y_train)\n",
    "model2 = metrics.accuracy_score(BNB.predict(X_test),Y_test)\n",
    "print('BNB accuracy = ' + str('{:4.2f}'.format(model2*100))+'%')"
   ]
  },
  {
   "cell_type": "code",
   "execution_count": 32,
   "metadata": {
    "execution": {
     "iopub.execute_input": "2021-02-19T19:51:43.319900Z",
     "iopub.status.busy": "2021-02-19T19:51:43.319320Z",
     "iopub.status.idle": "2021-02-19T19:51:43.326009Z",
     "shell.execute_reply": "2021-02-19T19:51:43.325460Z"
    },
    "papermill": {
     "duration": 0.056135,
     "end_time": "2021-02-19T19:51:43.326147",
     "exception": false,
     "start_time": "2021-02-19T19:51:43.270012",
     "status": "completed"
    },
    "tags": []
   },
   "outputs": [
    {
     "name": "stdout",
     "output_type": "stream",
     "text": [
      "[[35  6]\n",
      " [ 1 44]]\n"
     ]
    }
   ],
   "source": [
    "predicted = BNB.predict(X_test)\n",
    "confusion = confusion_matrix(Y_test, predicted)\n",
    "print(confusion)"
   ]
  },
  {
   "cell_type": "code",
   "execution_count": 33,
   "metadata": {
    "execution": {
     "iopub.execute_input": "2021-02-19T19:51:43.425006Z",
     "iopub.status.busy": "2021-02-19T19:51:43.424241Z",
     "iopub.status.idle": "2021-02-19T19:51:43.648781Z",
     "shell.execute_reply": "2021-02-19T19:51:43.647987Z"
    },
    "papermill": {
     "duration": 0.275053,
     "end_time": "2021-02-19T19:51:43.648930",
     "exception": false,
     "start_time": "2021-02-19T19:51:43.373877",
     "status": "completed"
    },
    "tags": []
   },
   "outputs": [
    {
     "data": {
      "text/plain": [
       "<AxesSubplot:>"
      ]
     },
     "execution_count": 33,
     "metadata": {},
     "output_type": "execute_result"
    },
    {
     "data": {
      "image/png": "[encoded data removed]",
      "text/plain": [
       "<Figure size 432x288 with 2 Axes>"
      ]
     },
     "metadata": {
      "needs_background": "light"
     },
     "output_type": "display_data"
    }
   ],
   "source": [
    "sns.heatmap(confusion, annot=True,  cmap='Blues')"
   ]
  },
  {
   "cell_type": "code",
   "execution_count": 34,
   "metadata": {
    "execution": {
     "iopub.execute_input": "2021-02-19T19:51:43.752380Z",
     "iopub.status.busy": "2021-02-19T19:51:43.751460Z",
     "iopub.status.idle": "2021-02-19T19:51:43.754361Z",
     "shell.execute_reply": "2021-02-19T19:51:43.753877Z"
    },
    "papermill": {
     "duration": 0.056939,
     "end_time": "2021-02-19T19:51:43.754498",
     "exception": false,
     "start_time": "2021-02-19T19:51:43.697559",
     "status": "completed"
    },
    "tags": []
   },
   "outputs": [],
   "source": [
    "output = pd.DataFrame({'tweet': X_test, 'label': predicted})"
   ]
  },
  {
   "cell_type": "code",
   "execution_count": 35,
   "metadata": {
    "execution": {
     "iopub.execute_input": "2021-02-19T19:51:43.858226Z",
     "iopub.status.busy": "2021-02-19T19:51:43.857584Z",
     "iopub.status.idle": "2021-02-19T19:51:43.864133Z",
     "shell.execute_reply": "2021-02-19T19:51:43.864600Z"
    },
    "papermill": {
     "duration": 0.060403,
     "end_time": "2021-02-19T19:51:43.864758",
     "exception": false,
     "start_time": "2021-02-19T19:51:43.804355",
     "status": "completed"
    },
    "tags": []
   },
   "outputs": [
    {
     "data": {
      "text/plain": [
       "2    50\n",
       "1    36\n",
       "Name: label, dtype: int64"
      ]
     },
     "execution_count": 35,
     "metadata": {},
     "output_type": "execute_result"
    }
   ],
   "source": [
    "output['label'].value_counts()"
   ]
  },
  {
   "cell_type": "markdown",
   "metadata": {
    "papermill": {
     "duration": 0.050157,
     "end_time": "2021-02-19T19:51:43.966686",
     "exception": false,
     "start_time": "2021-02-19T19:51:43.916529",
     "status": "completed"
    },
    "tags": []
   },
   "source": [
    "# SAVE MODEL"
   ]
  },
  {
   "cell_type": "code",
   "execution_count": 36,
   "metadata": {
    "execution": {
     "iopub.execute_input": "2021-02-19T19:51:44.071873Z",
     "iopub.status.busy": "2021-02-19T19:51:44.071233Z",
     "iopub.status.idle": "2021-02-19T19:51:44.088460Z",
     "shell.execute_reply": "2021-02-19T19:51:44.087822Z"
    },
    "papermill": {
     "duration": 0.071111,
     "end_time": "2021-02-19T19:51:44.088608",
     "exception": false,
     "start_time": "2021-02-19T19:51:44.017497",
     "status": "completed"
    },
    "tags": []
   },
   "outputs": [
    {
     "data": {
      "text/plain": [
       "['vektor.sav']"
      ]
     },
     "execution_count": 36,
     "metadata": {},
     "output_type": "execute_result"
    }
   ],
   "source": [
    "import joblib\n",
    "\n",
    "filename = 'vektor.sav'\n",
    "joblib.dump(cv, filename)"
   ]
  },
  {
   "cell_type": "code",
   "execution_count": 37,
   "metadata": {
    "execution": {
     "iopub.execute_input": "2021-02-19T19:51:44.190993Z",
     "iopub.status.busy": "2021-02-19T19:51:44.190352Z",
     "iopub.status.idle": "2021-02-19T19:51:44.196858Z",
     "shell.execute_reply": "2021-02-19T19:51:44.196212Z"
    },
    "papermill": {
     "duration": 0.058389,
     "end_time": "2021-02-19T19:51:44.197012",
     "exception": false,
     "start_time": "2021-02-19T19:51:44.138623",
     "status": "completed"
    },
    "tags": []
   },
   "outputs": [
    {
     "data": {
      "text/plain": [
       "['MNB.sav']"
      ]
     },
     "execution_count": 37,
     "metadata": {},
     "output_type": "execute_result"
    }
   ],
   "source": [
    "filename = 'MNB.sav'\n",
    "joblib.dump(MNB, filename)"
   ]
  },
  {
   "cell_type": "code",
   "execution_count": 38,
   "metadata": {
    "execution": {
     "iopub.execute_input": "2021-02-19T19:51:44.302246Z",
     "iopub.status.busy": "2021-02-19T19:51:44.301322Z",
     "iopub.status.idle": "2021-02-19T19:51:44.306537Z",
     "shell.execute_reply": "2021-02-19T19:51:44.307067Z"
    },
    "papermill": {
     "duration": 0.060949,
     "end_time": "2021-02-19T19:51:44.307237",
     "exception": false,
     "start_time": "2021-02-19T19:51:44.246288",
     "status": "completed"
    },
    "tags": []
   },
   "outputs": [
    {
     "data": {
      "text/plain": [
       "['BNB.sav']"
      ]
     },
     "execution_count": 38,
     "metadata": {},
     "output_type": "execute_result"
    }
   ],
   "source": [
    "filename = 'BNB.sav'\n",
    "joblib.dump(BNB, filename)"
   ]
  },
  {
   "cell_type": "markdown",
   "metadata": {
    "papermill": {
     "duration": 0.049389,
     "end_time": "2021-02-19T19:51:44.407833",
     "exception": false,
     "start_time": "2021-02-19T19:51:44.358444",
     "status": "completed"
    },
    "tags": []
   },
   "source": [
    "# IMPLEMENTASI"
   ]
  },
  {
   "cell_type": "code",
   "execution_count": 39,
   "metadata": {
    "execution": {
     "iopub.execute_input": "2021-02-19T19:51:44.519073Z",
     "iopub.status.busy": "2021-02-19T19:51:44.511125Z",
     "iopub.status.idle": "2021-02-19T19:51:44.521639Z",
     "shell.execute_reply": "2021-02-19T19:51:44.521011Z"
    },
    "papermill": {
     "duration": 0.064179,
     "end_time": "2021-02-19T19:51:44.521778",
     "exception": false,
     "start_time": "2021-02-19T19:51:44.457599",
     "status": "completed"
    },
    "tags": []
   },
   "outputs": [],
   "source": [
    "vektor = joblib.load(\"vektor.sav\")\n",
    "MNB = joblib.load(\"MNB.sav\")"
   ]
  },
  {
   "cell_type": "code",
   "execution_count": 40,
   "metadata": {
    "execution": {
     "iopub.execute_input": "2021-02-19T19:51:44.630391Z",
     "iopub.status.busy": "2021-02-19T19:51:44.629372Z",
     "iopub.status.idle": "2021-02-19T19:51:44.633221Z",
     "shell.execute_reply": "2021-02-19T19:51:44.632643Z"
    },
    "papermill": {
     "duration": 0.060171,
     "end_time": "2021-02-19T19:51:44.633367",
     "exception": false,
     "start_time": "2021-02-19T19:51:44.573196",
     "status": "completed"
    },
    "tags": []
   },
   "outputs": [
    {
     "data": {
      "text/plain": [
       "'positif'"
      ]
     },
     "execution_count": 40,
     "metadata": {},
     "output_type": "execute_result"
    }
   ],
   "source": [
    "result = MNB.predict(vektor.transform([\"Harapan kita dengan vaksin ini bisa menghilangkan virus corona #DukungSehatkanBangsa Wajib Bebas Covid\"]))\n",
    "if (result == [2]) :\n",
    "  result = \"negatif\"\n",
    "elif (result == [1]) :\n",
    "  result = \"positif\"\n",
    "\n",
    "result"
   ]
  },
  {
   "cell_type": "code",
   "execution_count": 41,
   "metadata": {
    "execution": {
     "iopub.execute_input": "2021-02-19T19:51:44.743578Z",
     "iopub.status.busy": "2021-02-19T19:51:44.742851Z",
     "iopub.status.idle": "2021-02-19T19:51:44.751215Z",
     "shell.execute_reply": "2021-02-19T19:51:44.750738Z"
    },
    "papermill": {
     "duration": 0.066174,
     "end_time": "2021-02-19T19:51:44.751398",
     "exception": false,
     "start_time": "2021-02-19T19:51:44.685224",
     "status": "completed"
    },
    "tags": []
   },
   "outputs": [
    {
     "data": {
      "text/plain": [
       "'negatif'"
      ]
     },
     "execution_count": 41,
     "metadata": {},
     "output_type": "execute_result"
    }
   ],
   "source": [
    "BNB = joblib.load(\"BNB.sav\")\n",
    "result = BNB.predict(vektor.transform([\"Waduh! Berkurang Lagi, Kemanjuran Vaksin Corona Sinovac di Brasil Cuma 50 Persen\"]))\n",
    "if (result == [2]) :\n",
    "  result = \"negatif\"\n",
    "elif (result == [1]) :\n",
    "  result = \"positif\"\n",
    "\n",
    "result"
   ]
  }
 ],
 "metadata": {
  "kernelspec": {
   "display_name": "Python 3",
   "language": "python",
   "name": "python3"
  },
  "language_info": {
   "codemirror_mode": {
    "name": "ipython",
    "version": 3
   },
   "file_extension": ".py",
   "mimetype": "text/x-python",
   "name": "python",
   "nbconvert_exporter": "python",
   "pygments_lexer": "ipython3",
   "version": "3.7.9"
  },
  "papermill": {
   "default_parameters": {},
   "duration": 156.347641,
   "end_time": "2021-02-19T19:51:45.512507",
   "environment_variables": {},
   "exception": null,
   "input_path": "__notebook__.ipynb",
   "output_path": "__notebook__.ipynb",
   "parameters": {},
   "start_time": "2021-02-19T19:49:09.164866",
   "version": "2.2.2"
  }
 },
 "nbformat": 4,
 "nbformat_minor": 4
}
