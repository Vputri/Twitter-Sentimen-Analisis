{
 "cells": [
  {
   "cell_type": "code",
   "execution_count": 1,
   "metadata": {
    "execution": {
     "iopub.execute_input": "2021-08-28T03:39:26.288492Z",
     "iopub.status.busy": "2021-08-28T03:39:26.288029Z",
     "iopub.status.idle": "2021-08-28T03:39:35.472678Z",
     "shell.execute_reply": "2021-08-28T03:39:35.473193Z",
     "shell.execute_reply.started": "2021-08-28T03:19:54.974321Z"
    },
    "papermill": {
     "duration": 9.212068,
     "end_time": "2021-08-28T03:39:35.473499",
     "exception": false,
     "start_time": "2021-08-28T03:39:26.261431",
     "status": "completed"
    },
    "tags": []
   },
   "outputs": [
    {
     "name": "stdout",
     "output_type": "stream",
     "text": [
      "Collecting Sastrawi\r\n",
      "  Downloading Sastrawi-1.0.1-py2.py3-none-any.whl (209 kB)\r\n",
      "\u001b[K     |████████████████████████████████| 209 kB 598 kB/s \r\n",
      "\u001b[?25hInstalling collected packages: Sastrawi\r\n",
      "Successfully installed Sastrawi-1.0.1\r\n",
      "\u001b[33mWARNING: You are using pip version 21.0.1; however, version 21.2.4 is available.\r\n",
      "You should consider upgrading via the '/opt/conda/bin/python3.7 -m pip install --upgrade pip' command.\u001b[0m\r\n"
     ]
    }
   ],
   "source": [
    "!pip install Sastrawi"
   ]
  },
  {
   "cell_type": "markdown",
   "metadata": {
    "papermill": {
     "duration": 0.03544,
     "end_time": "2021-08-28T03:39:35.545248",
     "exception": false,
     "start_time": "2021-08-28T03:39:35.509808",
     "status": "completed"
    },
    "tags": []
   },
   "source": [
    "# READ DATASET"
   ]
  },
  {
   "cell_type": "code",
   "execution_count": 2,
   "metadata": {
    "_cell_guid": "b1076dfc-b9ad-4769-8c92-a6c4dae69d19",
    "_uuid": "8f2839f25d086af736a60e9eeb907d3b93b6e0e5",
    "execution": {
     "iopub.execute_input": "2021-08-28T03:39:35.621054Z",
     "iopub.status.busy": "2021-08-28T03:39:35.620329Z",
     "iopub.status.idle": "2021-08-28T03:39:35.629717Z",
     "shell.execute_reply": "2021-08-28T03:39:35.630237Z",
     "shell.execute_reply.started": "2021-08-28T03:20:01.796661Z"
    },
    "papermill": {
     "duration": 0.049494,
     "end_time": "2021-08-28T03:39:35.630399",
     "exception": false,
     "start_time": "2021-08-28T03:39:35.580905",
     "status": "completed"
    },
    "tags": []
   },
   "outputs": [
    {
     "name": "stdout",
     "output_type": "stream",
     "text": [
      "/kaggle/input/cleaning/vaksin.csv\n",
      "/kaggle/input/cleaning/kbba.csv\n"
     ]
    }
   ],
   "source": [
    "import pandas as pd\n",
    "\n",
    "import os\n",
    "for dirname, _, filenames in os.walk('/kaggle/input'):\n",
    "    for filename in filenames:\n",
    "        print(os.path.join(dirname, filename))"
   ]
  },
  {
   "cell_type": "code",
   "execution_count": 3,
   "metadata": {
    "execution": {
     "iopub.execute_input": "2021-08-28T03:39:35.708703Z",
     "iopub.status.busy": "2021-08-28T03:39:35.708123Z",
     "iopub.status.idle": "2021-08-28T03:39:35.730273Z",
     "shell.execute_reply": "2021-08-28T03:39:35.729869Z",
     "shell.execute_reply.started": "2021-08-28T03:20:01.809865Z"
    },
    "papermill": {
     "duration": 0.062149,
     "end_time": "2021-08-28T03:39:35.730377",
     "exception": false,
     "start_time": "2021-08-28T03:39:35.668228",
     "status": "completed"
    },
    "tags": []
   },
   "outputs": [],
   "source": [
    "import pandas as pd\n",
    "\n",
    "df = pd.read_csv(\"/kaggle/input/cleaning/vaksin.csv\")\n",
    "kbba = pd.read_csv(\"/kaggle/input/cleaning/kbba.csv\")"
   ]
  },
  {
   "cell_type": "code",
   "execution_count": 4,
   "metadata": {
    "execution": {
     "iopub.execute_input": "2021-08-28T03:39:35.792808Z",
     "iopub.status.busy": "2021-08-28T03:39:35.792373Z",
     "iopub.status.idle": "2021-08-28T03:39:35.812239Z",
     "shell.execute_reply": "2021-08-28T03:39:35.812581Z",
     "shell.execute_reply.started": "2021-08-28T03:20:01.839585Z"
    },
    "papermill": {
     "duration": 0.058839,
     "end_time": "2021-08-28T03:39:35.812711",
     "exception": false,
     "start_time": "2021-08-28T03:39:35.753872",
     "status": "completed"
    },
    "tags": []
   },
   "outputs": [
    {
     "data": {
      "text/html": [
       "<div>\n",
       "<style scoped>\n",
       "    .dataframe tbody tr th:only-of-type {\n",
       "        vertical-align: middle;\n",
       "    }\n",
       "\n",
       "    .dataframe tbody tr th {\n",
       "        vertical-align: top;\n",
       "    }\n",
       "\n",
       "    .dataframe thead th {\n",
       "        text-align: right;\n",
       "    }\n",
       "</style>\n",
       "<table border=\"1\" class=\"dataframe\">\n",
       "  <thead>\n",
       "    <tr style=\"text-align: right;\">\n",
       "      <th></th>\n",
       "      <th>id</th>\n",
       "      <th>date</th>\n",
       "      <th>username</th>\n",
       "      <th>tweet</th>\n",
       "      <th>Kategori</th>\n",
       "    </tr>\n",
       "  </thead>\n",
       "  <tbody>\n",
       "    <tr>\n",
       "      <th>0</th>\n",
       "      <td>1.339103e+18</td>\n",
       "      <td>2020-12-16</td>\n",
       "      <td>abdulaz93506871</td>\n",
       "      <td>@MaspiyuO Tampang si Jokowi dan Si Koruptor E-...</td>\n",
       "      <td>2</td>\n",
       "    </tr>\n",
       "    <tr>\n",
       "      <th>1</th>\n",
       "      <td>1.339053e+18</td>\n",
       "      <td>2020-12-16</td>\n",
       "      <td>alyssa_ncls</td>\n",
       "      <td>Ribet gini si corona teh. Di Bisnis teruss. Eh...</td>\n",
       "      <td>2</td>\n",
       "    </tr>\n",
       "    <tr>\n",
       "      <th>2</th>\n",
       "      <td>1.339146e+18</td>\n",
       "      <td>2020-12-16</td>\n",
       "      <td>amellia76564885</td>\n",
       "      <td>@fadlizon Akal sehat pun harus dipakai. Sumber...</td>\n",
       "      <td>2</td>\n",
       "    </tr>\n",
       "    <tr>\n",
       "      <th>3</th>\n",
       "      <td>1.339143e+18</td>\n",
       "      <td>2020-12-16</td>\n",
       "      <td>amellia76564885</td>\n",
       "      <td>@fadlizon Sumber dan Asal birus corona covid 1...</td>\n",
       "      <td>2</td>\n",
       "    </tr>\n",
       "    <tr>\n",
       "      <th>4</th>\n",
       "      <td>1.339065e+18</td>\n",
       "      <td>2020-12-16</td>\n",
       "      <td>anaktopik</td>\n",
       "      <td>Negara yang lalai menjaga rakyat dari terpapar...</td>\n",
       "      <td>2</td>\n",
       "    </tr>\n",
       "    <tr>\n",
       "      <th>...</th>\n",
       "      <td>...</td>\n",
       "      <td>...</td>\n",
       "      <td>...</td>\n",
       "      <td>...</td>\n",
       "      <td>...</td>\n",
       "    </tr>\n",
       "    <tr>\n",
       "      <th>1096</th>\n",
       "      <td>1.360000e+18</td>\n",
       "      <td>2021-02-10</td>\n",
       "      <td>selalunkri</td>\n",
       "      <td>Dukung Vaksinlah bro.... #VaksinCovid19 #Vaksi...</td>\n",
       "      <td>1</td>\n",
       "    </tr>\n",
       "    <tr>\n",
       "      <th>1097</th>\n",
       "      <td>1.360000e+18</td>\n",
       "      <td>2021-02-10</td>\n",
       "      <td>selalunkri</td>\n",
       "      <td>Mempercepat Program Vaksin Nasional, artinya m...</td>\n",
       "      <td>1</td>\n",
       "    </tr>\n",
       "    <tr>\n",
       "      <th>1098</th>\n",
       "      <td>1.360000e+18</td>\n",
       "      <td>2021-02-10</td>\n",
       "      <td>selalunkri</td>\n",
       "      <td>Percepat Vaksin = Kendalikan Covid #VaksinCovi...</td>\n",
       "      <td>1</td>\n",
       "    </tr>\n",
       "    <tr>\n",
       "      <th>1099</th>\n",
       "      <td>1.350000e+18</td>\n",
       "      <td>2021-01-21</td>\n",
       "      <td>lilik_henry</td>\n",
       "      <td>JANGAN SANTAI, CORONA BELUM USAI Vaksin hanya ...</td>\n",
       "      <td>1</td>\n",
       "    </tr>\n",
       "    <tr>\n",
       "      <th>1100</th>\n",
       "      <td>1.350000e+18</td>\n",
       "      <td>2021-01-21</td>\n",
       "      <td>timun___suri</td>\n",
       "      <td>AYO TERBIT PROKES AGAR TERHINDAR DARI CORONA G...</td>\n",
       "      <td>1</td>\n",
       "    </tr>\n",
       "  </tbody>\n",
       "</table>\n",
       "<p>1101 rows × 5 columns</p>\n",
       "</div>"
      ],
      "text/plain": [
       "                id        date         username  \\\n",
       "0     1.339103e+18  2020-12-16  abdulaz93506871   \n",
       "1     1.339053e+18  2020-12-16      alyssa_ncls   \n",
       "2     1.339146e+18  2020-12-16  amellia76564885   \n",
       "3     1.339143e+18  2020-12-16  amellia76564885   \n",
       "4     1.339065e+18  2020-12-16        anaktopik   \n",
       "...            ...         ...              ...   \n",
       "1096  1.360000e+18  2021-02-10       selalunkri   \n",
       "1097  1.360000e+18  2021-02-10       selalunkri   \n",
       "1098  1.360000e+18  2021-02-10       selalunkri   \n",
       "1099  1.350000e+18  2021-01-21      lilik_henry   \n",
       "1100  1.350000e+18  2021-01-21     timun___suri   \n",
       "\n",
       "                                                  tweet  Kategori  \n",
       "0     @MaspiyuO Tampang si Jokowi dan Si Koruptor E-...         2  \n",
       "1     Ribet gini si corona teh. Di Bisnis teruss. Eh...         2  \n",
       "2     @fadlizon Akal sehat pun harus dipakai. Sumber...         2  \n",
       "3     @fadlizon Sumber dan Asal birus corona covid 1...         2  \n",
       "4     Negara yang lalai menjaga rakyat dari terpapar...         2  \n",
       "...                                                 ...       ...  \n",
       "1096  Dukung Vaksinlah bro.... #VaksinCovid19 #Vaksi...         1  \n",
       "1097  Mempercepat Program Vaksin Nasional, artinya m...         1  \n",
       "1098  Percepat Vaksin = Kendalikan Covid #VaksinCovi...         1  \n",
       "1099  JANGAN SANTAI, CORONA BELUM USAI Vaksin hanya ...         1  \n",
       "1100  AYO TERBIT PROKES AGAR TERHINDAR DARI CORONA G...         1  \n",
       "\n",
       "[1101 rows x 5 columns]"
      ]
     },
     "execution_count": 4,
     "metadata": {},
     "output_type": "execute_result"
    }
   ],
   "source": [
    "df"
   ]
  },
  {
   "cell_type": "code",
   "execution_count": 5,
   "metadata": {
    "execution": {
     "iopub.execute_input": "2021-08-28T03:39:35.871423Z",
     "iopub.status.busy": "2021-08-28T03:39:35.870789Z",
     "iopub.status.idle": "2021-08-28T03:39:35.875457Z",
     "shell.execute_reply": "2021-08-28T03:39:35.875085Z",
     "shell.execute_reply.started": "2021-08-28T03:20:01.866508Z"
    },
    "papermill": {
     "duration": 0.038748,
     "end_time": "2021-08-28T03:39:35.875564",
     "exception": false,
     "start_time": "2021-08-28T03:39:35.836816",
     "status": "completed"
    },
    "tags": []
   },
   "outputs": [
    {
     "data": {
      "text/html": [
       "<div>\n",
       "<style scoped>\n",
       "    .dataframe tbody tr th:only-of-type {\n",
       "        vertical-align: middle;\n",
       "    }\n",
       "\n",
       "    .dataframe tbody tr th {\n",
       "        vertical-align: top;\n",
       "    }\n",
       "\n",
       "    .dataframe thead th {\n",
       "        text-align: right;\n",
       "    }\n",
       "</style>\n",
       "<table border=\"1\" class=\"dataframe\">\n",
       "  <thead>\n",
       "    <tr style=\"text-align: right;\">\n",
       "      <th></th>\n",
       "      <th>tweet</th>\n",
       "      <th>Kategori</th>\n",
       "    </tr>\n",
       "  </thead>\n",
       "  <tbody>\n",
       "    <tr>\n",
       "      <th>0</th>\n",
       "      <td>@MaspiyuO Tampang si Jokowi dan Si Koruptor E-...</td>\n",
       "      <td>2</td>\n",
       "    </tr>\n",
       "    <tr>\n",
       "      <th>1</th>\n",
       "      <td>Ribet gini si corona teh. Di Bisnis teruss. Eh...</td>\n",
       "      <td>2</td>\n",
       "    </tr>\n",
       "    <tr>\n",
       "      <th>2</th>\n",
       "      <td>@fadlizon Akal sehat pun harus dipakai. Sumber...</td>\n",
       "      <td>2</td>\n",
       "    </tr>\n",
       "    <tr>\n",
       "      <th>3</th>\n",
       "      <td>@fadlizon Sumber dan Asal birus corona covid 1...</td>\n",
       "      <td>2</td>\n",
       "    </tr>\n",
       "    <tr>\n",
       "      <th>4</th>\n",
       "      <td>Negara yang lalai menjaga rakyat dari terpapar...</td>\n",
       "      <td>2</td>\n",
       "    </tr>\n",
       "    <tr>\n",
       "      <th>...</th>\n",
       "      <td>...</td>\n",
       "      <td>...</td>\n",
       "    </tr>\n",
       "    <tr>\n",
       "      <th>1096</th>\n",
       "      <td>Dukung Vaksinlah bro.... #VaksinCovid19 #Vaksi...</td>\n",
       "      <td>1</td>\n",
       "    </tr>\n",
       "    <tr>\n",
       "      <th>1097</th>\n",
       "      <td>Mempercepat Program Vaksin Nasional, artinya m...</td>\n",
       "      <td>1</td>\n",
       "    </tr>\n",
       "    <tr>\n",
       "      <th>1098</th>\n",
       "      <td>Percepat Vaksin = Kendalikan Covid #VaksinCovi...</td>\n",
       "      <td>1</td>\n",
       "    </tr>\n",
       "    <tr>\n",
       "      <th>1099</th>\n",
       "      <td>JANGAN SANTAI, CORONA BELUM USAI Vaksin hanya ...</td>\n",
       "      <td>1</td>\n",
       "    </tr>\n",
       "    <tr>\n",
       "      <th>1100</th>\n",
       "      <td>AYO TERBIT PROKES AGAR TERHINDAR DARI CORONA G...</td>\n",
       "      <td>1</td>\n",
       "    </tr>\n",
       "  </tbody>\n",
       "</table>\n",
       "<p>1101 rows × 2 columns</p>\n",
       "</div>"
      ],
      "text/plain": [
       "                                                  tweet  Kategori\n",
       "0     @MaspiyuO Tampang si Jokowi dan Si Koruptor E-...         2\n",
       "1     Ribet gini si corona teh. Di Bisnis teruss. Eh...         2\n",
       "2     @fadlizon Akal sehat pun harus dipakai. Sumber...         2\n",
       "3     @fadlizon Sumber dan Asal birus corona covid 1...         2\n",
       "4     Negara yang lalai menjaga rakyat dari terpapar...         2\n",
       "...                                                 ...       ...\n",
       "1096  Dukung Vaksinlah bro.... #VaksinCovid19 #Vaksi...         1\n",
       "1097  Mempercepat Program Vaksin Nasional, artinya m...         1\n",
       "1098  Percepat Vaksin = Kendalikan Covid #VaksinCovi...         1\n",
       "1099  JANGAN SANTAI, CORONA BELUM USAI Vaksin hanya ...         1\n",
       "1100  AYO TERBIT PROKES AGAR TERHINDAR DARI CORONA G...         1\n",
       "\n",
       "[1101 rows x 2 columns]"
      ]
     },
     "execution_count": 5,
     "metadata": {},
     "output_type": "execute_result"
    }
   ],
   "source": [
    "df1 = df.copy()\n",
    "del df1['id'], df1['date'], df1['username']\n",
    "df1"
   ]
  },
  {
   "cell_type": "code",
   "execution_count": 6,
   "metadata": {
    "execution": {
     "iopub.execute_input": "2021-08-28T03:39:35.931788Z",
     "iopub.status.busy": "2021-08-28T03:39:35.931204Z",
     "iopub.status.idle": "2021-08-28T03:39:35.934733Z",
     "shell.execute_reply": "2021-08-28T03:39:35.935196Z",
     "shell.execute_reply.started": "2021-08-28T03:20:01.888814Z"
    },
    "papermill": {
     "duration": 0.035219,
     "end_time": "2021-08-28T03:39:35.935349",
     "exception": false,
     "start_time": "2021-08-28T03:39:35.900130",
     "status": "completed"
    },
    "tags": []
   },
   "outputs": [
    {
     "data": {
      "text/plain": [
       "1    759\n",
       "2    342\n",
       "Name: Kategori, dtype: int64"
      ]
     },
     "execution_count": 6,
     "metadata": {},
     "output_type": "execute_result"
    }
   ],
   "source": [
    "df1['Kategori'].value_counts()"
   ]
  },
  {
   "cell_type": "markdown",
   "metadata": {
    "papermill": {
     "duration": 0.036963,
     "end_time": "2021-08-28T03:39:36.009723",
     "exception": false,
     "start_time": "2021-08-28T03:39:35.972760",
     "status": "completed"
    },
    "tags": []
   },
   "source": [
    "# PREPROCESSING"
   ]
  },
  {
   "cell_type": "markdown",
   "metadata": {
    "papermill": {
     "duration": 0.036822,
     "end_time": "2021-08-28T03:39:36.083984",
     "exception": false,
     "start_time": "2021-08-28T03:39:36.047162",
     "status": "completed"
    },
    "tags": []
   },
   "source": [
    "# 1. CASE FOLDING"
   ]
  },
  {
   "cell_type": "code",
   "execution_count": 7,
   "metadata": {
    "execution": {
     "iopub.execute_input": "2021-08-28T03:39:36.176982Z",
     "iopub.status.busy": "2021-08-28T03:39:36.171048Z",
     "iopub.status.idle": "2021-08-28T03:39:36.182208Z",
     "shell.execute_reply": "2021-08-28T03:39:36.181646Z",
     "shell.execute_reply.started": "2021-08-28T03:20:01.904107Z"
    },
    "papermill": {
     "duration": 0.060464,
     "end_time": "2021-08-28T03:39:36.182355",
     "exception": false,
     "start_time": "2021-08-28T03:39:36.121891",
     "status": "completed"
    },
    "tags": []
   },
   "outputs": [
    {
     "data": {
      "text/html": [
       "<div>\n",
       "<style scoped>\n",
       "    .dataframe tbody tr th:only-of-type {\n",
       "        vertical-align: middle;\n",
       "    }\n",
       "\n",
       "    .dataframe tbody tr th {\n",
       "        vertical-align: top;\n",
       "    }\n",
       "\n",
       "    .dataframe thead th {\n",
       "        text-align: right;\n",
       "    }\n",
       "</style>\n",
       "<table border=\"1\" class=\"dataframe\">\n",
       "  <thead>\n",
       "    <tr style=\"text-align: right;\">\n",
       "      <th></th>\n",
       "      <th>tweet</th>\n",
       "      <th>Kategori</th>\n",
       "      <th>cleaned_tweets</th>\n",
       "    </tr>\n",
       "  </thead>\n",
       "  <tbody>\n",
       "    <tr>\n",
       "      <th>0</th>\n",
       "      <td>@MaspiyuO Tampang si Jokowi dan Si Koruptor E-...</td>\n",
       "      <td>2</td>\n",
       "      <td>@maspiyuo tampang si jokowi dan si koruptor e-...</td>\n",
       "    </tr>\n",
       "    <tr>\n",
       "      <th>1</th>\n",
       "      <td>Ribet gini si corona teh. Di Bisnis teruss. Eh...</td>\n",
       "      <td>2</td>\n",
       "      <td>ribet gini si corona teh. di bisnis teruss. eh...</td>\n",
       "    </tr>\n",
       "    <tr>\n",
       "      <th>2</th>\n",
       "      <td>@fadlizon Akal sehat pun harus dipakai. Sumber...</td>\n",
       "      <td>2</td>\n",
       "      <td>@fadlizon akal sehat pun harus dipakai. sumber...</td>\n",
       "    </tr>\n",
       "    <tr>\n",
       "      <th>3</th>\n",
       "      <td>@fadlizon Sumber dan Asal birus corona covid 1...</td>\n",
       "      <td>2</td>\n",
       "      <td>@fadlizon sumber dan asal birus corona covid 1...</td>\n",
       "    </tr>\n",
       "    <tr>\n",
       "      <th>4</th>\n",
       "      <td>Negara yang lalai menjaga rakyat dari terpapar...</td>\n",
       "      <td>2</td>\n",
       "      <td>negara yang lalai menjaga rakyat dari terpapar...</td>\n",
       "    </tr>\n",
       "    <tr>\n",
       "      <th>...</th>\n",
       "      <td>...</td>\n",
       "      <td>...</td>\n",
       "      <td>...</td>\n",
       "    </tr>\n",
       "    <tr>\n",
       "      <th>1096</th>\n",
       "      <td>Dukung Vaksinlah bro.... #VaksinCovid19 #Vaksi...</td>\n",
       "      <td>1</td>\n",
       "      <td>dukung vaksinlah bro.... #vaksincovid19 #vaksi...</td>\n",
       "    </tr>\n",
       "    <tr>\n",
       "      <th>1097</th>\n",
       "      <td>Mempercepat Program Vaksin Nasional, artinya m...</td>\n",
       "      <td>1</td>\n",
       "      <td>mempercepat program vaksin nasional, artinya m...</td>\n",
       "    </tr>\n",
       "    <tr>\n",
       "      <th>1098</th>\n",
       "      <td>Percepat Vaksin = Kendalikan Covid #VaksinCovi...</td>\n",
       "      <td>1</td>\n",
       "      <td>percepat vaksin = kendalikan covid #vaksincovi...</td>\n",
       "    </tr>\n",
       "    <tr>\n",
       "      <th>1099</th>\n",
       "      <td>JANGAN SANTAI, CORONA BELUM USAI Vaksin hanya ...</td>\n",
       "      <td>1</td>\n",
       "      <td>jangan santai, corona belum usai vaksin hanya ...</td>\n",
       "    </tr>\n",
       "    <tr>\n",
       "      <th>1100</th>\n",
       "      <td>AYO TERBIT PROKES AGAR TERHINDAR DARI CORONA G...</td>\n",
       "      <td>1</td>\n",
       "      <td>ayo terbit prokes agar terhindar dari corona g...</td>\n",
       "    </tr>\n",
       "  </tbody>\n",
       "</table>\n",
       "<p>1101 rows × 3 columns</p>\n",
       "</div>"
      ],
      "text/plain": [
       "                                                  tweet  Kategori  \\\n",
       "0     @MaspiyuO Tampang si Jokowi dan Si Koruptor E-...         2   \n",
       "1     Ribet gini si corona teh. Di Bisnis teruss. Eh...         2   \n",
       "2     @fadlizon Akal sehat pun harus dipakai. Sumber...         2   \n",
       "3     @fadlizon Sumber dan Asal birus corona covid 1...         2   \n",
       "4     Negara yang lalai menjaga rakyat dari terpapar...         2   \n",
       "...                                                 ...       ...   \n",
       "1096  Dukung Vaksinlah bro.... #VaksinCovid19 #Vaksi...         1   \n",
       "1097  Mempercepat Program Vaksin Nasional, artinya m...         1   \n",
       "1098  Percepat Vaksin = Kendalikan Covid #VaksinCovi...         1   \n",
       "1099  JANGAN SANTAI, CORONA BELUM USAI Vaksin hanya ...         1   \n",
       "1100  AYO TERBIT PROKES AGAR TERHINDAR DARI CORONA G...         1   \n",
       "\n",
       "                                         cleaned_tweets  \n",
       "0     @maspiyuo tampang si jokowi dan si koruptor e-...  \n",
       "1     ribet gini si corona teh. di bisnis teruss. eh...  \n",
       "2     @fadlizon akal sehat pun harus dipakai. sumber...  \n",
       "3     @fadlizon sumber dan asal birus corona covid 1...  \n",
       "4     negara yang lalai menjaga rakyat dari terpapar...  \n",
       "...                                                 ...  \n",
       "1096  dukung vaksinlah bro.... #vaksincovid19 #vaksi...  \n",
       "1097  mempercepat program vaksin nasional, artinya m...  \n",
       "1098  percepat vaksin = kendalikan covid #vaksincovi...  \n",
       "1099  jangan santai, corona belum usai vaksin hanya ...  \n",
       "1100  ayo terbit prokes agar terhindar dari corona g...  \n",
       "\n",
       "[1101 rows x 3 columns]"
      ]
     },
     "execution_count": 7,
     "metadata": {},
     "output_type": "execute_result"
    }
   ],
   "source": [
    "df1['cleaned_tweets'] = df1['tweet'].apply(lambda x: x.lower())\n",
    "df1"
   ]
  },
  {
   "cell_type": "code",
   "execution_count": 8,
   "metadata": {
    "execution": {
     "iopub.execute_input": "2021-08-28T03:39:36.264753Z",
     "iopub.status.busy": "2021-08-28T03:39:36.264077Z",
     "iopub.status.idle": "2021-08-28T03:39:36.268628Z",
     "shell.execute_reply": "2021-08-28T03:39:36.268132Z",
     "shell.execute_reply.started": "2021-08-28T03:20:01.931173Z"
    },
    "papermill": {
     "duration": 0.047177,
     "end_time": "2021-08-28T03:39:36.268763",
     "exception": false,
     "start_time": "2021-08-28T03:39:36.221586",
     "status": "completed"
    },
    "tags": []
   },
   "outputs": [
    {
     "name": "stdout",
     "output_type": "stream",
     "text": [
      "@mardanialisera gak maulah pak..vaksinnya... belajar dari virus2 terdahulu,flu babi,flu burung,babi masih ada,ayam masih ada,tapi flu nya gak ada kasus lagi,itu karena jualan vaksinnya uda laku, jadi corona ini spertinya sama,padahal vaksin belum tentu memberi manfaat,yg korup duluan di vaksin\n"
     ]
    }
   ],
   "source": [
    "data = \"@MardaniAliSera Gak maulah pak..vaksinnya... Belajar dari virus2 terdahulu,flu babi,flu burung,babi masih ada,ayam masih ada,tapi flu nya gak ada kasus lagi,itu karena jualan vaksinnya uda laku, jadi corona ini spertinya sama,padahal vaksin belum tentu memberi manfaat,yg korup duluan di vaksin\"\n",
    "hasil = data.lower()\n",
    "print(hasil)"
   ]
  },
  {
   "cell_type": "markdown",
   "metadata": {
    "papermill": {
     "duration": 0.039216,
     "end_time": "2021-08-28T03:39:36.347390",
     "exception": false,
     "start_time": "2021-08-28T03:39:36.308174",
     "status": "completed"
    },
    "tags": []
   },
   "source": [
    "# 3. NORMALISASI"
   ]
  },
  {
   "cell_type": "code",
   "execution_count": 9,
   "metadata": {
    "execution": {
     "iopub.execute_input": "2021-08-28T03:39:36.434883Z",
     "iopub.status.busy": "2021-08-28T03:39:36.434246Z",
     "iopub.status.idle": "2021-08-28T03:39:36.438364Z",
     "shell.execute_reply": "2021-08-28T03:39:36.437974Z",
     "shell.execute_reply.started": "2021-08-28T03:20:01.945248Z"
    },
    "papermill": {
     "duration": 0.051413,
     "end_time": "2021-08-28T03:39:36.438470",
     "exception": false,
     "start_time": "2021-08-28T03:39:36.387057",
     "status": "completed"
    },
    "tags": []
   },
   "outputs": [],
   "source": [
    "import re\n",
    "\n",
    "def normalisasi(text):\n",
    "  text = re.sub(r\"http\\S+\", \" \", text)\n",
    "  text = re.sub(r\"@\\w+\", \" \", text)\n",
    "  text = re.sub(r\"#\\w+\", \" \", text)\n",
    "  text = re.sub(r'\\W', \" \", text)\n",
    "  text = re.sub(r\"\\d+\", \"\", text)\n",
    "  text = re.sub(r'_', ' ',text)\n",
    "  text = re.sub(r' +', ' ', text)\n",
    "  text = re.sub(r\"^\\s+\", '', text)\n",
    "  #text = text.lstrip()\n",
    "  return text"
   ]
  },
  {
   "cell_type": "code",
   "execution_count": 10,
   "metadata": {
    "execution": {
     "iopub.execute_input": "2021-08-28T03:39:36.493674Z",
     "iopub.status.busy": "2021-08-28T03:39:36.493214Z",
     "iopub.status.idle": "2021-08-28T03:39:36.496221Z",
     "shell.execute_reply": "2021-08-28T03:39:36.496728Z",
     "shell.execute_reply.started": "2021-08-28T03:20:01.961229Z"
    },
    "papermill": {
     "duration": 0.033324,
     "end_time": "2021-08-28T03:39:36.496921",
     "exception": false,
     "start_time": "2021-08-28T03:39:36.463597",
     "status": "completed"
    },
    "tags": []
   },
   "outputs": [
    {
     "name": "stdout",
     "output_type": "stream",
     "text": [
      "gak maulah pak vaksinnya belajar dari virus terdahulu flu babi flu burung babi masih ada ayam masih ada tapi flu nya gak ada kasus lagi itu karena jualan vaksinnya uda laku jadi corona ini spertinya sama padahal vaksin belum tentu memberi manfaat yg korup duluan di vaksin\n"
     ]
    }
   ],
   "source": [
    "normal = normalisasi(hasil)\n",
    "print(normal)"
   ]
  },
  {
   "cell_type": "code",
   "execution_count": 11,
   "metadata": {
    "execution": {
     "iopub.execute_input": "2021-08-28T03:39:36.609126Z",
     "iopub.status.busy": "2021-08-28T03:39:36.607843Z",
     "iopub.status.idle": "2021-08-28T03:39:36.611981Z",
     "shell.execute_reply": "2021-08-28T03:39:36.611409Z",
     "shell.execute_reply.started": "2021-08-28T03:20:01.977917Z"
    },
    "papermill": {
     "duration": 0.076184,
     "end_time": "2021-08-28T03:39:36.612121",
     "exception": false,
     "start_time": "2021-08-28T03:39:36.535937",
     "status": "completed"
    },
    "tags": []
   },
   "outputs": [],
   "source": [
    "df1['cleaned_tweets'] = df1['cleaned_tweets'].apply(lambda x: normalisasi(x))"
   ]
  },
  {
   "cell_type": "markdown",
   "metadata": {
    "papermill": {
     "duration": 0.039215,
     "end_time": "2021-08-28T03:39:36.691027",
     "exception": false,
     "start_time": "2021-08-28T03:39:36.651812",
     "status": "completed"
    },
    "tags": []
   },
   "source": [
    "# 4. BAKU"
   ]
  },
  {
   "cell_type": "code",
   "execution_count": 12,
   "metadata": {
    "execution": {
     "iopub.execute_input": "2021-08-28T03:39:36.774519Z",
     "iopub.status.busy": "2021-08-28T03:39:36.774066Z",
     "iopub.status.idle": "2021-08-28T03:39:36.836399Z",
     "shell.execute_reply": "2021-08-28T03:39:36.835930Z",
     "shell.execute_reply.started": "2021-08-28T03:20:02.040186Z"
    },
    "papermill": {
     "duration": 0.106373,
     "end_time": "2021-08-28T03:39:36.836507",
     "exception": false,
     "start_time": "2021-08-28T03:39:36.730134",
     "status": "completed"
    },
    "tags": []
   },
   "outputs": [],
   "source": [
    "dict = {row[0] : row[1] for _, row in pd.read_csv(\"/kaggle/input/cleaning/kbba.csv\").iterrows()}"
   ]
  },
  {
   "cell_type": "code",
   "execution_count": 13,
   "metadata": {
    "execution": {
     "iopub.execute_input": "2021-08-28T03:39:36.891966Z",
     "iopub.status.busy": "2021-08-28T03:39:36.891433Z",
     "iopub.status.idle": "2021-08-28T03:39:36.895038Z",
     "shell.execute_reply": "2021-08-28T03:39:36.894446Z",
     "shell.execute_reply.started": "2021-08-28T03:20:02.098705Z"
    },
    "papermill": {
     "duration": 0.033014,
     "end_time": "2021-08-28T03:39:36.895185",
     "exception": false,
     "start_time": "2021-08-28T03:39:36.862171",
     "status": "completed"
    },
    "tags": []
   },
   "outputs": [],
   "source": [
    "def kbbi(text): \n",
    "    token = text.split()\n",
    "    final_string = ' '.join(str(dict.get(word, word)) for word in token)\n",
    "    return final_string"
   ]
  },
  {
   "cell_type": "code",
   "execution_count": 14,
   "metadata": {
    "execution": {
     "iopub.execute_input": "2021-08-28T03:39:36.977880Z",
     "iopub.status.busy": "2021-08-28T03:39:36.977205Z",
     "iopub.status.idle": "2021-08-28T03:39:36.980635Z",
     "shell.execute_reply": "2021-08-28T03:39:36.981224Z",
     "shell.execute_reply.started": "2021-08-28T03:20:02.105777Z"
    },
    "papermill": {
     "duration": 0.04676,
     "end_time": "2021-08-28T03:39:36.981381",
     "exception": false,
     "start_time": "2021-08-28T03:39:36.934621",
     "status": "completed"
    },
    "tags": []
   },
   "outputs": [
    {
     "name": "stdout",
     "output_type": "stream",
     "text": [
      "tidak maulah pak vaksinnya belajar dari virus terdahulu flu babi flu burung babi masih ada ayam masih ada tetapi flu nya tidak ada kasus lagi itu karena jualan vaksinnya sudah laku jadi corona ini spertinya sama padahal vaksin belum tentu memberi manfaat yang korup duluan di vaksin\n"
     ]
    }
   ],
   "source": [
    "katabaku = kbbi(normal)\n",
    "print(katabaku)"
   ]
  },
  {
   "cell_type": "code",
   "execution_count": 15,
   "metadata": {
    "execution": {
     "iopub.execute_input": "2021-08-28T03:39:37.045195Z",
     "iopub.status.busy": "2021-08-28T03:39:37.044699Z",
     "iopub.status.idle": "2021-08-28T03:39:37.047108Z",
     "shell.execute_reply": "2021-08-28T03:39:37.047470Z",
     "shell.execute_reply.started": "2021-08-28T03:20:02.119589Z"
    },
    "papermill": {
     "duration": 0.039374,
     "end_time": "2021-08-28T03:39:37.047587",
     "exception": false,
     "start_time": "2021-08-28T03:39:37.008213",
     "status": "completed"
    },
    "tags": []
   },
   "outputs": [],
   "source": [
    "df1['cleaned_tweets'] = df1['cleaned_tweets'].apply(lambda x: kbbi(x))"
   ]
  },
  {
   "cell_type": "markdown",
   "metadata": {
    "papermill": {
     "duration": 0.025727,
     "end_time": "2021-08-28T03:39:37.099404",
     "exception": false,
     "start_time": "2021-08-28T03:39:37.073677",
     "status": "completed"
    },
    "tags": []
   },
   "source": [
    "# 5. STOPWORDS"
   ]
  },
  {
   "cell_type": "code",
   "execution_count": 16,
   "metadata": {
    "execution": {
     "iopub.execute_input": "2021-08-28T03:39:37.153852Z",
     "iopub.status.busy": "2021-08-28T03:39:37.153385Z",
     "iopub.status.idle": "2021-08-28T03:39:38.819746Z",
     "shell.execute_reply": "2021-08-28T03:39:38.819136Z",
     "shell.execute_reply.started": "2021-08-28T03:20:02.140667Z"
    },
    "papermill": {
     "duration": 1.694138,
     "end_time": "2021-08-28T03:39:38.819897",
     "exception": false,
     "start_time": "2021-08-28T03:39:37.125759",
     "status": "completed"
    },
    "tags": []
   },
   "outputs": [
    {
     "name": "stdout",
     "output_type": "stream",
     "text": [
      "[nltk_data] Downloading package stopwords to /usr/share/nltk_data...\n",
      "[nltk_data]   Package stopwords is already up-to-date!\n"
     ]
    }
   ],
   "source": [
    "import nltk\n",
    "nltk.download('stopwords')\n",
    "from nltk.corpus import stopwords  \n",
    "\n",
    "def remove_stop_words(text):\n",
    "    text = text.split()\n",
    "    listStopword =  set(stopwords.words('indonesian'))\n",
    "    text = [w for w in text if not w in listStopword]\n",
    "    text = \" \".join(text)\n",
    "    return text"
   ]
  },
  {
   "cell_type": "code",
   "execution_count": 17,
   "metadata": {
    "execution": {
     "iopub.execute_input": "2021-08-28T03:39:38.910797Z",
     "iopub.status.busy": "2021-08-28T03:39:38.908873Z",
     "iopub.status.idle": "2021-08-28T03:39:38.919412Z",
     "shell.execute_reply": "2021-08-28T03:39:38.918842Z",
     "shell.execute_reply.started": "2021-08-28T03:20:04.267701Z"
    },
    "papermill": {
     "duration": 0.059091,
     "end_time": "2021-08-28T03:39:38.919551",
     "exception": false,
     "start_time": "2021-08-28T03:39:38.860460",
     "status": "completed"
    },
    "tags": []
   },
   "outputs": [
    {
     "name": "stdout",
     "output_type": "stream",
     "text": [
      "maulah vaksinnya belajar virus flu babi flu burung babi ayam flu nya jualan vaksinnya laku corona spertinya vaksin manfaat korup duluan vaksin\n"
     ]
    }
   ],
   "source": [
    "stopword = remove_stop_words(katabaku)\n",
    "print(stopword)"
   ]
  },
  {
   "cell_type": "code",
   "execution_count": 18,
   "metadata": {
    "execution": {
     "iopub.execute_input": "2021-08-28T03:39:39.002315Z",
     "iopub.status.busy": "2021-08-28T03:39:39.001694Z",
     "iopub.status.idle": "2021-08-28T03:39:39.580603Z",
     "shell.execute_reply": "2021-08-28T03:39:39.580208Z",
     "shell.execute_reply.started": "2021-08-28T03:20:04.282679Z"
    },
    "papermill": {
     "duration": 0.620999,
     "end_time": "2021-08-28T03:39:39.580710",
     "exception": false,
     "start_time": "2021-08-28T03:39:38.959711",
     "status": "completed"
    },
    "tags": []
   },
   "outputs": [
    {
     "data": {
      "text/html": [
       "<div>\n",
       "<style scoped>\n",
       "    .dataframe tbody tr th:only-of-type {\n",
       "        vertical-align: middle;\n",
       "    }\n",
       "\n",
       "    .dataframe tbody tr th {\n",
       "        vertical-align: top;\n",
       "    }\n",
       "\n",
       "    .dataframe thead th {\n",
       "        text-align: right;\n",
       "    }\n",
       "</style>\n",
       "<table border=\"1\" class=\"dataframe\">\n",
       "  <thead>\n",
       "    <tr style=\"text-align: right;\">\n",
       "      <th></th>\n",
       "      <th>tweet</th>\n",
       "      <th>Kategori</th>\n",
       "      <th>cleaned_tweets</th>\n",
       "    </tr>\n",
       "  </thead>\n",
       "  <tbody>\n",
       "    <tr>\n",
       "      <th>0</th>\n",
       "      <td>@MaspiyuO Tampang si Jokowi dan Si Koruptor E-...</td>\n",
       "      <td>2</td>\n",
       "      <td>tampang si jokowi si koruptor e ktp puan mahas...</td>\n",
       "    </tr>\n",
       "    <tr>\n",
       "      <th>1</th>\n",
       "      <td>Ribet gini si corona teh. Di Bisnis teruss. Eh...</td>\n",
       "      <td>2</td>\n",
       "      <td>ruwet si corona teh bisnis eh sih bisnis makan...</td>\n",
       "    </tr>\n",
       "    <tr>\n",
       "      <th>2</th>\n",
       "      <td>@fadlizon Akal sehat pun harus dipakai. Sumber...</td>\n",
       "      <td>2</td>\n",
       "      <td>akal sehat dipakai sumber virus corona covid b...</td>\n",
       "    </tr>\n",
       "    <tr>\n",
       "      <th>3</th>\n",
       "      <td>@fadlizon Sumber dan Asal birus corona covid 1...</td>\n",
       "      <td>2</td>\n",
       "      <td>sumber birus corona covid cina jual vaksin oba...</td>\n",
       "    </tr>\n",
       "    <tr>\n",
       "      <th>4</th>\n",
       "      <td>Negara yang lalai menjaga rakyat dari terpapar...</td>\n",
       "      <td>2</td>\n",
       "      <td>negara lalai menjaga rakyat terpapar virus cor...</td>\n",
       "    </tr>\n",
       "    <tr>\n",
       "      <th>...</th>\n",
       "      <td>...</td>\n",
       "      <td>...</td>\n",
       "      <td>...</td>\n",
       "    </tr>\n",
       "    <tr>\n",
       "      <th>1096</th>\n",
       "      <td>Dukung Vaksinlah bro.... #VaksinCovid19 #Vaksi...</td>\n",
       "      <td>1</td>\n",
       "      <td>dukung vaksinlah bro</td>\n",
       "    </tr>\n",
       "    <tr>\n",
       "      <th>1097</th>\n",
       "      <td>Mempercepat Program Vaksin Nasional, artinya m...</td>\n",
       "      <td>1</td>\n",
       "      <td>mempercepat program vaksin nasional mempercepa...</td>\n",
       "    </tr>\n",
       "    <tr>\n",
       "      <th>1098</th>\n",
       "      <td>Percepat Vaksin = Kendalikan Covid #VaksinCovi...</td>\n",
       "      <td>1</td>\n",
       "      <td>percepat vaksin kendalikan covid</td>\n",
       "    </tr>\n",
       "    <tr>\n",
       "      <th>1099</th>\n",
       "      <td>JANGAN SANTAI, CORONA BELUM USAI Vaksin hanya ...</td>\n",
       "      <td>1</td>\n",
       "      <td>santai corona vaksin salah ikhtiar patuh proto...</td>\n",
       "    </tr>\n",
       "    <tr>\n",
       "      <th>1100</th>\n",
       "      <td>AYO TERBIT PROKES AGAR TERHINDAR DARI CORONA G...</td>\n",
       "      <td>1</td>\n",
       "      <td>ayo terbit prokes terhindar corona memutus mat...</td>\n",
       "    </tr>\n",
       "  </tbody>\n",
       "</table>\n",
       "<p>1101 rows × 3 columns</p>\n",
       "</div>"
      ],
      "text/plain": [
       "                                                  tweet  Kategori  \\\n",
       "0     @MaspiyuO Tampang si Jokowi dan Si Koruptor E-...         2   \n",
       "1     Ribet gini si corona teh. Di Bisnis teruss. Eh...         2   \n",
       "2     @fadlizon Akal sehat pun harus dipakai. Sumber...         2   \n",
       "3     @fadlizon Sumber dan Asal birus corona covid 1...         2   \n",
       "4     Negara yang lalai menjaga rakyat dari terpapar...         2   \n",
       "...                                                 ...       ...   \n",
       "1096  Dukung Vaksinlah bro.... #VaksinCovid19 #Vaksi...         1   \n",
       "1097  Mempercepat Program Vaksin Nasional, artinya m...         1   \n",
       "1098  Percepat Vaksin = Kendalikan Covid #VaksinCovi...         1   \n",
       "1099  JANGAN SANTAI, CORONA BELUM USAI Vaksin hanya ...         1   \n",
       "1100  AYO TERBIT PROKES AGAR TERHINDAR DARI CORONA G...         1   \n",
       "\n",
       "                                         cleaned_tweets  \n",
       "0     tampang si jokowi si koruptor e ktp puan mahas...  \n",
       "1     ruwet si corona teh bisnis eh sih bisnis makan...  \n",
       "2     akal sehat dipakai sumber virus corona covid b...  \n",
       "3     sumber birus corona covid cina jual vaksin oba...  \n",
       "4     negara lalai menjaga rakyat terpapar virus cor...  \n",
       "...                                                 ...  \n",
       "1096                               dukung vaksinlah bro  \n",
       "1097  mempercepat program vaksin nasional mempercepa...  \n",
       "1098                   percepat vaksin kendalikan covid  \n",
       "1099  santai corona vaksin salah ikhtiar patuh proto...  \n",
       "1100  ayo terbit prokes terhindar corona memutus mat...  \n",
       "\n",
       "[1101 rows x 3 columns]"
      ]
     },
     "execution_count": 18,
     "metadata": {},
     "output_type": "execute_result"
    }
   ],
   "source": [
    "df1['cleaned_tweets'] = df1['cleaned_tweets'].apply(lambda x: remove_stop_words(x))\n",
    "df1"
   ]
  },
  {
   "cell_type": "code",
   "execution_count": 19,
   "metadata": {
    "execution": {
     "iopub.execute_input": "2021-08-28T03:39:39.639549Z",
     "iopub.status.busy": "2021-08-28T03:39:39.638961Z",
     "iopub.status.idle": "2021-08-28T03:39:39.642268Z",
     "shell.execute_reply": "2021-08-28T03:39:39.641582Z",
     "shell.execute_reply.started": "2021-08-28T03:20:04.747022Z"
    },
    "papermill": {
     "duration": 0.035041,
     "end_time": "2021-08-28T03:39:39.642386",
     "exception": false,
     "start_time": "2021-08-28T03:39:39.607345",
     "status": "completed"
    },
    "tags": []
   },
   "outputs": [],
   "source": [
    "def noise(text): \n",
    "    text = text.split()\n",
    "    listStopword =  ['amp', 'tong', 'fry', 'vcs', 'bahh', 'a', 'wkwkwk', 'c', 'yeey', 'oi', 'pret', 'iya', 'nya', 'sih', 'mbok', 'ku', 'loh', 'lho', 'ah', 'nihh', 'ya', 'hah', 'joss', 'deh''rmp', 'v', 'via', 'lha', 'mah', 'xixi']\n",
    "    text = [w for w in text if not w in listStopword]\n",
    "    text = \" \".join(text)\n",
    "    return text"
   ]
  },
  {
   "cell_type": "code",
   "execution_count": 20,
   "metadata": {
    "execution": {
     "iopub.execute_input": "2021-08-28T03:39:39.734850Z",
     "iopub.status.busy": "2021-08-28T03:39:39.731761Z",
     "iopub.status.idle": "2021-08-28T03:39:39.736398Z",
     "shell.execute_reply": "2021-08-28T03:39:39.736847Z",
     "shell.execute_reply.started": "2021-08-28T03:20:04.756259Z"
    },
    "papermill": {
     "duration": 0.054436,
     "end_time": "2021-08-28T03:39:39.736987",
     "exception": false,
     "start_time": "2021-08-28T03:39:39.682551",
     "status": "completed"
    },
    "tags": []
   },
   "outputs": [],
   "source": [
    "df1['cleaned_tweets'] = df1['cleaned_tweets'].apply(lambda x: noise(x))"
   ]
  },
  {
   "cell_type": "code",
   "execution_count": 21,
   "metadata": {
    "execution": {
     "iopub.execute_input": "2021-08-28T03:39:39.793708Z",
     "iopub.status.busy": "2021-08-28T03:39:39.793275Z",
     "iopub.status.idle": "2021-08-28T03:39:39.798758Z",
     "shell.execute_reply": "2021-08-28T03:39:39.798036Z",
     "shell.execute_reply.started": "2021-08-28T03:20:04.777142Z"
    },
    "papermill": {
     "duration": 0.034941,
     "end_time": "2021-08-28T03:39:39.798939",
     "exception": false,
     "start_time": "2021-08-28T03:39:39.763998",
     "status": "completed"
    },
    "tags": []
   },
   "outputs": [
    {
     "name": "stdout",
     "output_type": "stream",
     "text": [
      "maulah vaksinnya belajar virus flu babi flu burung babi ayam flu jualan vaksinnya laku corona spertinya vaksin manfaat korup duluan vaksin\n"
     ]
    }
   ],
   "source": [
    "nois = noise(stopword)\n",
    "print(nois)"
   ]
  },
  {
   "cell_type": "markdown",
   "metadata": {
    "papermill": {
     "duration": 0.040825,
     "end_time": "2021-08-28T03:39:39.882089",
     "exception": false,
     "start_time": "2021-08-28T03:39:39.841264",
     "status": "completed"
    },
    "tags": []
   },
   "source": [
    "# 6. STEAMING"
   ]
  },
  {
   "cell_type": "code",
   "execution_count": 22,
   "metadata": {
    "execution": {
     "iopub.execute_input": "2021-08-28T03:39:39.969557Z",
     "iopub.status.busy": "2021-08-28T03:39:39.968969Z",
     "iopub.status.idle": "2021-08-28T03:39:39.981888Z",
     "shell.execute_reply": "2021-08-28T03:39:39.981309Z",
     "shell.execute_reply.started": "2021-08-28T03:20:04.790583Z"
    },
    "papermill": {
     "duration": 0.058816,
     "end_time": "2021-08-28T03:39:39.982030",
     "exception": false,
     "start_time": "2021-08-28T03:39:39.923214",
     "status": "completed"
    },
    "tags": []
   },
   "outputs": [],
   "source": [
    "from Sastrawi.Stemmer.StemmerFactory import StemmerFactory\n",
    "\n",
    "def steamming(text):\n",
    "    factory = StemmerFactory()\n",
    "    stemmer = factory.create_stemmer()\n",
    "    split = text.split()\n",
    "    hasil = [stemmer.stem(token) for token in split]\n",
    "    hasil = \" \".join(hasil)\n",
    "    return hasil"
   ]
  },
  {
   "cell_type": "code",
   "execution_count": 23,
   "metadata": {
    "execution": {
     "iopub.execute_input": "2021-08-28T03:39:40.066478Z",
     "iopub.status.busy": "2021-08-28T03:39:40.065887Z",
     "iopub.status.idle": "2021-08-28T03:39:40.870929Z",
     "shell.execute_reply": "2021-08-28T03:39:40.870352Z",
     "shell.execute_reply.started": "2021-08-28T03:20:04.821442Z"
    },
    "papermill": {
     "duration": 0.847866,
     "end_time": "2021-08-28T03:39:40.871067",
     "exception": false,
     "start_time": "2021-08-28T03:39:40.023201",
     "status": "completed"
    },
    "tags": []
   },
   "outputs": [
    {
     "name": "stdout",
     "output_type": "stream",
     "text": [
      "mau vaksin ajar virus flu babi flu burung babi ayam flu jual vaksin laku corona spertinya vaksin manfaat korup duluan vaksin\n"
     ]
    }
   ],
   "source": [
    "hasil = steamming(nois)\n",
    "print(hasil)"
   ]
  },
  {
   "cell_type": "code",
   "execution_count": 24,
   "metadata": {
    "execution": {
     "iopub.execute_input": "2021-08-28T03:39:40.958938Z",
     "iopub.status.busy": "2021-08-28T03:39:40.958448Z",
     "iopub.status.idle": "2021-08-28T03:51:04.070785Z",
     "shell.execute_reply": "2021-08-28T03:51:04.071208Z",
     "shell.execute_reply.started": "2021-08-28T03:20:05.059780Z"
    },
    "papermill": {
     "duration": 683.158417,
     "end_time": "2021-08-28T03:51:04.071445",
     "exception": false,
     "start_time": "2021-08-28T03:39:40.913028",
     "status": "completed"
    },
    "tags": []
   },
   "outputs": [
    {
     "data": {
      "text/html": [
       "<div>\n",
       "<style scoped>\n",
       "    .dataframe tbody tr th:only-of-type {\n",
       "        vertical-align: middle;\n",
       "    }\n",
       "\n",
       "    .dataframe tbody tr th {\n",
       "        vertical-align: top;\n",
       "    }\n",
       "\n",
       "    .dataframe thead th {\n",
       "        text-align: right;\n",
       "    }\n",
       "</style>\n",
       "<table border=\"1\" class=\"dataframe\">\n",
       "  <thead>\n",
       "    <tr style=\"text-align: right;\">\n",
       "      <th></th>\n",
       "      <th>tweet</th>\n",
       "      <th>Kategori</th>\n",
       "      <th>cleaned_tweets</th>\n",
       "    </tr>\n",
       "  </thead>\n",
       "  <tbody>\n",
       "    <tr>\n",
       "      <th>0</th>\n",
       "      <td>@MaspiyuO Tampang si Jokowi dan Si Koruptor E-...</td>\n",
       "      <td>2</td>\n",
       "      <td>tampang si jokowi si koruptor e ktp puan mahas...</td>\n",
       "    </tr>\n",
       "    <tr>\n",
       "      <th>1</th>\n",
       "      <td>Ribet gini si corona teh. Di Bisnis teruss. Eh...</td>\n",
       "      <td>2</td>\n",
       "      <td>ruwet si corona teh bisnis eh bisnis makan si ...</td>\n",
       "    </tr>\n",
       "    <tr>\n",
       "      <th>2</th>\n",
       "      <td>@fadlizon Akal sehat pun harus dipakai. Sumber...</td>\n",
       "      <td>2</td>\n",
       "      <td>akal sehat pakai sumber virus corona covid asa...</td>\n",
       "    </tr>\n",
       "    <tr>\n",
       "      <th>3</th>\n",
       "      <td>@fadlizon Sumber dan Asal birus corona covid 1...</td>\n",
       "      <td>2</td>\n",
       "      <td>sumber birus corona covid cina jual vaksin oba...</td>\n",
       "    </tr>\n",
       "    <tr>\n",
       "      <th>4</th>\n",
       "      <td>Negara yang lalai menjaga rakyat dari terpapar...</td>\n",
       "      <td>2</td>\n",
       "      <td>negara lalai jaga rakyat papar virus corona ne...</td>\n",
       "    </tr>\n",
       "    <tr>\n",
       "      <th>...</th>\n",
       "      <td>...</td>\n",
       "      <td>...</td>\n",
       "      <td>...</td>\n",
       "    </tr>\n",
       "    <tr>\n",
       "      <th>1096</th>\n",
       "      <td>Dukung Vaksinlah bro.... #VaksinCovid19 #Vaksi...</td>\n",
       "      <td>1</td>\n",
       "      <td>dukung vaksin bro</td>\n",
       "    </tr>\n",
       "    <tr>\n",
       "      <th>1097</th>\n",
       "      <td>Mempercepat Program Vaksin Nasional, artinya m...</td>\n",
       "      <td>1</td>\n",
       "      <td>cepat program vaksin nasional cepat cegah covid</td>\n",
       "    </tr>\n",
       "    <tr>\n",
       "      <th>1098</th>\n",
       "      <td>Percepat Vaksin = Kendalikan Covid #VaksinCovi...</td>\n",
       "      <td>1</td>\n",
       "      <td>cepat vaksin kendali covid</td>\n",
       "    </tr>\n",
       "    <tr>\n",
       "      <th>1099</th>\n",
       "      <td>JANGAN SANTAI, CORONA BELUM USAI Vaksin hanya ...</td>\n",
       "      <td>1</td>\n",
       "      <td>santai corona vaksin salah ikhtiar patuh proto...</td>\n",
       "    </tr>\n",
       "    <tr>\n",
       "      <th>1100</th>\n",
       "      <td>AYO TERBIT PROKES AGAR TERHINDAR DARI CORONA G...</td>\n",
       "      <td>1</td>\n",
       "      <td>ayo terbit prokes hindar corona putus mata ran...</td>\n",
       "    </tr>\n",
       "  </tbody>\n",
       "</table>\n",
       "<p>1101 rows × 3 columns</p>\n",
       "</div>"
      ],
      "text/plain": [
       "                                                  tweet  Kategori  \\\n",
       "0     @MaspiyuO Tampang si Jokowi dan Si Koruptor E-...         2   \n",
       "1     Ribet gini si corona teh. Di Bisnis teruss. Eh...         2   \n",
       "2     @fadlizon Akal sehat pun harus dipakai. Sumber...         2   \n",
       "3     @fadlizon Sumber dan Asal birus corona covid 1...         2   \n",
       "4     Negara yang lalai menjaga rakyat dari terpapar...         2   \n",
       "...                                                 ...       ...   \n",
       "1096  Dukung Vaksinlah bro.... #VaksinCovid19 #Vaksi...         1   \n",
       "1097  Mempercepat Program Vaksin Nasional, artinya m...         1   \n",
       "1098  Percepat Vaksin = Kendalikan Covid #VaksinCovi...         1   \n",
       "1099  JANGAN SANTAI, CORONA BELUM USAI Vaksin hanya ...         1   \n",
       "1100  AYO TERBIT PROKES AGAR TERHINDAR DARI CORONA G...         1   \n",
       "\n",
       "                                         cleaned_tweets  \n",
       "0     tampang si jokowi si koruptor e ktp puan mahas...  \n",
       "1     ruwet si corona teh bisnis eh bisnis makan si ...  \n",
       "2     akal sehat pakai sumber virus corona covid asa...  \n",
       "3     sumber birus corona covid cina jual vaksin oba...  \n",
       "4     negara lalai jaga rakyat papar virus corona ne...  \n",
       "...                                                 ...  \n",
       "1096                                  dukung vaksin bro  \n",
       "1097    cepat program vaksin nasional cepat cegah covid  \n",
       "1098                         cepat vaksin kendali covid  \n",
       "1099  santai corona vaksin salah ikhtiar patuh proto...  \n",
       "1100  ayo terbit prokes hindar corona putus mata ran...  \n",
       "\n",
       "[1101 rows x 3 columns]"
      ]
     },
     "execution_count": 24,
     "metadata": {},
     "output_type": "execute_result"
    }
   ],
   "source": [
    "df1['cleaned_tweets'] = df1['cleaned_tweets'].apply(lambda x: steamming(x))\n",
    "df1"
   ]
  },
  {
   "cell_type": "code",
   "execution_count": 25,
   "metadata": {
    "execution": {
     "iopub.execute_input": "2021-08-28T03:51:04.133576Z",
     "iopub.status.busy": "2021-08-28T03:51:04.133046Z",
     "iopub.status.idle": "2021-08-28T03:51:04.135916Z",
     "shell.execute_reply": "2021-08-28T03:51:04.135422Z",
     "shell.execute_reply.started": "2021-08-28T03:28:17.812625Z"
    },
    "papermill": {
     "duration": 0.035731,
     "end_time": "2021-08-28T03:51:04.136030",
     "exception": false,
     "start_time": "2021-08-28T03:51:04.100299",
     "status": "completed"
    },
    "tags": []
   },
   "outputs": [],
   "source": [
    "df2 = df1"
   ]
  },
  {
   "cell_type": "markdown",
   "metadata": {
    "papermill": {
     "duration": 0.027361,
     "end_time": "2021-08-28T03:51:04.191444",
     "exception": false,
     "start_time": "2021-08-28T03:51:04.164083",
     "status": "completed"
    },
    "tags": []
   },
   "source": [
    "# VEKTORISASI"
   ]
  },
  {
   "cell_type": "code",
   "execution_count": 26,
   "metadata": {
    "execution": {
     "iopub.execute_input": "2021-08-28T03:51:04.263517Z",
     "iopub.status.busy": "2021-08-28T03:51:04.255219Z",
     "iopub.status.idle": "2021-08-28T03:51:04.275749Z",
     "shell.execute_reply": "2021-08-28T03:51:04.275244Z",
     "shell.execute_reply.started": "2021-08-28T03:28:17.820044Z"
    },
    "papermill": {
     "duration": 0.056237,
     "end_time": "2021-08-28T03:51:04.275890",
     "exception": false,
     "start_time": "2021-08-28T03:51:04.219653",
     "status": "completed"
    },
    "tags": []
   },
   "outputs": [],
   "source": [
    "from sklearn.feature_extraction.text import CountVectorizer\n",
    "\n",
    "cv = CountVectorizer()\n",
    "text_counts = cv.fit_transform(df2['cleaned_tweets'])"
   ]
  },
  {
   "cell_type": "markdown",
   "metadata": {
    "papermill": {
     "duration": 0.028009,
     "end_time": "2021-08-28T03:51:04.332290",
     "exception": false,
     "start_time": "2021-08-28T03:51:04.304281",
     "status": "completed"
    },
    "tags": []
   },
   "source": [
    "# SPLIT DATASET"
   ]
  },
  {
   "cell_type": "code",
   "execution_count": 27,
   "metadata": {
    "execution": {
     "iopub.execute_input": "2021-08-28T03:51:04.397508Z",
     "iopub.status.busy": "2021-08-28T03:51:04.397015Z",
     "iopub.status.idle": "2021-08-28T03:51:04.416936Z",
     "shell.execute_reply": "2021-08-28T03:51:04.416312Z",
     "shell.execute_reply.started": "2021-08-28T03:28:17.874649Z"
    },
    "papermill": {
     "duration": 0.055999,
     "end_time": "2021-08-28T03:51:04.417075",
     "exception": false,
     "start_time": "2021-08-28T03:51:04.361076",
     "status": "completed"
    },
    "tags": []
   },
   "outputs": [
    {
     "name": "stdout",
     "output_type": "stream",
     "text": [
      "MNB accuracy = 88.66213151927438%\n",
      "BNB accuracy = 82.77%\n"
     ]
    }
   ],
   "source": [
    "from sklearn.model_selection import train_test_split\n",
    "from sklearn.naive_bayes import MultinomialNB\n",
    "from sklearn.naive_bayes import BernoulliNB\n",
    "from sklearn import metrics\n",
    "\n",
    "X_train, X_test, Y_train, Y_test = train_test_split(text_counts, df2['Kategori'], test_size=0.4)\n",
    "\n",
    "MNB = MultinomialNB()\n",
    "BNB = BernoulliNB()\n",
    "\n",
    "MNB.fit(X_train, Y_train)\n",
    "predicted = MNB.predict(X_test)\n",
    "model1 = metrics.accuracy_score(predicted, Y_test)\n",
    "print('MNB accuracy = ' + str(model1*100) + '%')\n",
    "\n",
    "BNB.fit(X_train, Y_train)\n",
    "predicted = BNB.predict(X_test)\n",
    "model2 = metrics.accuracy_score(BNB.predict(X_test),Y_test)\n",
    "print('BNB accuracy = ' + str('{:4.2f}'.format(model2*100))+'%')"
   ]
  },
  {
   "cell_type": "code",
   "execution_count": 28,
   "metadata": {
    "execution": {
     "iopub.execute_input": "2021-08-28T03:51:04.510300Z",
     "iopub.status.busy": "2021-08-28T03:51:04.509621Z",
     "iopub.status.idle": "2021-08-28T03:51:04.517766Z",
     "shell.execute_reply": "2021-08-28T03:51:04.518173Z",
     "shell.execute_reply.started": "2021-08-28T03:28:17.905278Z"
    },
    "papermill": {
     "duration": 0.057762,
     "end_time": "2021-08-28T03:51:04.518313",
     "exception": false,
     "start_time": "2021-08-28T03:51:04.460551",
     "status": "completed"
    },
    "tags": []
   },
   "outputs": [
    {
     "name": "stdout",
     "output_type": "stream",
     "text": [
      "MNB accuracy = 88.66213151927438%\n",
      "BNB accuracy = 82.77%\n"
     ]
    }
   ],
   "source": [
    "X_train, X_test, Y_train, Y_test = train_test_split(text_counts, df2['Kategori'], test_size=0.3)\n",
    "\n",
    "MNB.fit(X_train, Y_train)\n",
    "predicted = MNB.predict(X_test)\n",
    "model3 = metrics.accuracy_score(predicted, Y_test)\n",
    "print('MNB accuracy = ' + str(model1*100) + '%')\n",
    "\n",
    "predicted = BNB.predict(X_test)\n",
    "model4 = metrics.accuracy_score(BNB.predict(X_test),Y_test)\n",
    "print('BNB accuracy = ' + str('{:4.2f}'.format(model2*100))+'%')"
   ]
  },
  {
   "cell_type": "code",
   "execution_count": 29,
   "metadata": {
    "execution": {
     "iopub.execute_input": "2021-08-28T03:51:04.582437Z",
     "iopub.status.busy": "2021-08-28T03:51:04.581714Z",
     "iopub.status.idle": "2021-08-28T03:51:04.591941Z",
     "shell.execute_reply": "2021-08-28T03:51:04.591470Z",
     "shell.execute_reply.started": "2021-08-28T03:28:17.926318Z"
    },
    "papermill": {
     "duration": 0.045399,
     "end_time": "2021-08-28T03:51:04.592070",
     "exception": false,
     "start_time": "2021-08-28T03:51:04.546671",
     "status": "completed"
    },
    "tags": []
   },
   "outputs": [
    {
     "name": "stdout",
     "output_type": "stream",
     "text": [
      "MNB accuracy = 88.66213151927438%\n",
      "BNB accuracy = 82.77%\n"
     ]
    }
   ],
   "source": [
    "X_train, X_test, Y_train, Y_test = train_test_split(text_counts, df2['Kategori'], test_size=0.2)\n",
    "\n",
    "MNB.fit(X_train, Y_train)\n",
    "predicted = MNB.predict(X_test)\n",
    "model5 = metrics.accuracy_score(predicted, Y_test)\n",
    "print('MNB accuracy = ' + str(model1*100) + '%')\n",
    "\n",
    "predicted = BNB.predict(X_test)\n",
    "model6 = metrics.accuracy_score(BNB.predict(X_test),Y_test)\n",
    "print('BNB accuracy = ' + str('{:4.2f}'.format(model2*100))+'%')"
   ]
  },
  {
   "cell_type": "code",
   "execution_count": 30,
   "metadata": {
    "execution": {
     "iopub.execute_input": "2021-08-28T03:51:04.655890Z",
     "iopub.status.busy": "2021-08-28T03:51:04.655410Z",
     "iopub.status.idle": "2021-08-28T03:51:04.663995Z",
     "shell.execute_reply": "2021-08-28T03:51:04.663587Z",
     "shell.execute_reply.started": "2021-08-28T03:28:17.945122Z"
    },
    "papermill": {
     "duration": 0.042152,
     "end_time": "2021-08-28T03:51:04.664108",
     "exception": false,
     "start_time": "2021-08-28T03:51:04.621956",
     "status": "completed"
    },
    "tags": []
   },
   "outputs": [
    {
     "name": "stdout",
     "output_type": "stream",
     "text": [
      "MNB accuracy = 88.66213151927438%\n",
      "BNB accuracy = 82.77%\n"
     ]
    }
   ],
   "source": [
    "x_train, x_test, y_train, y_test = train_test_split(text_counts, df2['Kategori'], test_size=0.1)\n",
    "\n",
    "MNB.fit(X_train, Y_train)\n",
    "predicted = MNB.predict(X_test)\n",
    "model7 = metrics.accuracy_score(predicted, Y_test)\n",
    "print('MNB accuracy = ' + str(model1*100) + '%')\n",
    "\n",
    "predicted = BNB.predict(X_test)\n",
    "model8 = metrics.accuracy_score(BNB.predict(X_test),Y_test)\n",
    "print('BNB accuracy = ' + str('{:4.2f}'.format(model2*100))+'%')"
   ]
  },
  {
   "cell_type": "code",
   "execution_count": 31,
   "metadata": {
    "execution": {
     "iopub.execute_input": "2021-08-28T03:51:04.732191Z",
     "iopub.status.busy": "2021-08-28T03:51:04.731683Z",
     "iopub.status.idle": "2021-08-28T03:51:04.733990Z",
     "shell.execute_reply": "2021-08-28T03:51:04.734420Z",
     "shell.execute_reply.started": "2021-08-28T03:28:17.974823Z"
    },
    "papermill": {
     "duration": 0.041588,
     "end_time": "2021-08-28T03:51:04.734551",
     "exception": false,
     "start_time": "2021-08-28T03:51:04.692963",
     "status": "completed"
    },
    "tags": []
   },
   "outputs": [
    {
     "data": {
      "text/html": [
       "<div>\n",
       "<style scoped>\n",
       "    .dataframe tbody tr th:only-of-type {\n",
       "        vertical-align: middle;\n",
       "    }\n",
       "\n",
       "    .dataframe tbody tr th {\n",
       "        vertical-align: top;\n",
       "    }\n",
       "\n",
       "    .dataframe thead th {\n",
       "        text-align: right;\n",
       "    }\n",
       "</style>\n",
       "<table border=\"1\" class=\"dataframe\">\n",
       "  <thead>\n",
       "    <tr style=\"text-align: right;\">\n",
       "      <th></th>\n",
       "      <th>Test</th>\n",
       "      <th>Train</th>\n",
       "      <th>Multinomial</th>\n",
       "      <th>Bernoulli</th>\n",
       "    </tr>\n",
       "  </thead>\n",
       "  <tbody>\n",
       "    <tr>\n",
       "      <th>0</th>\n",
       "      <td>40%</td>\n",
       "      <td>60%</td>\n",
       "      <td>0.886621</td>\n",
       "      <td>0.827664</td>\n",
       "    </tr>\n",
       "    <tr>\n",
       "      <th>1</th>\n",
       "      <td>30%</td>\n",
       "      <td>70%</td>\n",
       "      <td>0.870091</td>\n",
       "      <td>0.864048</td>\n",
       "    </tr>\n",
       "    <tr>\n",
       "      <th>2</th>\n",
       "      <td>20%</td>\n",
       "      <td>80%</td>\n",
       "      <td>0.895928</td>\n",
       "      <td>0.882353</td>\n",
       "    </tr>\n",
       "    <tr>\n",
       "      <th>3</th>\n",
       "      <td>10%</td>\n",
       "      <td>90%</td>\n",
       "      <td>0.895928</td>\n",
       "      <td>0.882353</td>\n",
       "    </tr>\n",
       "  </tbody>\n",
       "</table>\n",
       "</div>"
      ],
      "text/plain": [
       "  Test Train  Multinomial  Bernoulli\n",
       "0  40%   60%     0.886621   0.827664\n",
       "1  30%   70%     0.870091   0.864048\n",
       "2  20%   80%     0.895928   0.882353\n",
       "3  10%   90%     0.895928   0.882353"
      ]
     },
     "execution_count": 31,
     "metadata": {},
     "output_type": "execute_result"
    }
   ],
   "source": [
    "test=['40%', '30%', '20%', '10%']\n",
    "train = ['60%', '70%', '80%', '90%']\n",
    "multinomial = [model1, model3, model5, model7]\n",
    "bernoulli = [model2, model4, model6, model8]\n",
    "d={'Test':test,'Train':train, 'Multinomial':multinomial, 'Bernoulli':bernoulli}   \n",
    "dataframe=pd.DataFrame(d)\n",
    "dataframe"
   ]
  }
 ],
 "metadata": {
  "kernelspec": {
   "display_name": "Python 3",
   "language": "python",
   "name": "python3"
  },
  "language_info": {
   "codemirror_mode": {
    "name": "ipython",
    "version": 3
   },
   "file_extension": ".py",
   "mimetype": "text/x-python",
   "name": "python",
   "nbconvert_exporter": "python",
   "pygments_lexer": "ipython3",
   "version": "3.7.9"
  },
  "papermill": {
   "default_parameters": {},
   "duration": 704.839857,
   "end_time": "2021-08-28T03:51:05.474849",
   "environment_variables": {},
   "exception": null,
   "input_path": "__notebook__.ipynb",
   "output_path": "__notebook__.ipynb",
   "parameters": {},
   "start_time": "2021-08-28T03:39:20.634992",
   "version": "2.2.2"
  }
 },
 "nbformat": 4,
 "nbformat_minor": 4
}
