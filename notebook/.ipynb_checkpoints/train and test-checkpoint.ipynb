{
 "cells": [
  {
   "cell_type": "code",
   "execution_count": 1,
   "metadata": {
    "execution": {
     "iopub.execute_input": "2021-03-11T05:19:59.531887Z",
     "iopub.status.busy": "2021-03-11T05:19:59.531000Z",
     "iopub.status.idle": "2021-03-11T05:20:09.597197Z",
     "shell.execute_reply": "2021-03-11T05:20:09.596244Z"
    },
    "papermill": {
     "duration": 10.126654,
     "end_time": "2021-03-11T05:20:09.597477",
     "exception": false,
     "start_time": "2021-03-11T05:19:59.470823",
     "status": "completed"
    },
    "tags": []
   },
   "outputs": [
    {
     "name": "stdout",
     "output_type": "stream",
     "text": [
      "Collecting Sastrawi\r\n",
      "  Downloading Sastrawi-1.0.1-py2.py3-none-any.whl (209 kB)\r\n",
      "\u001b[K     |████████████████████████████████| 209 kB 836 kB/s \r\n",
      "\u001b[?25hInstalling collected packages: Sastrawi\r\n",
      "Successfully installed Sastrawi-1.0.1\r\n"
     ]
    }
   ],
   "source": [
    "!pip install Sastrawi"
   ]
  },
  {
   "cell_type": "markdown",
   "metadata": {
    "papermill": {
     "duration": 0.055554,
     "end_time": "2021-03-11T05:20:09.709046",
     "exception": false,
     "start_time": "2021-03-11T05:20:09.653492",
     "status": "completed"
    },
    "tags": []
   },
   "source": [
    "# READ DATASET"
   ]
  },
  {
   "cell_type": "code",
   "execution_count": 2,
   "metadata": {
    "_cell_guid": "b1076dfc-b9ad-4769-8c92-a6c4dae69d19",
    "_uuid": "8f2839f25d086af736a60e9eeb907d3b93b6e0e5",
    "execution": {
     "iopub.execute_input": "2021-03-11T05:20:09.828088Z",
     "iopub.status.busy": "2021-03-11T05:20:09.827368Z",
     "iopub.status.idle": "2021-03-11T05:20:09.842984Z",
     "shell.execute_reply": "2021-03-11T05:20:09.843477Z"
    },
    "papermill": {
     "duration": 0.077565,
     "end_time": "2021-03-11T05:20:09.843743",
     "exception": false,
     "start_time": "2021-03-11T05:20:09.766178",
     "status": "completed"
    },
    "tags": []
   },
   "outputs": [
    {
     "name": "stdout",
     "output_type": "stream",
     "text": [
      "/kaggle/input/vaksin/vaksinn.csv\n",
      "/kaggle/input/vaksin/kbba.csv\n"
     ]
    }
   ],
   "source": [
    "import os\n",
    "for dirname, _, filenames in os.walk('/kaggle/input'):\n",
    "    for filename in filenames:\n",
    "        print(os.path.join(dirname, filename))"
   ]
  },
  {
   "cell_type": "code",
   "execution_count": 3,
   "metadata": {
    "execution": {
     "iopub.execute_input": "2021-03-11T05:20:09.968450Z",
     "iopub.status.busy": "2021-03-11T05:20:09.967627Z",
     "iopub.status.idle": "2021-03-11T05:20:10.042098Z",
     "shell.execute_reply": "2021-03-11T05:20:10.040573Z"
    },
    "papermill": {
     "duration": 0.140969,
     "end_time": "2021-03-11T05:20:10.042331",
     "exception": false,
     "start_time": "2021-03-11T05:20:09.901362",
     "status": "completed"
    },
    "tags": []
   },
   "outputs": [
    {
     "data": {
      "text/html": [
       "<div>\n",
       "<style scoped>\n",
       "    .dataframe tbody tr th:only-of-type {\n",
       "        vertical-align: middle;\n",
       "    }\n",
       "\n",
       "    .dataframe tbody tr th {\n",
       "        vertical-align: top;\n",
       "    }\n",
       "\n",
       "    .dataframe thead th {\n",
       "        text-align: right;\n",
       "    }\n",
       "</style>\n",
       "<table border=\"1\" class=\"dataframe\">\n",
       "  <thead>\n",
       "    <tr style=\"text-align: right;\">\n",
       "      <th></th>\n",
       "      <th>id</th>\n",
       "      <th>date</th>\n",
       "      <th>username</th>\n",
       "      <th>tweet</th>\n",
       "      <th>Kategori</th>\n",
       "    </tr>\n",
       "  </thead>\n",
       "  <tbody>\n",
       "    <tr>\n",
       "      <th>0</th>\n",
       "      <td>1.339103e+18</td>\n",
       "      <td>2020-12-16</td>\n",
       "      <td>abdulaz93506871</td>\n",
       "      <td>@MaspiyuO Tampang si Jokowi dan Si Koruptor E-...</td>\n",
       "      <td>2</td>\n",
       "    </tr>\n",
       "    <tr>\n",
       "      <th>1</th>\n",
       "      <td>1.339053e+18</td>\n",
       "      <td>2020-12-16</td>\n",
       "      <td>alyssa_ncls</td>\n",
       "      <td>Ribet gini si corona teh. Di Bisnis teruss. Eh...</td>\n",
       "      <td>2</td>\n",
       "    </tr>\n",
       "    <tr>\n",
       "      <th>2</th>\n",
       "      <td>1.339146e+18</td>\n",
       "      <td>2020-12-16</td>\n",
       "      <td>amellia76564885</td>\n",
       "      <td>@fadlizon Akal sehat pun harus dipakai. Sumber...</td>\n",
       "      <td>2</td>\n",
       "    </tr>\n",
       "    <tr>\n",
       "      <th>3</th>\n",
       "      <td>1.339143e+18</td>\n",
       "      <td>2020-12-16</td>\n",
       "      <td>amellia76564885</td>\n",
       "      <td>@fadlizon Sumber dan Asal birus corona covid 1...</td>\n",
       "      <td>2</td>\n",
       "    </tr>\n",
       "    <tr>\n",
       "      <th>4</th>\n",
       "      <td>1.339065e+18</td>\n",
       "      <td>2020-12-16</td>\n",
       "      <td>anaktopik</td>\n",
       "      <td>Negara yang lalai menjaga rakyat dari terpapar...</td>\n",
       "      <td>2</td>\n",
       "    </tr>\n",
       "    <tr>\n",
       "      <th>...</th>\n",
       "      <td>...</td>\n",
       "      <td>...</td>\n",
       "      <td>...</td>\n",
       "      <td>...</td>\n",
       "      <td>...</td>\n",
       "    </tr>\n",
       "    <tr>\n",
       "      <th>1995</th>\n",
       "      <td>1.341977e+18</td>\n",
       "      <td>2020-12-24</td>\n",
       "      <td>nar_dwi</td>\n",
       "      <td>Tak usah ragu dan takut dengan Vaksin,  BPOM p...</td>\n",
       "      <td>1</td>\n",
       "    </tr>\n",
       "    <tr>\n",
       "      <th>1996</th>\n",
       "      <td>1.341973e+18</td>\n",
       "      <td>2020-12-24</td>\n",
       "      <td>detikinet</td>\n",
       "      <td>Untuk mengendalikan pandemi, vaksin Corona per...</td>\n",
       "      <td>1</td>\n",
       "    </tr>\n",
       "    <tr>\n",
       "      <th>1997</th>\n",
       "      <td>1.341972e+18</td>\n",
       "      <td>2020-12-24</td>\n",
       "      <td>heldadh3</td>\n",
       "      <td>@jokowi Sehingga vaksin ini mampu menjadi hara...</td>\n",
       "      <td>1</td>\n",
       "    </tr>\n",
       "    <tr>\n",
       "      <th>1998</th>\n",
       "      <td>1.341943e+18</td>\n",
       "      <td>2020-12-24</td>\n",
       "      <td>godham5</td>\n",
       "      <td>@27_jelo @jokowi #DemiNKRI  Akooh jg siap utk ...</td>\n",
       "      <td>1</td>\n",
       "    </tr>\n",
       "    <tr>\n",
       "      <th>1999</th>\n",
       "      <td>1.341994e+18</td>\n",
       "      <td>2020-12-24</td>\n",
       "      <td>ikanbadutz</td>\n",
       "      <td>@Ephraym9 Gw kuatirnye vaksin yg udh dibeli gk...</td>\n",
       "      <td>2</td>\n",
       "    </tr>\n",
       "  </tbody>\n",
       "</table>\n",
       "<p>2000 rows × 5 columns</p>\n",
       "</div>"
      ],
      "text/plain": [
       "                id        date         username  \\\n",
       "0     1.339103e+18  2020-12-16  abdulaz93506871   \n",
       "1     1.339053e+18  2020-12-16      alyssa_ncls   \n",
       "2     1.339146e+18  2020-12-16  amellia76564885   \n",
       "3     1.339143e+18  2020-12-16  amellia76564885   \n",
       "4     1.339065e+18  2020-12-16        anaktopik   \n",
       "...            ...         ...              ...   \n",
       "1995  1.341977e+18  2020-12-24          nar_dwi   \n",
       "1996  1.341973e+18  2020-12-24        detikinet   \n",
       "1997  1.341972e+18  2020-12-24         heldadh3   \n",
       "1998  1.341943e+18  2020-12-24          godham5   \n",
       "1999  1.341994e+18  2020-12-24       ikanbadutz   \n",
       "\n",
       "                                                  tweet  Kategori  \n",
       "0     @MaspiyuO Tampang si Jokowi dan Si Koruptor E-...         2  \n",
       "1     Ribet gini si corona teh. Di Bisnis teruss. Eh...         2  \n",
       "2     @fadlizon Akal sehat pun harus dipakai. Sumber...         2  \n",
       "3     @fadlizon Sumber dan Asal birus corona covid 1...         2  \n",
       "4     Negara yang lalai menjaga rakyat dari terpapar...         2  \n",
       "...                                                 ...       ...  \n",
       "1995  Tak usah ragu dan takut dengan Vaksin,  BPOM p...         1  \n",
       "1996  Untuk mengendalikan pandemi, vaksin Corona per...         1  \n",
       "1997  @jokowi Sehingga vaksin ini mampu menjadi hara...         1  \n",
       "1998  @27_jelo @jokowi #DemiNKRI  Akooh jg siap utk ...         1  \n",
       "1999  @Ephraym9 Gw kuatirnye vaksin yg udh dibeli gk...         2  \n",
       "\n",
       "[2000 rows x 5 columns]"
      ]
     },
     "execution_count": 3,
     "metadata": {},
     "output_type": "execute_result"
    }
   ],
   "source": [
    "import pandas as pd\n",
    "\n",
    "df = pd.read_csv(\"/kaggle/input/vaksin/vaksinn.csv\")\n",
    "df"
   ]
  },
  {
   "cell_type": "code",
   "execution_count": 4,
   "metadata": {
    "execution": {
     "iopub.execute_input": "2021-03-11T05:20:10.171095Z",
     "iopub.status.busy": "2021-03-11T05:20:10.169835Z",
     "iopub.status.idle": "2021-03-11T05:20:10.175797Z",
     "shell.execute_reply": "2021-03-11T05:20:10.174977Z"
    },
    "papermill": {
     "duration": 0.073624,
     "end_time": "2021-03-11T05:20:10.175956",
     "exception": false,
     "start_time": "2021-03-11T05:20:10.102332",
     "status": "completed"
    },
    "tags": []
   },
   "outputs": [
    {
     "data": {
      "text/plain": [
       "1    1430\n",
       "2     570\n",
       "Name: Kategori, dtype: int64"
      ]
     },
     "execution_count": 4,
     "metadata": {},
     "output_type": "execute_result"
    }
   ],
   "source": [
    "df['Kategori'].value_counts()"
   ]
  },
  {
   "cell_type": "code",
   "execution_count": 5,
   "metadata": {
    "execution": {
     "iopub.execute_input": "2021-03-11T05:20:10.300179Z",
     "iopub.status.busy": "2021-03-11T05:20:10.299497Z",
     "iopub.status.idle": "2021-03-11T05:20:11.545867Z",
     "shell.execute_reply": "2021-03-11T05:20:11.545269Z"
    },
    "papermill": {
     "duration": 1.311646,
     "end_time": "2021-03-11T05:20:11.546037",
     "exception": false,
     "start_time": "2021-03-11T05:20:10.234391",
     "status": "completed"
    },
    "tags": []
   },
   "outputs": [
    {
     "data": {
      "text/plain": [
       "<AxesSubplot:xlabel='Kategori', ylabel='count'>"
      ]
     },
     "execution_count": 5,
     "metadata": {},
     "output_type": "execute_result"
    },
    {
     "data": {
      "image/png": "[encoded data removed]",
      "text/plain": [
       "<Figure size 432x288 with 1 Axes>"
      ]
     },
     "metadata": {
      "needs_background": "light"
     },
     "output_type": "display_data"
    }
   ],
   "source": [
    "import seaborn as sns\n",
    "\n",
    "sns.countplot(x=\"Kategori\", data=df)"
   ]
  },
  {
   "cell_type": "code",
   "execution_count": 6,
   "metadata": {
    "execution": {
     "iopub.execute_input": "2021-03-11T05:20:11.675076Z",
     "iopub.status.busy": "2021-03-11T05:20:11.674383Z",
     "iopub.status.idle": "2021-03-11T05:20:11.866227Z",
     "shell.execute_reply": "2021-03-11T05:20:11.865121Z"
    },
    "papermill": {
     "duration": 0.260551,
     "end_time": "2021-03-11T05:20:11.866418",
     "exception": false,
     "start_time": "2021-03-11T05:20:11.605867",
     "status": "completed"
    },
    "tags": []
   },
   "outputs": [
    {
     "data": {
      "image/png": "[encoded data removed]",
      "text/plain": [
       "<Figure size 576x576 with 1 Axes>"
      ]
     },
     "metadata": {},
     "output_type": "display_data"
    }
   ],
   "source": [
    "import matplotlib.pyplot as plt\n",
    "df['Kategori'].value_counts().plot.pie(explode=[0 ,0.1],autopct='%1.1f%%',\n",
    "                                         shadow=True, colors = ['lightcoral','lightgreen'], figsize=(8,8))\n",
    "plt.show()"
   ]
  },
  {
   "cell_type": "markdown",
   "metadata": {
    "papermill": {
     "duration": 0.063053,
     "end_time": "2021-03-11T05:20:11.992208",
     "exception": false,
     "start_time": "2021-03-11T05:20:11.929155",
     "status": "completed"
    },
    "tags": []
   },
   "source": [
    "# PREPROCESSING"
   ]
  },
  {
   "cell_type": "markdown",
   "metadata": {
    "papermill": {
     "duration": 0.063373,
     "end_time": "2021-03-11T05:20:12.120268",
     "exception": false,
     "start_time": "2021-03-11T05:20:12.056895",
     "status": "completed"
    },
    "tags": []
   },
   "source": [
    "# 2. Filtering"
   ]
  },
  {
   "cell_type": "code",
   "execution_count": 7,
   "metadata": {
    "execution": {
     "iopub.execute_input": "2021-03-11T05:20:12.245516Z",
     "iopub.status.busy": "2021-03-11T05:20:12.244207Z",
     "iopub.status.idle": "2021-03-11T05:20:12.262614Z",
     "shell.execute_reply": "2021-03-11T05:20:12.262030Z"
    },
    "papermill": {
     "duration": 0.080834,
     "end_time": "2021-03-11T05:20:12.262760",
     "exception": false,
     "start_time": "2021-03-11T05:20:12.181926",
     "status": "completed"
    },
    "tags": []
   },
   "outputs": [
    {
     "data": {
      "text/html": [
       "<div>\n",
       "<style scoped>\n",
       "    .dataframe tbody tr th:only-of-type {\n",
       "        vertical-align: middle;\n",
       "    }\n",
       "\n",
       "    .dataframe tbody tr th {\n",
       "        vertical-align: top;\n",
       "    }\n",
       "\n",
       "    .dataframe thead th {\n",
       "        text-align: right;\n",
       "    }\n",
       "</style>\n",
       "<table border=\"1\" class=\"dataframe\">\n",
       "  <thead>\n",
       "    <tr style=\"text-align: right;\">\n",
       "      <th></th>\n",
       "      <th>tweet</th>\n",
       "      <th>Kategori</th>\n",
       "    </tr>\n",
       "  </thead>\n",
       "  <tbody>\n",
       "    <tr>\n",
       "      <th>0</th>\n",
       "      <td>@MaspiyuO Tampang si Jokowi dan Si Koruptor E-...</td>\n",
       "      <td>2</td>\n",
       "    </tr>\n",
       "    <tr>\n",
       "      <th>1</th>\n",
       "      <td>Ribet gini si corona teh. Di Bisnis teruss. Eh...</td>\n",
       "      <td>2</td>\n",
       "    </tr>\n",
       "    <tr>\n",
       "      <th>2</th>\n",
       "      <td>@fadlizon Akal sehat pun harus dipakai. Sumber...</td>\n",
       "      <td>2</td>\n",
       "    </tr>\n",
       "    <tr>\n",
       "      <th>3</th>\n",
       "      <td>@fadlizon Sumber dan Asal birus corona covid 1...</td>\n",
       "      <td>2</td>\n",
       "    </tr>\n",
       "    <tr>\n",
       "      <th>4</th>\n",
       "      <td>Negara yang lalai menjaga rakyat dari terpapar...</td>\n",
       "      <td>2</td>\n",
       "    </tr>\n",
       "    <tr>\n",
       "      <th>...</th>\n",
       "      <td>...</td>\n",
       "      <td>...</td>\n",
       "    </tr>\n",
       "    <tr>\n",
       "      <th>1995</th>\n",
       "      <td>Tak usah ragu dan takut dengan Vaksin,  BPOM p...</td>\n",
       "      <td>1</td>\n",
       "    </tr>\n",
       "    <tr>\n",
       "      <th>1996</th>\n",
       "      <td>Untuk mengendalikan pandemi, vaksin Corona per...</td>\n",
       "      <td>1</td>\n",
       "    </tr>\n",
       "    <tr>\n",
       "      <th>1997</th>\n",
       "      <td>@jokowi Sehingga vaksin ini mampu menjadi hara...</td>\n",
       "      <td>1</td>\n",
       "    </tr>\n",
       "    <tr>\n",
       "      <th>1998</th>\n",
       "      <td>@27_jelo @jokowi #DemiNKRI  Akooh jg siap utk ...</td>\n",
       "      <td>1</td>\n",
       "    </tr>\n",
       "    <tr>\n",
       "      <th>1999</th>\n",
       "      <td>@Ephraym9 Gw kuatirnye vaksin yg udh dibeli gk...</td>\n",
       "      <td>2</td>\n",
       "    </tr>\n",
       "  </tbody>\n",
       "</table>\n",
       "<p>2000 rows × 2 columns</p>\n",
       "</div>"
      ],
      "text/plain": [
       "                                                  tweet  Kategori\n",
       "0     @MaspiyuO Tampang si Jokowi dan Si Koruptor E-...         2\n",
       "1     Ribet gini si corona teh. Di Bisnis teruss. Eh...         2\n",
       "2     @fadlizon Akal sehat pun harus dipakai. Sumber...         2\n",
       "3     @fadlizon Sumber dan Asal birus corona covid 1...         2\n",
       "4     Negara yang lalai menjaga rakyat dari terpapar...         2\n",
       "...                                                 ...       ...\n",
       "1995  Tak usah ragu dan takut dengan Vaksin,  BPOM p...         1\n",
       "1996  Untuk mengendalikan pandemi, vaksin Corona per...         1\n",
       "1997  @jokowi Sehingga vaksin ini mampu menjadi hara...         1\n",
       "1998  @27_jelo @jokowi #DemiNKRI  Akooh jg siap utk ...         1\n",
       "1999  @Ephraym9 Gw kuatirnye vaksin yg udh dibeli gk...         2\n",
       "\n",
       "[2000 rows x 2 columns]"
      ]
     },
     "execution_count": 7,
     "metadata": {},
     "output_type": "execute_result"
    }
   ],
   "source": [
    "df1 = df.copy()\n",
    "del df1['id'], df1['date'], df1['username']\n",
    "df1"
   ]
  },
  {
   "cell_type": "code",
   "execution_count": 8,
   "metadata": {
    "execution": {
     "iopub.execute_input": "2021-03-11T05:20:12.396578Z",
     "iopub.status.busy": "2021-03-11T05:20:12.395914Z",
     "iopub.status.idle": "2021-03-11T05:20:12.408910Z",
     "shell.execute_reply": "2021-03-11T05:20:12.409480Z"
    },
    "papermill": {
     "duration": 0.083209,
     "end_time": "2021-03-11T05:20:12.409672",
     "exception": false,
     "start_time": "2021-03-11T05:20:12.326463",
     "status": "completed"
    },
    "tags": []
   },
   "outputs": [
    {
     "data": {
      "text/html": [
       "<div>\n",
       "<style scoped>\n",
       "    .dataframe tbody tr th:only-of-type {\n",
       "        vertical-align: middle;\n",
       "    }\n",
       "\n",
       "    .dataframe tbody tr th {\n",
       "        vertical-align: top;\n",
       "    }\n",
       "\n",
       "    .dataframe thead th {\n",
       "        text-align: right;\n",
       "    }\n",
       "</style>\n",
       "<table border=\"1\" class=\"dataframe\">\n",
       "  <thead>\n",
       "    <tr style=\"text-align: right;\">\n",
       "      <th></th>\n",
       "      <th>tweet</th>\n",
       "      <th>Kategori</th>\n",
       "    </tr>\n",
       "  </thead>\n",
       "  <tbody>\n",
       "    <tr>\n",
       "      <th>0</th>\n",
       "      <td>@MaspiyuO Tampang si Jokowi dan Si Koruptor E-...</td>\n",
       "      <td>2</td>\n",
       "    </tr>\n",
       "    <tr>\n",
       "      <th>1</th>\n",
       "      <td>Ribet gini si corona teh. Di Bisnis teruss. Eh...</td>\n",
       "      <td>2</td>\n",
       "    </tr>\n",
       "    <tr>\n",
       "      <th>2</th>\n",
       "      <td>@fadlizon Akal sehat pun harus dipakai. Sumber...</td>\n",
       "      <td>2</td>\n",
       "    </tr>\n",
       "    <tr>\n",
       "      <th>3</th>\n",
       "      <td>@fadlizon Sumber dan Asal birus corona covid 1...</td>\n",
       "      <td>2</td>\n",
       "    </tr>\n",
       "    <tr>\n",
       "      <th>4</th>\n",
       "      <td>Negara yang lalai menjaga rakyat dari terpapar...</td>\n",
       "      <td>2</td>\n",
       "    </tr>\n",
       "    <tr>\n",
       "      <th>...</th>\n",
       "      <td>...</td>\n",
       "      <td>...</td>\n",
       "    </tr>\n",
       "    <tr>\n",
       "      <th>1995</th>\n",
       "      <td>Tak usah ragu dan takut dengan Vaksin,  BPOM p...</td>\n",
       "      <td>1</td>\n",
       "    </tr>\n",
       "    <tr>\n",
       "      <th>1996</th>\n",
       "      <td>Untuk mengendalikan pandemi, vaksin Corona per...</td>\n",
       "      <td>1</td>\n",
       "    </tr>\n",
       "    <tr>\n",
       "      <th>1997</th>\n",
       "      <td>@jokowi Sehingga vaksin ini mampu menjadi hara...</td>\n",
       "      <td>1</td>\n",
       "    </tr>\n",
       "    <tr>\n",
       "      <th>1998</th>\n",
       "      <td>@27_jelo @jokowi #DemiNKRI  Akooh jg siap utk ...</td>\n",
       "      <td>1</td>\n",
       "    </tr>\n",
       "    <tr>\n",
       "      <th>1999</th>\n",
       "      <td>@Ephraym9 Gw kuatirnye vaksin yg udh dibeli gk...</td>\n",
       "      <td>2</td>\n",
       "    </tr>\n",
       "  </tbody>\n",
       "</table>\n",
       "<p>1488 rows × 2 columns</p>\n",
       "</div>"
      ],
      "text/plain": [
       "                                                  tweet  Kategori\n",
       "0     @MaspiyuO Tampang si Jokowi dan Si Koruptor E-...         2\n",
       "1     Ribet gini si corona teh. Di Bisnis teruss. Eh...         2\n",
       "2     @fadlizon Akal sehat pun harus dipakai. Sumber...         2\n",
       "3     @fadlizon Sumber dan Asal birus corona covid 1...         2\n",
       "4     Negara yang lalai menjaga rakyat dari terpapar...         2\n",
       "...                                                 ...       ...\n",
       "1995  Tak usah ragu dan takut dengan Vaksin,  BPOM p...         1\n",
       "1996  Untuk mengendalikan pandemi, vaksin Corona per...         1\n",
       "1997  @jokowi Sehingga vaksin ini mampu menjadi hara...         1\n",
       "1998  @27_jelo @jokowi #DemiNKRI  Akooh jg siap utk ...         1\n",
       "1999  @Ephraym9 Gw kuatirnye vaksin yg udh dibeli gk...         2\n",
       "\n",
       "[1488 rows x 2 columns]"
      ]
     },
     "execution_count": 8,
     "metadata": {},
     "output_type": "execute_result"
    }
   ],
   "source": [
    "df1 = df1.drop_duplicates()\n",
    "df1"
   ]
  },
  {
   "cell_type": "code",
   "execution_count": 9,
   "metadata": {
    "execution": {
     "iopub.execute_input": "2021-03-11T05:20:12.538935Z",
     "iopub.status.busy": "2021-03-11T05:20:12.538297Z",
     "iopub.status.idle": "2021-03-11T05:20:12.545883Z",
     "shell.execute_reply": "2021-03-11T05:20:12.546392Z"
    },
    "papermill": {
     "duration": 0.076049,
     "end_time": "2021-03-11T05:20:12.546601",
     "exception": false,
     "start_time": "2021-03-11T05:20:12.470552",
     "status": "completed"
    },
    "tags": []
   },
   "outputs": [
    {
     "data": {
      "text/plain": [
       "1    1036\n",
       "2     452\n",
       "Name: Kategori, dtype: int64"
      ]
     },
     "execution_count": 9,
     "metadata": {},
     "output_type": "execute_result"
    }
   ],
   "source": [
    "df1['Kategori'].value_counts()"
   ]
  },
  {
   "cell_type": "code",
   "execution_count": 10,
   "metadata": {
    "execution": {
     "iopub.execute_input": "2021-03-11T05:20:12.673357Z",
     "iopub.status.busy": "2021-03-11T05:20:12.672731Z",
     "iopub.status.idle": "2021-03-11T05:20:12.898112Z",
     "shell.execute_reply": "2021-03-11T05:20:12.898662Z"
    },
    "papermill": {
     "duration": 0.292319,
     "end_time": "2021-03-11T05:20:12.898873",
     "exception": false,
     "start_time": "2021-03-11T05:20:12.606554",
     "status": "completed"
    },
    "tags": []
   },
   "outputs": [
    {
     "data": {
      "text/plain": [
       "<AxesSubplot:xlabel='Kategori', ylabel='count'>"
      ]
     },
     "execution_count": 10,
     "metadata": {},
     "output_type": "execute_result"
    },
    {
     "data": {
      "image/png": "[encoded data removed]",
      "text/plain": [
       "<Figure size 432x288 with 1 Axes>"
      ]
     },
     "metadata": {
      "needs_background": "light"
     },
     "output_type": "display_data"
    }
   ],
   "source": [
    "import seaborn as sns\n",
    "\n",
    "sns.countplot(x=\"Kategori\", data=df1)"
   ]
  },
  {
   "cell_type": "code",
   "execution_count": 11,
   "metadata": {
    "execution": {
     "iopub.execute_input": "2021-03-11T05:20:13.024334Z",
     "iopub.status.busy": "2021-03-11T05:20:13.023621Z",
     "iopub.status.idle": "2021-03-11T05:20:13.160175Z",
     "shell.execute_reply": "2021-03-11T05:20:13.160698Z"
    },
    "papermill": {
     "duration": 0.200015,
     "end_time": "2021-03-11T05:20:13.160879",
     "exception": false,
     "start_time": "2021-03-11T05:20:12.960864",
     "status": "completed"
    },
    "tags": []
   },
   "outputs": [
    {
     "data": {
      "image/png": "[encoded data removed]",
      "text/plain": [
       "<Figure size 576x576 with 1 Axes>"
      ]
     },
     "metadata": {},
     "output_type": "display_data"
    }
   ],
   "source": [
    "df1['Kategori'].value_counts().plot.pie(explode=[0 ,0.1],autopct='%1.1f%%',\n",
    "                                         shadow=True, colors = ['lightcoral','lightgreen'], figsize=(8,8))\n",
    "plt.show()"
   ]
  },
  {
   "cell_type": "markdown",
   "metadata": {
    "papermill": {
     "duration": 0.064556,
     "end_time": "2021-03-11T05:20:13.292462",
     "exception": false,
     "start_time": "2021-03-11T05:20:13.227906",
     "status": "completed"
    },
    "tags": []
   },
   "source": [
    "# 2. CASE FOLDING"
   ]
  },
  {
   "cell_type": "code",
   "execution_count": 12,
   "metadata": {
    "execution": {
     "iopub.execute_input": "2021-03-11T05:20:13.438098Z",
     "iopub.status.busy": "2021-03-11T05:20:13.436975Z",
     "iopub.status.idle": "2021-03-11T05:20:13.465162Z",
     "shell.execute_reply": "2021-03-11T05:20:13.465709Z"
    },
    "papermill": {
     "duration": 0.110808,
     "end_time": "2021-03-11T05:20:13.465890",
     "exception": false,
     "start_time": "2021-03-11T05:20:13.355082",
     "status": "completed"
    },
    "tags": []
   },
   "outputs": [
    {
     "name": "stderr",
     "output_type": "stream",
     "text": [
      "/opt/conda/lib/python3.7/site-packages/ipykernel_launcher.py:1: SettingWithCopyWarning: \n",
      "A value is trying to be set on a copy of a slice from a DataFrame.\n",
      "Try using .loc[row_indexer,col_indexer] = value instead\n",
      "\n",
      "See the caveats in the documentation: https://pandas.pydata.org/pandas-docs/stable/user_guide/indexing.html#returning-a-view-versus-a-copy\n",
      "  \"\"\"Entry point for launching an IPython kernel.\n"
     ]
    },
    {
     "data": {
      "text/html": [
       "<div>\n",
       "<style scoped>\n",
       "    .dataframe tbody tr th:only-of-type {\n",
       "        vertical-align: middle;\n",
       "    }\n",
       "\n",
       "    .dataframe tbody tr th {\n",
       "        vertical-align: top;\n",
       "    }\n",
       "\n",
       "    .dataframe thead th {\n",
       "        text-align: right;\n",
       "    }\n",
       "</style>\n",
       "<table border=\"1\" class=\"dataframe\">\n",
       "  <thead>\n",
       "    <tr style=\"text-align: right;\">\n",
       "      <th></th>\n",
       "      <th>tweet</th>\n",
       "      <th>Kategori</th>\n",
       "      <th>cleaned_tweets</th>\n",
       "    </tr>\n",
       "  </thead>\n",
       "  <tbody>\n",
       "    <tr>\n",
       "      <th>0</th>\n",
       "      <td>@MaspiyuO Tampang si Jokowi dan Si Koruptor E-...</td>\n",
       "      <td>2</td>\n",
       "      <td>@maspiyuo tampang si jokowi dan si koruptor e-...</td>\n",
       "    </tr>\n",
       "    <tr>\n",
       "      <th>1</th>\n",
       "      <td>Ribet gini si corona teh. Di Bisnis teruss. Eh...</td>\n",
       "      <td>2</td>\n",
       "      <td>ribet gini si corona teh. di bisnis teruss. eh...</td>\n",
       "    </tr>\n",
       "    <tr>\n",
       "      <th>2</th>\n",
       "      <td>@fadlizon Akal sehat pun harus dipakai. Sumber...</td>\n",
       "      <td>2</td>\n",
       "      <td>@fadlizon akal sehat pun harus dipakai. sumber...</td>\n",
       "    </tr>\n",
       "    <tr>\n",
       "      <th>3</th>\n",
       "      <td>@fadlizon Sumber dan Asal birus corona covid 1...</td>\n",
       "      <td>2</td>\n",
       "      <td>@fadlizon sumber dan asal birus corona covid 1...</td>\n",
       "    </tr>\n",
       "    <tr>\n",
       "      <th>4</th>\n",
       "      <td>Negara yang lalai menjaga rakyat dari terpapar...</td>\n",
       "      <td>2</td>\n",
       "      <td>negara yang lalai menjaga rakyat dari terpapar...</td>\n",
       "    </tr>\n",
       "    <tr>\n",
       "      <th>...</th>\n",
       "      <td>...</td>\n",
       "      <td>...</td>\n",
       "      <td>...</td>\n",
       "    </tr>\n",
       "    <tr>\n",
       "      <th>1995</th>\n",
       "      <td>Tak usah ragu dan takut dengan Vaksin,  BPOM p...</td>\n",
       "      <td>1</td>\n",
       "      <td>tak usah ragu dan takut dengan vaksin,  bpom p...</td>\n",
       "    </tr>\n",
       "    <tr>\n",
       "      <th>1996</th>\n",
       "      <td>Untuk mengendalikan pandemi, vaksin Corona per...</td>\n",
       "      <td>1</td>\n",
       "      <td>untuk mengendalikan pandemi, vaksin corona per...</td>\n",
       "    </tr>\n",
       "    <tr>\n",
       "      <th>1997</th>\n",
       "      <td>@jokowi Sehingga vaksin ini mampu menjadi hara...</td>\n",
       "      <td>1</td>\n",
       "      <td>@jokowi sehingga vaksin ini mampu menjadi hara...</td>\n",
       "    </tr>\n",
       "    <tr>\n",
       "      <th>1998</th>\n",
       "      <td>@27_jelo @jokowi #DemiNKRI  Akooh jg siap utk ...</td>\n",
       "      <td>1</td>\n",
       "      <td>@27_jelo @jokowi #deminkri  akooh jg siap utk ...</td>\n",
       "    </tr>\n",
       "    <tr>\n",
       "      <th>1999</th>\n",
       "      <td>@Ephraym9 Gw kuatirnye vaksin yg udh dibeli gk...</td>\n",
       "      <td>2</td>\n",
       "      <td>@ephraym9 gw kuatirnye vaksin yg udh dibeli gk...</td>\n",
       "    </tr>\n",
       "  </tbody>\n",
       "</table>\n",
       "<p>1488 rows × 3 columns</p>\n",
       "</div>"
      ],
      "text/plain": [
       "                                                  tweet  Kategori  \\\n",
       "0     @MaspiyuO Tampang si Jokowi dan Si Koruptor E-...         2   \n",
       "1     Ribet gini si corona teh. Di Bisnis teruss. Eh...         2   \n",
       "2     @fadlizon Akal sehat pun harus dipakai. Sumber...         2   \n",
       "3     @fadlizon Sumber dan Asal birus corona covid 1...         2   \n",
       "4     Negara yang lalai menjaga rakyat dari terpapar...         2   \n",
       "...                                                 ...       ...   \n",
       "1995  Tak usah ragu dan takut dengan Vaksin,  BPOM p...         1   \n",
       "1996  Untuk mengendalikan pandemi, vaksin Corona per...         1   \n",
       "1997  @jokowi Sehingga vaksin ini mampu menjadi hara...         1   \n",
       "1998  @27_jelo @jokowi #DemiNKRI  Akooh jg siap utk ...         1   \n",
       "1999  @Ephraym9 Gw kuatirnye vaksin yg udh dibeli gk...         2   \n",
       "\n",
       "                                         cleaned_tweets  \n",
       "0     @maspiyuo tampang si jokowi dan si koruptor e-...  \n",
       "1     ribet gini si corona teh. di bisnis teruss. eh...  \n",
       "2     @fadlizon akal sehat pun harus dipakai. sumber...  \n",
       "3     @fadlizon sumber dan asal birus corona covid 1...  \n",
       "4     negara yang lalai menjaga rakyat dari terpapar...  \n",
       "...                                                 ...  \n",
       "1995  tak usah ragu dan takut dengan vaksin,  bpom p...  \n",
       "1996  untuk mengendalikan pandemi, vaksin corona per...  \n",
       "1997  @jokowi sehingga vaksin ini mampu menjadi hara...  \n",
       "1998  @27_jelo @jokowi #deminkri  akooh jg siap utk ...  \n",
       "1999  @ephraym9 gw kuatirnye vaksin yg udh dibeli gk...  \n",
       "\n",
       "[1488 rows x 3 columns]"
      ]
     },
     "execution_count": 12,
     "metadata": {},
     "output_type": "execute_result"
    }
   ],
   "source": [
    "df1['cleaned_tweets'] = df1['tweet'].apply(lambda x: x.lower())\n",
    "df1"
   ]
  },
  {
   "cell_type": "markdown",
   "metadata": {
    "papermill": {
     "duration": 0.06596,
     "end_time": "2021-03-11T05:20:13.612343",
     "exception": false,
     "start_time": "2021-03-11T05:20:13.546383",
     "status": "completed"
    },
    "tags": []
   },
   "source": [
    "# 3. NORMALISASI"
   ]
  },
  {
   "cell_type": "code",
   "execution_count": 13,
   "metadata": {
    "execution": {
     "iopub.execute_input": "2021-03-11T05:20:13.747851Z",
     "iopub.status.busy": "2021-03-11T05:20:13.747154Z",
     "iopub.status.idle": "2021-03-11T05:20:13.753573Z",
     "shell.execute_reply": "2021-03-11T05:20:13.754072Z"
    },
    "papermill": {
     "duration": 0.076804,
     "end_time": "2021-03-11T05:20:13.754256",
     "exception": false,
     "start_time": "2021-03-11T05:20:13.677452",
     "status": "completed"
    },
    "tags": []
   },
   "outputs": [],
   "source": [
    "import re\n",
    "\n",
    "def normalisasi(text):\n",
    "  text = re.sub(r\"http\\S+\", \" \", text)\n",
    "  text = re.sub(r\"@\\w+\", \" \", text)\n",
    "  text = re.sub(r\"#\\w+\", \" \", text)\n",
    "  text = re.sub(r'\\W', \" \", text)\n",
    "  text = re.sub(r\"\\d+\", \"\", text)\n",
    "  text = re.sub(r'_', ' ',text)\n",
    "  text = re.sub(r' +', ' ', text)\n",
    "  text = re.sub(r\"^\\s+\", '', text)\n",
    "  #text = text.lstrip()\n",
    "  return text"
   ]
  },
  {
   "cell_type": "code",
   "execution_count": 14,
   "metadata": {
    "execution": {
     "iopub.execute_input": "2021-03-11T05:20:13.885178Z",
     "iopub.status.busy": "2021-03-11T05:20:13.884128Z",
     "iopub.status.idle": "2021-03-11T05:20:13.955506Z",
     "shell.execute_reply": "2021-03-11T05:20:13.956041Z"
    },
    "papermill": {
     "duration": 0.138356,
     "end_time": "2021-03-11T05:20:13.956222",
     "exception": false,
     "start_time": "2021-03-11T05:20:13.817866",
     "status": "completed"
    },
    "tags": []
   },
   "outputs": [
    {
     "name": "stderr",
     "output_type": "stream",
     "text": [
      "/opt/conda/lib/python3.7/site-packages/ipykernel_launcher.py:1: SettingWithCopyWarning: \n",
      "A value is trying to be set on a copy of a slice from a DataFrame.\n",
      "Try using .loc[row_indexer,col_indexer] = value instead\n",
      "\n",
      "See the caveats in the documentation: https://pandas.pydata.org/pandas-docs/stable/user_guide/indexing.html#returning-a-view-versus-a-copy\n",
      "  \"\"\"Entry point for launching an IPython kernel.\n"
     ]
    }
   ],
   "source": [
    "df1['cleaned_tweets'] = df1['cleaned_tweets'].apply(lambda x: normalisasi(x))"
   ]
  },
  {
   "cell_type": "markdown",
   "metadata": {
    "papermill": {
     "duration": 0.071331,
     "end_time": "2021-03-11T05:20:14.094112",
     "exception": false,
     "start_time": "2021-03-11T05:20:14.022781",
     "status": "completed"
    },
    "tags": []
   },
   "source": [
    "# 4. BAKU"
   ]
  },
  {
   "cell_type": "code",
   "execution_count": 15,
   "metadata": {
    "execution": {
     "iopub.execute_input": "2021-03-11T05:20:14.229410Z",
     "iopub.status.busy": "2021-03-11T05:20:14.228418Z",
     "iopub.status.idle": "2021-03-11T05:20:14.321177Z",
     "shell.execute_reply": "2021-03-11T05:20:14.320479Z"
    },
    "papermill": {
     "duration": 0.163696,
     "end_time": "2021-03-11T05:20:14.321322",
     "exception": false,
     "start_time": "2021-03-11T05:20:14.157626",
     "status": "completed"
    },
    "tags": []
   },
   "outputs": [],
   "source": [
    "dict = {row[0] : row[1] for _, row in pd.read_csv(\"/kaggle/input/vaksin/kbba.csv\").iterrows()}"
   ]
  },
  {
   "cell_type": "code",
   "execution_count": 16,
   "metadata": {
    "execution": {
     "iopub.execute_input": "2021-03-11T05:20:14.457857Z",
     "iopub.status.busy": "2021-03-11T05:20:14.456672Z",
     "iopub.status.idle": "2021-03-11T05:20:14.460154Z",
     "shell.execute_reply": "2021-03-11T05:20:14.460821Z"
    },
    "papermill": {
     "duration": 0.071925,
     "end_time": "2021-03-11T05:20:14.461021",
     "exception": false,
     "start_time": "2021-03-11T05:20:14.389096",
     "status": "completed"
    },
    "tags": []
   },
   "outputs": [],
   "source": [
    "def kbbi(text): \n",
    "    token = text.split()\n",
    "    final_string = ' '.join(str(dict.get(word, word)) for word in token)\n",
    "    return final_string"
   ]
  },
  {
   "cell_type": "code",
   "execution_count": 17,
   "metadata": {
    "execution": {
     "iopub.execute_input": "2021-03-11T05:20:14.591576Z",
     "iopub.status.busy": "2021-03-11T05:20:14.590903Z",
     "iopub.status.idle": "2021-03-11T05:20:14.614771Z",
     "shell.execute_reply": "2021-03-11T05:20:14.615394Z"
    },
    "papermill": {
     "duration": 0.091588,
     "end_time": "2021-03-11T05:20:14.615608",
     "exception": false,
     "start_time": "2021-03-11T05:20:14.524020",
     "status": "completed"
    },
    "tags": []
   },
   "outputs": [
    {
     "name": "stderr",
     "output_type": "stream",
     "text": [
      "/opt/conda/lib/python3.7/site-packages/ipykernel_launcher.py:1: SettingWithCopyWarning: \n",
      "A value is trying to be set on a copy of a slice from a DataFrame.\n",
      "Try using .loc[row_indexer,col_indexer] = value instead\n",
      "\n",
      "See the caveats in the documentation: https://pandas.pydata.org/pandas-docs/stable/user_guide/indexing.html#returning-a-view-versus-a-copy\n",
      "  \"\"\"Entry point for launching an IPython kernel.\n"
     ]
    }
   ],
   "source": [
    "df1['cleaned_tweets'] = df1['cleaned_tweets'].apply(lambda x: kbbi(x))"
   ]
  },
  {
   "cell_type": "code",
   "execution_count": 18,
   "metadata": {
    "execution": {
     "iopub.execute_input": "2021-03-11T05:20:14.750561Z",
     "iopub.status.busy": "2021-03-11T05:20:14.749374Z",
     "iopub.status.idle": "2021-03-11T05:20:15.030850Z",
     "shell.execute_reply": "2021-03-11T05:20:15.031869Z"
    },
    "papermill": {
     "duration": 0.351884,
     "end_time": "2021-03-11T05:20:15.032072",
     "exception": false,
     "start_time": "2021-03-11T05:20:14.680188",
     "status": "completed"
    },
    "tags": []
   },
   "outputs": [],
   "source": [
    "from sklearn.feature_extraction.text import CountVectorizer\n",
    "\n",
    "cv = CountVectorizer()\n",
    "text_counts = cv.fit_transform(df1['cleaned_tweets'])"
   ]
  },
  {
   "cell_type": "code",
   "execution_count": 19,
   "metadata": {
    "execution": {
     "iopub.execute_input": "2021-03-11T05:20:15.170807Z",
     "iopub.status.busy": "2021-03-11T05:20:15.170037Z",
     "iopub.status.idle": "2021-03-11T05:20:15.249655Z",
     "shell.execute_reply": "2021-03-11T05:20:15.248374Z"
    },
    "papermill": {
     "duration": 0.152174,
     "end_time": "2021-03-11T05:20:15.249884",
     "exception": false,
     "start_time": "2021-03-11T05:20:15.097710",
     "status": "completed"
    },
    "tags": []
   },
   "outputs": [
    {
     "name": "stdout",
     "output_type": "stream",
     "text": [
      "(1190, 3234) (298, 3234)\n"
     ]
    }
   ],
   "source": [
    "from sklearn.model_selection import train_test_split\n",
    "\n",
    "X_train, X_test, Y_train, Y_test = train_test_split(text_counts, df1['Kategori'], test_size=0.2)\n",
    "print(X_train.shape, X_test.shape)"
   ]
  },
  {
   "cell_type": "code",
   "execution_count": 20,
   "metadata": {
    "execution": {
     "iopub.execute_input": "2021-03-11T05:20:15.379642Z",
     "iopub.status.busy": "2021-03-11T05:20:15.378955Z",
     "iopub.status.idle": "2021-03-11T05:20:15.394357Z",
     "shell.execute_reply": "2021-03-11T05:20:15.395013Z"
    },
    "papermill": {
     "duration": 0.080533,
     "end_time": "2021-03-11T05:20:15.395341",
     "exception": false,
     "start_time": "2021-03-11T05:20:15.314808",
     "status": "completed"
    },
    "tags": []
   },
   "outputs": [
    {
     "name": "stdout",
     "output_type": "stream",
     "text": [
      "89.93%\n"
     ]
    }
   ],
   "source": [
    "from sklearn.naive_bayes import MultinomialNB\n",
    "from sklearn import metrics\n",
    "\n",
    "MNB = MultinomialNB()\n",
    "MNB.fit(X_train, Y_train)\n",
    "\n",
    "predicted = MNB.predict(X_test)\n",
    "model1 = metrics.accuracy_score(predicted, Y_test)\n",
    "print(str('{:04.2f}'.format(model1*100))+'%')"
   ]
  },
  {
   "cell_type": "code",
   "execution_count": 21,
   "metadata": {
    "execution": {
     "iopub.execute_input": "2021-03-11T05:20:15.532396Z",
     "iopub.status.busy": "2021-03-11T05:20:15.531729Z",
     "iopub.status.idle": "2021-03-11T05:20:15.536247Z",
     "shell.execute_reply": "2021-03-11T05:20:15.535675Z"
    },
    "papermill": {
     "duration": 0.076829,
     "end_time": "2021-03-11T05:20:15.536393",
     "exception": false,
     "start_time": "2021-03-11T05:20:15.459564",
     "status": "completed"
    },
    "tags": []
   },
   "outputs": [
    {
     "data": {
      "text/plain": [
       "1    195\n",
       "2    103\n",
       "Name: label, dtype: int64"
      ]
     },
     "execution_count": 21,
     "metadata": {},
     "output_type": "execute_result"
    }
   ],
   "source": [
    "output = pd.DataFrame({'tweet': X_test, 'label': predicted})\n",
    "output['label'].value_counts()"
   ]
  },
  {
   "cell_type": "code",
   "execution_count": 22,
   "metadata": {
    "execution": {
     "iopub.execute_input": "2021-03-11T05:20:15.670017Z",
     "iopub.status.busy": "2021-03-11T05:20:15.668992Z",
     "iopub.status.idle": "2021-03-11T05:20:15.673908Z",
     "shell.execute_reply": "2021-03-11T05:20:15.674436Z"
    },
    "papermill": {
     "duration": 0.072931,
     "end_time": "2021-03-11T05:20:15.674634",
     "exception": false,
     "start_time": "2021-03-11T05:20:15.601703",
     "status": "completed"
    },
    "tags": []
   },
   "outputs": [
    {
     "data": {
      "text/plain": [
       "['MNB1.sav']"
      ]
     },
     "execution_count": 22,
     "metadata": {},
     "output_type": "execute_result"
    }
   ],
   "source": [
    "import joblib\n",
    "filename = 'MNB1.sav'\n",
    "joblib.dump(MNB, filename)"
   ]
  },
  {
   "cell_type": "code",
   "execution_count": 23,
   "metadata": {
    "execution": {
     "iopub.execute_input": "2021-03-11T05:20:15.808128Z",
     "iopub.status.busy": "2021-03-11T05:20:15.805737Z",
     "iopub.status.idle": "2021-03-11T05:20:15.811887Z",
     "shell.execute_reply": "2021-03-11T05:20:15.811259Z"
    },
    "papermill": {
     "duration": 0.073976,
     "end_time": "2021-03-11T05:20:15.812049",
     "exception": false,
     "start_time": "2021-03-11T05:20:15.738073",
     "status": "completed"
    },
    "tags": []
   },
   "outputs": [
    {
     "name": "stdout",
     "output_type": "stream",
     "text": [
      "[[190  25]\n",
      " [  5  78]]\n"
     ]
    }
   ],
   "source": [
    "from sklearn.metrics import confusion_matrix\n",
    "import numpy as np\n",
    "\n",
    "confusion = confusion_matrix(Y_test, predicted)\n",
    "print(confusion)"
   ]
  },
  {
   "cell_type": "code",
   "execution_count": 24,
   "metadata": {
    "execution": {
     "iopub.execute_input": "2021-03-11T05:20:15.973844Z",
     "iopub.status.busy": "2021-03-11T05:20:15.971675Z",
     "iopub.status.idle": "2021-03-11T05:20:16.055060Z",
     "shell.execute_reply": "2021-03-11T05:20:16.054259Z"
    },
    "papermill": {
     "duration": 0.17893,
     "end_time": "2021-03-11T05:20:16.055206",
     "exception": false,
     "start_time": "2021-03-11T05:20:15.876276",
     "status": "completed"
    },
    "tags": []
   },
   "outputs": [
    {
     "data": {
      "text/plain": [
       "Text(91.68, 0.5, 'predicted label')"
      ]
     },
     "execution_count": 24,
     "metadata": {},
     "output_type": "execute_result"
    },
    {
     "data": {
      "image/png": "[encoded data removed]",
      "text/plain": [
       "<Figure size 432x288 with 1 Axes>"
      ]
     },
     "metadata": {
      "needs_background": "light"
     },
     "output_type": "display_data"
    }
   ],
   "source": [
    "sns.heatmap(confusion, square=True, annot=True, cbar=False, cmap='Blues', \n",
    "xticklabels=['positif', 'negatif'], yticklabels=['positif', 'negatif'])\n",
    "plt.xlabel('true label')\n",
    "plt.ylabel('predicted label')"
   ]
  },
  {
   "cell_type": "code",
   "execution_count": 25,
   "metadata": {
    "execution": {
     "iopub.execute_input": "2021-03-11T05:20:16.193341Z",
     "iopub.status.busy": "2021-03-11T05:20:16.192709Z",
     "iopub.status.idle": "2021-03-11T05:20:16.201787Z",
     "shell.execute_reply": "2021-03-11T05:20:16.201237Z"
    },
    "papermill": {
     "duration": 0.078973,
     "end_time": "2021-03-11T05:20:16.201941",
     "exception": false,
     "start_time": "2021-03-11T05:20:16.122968",
     "status": "completed"
    },
    "tags": []
   },
   "outputs": [
    {
     "name": "stdout",
     "output_type": "stream",
     "text": [
      "BNB accuracy = 85.23%\n"
     ]
    }
   ],
   "source": [
    "from sklearn.naive_bayes import BernoulliNB\n",
    "BNB = BernoulliNB()\n",
    "BNB.fit(X_train, Y_train)\n",
    "model2 = metrics.accuracy_score(BNB.predict(X_test),Y_test)\n",
    "print('BNB accuracy = ' + str('{:4.2f}'.format(model2*100))+'%')"
   ]
  },
  {
   "cell_type": "code",
   "execution_count": 26,
   "metadata": {
    "execution": {
     "iopub.execute_input": "2021-03-11T05:20:16.340364Z",
     "iopub.status.busy": "2021-03-11T05:20:16.339549Z",
     "iopub.status.idle": "2021-03-11T05:20:16.342920Z",
     "shell.execute_reply": "2021-03-11T05:20:16.343376Z"
    },
    "papermill": {
     "duration": 0.07656,
     "end_time": "2021-03-11T05:20:16.343557",
     "exception": false,
     "start_time": "2021-03-11T05:20:16.266997",
     "status": "completed"
    },
    "tags": []
   },
   "outputs": [
    {
     "data": {
      "text/plain": [
       "1    195\n",
       "2    103\n",
       "Name: label, dtype: int64"
      ]
     },
     "execution_count": 26,
     "metadata": {},
     "output_type": "execute_result"
    }
   ],
   "source": [
    "output = pd.DataFrame({'tweet': X_test, 'label': predicted})\n",
    "output['label'].value_counts()"
   ]
  },
  {
   "cell_type": "code",
   "execution_count": 27,
   "metadata": {
    "execution": {
     "iopub.execute_input": "2021-03-11T05:20:16.480058Z",
     "iopub.status.busy": "2021-03-11T05:20:16.479325Z",
     "iopub.status.idle": "2021-03-11T05:20:16.488266Z",
     "shell.execute_reply": "2021-03-11T05:20:16.487698Z"
    },
    "papermill": {
     "duration": 0.079306,
     "end_time": "2021-03-11T05:20:16.488410",
     "exception": false,
     "start_time": "2021-03-11T05:20:16.409104",
     "status": "completed"
    },
    "tags": []
   },
   "outputs": [
    {
     "name": "stdout",
     "output_type": "stream",
     "text": [
      "[[196  19]\n",
      " [ 25  58]]\n"
     ]
    }
   ],
   "source": [
    "confusion = confusion_matrix(Y_test, BNB.predict(X_test))\n",
    "print(confusion)"
   ]
  },
  {
   "cell_type": "code",
   "execution_count": 28,
   "metadata": {
    "execution": {
     "iopub.execute_input": "2021-03-11T05:20:16.628638Z",
     "iopub.status.busy": "2021-03-11T05:20:16.627964Z",
     "iopub.status.idle": "2021-03-11T05:20:16.728121Z",
     "shell.execute_reply": "2021-03-11T05:20:16.728681Z"
    },
    "papermill": {
     "duration": 0.173573,
     "end_time": "2021-03-11T05:20:16.728857",
     "exception": false,
     "start_time": "2021-03-11T05:20:16.555284",
     "status": "completed"
    },
    "tags": []
   },
   "outputs": [
    {
     "data": {
      "text/plain": [
       "Text(91.68, 0.5, 'predicted label')"
      ]
     },
     "execution_count": 28,
     "metadata": {},
     "output_type": "execute_result"
    },
    {
     "data": {
      "image/png": "[encoded data removed]",
      "text/plain": [
       "<Figure size 432x288 with 1 Axes>"
      ]
     },
     "metadata": {
      "needs_background": "light"
     },
     "output_type": "display_data"
    }
   ],
   "source": [
    "sns.heatmap(confusion, square=True, annot=True, cbar=False, cmap='Blues', \n",
    "xticklabels=['positif', 'negatif'], yticklabels=['positif', 'negatif'])\n",
    "plt.xlabel('true label')\n",
    "plt.ylabel('predicted label')"
   ]
  },
  {
   "cell_type": "code",
   "execution_count": 29,
   "metadata": {
    "execution": {
     "iopub.execute_input": "2021-03-11T05:20:16.864948Z",
     "iopub.status.busy": "2021-03-11T05:20:16.864192Z",
     "iopub.status.idle": "2021-03-11T05:20:16.871055Z",
     "shell.execute_reply": "2021-03-11T05:20:16.871977Z"
    },
    "papermill": {
     "duration": 0.077157,
     "end_time": "2021-03-11T05:20:16.872206",
     "exception": false,
     "start_time": "2021-03-11T05:20:16.795049",
     "status": "completed"
    },
    "tags": []
   },
   "outputs": [
    {
     "data": {
      "text/plain": [
       "['BNB1.sav']"
      ]
     },
     "execution_count": 29,
     "metadata": {},
     "output_type": "execute_result"
    }
   ],
   "source": [
    "filename = 'BNB1.sav'\n",
    "joblib.dump(BNB, filename)"
   ]
  },
  {
   "cell_type": "markdown",
   "metadata": {
    "papermill": {
     "duration": 0.066841,
     "end_time": "2021-03-11T05:20:17.007067",
     "exception": false,
     "start_time": "2021-03-11T05:20:16.940226",
     "status": "completed"
    },
    "tags": []
   },
   "source": [
    "# 5. STOPWORDS"
   ]
  },
  {
   "cell_type": "code",
   "execution_count": 30,
   "metadata": {
    "execution": {
     "iopub.execute_input": "2021-03-11T05:20:17.149260Z",
     "iopub.status.busy": "2021-03-11T05:20:17.148606Z",
     "iopub.status.idle": "2021-03-11T05:20:17.979373Z",
     "shell.execute_reply": "2021-03-11T05:20:17.978682Z"
    },
    "papermill": {
     "duration": 0.902845,
     "end_time": "2021-03-11T05:20:17.979534",
     "exception": false,
     "start_time": "2021-03-11T05:20:17.076689",
     "status": "completed"
    },
    "tags": []
   },
   "outputs": [
    {
     "name": "stdout",
     "output_type": "stream",
     "text": [
      "[nltk_data] Downloading package stopwords to /usr/share/nltk_data...\n",
      "[nltk_data]   Package stopwords is already up-to-date!\n"
     ]
    }
   ],
   "source": [
    "import nltk\n",
    "nltk.download('stopwords')\n",
    "from nltk.corpus import stopwords  \n",
    "\n",
    "def remove_stop_words(text):\n",
    "    text = text.split()\n",
    "    listStopword =  set(stopwords.words('indonesian'))\n",
    "    text = [w for w in text if not w in listStopword]\n",
    "    text = \" \".join(text)\n",
    "    return text"
   ]
  },
  {
   "cell_type": "code",
   "execution_count": 31,
   "metadata": {
    "execution": {
     "iopub.execute_input": "2021-03-11T05:20:18.143972Z",
     "iopub.status.busy": "2021-03-11T05:20:18.143064Z",
     "iopub.status.idle": "2021-03-11T05:20:18.792333Z",
     "shell.execute_reply": "2021-03-11T05:20:18.792851Z"
    },
    "papermill": {
     "duration": 0.736869,
     "end_time": "2021-03-11T05:20:18.793055",
     "exception": false,
     "start_time": "2021-03-11T05:20:18.056186",
     "status": "completed"
    },
    "tags": []
   },
   "outputs": [
    {
     "name": "stderr",
     "output_type": "stream",
     "text": [
      "/opt/conda/lib/python3.7/site-packages/ipykernel_launcher.py:1: SettingWithCopyWarning: \n",
      "A value is trying to be set on a copy of a slice from a DataFrame.\n",
      "Try using .loc[row_indexer,col_indexer] = value instead\n",
      "\n",
      "See the caveats in the documentation: https://pandas.pydata.org/pandas-docs/stable/user_guide/indexing.html#returning-a-view-versus-a-copy\n",
      "  \"\"\"Entry point for launching an IPython kernel.\n"
     ]
    },
    {
     "data": {
      "text/html": [
       "<div>\n",
       "<style scoped>\n",
       "    .dataframe tbody tr th:only-of-type {\n",
       "        vertical-align: middle;\n",
       "    }\n",
       "\n",
       "    .dataframe tbody tr th {\n",
       "        vertical-align: top;\n",
       "    }\n",
       "\n",
       "    .dataframe thead th {\n",
       "        text-align: right;\n",
       "    }\n",
       "</style>\n",
       "<table border=\"1\" class=\"dataframe\">\n",
       "  <thead>\n",
       "    <tr style=\"text-align: right;\">\n",
       "      <th></th>\n",
       "      <th>tweet</th>\n",
       "      <th>Kategori</th>\n",
       "      <th>cleaned_tweets</th>\n",
       "    </tr>\n",
       "  </thead>\n",
       "  <tbody>\n",
       "    <tr>\n",
       "      <th>0</th>\n",
       "      <td>@MaspiyuO Tampang si Jokowi dan Si Koruptor E-...</td>\n",
       "      <td>2</td>\n",
       "      <td>tampang si jokowi si koruptor e ktp puan mahar...</td>\n",
       "    </tr>\n",
       "    <tr>\n",
       "      <th>1</th>\n",
       "      <td>Ribet gini si corona teh. Di Bisnis teruss. Eh...</td>\n",
       "      <td>2</td>\n",
       "      <td>ruwet si corona teh bisnis eh sih bisnis makan...</td>\n",
       "    </tr>\n",
       "    <tr>\n",
       "      <th>2</th>\n",
       "      <td>@fadlizon Akal sehat pun harus dipakai. Sumber...</td>\n",
       "      <td>2</td>\n",
       "      <td>akal sehat dipakai sumber virus corona merokok...</td>\n",
       "    </tr>\n",
       "    <tr>\n",
       "      <th>3</th>\n",
       "      <td>@fadlizon Sumber dan Asal birus corona covid 1...</td>\n",
       "      <td>2</td>\n",
       "      <td>sumber virus corona merokok cina jual vaksin o...</td>\n",
       "    </tr>\n",
       "    <tr>\n",
       "      <th>4</th>\n",
       "      <td>Negara yang lalai menjaga rakyat dari terpapar...</td>\n",
       "      <td>2</td>\n",
       "      <td>negara lalai menjaga rakyat terpapar virus cor...</td>\n",
       "    </tr>\n",
       "    <tr>\n",
       "      <th>...</th>\n",
       "      <td>...</td>\n",
       "      <td>...</td>\n",
       "      <td>...</td>\n",
       "    </tr>\n",
       "    <tr>\n",
       "      <th>1995</th>\n",
       "      <td>Tak usah ragu dan takut dengan Vaksin,  BPOM p...</td>\n",
       "      <td>1</td>\n",
       "      <td>ragu takut vaksin bpom pastikan vaksin corona ...</td>\n",
       "    </tr>\n",
       "    <tr>\n",
       "      <th>1996</th>\n",
       "      <td>Untuk mengendalikan pandemi, vaksin Corona per...</td>\n",
       "      <td>1</td>\n",
       "      <td>mengendalikan pandemi vaksin corona populasi d...</td>\n",
       "    </tr>\n",
       "    <tr>\n",
       "      <th>1997</th>\n",
       "      <td>@jokowi Sehingga vaksin ini mampu menjadi hara...</td>\n",
       "      <td>1</td>\n",
       "      <td>vaksin harapan indonesia bebas corona vaksin d...</td>\n",
       "    </tr>\n",
       "    <tr>\n",
       "      <th>1998</th>\n",
       "      <td>@27_jelo @jokowi #DemiNKRI  Akooh jg siap utk ...</td>\n",
       "      <td>1</td>\n",
       "      <td>vaksin vaksin corona aman</td>\n",
       "    </tr>\n",
       "    <tr>\n",
       "      <th>1999</th>\n",
       "      <td>@Ephraym9 Gw kuatirnye vaksin yg udh dibeli gk...</td>\n",
       "      <td>2</td>\n",
       "      <td>khawatirnya vaksin dibeli terbaru corona maklu...</td>\n",
       "    </tr>\n",
       "  </tbody>\n",
       "</table>\n",
       "<p>1488 rows × 3 columns</p>\n",
       "</div>"
      ],
      "text/plain": [
       "                                                  tweet  Kategori  \\\n",
       "0     @MaspiyuO Tampang si Jokowi dan Si Koruptor E-...         2   \n",
       "1     Ribet gini si corona teh. Di Bisnis teruss. Eh...         2   \n",
       "2     @fadlizon Akal sehat pun harus dipakai. Sumber...         2   \n",
       "3     @fadlizon Sumber dan Asal birus corona covid 1...         2   \n",
       "4     Negara yang lalai menjaga rakyat dari terpapar...         2   \n",
       "...                                                 ...       ...   \n",
       "1995  Tak usah ragu dan takut dengan Vaksin,  BPOM p...         1   \n",
       "1996  Untuk mengendalikan pandemi, vaksin Corona per...         1   \n",
       "1997  @jokowi Sehingga vaksin ini mampu menjadi hara...         1   \n",
       "1998  @27_jelo @jokowi #DemiNKRI  Akooh jg siap utk ...         1   \n",
       "1999  @Ephraym9 Gw kuatirnye vaksin yg udh dibeli gk...         2   \n",
       "\n",
       "                                         cleaned_tweets  \n",
       "0     tampang si jokowi si koruptor e ktp puan mahar...  \n",
       "1     ruwet si corona teh bisnis eh sih bisnis makan...  \n",
       "2     akal sehat dipakai sumber virus corona merokok...  \n",
       "3     sumber virus corona merokok cina jual vaksin o...  \n",
       "4     negara lalai menjaga rakyat terpapar virus cor...  \n",
       "...                                                 ...  \n",
       "1995  ragu takut vaksin bpom pastikan vaksin corona ...  \n",
       "1996  mengendalikan pandemi vaksin corona populasi d...  \n",
       "1997  vaksin harapan indonesia bebas corona vaksin d...  \n",
       "1998                          vaksin vaksin corona aman  \n",
       "1999  khawatirnya vaksin dibeli terbaru corona maklu...  \n",
       "\n",
       "[1488 rows x 3 columns]"
      ]
     },
     "execution_count": 31,
     "metadata": {},
     "output_type": "execute_result"
    }
   ],
   "source": [
    "df1['cleaned_tweets'] = df1['cleaned_tweets'].apply(lambda x: remove_stop_words(x))\n",
    "df1"
   ]
  },
  {
   "cell_type": "code",
   "execution_count": 32,
   "metadata": {
    "execution": {
     "iopub.execute_input": "2021-03-11T05:20:18.948401Z",
     "iopub.status.busy": "2021-03-11T05:20:18.947723Z",
     "iopub.status.idle": "2021-03-11T05:20:18.951602Z",
     "shell.execute_reply": "2021-03-11T05:20:18.952304Z"
    },
    "papermill": {
     "duration": 0.086628,
     "end_time": "2021-03-11T05:20:18.952571",
     "exception": false,
     "start_time": "2021-03-11T05:20:18.865943",
     "status": "completed"
    },
    "tags": []
   },
   "outputs": [],
   "source": [
    "def noise(text): \n",
    "    text = text.split()\n",
    "    listStopword =  ['amp','fry', 'vcs', 'bahh', 'a', 'wkwkwk', 'c', 'iya', 'nya', \n",
    "                     'sih', 'mbok', 'ku', 'loh', 'lho', 'ah', 'nihh', 'ya', 'hah', \n",
    "                     'deh','rmp', 'v', 'via', 'lha', 'mah', 'xixi', 'nya', 'ku',\n",
    "                     'kah', 'nge', 'an', 'pun', 'si', 'dong', 'deh', 'toh','cc', \n",
    "                     'nah','re','mah','ee', 'in','oi', 'woyyy','kan', 'nah','s','dodo']\n",
    "    text = [w for w in text if not w in listStopword]\n",
    "    text = \" \".join(text)\n",
    "    return text"
   ]
  },
  {
   "cell_type": "code",
   "execution_count": 33,
   "metadata": {
    "execution": {
     "iopub.execute_input": "2021-03-11T05:20:19.123460Z",
     "iopub.status.busy": "2021-03-11T05:20:19.115913Z",
     "iopub.status.idle": "2021-03-11T05:20:19.141728Z",
     "shell.execute_reply": "2021-03-11T05:20:19.141028Z"
    },
    "papermill": {
     "duration": 0.117844,
     "end_time": "2021-03-11T05:20:19.141881",
     "exception": false,
     "start_time": "2021-03-11T05:20:19.024037",
     "status": "completed"
    },
    "tags": []
   },
   "outputs": [
    {
     "name": "stderr",
     "output_type": "stream",
     "text": [
      "/opt/conda/lib/python3.7/site-packages/ipykernel_launcher.py:1: SettingWithCopyWarning: \n",
      "A value is trying to be set on a copy of a slice from a DataFrame.\n",
      "Try using .loc[row_indexer,col_indexer] = value instead\n",
      "\n",
      "See the caveats in the documentation: https://pandas.pydata.org/pandas-docs/stable/user_guide/indexing.html#returning-a-view-versus-a-copy\n",
      "  \"\"\"Entry point for launching an IPython kernel.\n"
     ]
    },
    {
     "data": {
      "text/html": [
       "<div>\n",
       "<style scoped>\n",
       "    .dataframe tbody tr th:only-of-type {\n",
       "        vertical-align: middle;\n",
       "    }\n",
       "\n",
       "    .dataframe tbody tr th {\n",
       "        vertical-align: top;\n",
       "    }\n",
       "\n",
       "    .dataframe thead th {\n",
       "        text-align: right;\n",
       "    }\n",
       "</style>\n",
       "<table border=\"1\" class=\"dataframe\">\n",
       "  <thead>\n",
       "    <tr style=\"text-align: right;\">\n",
       "      <th></th>\n",
       "      <th>tweet</th>\n",
       "      <th>Kategori</th>\n",
       "      <th>cleaned_tweets</th>\n",
       "    </tr>\n",
       "  </thead>\n",
       "  <tbody>\n",
       "    <tr>\n",
       "      <th>0</th>\n",
       "      <td>@MaspiyuO Tampang si Jokowi dan Si Koruptor E-...</td>\n",
       "      <td>2</td>\n",
       "      <td>tampang jokowi koruptor e ktp puan maharani be...</td>\n",
       "    </tr>\n",
       "    <tr>\n",
       "      <th>1</th>\n",
       "      <td>Ribet gini si corona teh. Di Bisnis teruss. Eh...</td>\n",
       "      <td>2</td>\n",
       "      <td>ruwet corona teh bisnis eh bisnis makannya jer...</td>\n",
       "    </tr>\n",
       "    <tr>\n",
       "      <th>2</th>\n",
       "      <td>@fadlizon Akal sehat pun harus dipakai. Sumber...</td>\n",
       "      <td>2</td>\n",
       "      <td>akal sehat dipakai sumber virus corona merokok...</td>\n",
       "    </tr>\n",
       "    <tr>\n",
       "      <th>3</th>\n",
       "      <td>@fadlizon Sumber dan Asal birus corona covid 1...</td>\n",
       "      <td>2</td>\n",
       "      <td>sumber virus corona merokok cina jual vaksin o...</td>\n",
       "    </tr>\n",
       "    <tr>\n",
       "      <th>4</th>\n",
       "      <td>Negara yang lalai menjaga rakyat dari terpapar...</td>\n",
       "      <td>2</td>\n",
       "      <td>negara lalai menjaga rakyat terpapar virus cor...</td>\n",
       "    </tr>\n",
       "    <tr>\n",
       "      <th>...</th>\n",
       "      <td>...</td>\n",
       "      <td>...</td>\n",
       "      <td>...</td>\n",
       "    </tr>\n",
       "    <tr>\n",
       "      <th>1995</th>\n",
       "      <td>Tak usah ragu dan takut dengan Vaksin,  BPOM p...</td>\n",
       "      <td>1</td>\n",
       "      <td>ragu takut vaksin bpom pastikan vaksin corona ...</td>\n",
       "    </tr>\n",
       "    <tr>\n",
       "      <th>1996</th>\n",
       "      <td>Untuk mengendalikan pandemi, vaksin Corona per...</td>\n",
       "      <td>1</td>\n",
       "      <td>mengendalikan pandemi vaksin corona populasi d...</td>\n",
       "    </tr>\n",
       "    <tr>\n",
       "      <th>1997</th>\n",
       "      <td>@jokowi Sehingga vaksin ini mampu menjadi hara...</td>\n",
       "      <td>1</td>\n",
       "      <td>vaksin harapan indonesia bebas corona vaksin d...</td>\n",
       "    </tr>\n",
       "    <tr>\n",
       "      <th>1998</th>\n",
       "      <td>@27_jelo @jokowi #DemiNKRI  Akooh jg siap utk ...</td>\n",
       "      <td>1</td>\n",
       "      <td>vaksin vaksin corona aman</td>\n",
       "    </tr>\n",
       "    <tr>\n",
       "      <th>1999</th>\n",
       "      <td>@Ephraym9 Gw kuatirnye vaksin yg udh dibeli gk...</td>\n",
       "      <td>2</td>\n",
       "      <td>khawatirnya vaksin dibeli terbaru corona maklu...</td>\n",
       "    </tr>\n",
       "  </tbody>\n",
       "</table>\n",
       "<p>1488 rows × 3 columns</p>\n",
       "</div>"
      ],
      "text/plain": [
       "                                                  tweet  Kategori  \\\n",
       "0     @MaspiyuO Tampang si Jokowi dan Si Koruptor E-...         2   \n",
       "1     Ribet gini si corona teh. Di Bisnis teruss. Eh...         2   \n",
       "2     @fadlizon Akal sehat pun harus dipakai. Sumber...         2   \n",
       "3     @fadlizon Sumber dan Asal birus corona covid 1...         2   \n",
       "4     Negara yang lalai menjaga rakyat dari terpapar...         2   \n",
       "...                                                 ...       ...   \n",
       "1995  Tak usah ragu dan takut dengan Vaksin,  BPOM p...         1   \n",
       "1996  Untuk mengendalikan pandemi, vaksin Corona per...         1   \n",
       "1997  @jokowi Sehingga vaksin ini mampu menjadi hara...         1   \n",
       "1998  @27_jelo @jokowi #DemiNKRI  Akooh jg siap utk ...         1   \n",
       "1999  @Ephraym9 Gw kuatirnye vaksin yg udh dibeli gk...         2   \n",
       "\n",
       "                                         cleaned_tweets  \n",
       "0     tampang jokowi koruptor e ktp puan maharani be...  \n",
       "1     ruwet corona teh bisnis eh bisnis makannya jer...  \n",
       "2     akal sehat dipakai sumber virus corona merokok...  \n",
       "3     sumber virus corona merokok cina jual vaksin o...  \n",
       "4     negara lalai menjaga rakyat terpapar virus cor...  \n",
       "...                                                 ...  \n",
       "1995  ragu takut vaksin bpom pastikan vaksin corona ...  \n",
       "1996  mengendalikan pandemi vaksin corona populasi d...  \n",
       "1997  vaksin harapan indonesia bebas corona vaksin d...  \n",
       "1998                          vaksin vaksin corona aman  \n",
       "1999  khawatirnya vaksin dibeli terbaru corona maklu...  \n",
       "\n",
       "[1488 rows x 3 columns]"
      ]
     },
     "execution_count": 33,
     "metadata": {},
     "output_type": "execute_result"
    }
   ],
   "source": [
    "df1['cleaned_tweets'] = df1['cleaned_tweets'].apply(lambda x: noise(x))\n",
    "df1"
   ]
  },
  {
   "cell_type": "code",
   "execution_count": 34,
   "metadata": {
    "execution": {
     "iopub.execute_input": "2021-03-11T05:20:19.317298Z",
     "iopub.status.busy": "2021-03-11T05:20:19.311133Z",
     "iopub.status.idle": "2021-03-11T05:20:19.339627Z",
     "shell.execute_reply": "2021-03-11T05:20:19.338890Z"
    },
    "papermill": {
     "duration": 0.122694,
     "end_time": "2021-03-11T05:20:19.339809",
     "exception": false,
     "start_time": "2021-03-11T05:20:19.217115",
     "status": "completed"
    },
    "tags": []
   },
   "outputs": [],
   "source": [
    "text_counts = cv.fit_transform(df1['cleaned_tweets'])"
   ]
  },
  {
   "cell_type": "code",
   "execution_count": 35,
   "metadata": {
    "execution": {
     "iopub.execute_input": "2021-03-11T05:20:19.493162Z",
     "iopub.status.busy": "2021-03-11T05:20:19.492394Z",
     "iopub.status.idle": "2021-03-11T05:20:19.500147Z",
     "shell.execute_reply": "2021-03-11T05:20:19.499087Z"
    },
    "papermill": {
     "duration": 0.08308,
     "end_time": "2021-03-11T05:20:19.500323",
     "exception": false,
     "start_time": "2021-03-11T05:20:19.417243",
     "status": "completed"
    },
    "tags": []
   },
   "outputs": [
    {
     "name": "stdout",
     "output_type": "stream",
     "text": [
      "(1190, 2785) (298, 2785)\n"
     ]
    }
   ],
   "source": [
    "X_train, X_test, Y_train, Y_test = train_test_split(text_counts, df1['Kategori'], test_size=0.2)\n",
    "print(X_train.shape, X_test.shape)"
   ]
  },
  {
   "cell_type": "code",
   "execution_count": 36,
   "metadata": {
    "execution": {
     "iopub.execute_input": "2021-03-11T05:20:19.652318Z",
     "iopub.status.busy": "2021-03-11T05:20:19.651445Z",
     "iopub.status.idle": "2021-03-11T05:20:19.659748Z",
     "shell.execute_reply": "2021-03-11T05:20:19.660322Z"
    },
    "papermill": {
     "duration": 0.087601,
     "end_time": "2021-03-11T05:20:19.660501",
     "exception": false,
     "start_time": "2021-03-11T05:20:19.572900",
     "status": "completed"
    },
    "tags": []
   },
   "outputs": [
    {
     "name": "stdout",
     "output_type": "stream",
     "text": [
      "90.60%\n"
     ]
    }
   ],
   "source": [
    "MNB.fit(X_train, Y_train)\n",
    "predicted = MNB.predict(X_test)\n",
    "model3 = metrics.accuracy_score(predicted, Y_test)\n",
    "print(str('{:04.2f}'.format(model3*100))+'%')"
   ]
  },
  {
   "cell_type": "code",
   "execution_count": 37,
   "metadata": {
    "execution": {
     "iopub.execute_input": "2021-03-11T05:20:19.810449Z",
     "iopub.status.busy": "2021-03-11T05:20:19.809277Z",
     "iopub.status.idle": "2021-03-11T05:20:19.820255Z",
     "shell.execute_reply": "2021-03-11T05:20:19.820912Z"
    },
    "papermill": {
     "duration": 0.08971,
     "end_time": "2021-03-11T05:20:19.821126",
     "exception": false,
     "start_time": "2021-03-11T05:20:19.731416",
     "status": "completed"
    },
    "tags": []
   },
   "outputs": [
    {
     "data": {
      "text/plain": [
       "1    207\n",
       "2     91\n",
       "Name: label, dtype: int64"
      ]
     },
     "execution_count": 37,
     "metadata": {},
     "output_type": "execute_result"
    }
   ],
   "source": [
    "output = pd.DataFrame({'tweet': X_test, 'label': predicted})\n",
    "output['label'].value_counts()"
   ]
  },
  {
   "cell_type": "code",
   "execution_count": 38,
   "metadata": {
    "execution": {
     "iopub.execute_input": "2021-03-11T05:20:19.978053Z",
     "iopub.status.busy": "2021-03-11T05:20:19.977079Z",
     "iopub.status.idle": "2021-03-11T05:20:19.986074Z",
     "shell.execute_reply": "2021-03-11T05:20:19.986628Z"
    },
    "papermill": {
     "duration": 0.087024,
     "end_time": "2021-03-11T05:20:19.986826",
     "exception": false,
     "start_time": "2021-03-11T05:20:19.899802",
     "status": "completed"
    },
    "tags": []
   },
   "outputs": [
    {
     "name": "stdout",
     "output_type": "stream",
     "text": [
      "[[191  12]\n",
      " [ 16  79]]\n"
     ]
    }
   ],
   "source": [
    "confusion = confusion_matrix(Y_test, predicted)\n",
    "print(confusion)"
   ]
  },
  {
   "cell_type": "code",
   "execution_count": 39,
   "metadata": {
    "execution": {
     "iopub.execute_input": "2021-03-11T05:20:20.172300Z",
     "iopub.status.busy": "2021-03-11T05:20:20.170747Z",
     "iopub.status.idle": "2021-03-11T05:20:20.263177Z",
     "shell.execute_reply": "2021-03-11T05:20:20.263696Z"
    },
    "papermill": {
     "duration": 0.195675,
     "end_time": "2021-03-11T05:20:20.263923",
     "exception": false,
     "start_time": "2021-03-11T05:20:20.068248",
     "status": "completed"
    },
    "tags": []
   },
   "outputs": [
    {
     "data": {
      "text/plain": [
       "Text(91.68, 0.5, 'predicted label')"
      ]
     },
     "execution_count": 39,
     "metadata": {},
     "output_type": "execute_result"
    },
    {
     "data": {
      "image/png": "[encoded data removed]",
      "text/plain": [
       "<Figure size 432x288 with 1 Axes>"
      ]
     },
     "metadata": {
      "needs_background": "light"
     },
     "output_type": "display_data"
    }
   ],
   "source": [
    "sns.heatmap(confusion, square=True, annot=True, cbar=False, cmap='Blues', \n",
    "xticklabels=['positif', 'negatif'], yticklabels=['positif', 'negatif'])\n",
    "plt.xlabel('true label')\n",
    "plt.ylabel('predicted label')"
   ]
  },
  {
   "cell_type": "code",
   "execution_count": 40,
   "metadata": {
    "execution": {
     "iopub.execute_input": "2021-03-11T05:20:20.430496Z",
     "iopub.status.busy": "2021-03-11T05:20:20.429341Z",
     "iopub.status.idle": "2021-03-11T05:20:20.436551Z",
     "shell.execute_reply": "2021-03-11T05:20:20.437087Z"
    },
    "papermill": {
     "duration": 0.097076,
     "end_time": "2021-03-11T05:20:20.437302",
     "exception": false,
     "start_time": "2021-03-11T05:20:20.340226",
     "status": "completed"
    },
    "tags": []
   },
   "outputs": [
    {
     "data": {
      "text/plain": [
       "['MNB2.sav']"
      ]
     },
     "execution_count": 40,
     "metadata": {},
     "output_type": "execute_result"
    }
   ],
   "source": [
    "filename = 'MNB2.sav'\n",
    "joblib.dump(MNB, filename)"
   ]
  },
  {
   "cell_type": "code",
   "execution_count": 41,
   "metadata": {
    "execution": {
     "iopub.execute_input": "2021-03-11T05:20:20.599018Z",
     "iopub.status.busy": "2021-03-11T05:20:20.597976Z",
     "iopub.status.idle": "2021-03-11T05:20:20.609129Z",
     "shell.execute_reply": "2021-03-11T05:20:20.609738Z"
    },
    "papermill": {
     "duration": 0.095725,
     "end_time": "2021-03-11T05:20:20.609929",
     "exception": false,
     "start_time": "2021-03-11T05:20:20.514204",
     "status": "completed"
    },
    "tags": []
   },
   "outputs": [
    {
     "name": "stdout",
     "output_type": "stream",
     "text": [
      "BNB accuracy = 82.55%\n"
     ]
    }
   ],
   "source": [
    "BNB.fit(X_train, Y_train)\n",
    "model4 = metrics.accuracy_score(BNB.predict(X_test),Y_test)\n",
    "print('BNB accuracy = ' + str('{:4.2f}'.format(model4*100))+'%')"
   ]
  },
  {
   "cell_type": "code",
   "execution_count": 42,
   "metadata": {
    "execution": {
     "iopub.execute_input": "2021-03-11T05:20:20.771890Z",
     "iopub.status.busy": "2021-03-11T05:20:20.771186Z",
     "iopub.status.idle": "2021-03-11T05:20:20.779267Z",
     "shell.execute_reply": "2021-03-11T05:20:20.779905Z"
    },
    "papermill": {
     "duration": 0.091276,
     "end_time": "2021-03-11T05:20:20.780110",
     "exception": false,
     "start_time": "2021-03-11T05:20:20.688834",
     "status": "completed"
    },
    "tags": []
   },
   "outputs": [
    {
     "data": {
      "text/plain": [
       "1    207\n",
       "2     91\n",
       "Name: label, dtype: int64"
      ]
     },
     "execution_count": 42,
     "metadata": {},
     "output_type": "execute_result"
    }
   ],
   "source": [
    "output = pd.DataFrame({'tweet': X_test, 'label': predicted})\n",
    "output['label'].value_counts()"
   ]
  },
  {
   "cell_type": "code",
   "execution_count": 43,
   "metadata": {
    "execution": {
     "iopub.execute_input": "2021-03-11T05:20:20.932387Z",
     "iopub.status.busy": "2021-03-11T05:20:20.931734Z",
     "iopub.status.idle": "2021-03-11T05:20:20.939063Z",
     "shell.execute_reply": "2021-03-11T05:20:20.939671Z"
    },
    "papermill": {
     "duration": 0.085559,
     "end_time": "2021-03-11T05:20:20.939901",
     "exception": false,
     "start_time": "2021-03-11T05:20:20.854342",
     "status": "completed"
    },
    "tags": []
   },
   "outputs": [
    {
     "name": "stdout",
     "output_type": "stream",
     "text": [
      "[[191  12]\n",
      " [ 16  79]]\n"
     ]
    }
   ],
   "source": [
    "confusion = confusion_matrix(Y_test, predicted)\n",
    "print(confusion)"
   ]
  },
  {
   "cell_type": "code",
   "execution_count": 44,
   "metadata": {
    "execution": {
     "iopub.execute_input": "2021-03-11T05:20:21.131230Z",
     "iopub.status.busy": "2021-03-11T05:20:21.125226Z",
     "iopub.status.idle": "2021-03-11T05:20:21.230003Z",
     "shell.execute_reply": "2021-03-11T05:20:21.230507Z"
    },
    "papermill": {
     "duration": 0.213073,
     "end_time": "2021-03-11T05:20:21.230850",
     "exception": false,
     "start_time": "2021-03-11T05:20:21.017777",
     "status": "completed"
    },
    "tags": []
   },
   "outputs": [
    {
     "data": {
      "text/plain": [
       "Text(91.68, 0.5, 'predicted label')"
      ]
     },
     "execution_count": 44,
     "metadata": {},
     "output_type": "execute_result"
    },
    {
     "data": {
      "image/png": "[encoded data removed]",
      "text/plain": [
       "<Figure size 432x288 with 1 Axes>"
      ]
     },
     "metadata": {
      "needs_background": "light"
     },
     "output_type": "display_data"
    }
   ],
   "source": [
    "sns.heatmap(confusion, square=True, annot=True, cbar=False, cmap='Blues', \n",
    "xticklabels=['positif', 'negatif'], yticklabels=['positif', 'negatif'])\n",
    "plt.xlabel('true label')\n",
    "plt.ylabel('predicted label')"
   ]
  },
  {
   "cell_type": "code",
   "execution_count": 45,
   "metadata": {
    "execution": {
     "iopub.execute_input": "2021-03-11T05:20:21.398013Z",
     "iopub.status.busy": "2021-03-11T05:20:21.396977Z",
     "iopub.status.idle": "2021-03-11T05:20:21.401924Z",
     "shell.execute_reply": "2021-03-11T05:20:21.401252Z"
    },
    "papermill": {
     "duration": 0.092735,
     "end_time": "2021-03-11T05:20:21.402143",
     "exception": false,
     "start_time": "2021-03-11T05:20:21.309408",
     "status": "completed"
    },
    "tags": []
   },
   "outputs": [
    {
     "data": {
      "text/plain": [
       "['BNB2.sav']"
      ]
     },
     "execution_count": 45,
     "metadata": {},
     "output_type": "execute_result"
    }
   ],
   "source": [
    "filename = 'BNB2.sav'\n",
    "joblib.dump(BNB, filename)"
   ]
  },
  {
   "cell_type": "markdown",
   "metadata": {
    "papermill": {
     "duration": 0.075266,
     "end_time": "2021-03-11T05:20:21.558806",
     "exception": false,
     "start_time": "2021-03-11T05:20:21.483540",
     "status": "completed"
    },
    "tags": []
   },
   "source": [
    "# 6. STEAMING"
   ]
  },
  {
   "cell_type": "code",
   "execution_count": 46,
   "metadata": {
    "execution": {
     "iopub.execute_input": "2021-03-11T05:20:21.729224Z",
     "iopub.status.busy": "2021-03-11T05:20:21.728402Z",
     "iopub.status.idle": "2021-03-11T05:20:21.751806Z",
     "shell.execute_reply": "2021-03-11T05:20:21.751146Z"
    },
    "papermill": {
     "duration": 0.113454,
     "end_time": "2021-03-11T05:20:21.751956",
     "exception": false,
     "start_time": "2021-03-11T05:20:21.638502",
     "status": "completed"
    },
    "tags": []
   },
   "outputs": [
    {
     "data": {
      "text/plain": [
       "'def steamu(text):\\n  stemmer = PorterStemmer() \\n  text = stemmer.stem(text)\\n  return text'"
      ]
     },
     "execution_count": 46,
     "metadata": {},
     "output_type": "execute_result"
    }
   ],
   "source": [
    "from Sastrawi.Stemmer.StemmerFactory import StemmerFactory\n",
    "from nltk.stem import PorterStemmer    \n",
    "\n",
    "def steamming(text):\n",
    "    factory = StemmerFactory()\n",
    "    stemmer = factory.create_stemmer()\n",
    "    split = text.split()\n",
    "    hasil = [stemmer.stem(token) for token in split]\n",
    "    hasil = \" \".join(hasil)\n",
    "    return hasil\n",
    "\n",
    "\"\"\"def steamu(text):\n",
    "  stemmer = PorterStemmer() \n",
    "  text = stemmer.stem(text)\n",
    "  return text\"\"\""
   ]
  },
  {
   "cell_type": "code",
   "execution_count": 47,
   "metadata": {
    "execution": {
     "iopub.execute_input": "2021-03-11T05:20:21.921315Z",
     "iopub.status.busy": "2021-03-11T05:20:21.916067Z",
     "iopub.status.idle": "2021-03-11T05:30:11.858561Z",
     "shell.execute_reply": "2021-03-11T05:30:11.857790Z"
    },
    "papermill": {
     "duration": 590.024563,
     "end_time": "2021-03-11T05:30:11.858787",
     "exception": false,
     "start_time": "2021-03-11T05:20:21.834224",
     "status": "completed"
    },
    "tags": []
   },
   "outputs": [
    {
     "name": "stderr",
     "output_type": "stream",
     "text": [
      "/opt/conda/lib/python3.7/site-packages/ipykernel_launcher.py:1: SettingWithCopyWarning: \n",
      "A value is trying to be set on a copy of a slice from a DataFrame.\n",
      "Try using .loc[row_indexer,col_indexer] = value instead\n",
      "\n",
      "See the caveats in the documentation: https://pandas.pydata.org/pandas-docs/stable/user_guide/indexing.html#returning-a-view-versus-a-copy\n",
      "  \"\"\"Entry point for launching an IPython kernel.\n"
     ]
    },
    {
     "data": {
      "text/html": [
       "<div>\n",
       "<style scoped>\n",
       "    .dataframe tbody tr th:only-of-type {\n",
       "        vertical-align: middle;\n",
       "    }\n",
       "\n",
       "    .dataframe tbody tr th {\n",
       "        vertical-align: top;\n",
       "    }\n",
       "\n",
       "    .dataframe thead th {\n",
       "        text-align: right;\n",
       "    }\n",
       "</style>\n",
       "<table border=\"1\" class=\"dataframe\">\n",
       "  <thead>\n",
       "    <tr style=\"text-align: right;\">\n",
       "      <th></th>\n",
       "      <th>tweet</th>\n",
       "      <th>Kategori</th>\n",
       "      <th>cleaned_tweets</th>\n",
       "    </tr>\n",
       "  </thead>\n",
       "  <tbody>\n",
       "    <tr>\n",
       "      <th>0</th>\n",
       "      <td>@MaspiyuO Tampang si Jokowi dan Si Koruptor E-...</td>\n",
       "      <td>2</td>\n",
       "      <td>tampang jokowi koruptor e ktp puan maharani da...</td>\n",
       "    </tr>\n",
       "    <tr>\n",
       "      <th>1</th>\n",
       "      <td>Ribet gini si corona teh. Di Bisnis teruss. Eh...</td>\n",
       "      <td>2</td>\n",
       "      <td>ruwet corona teh bisnis eh bisnis makan jerink...</td>\n",
       "    </tr>\n",
       "    <tr>\n",
       "      <th>2</th>\n",
       "      <td>@fadlizon Akal sehat pun harus dipakai. Sumber...</td>\n",
       "      <td>2</td>\n",
       "      <td>akal sehat pakai sumber virus corona rokok asa...</td>\n",
       "    </tr>\n",
       "    <tr>\n",
       "      <th>3</th>\n",
       "      <td>@fadlizon Sumber dan Asal birus corona covid 1...</td>\n",
       "      <td>2</td>\n",
       "      <td>sumber virus corona rokok cina jual vaksin oba...</td>\n",
       "    </tr>\n",
       "    <tr>\n",
       "      <th>4</th>\n",
       "      <td>Negara yang lalai menjaga rakyat dari terpapar...</td>\n",
       "      <td>2</td>\n",
       "      <td>negara lalai jaga rakyat papar virus corona ne...</td>\n",
       "    </tr>\n",
       "    <tr>\n",
       "      <th>...</th>\n",
       "      <td>...</td>\n",
       "      <td>...</td>\n",
       "      <td>...</td>\n",
       "    </tr>\n",
       "    <tr>\n",
       "      <th>1995</th>\n",
       "      <td>Tak usah ragu dan takut dengan Vaksin,  BPOM p...</td>\n",
       "      <td>1</td>\n",
       "      <td>ragu takut vaksin bpom pasti vaksin corona aman</td>\n",
       "    </tr>\n",
       "    <tr>\n",
       "      <th>1996</th>\n",
       "      <td>Untuk mengendalikan pandemi, vaksin Corona per...</td>\n",
       "      <td>1</td>\n",
       "      <td>kendali pandemi vaksin corona populasi dunia b...</td>\n",
       "    </tr>\n",
       "    <tr>\n",
       "      <th>1997</th>\n",
       "      <td>@jokowi Sehingga vaksin ini mampu menjadi hara...</td>\n",
       "      <td>1</td>\n",
       "      <td>vaksin harap indonesia bebas corona vaksin har...</td>\n",
       "    </tr>\n",
       "    <tr>\n",
       "      <th>1998</th>\n",
       "      <td>@27_jelo @jokowi #DemiNKRI  Akooh jg siap utk ...</td>\n",
       "      <td>1</td>\n",
       "      <td>vaksin vaksin corona aman</td>\n",
       "    </tr>\n",
       "    <tr>\n",
       "      <th>1999</th>\n",
       "      <td>@Ephraym9 Gw kuatirnye vaksin yg udh dibeli gk...</td>\n",
       "      <td>2</td>\n",
       "      <td>khawatir vaksin beli baru corona maklum vaksin</td>\n",
       "    </tr>\n",
       "  </tbody>\n",
       "</table>\n",
       "<p>1488 rows × 3 columns</p>\n",
       "</div>"
      ],
      "text/plain": [
       "                                                  tweet  Kategori  \\\n",
       "0     @MaspiyuO Tampang si Jokowi dan Si Koruptor E-...         2   \n",
       "1     Ribet gini si corona teh. Di Bisnis teruss. Eh...         2   \n",
       "2     @fadlizon Akal sehat pun harus dipakai. Sumber...         2   \n",
       "3     @fadlizon Sumber dan Asal birus corona covid 1...         2   \n",
       "4     Negara yang lalai menjaga rakyat dari terpapar...         2   \n",
       "...                                                 ...       ...   \n",
       "1995  Tak usah ragu dan takut dengan Vaksin,  BPOM p...         1   \n",
       "1996  Untuk mengendalikan pandemi, vaksin Corona per...         1   \n",
       "1997  @jokowi Sehingga vaksin ini mampu menjadi hara...         1   \n",
       "1998  @27_jelo @jokowi #DemiNKRI  Akooh jg siap utk ...         1   \n",
       "1999  @Ephraym9 Gw kuatirnye vaksin yg udh dibeli gk...         2   \n",
       "\n",
       "                                         cleaned_tweets  \n",
       "0     tampang jokowi koruptor e ktp puan maharani da...  \n",
       "1     ruwet corona teh bisnis eh bisnis makan jerink...  \n",
       "2     akal sehat pakai sumber virus corona rokok asa...  \n",
       "3     sumber virus corona rokok cina jual vaksin oba...  \n",
       "4     negara lalai jaga rakyat papar virus corona ne...  \n",
       "...                                                 ...  \n",
       "1995    ragu takut vaksin bpom pasti vaksin corona aman  \n",
       "1996  kendali pandemi vaksin corona populasi dunia b...  \n",
       "1997  vaksin harap indonesia bebas corona vaksin har...  \n",
       "1998                          vaksin vaksin corona aman  \n",
       "1999     khawatir vaksin beli baru corona maklum vaksin  \n",
       "\n",
       "[1488 rows x 3 columns]"
      ]
     },
     "execution_count": 47,
     "metadata": {},
     "output_type": "execute_result"
    }
   ],
   "source": [
    "df1['cleaned_tweets'] = df1['cleaned_tweets'].apply(lambda x: steamming(x))\n",
    "#df1['cleaned_tweets'] = df1['cleaned_tweets'].apply(lambda x: steamu(x))\n",
    "df1"
   ]
  },
  {
   "cell_type": "code",
   "execution_count": 48,
   "metadata": {
    "execution": {
     "iopub.execute_input": "2021-03-11T05:30:12.023793Z",
     "iopub.status.busy": "2021-03-11T05:30:12.023028Z",
     "iopub.status.idle": "2021-03-11T05:30:12.048615Z",
     "shell.execute_reply": "2021-03-11T05:30:12.047822Z"
    },
    "papermill": {
     "duration": 0.110016,
     "end_time": "2021-03-11T05:30:12.048769",
     "exception": false,
     "start_time": "2021-03-11T05:30:11.938753",
     "status": "completed"
    },
    "tags": []
   },
   "outputs": [],
   "source": [
    "df1.to_csv('prepocessing.csv',index=False)"
   ]
  },
  {
   "cell_type": "code",
   "execution_count": 49,
   "metadata": {
    "execution": {
     "iopub.execute_input": "2021-03-11T05:30:12.206629Z",
     "iopub.status.busy": "2021-03-11T05:30:12.205689Z",
     "iopub.status.idle": "2021-03-11T05:30:14.135624Z",
     "shell.execute_reply": "2021-03-11T05:30:14.136152Z"
    },
    "papermill": {
     "duration": 2.010042,
     "end_time": "2021-03-11T05:30:14.136324",
     "exception": false,
     "start_time": "2021-03-11T05:30:12.126282",
     "status": "completed"
    },
    "tags": []
   },
   "outputs": [
    {
     "data": {
      "image/png": "[encoded data removed]",
      "text/plain": [
       "<Figure size 864x720 with 1 Axes>"
      ]
     },
     "metadata": {
      "needs_background": "light"
     },
     "output_type": "display_data"
    }
   ],
   "source": [
    "from wordcloud import WordCloud, ImageColorGenerator\n",
    "\n",
    "wd_list = df1['cleaned_tweets']\n",
    "#liststopwords = set(stopwords.words('indonesian'))\n",
    "all_words = ' '.join([text for text in wd_list])\n",
    "\n",
    "wordcloud = WordCloud(\n",
    "    background_color='white',\n",
    "    #stopwords=liststopwords,\n",
    "    width=1600,\n",
    "    height=800,\n",
    "    random_state=1,\n",
    "    colormap='jet',\n",
    "    max_words=80,\n",
    "    max_font_size=200).generate(all_words)\n",
    "plt.figure(figsize=(12, 10))\n",
    "plt.axis('off')\n",
    "plt.imshow(wordcloud, interpolation=\"bilinear\");"
   ]
  },
  {
   "cell_type": "markdown",
   "metadata": {
    "papermill": {
     "duration": 0.08404,
     "end_time": "2021-03-11T05:30:14.304556",
     "exception": false,
     "start_time": "2021-03-11T05:30:14.220516",
     "status": "completed"
    },
    "tags": []
   },
   "source": [
    "# VEKTORISASI"
   ]
  },
  {
   "cell_type": "code",
   "execution_count": 50,
   "metadata": {
    "execution": {
     "iopub.execute_input": "2021-03-11T05:30:14.504806Z",
     "iopub.status.busy": "2021-03-11T05:30:14.487701Z",
     "iopub.status.idle": "2021-03-11T05:30:14.513136Z",
     "shell.execute_reply": "2021-03-11T05:30:14.512430Z"
    },
    "papermill": {
     "duration": 0.123198,
     "end_time": "2021-03-11T05:30:14.513296",
     "exception": false,
     "start_time": "2021-03-11T05:30:14.390098",
     "status": "completed"
    },
    "tags": []
   },
   "outputs": [],
   "source": [
    "text_counts = cv.fit_transform(df1['cleaned_tweets'])"
   ]
  },
  {
   "cell_type": "markdown",
   "metadata": {
    "papermill": {
     "duration": 0.081612,
     "end_time": "2021-03-11T05:30:14.676729",
     "exception": false,
     "start_time": "2021-03-11T05:30:14.595117",
     "status": "completed"
    },
    "tags": []
   },
   "source": [
    "# SPLIT DATASET"
   ]
  },
  {
   "cell_type": "code",
   "execution_count": 51,
   "metadata": {
    "execution": {
     "iopub.execute_input": "2021-03-11T05:30:14.848540Z",
     "iopub.status.busy": "2021-03-11T05:30:14.847720Z",
     "iopub.status.idle": "2021-03-11T05:30:14.853623Z",
     "shell.execute_reply": "2021-03-11T05:30:14.854371Z"
    },
    "papermill": {
     "duration": 0.095729,
     "end_time": "2021-03-11T05:30:14.854615",
     "exception": false,
     "start_time": "2021-03-11T05:30:14.758886",
     "status": "completed"
    },
    "tags": []
   },
   "outputs": [
    {
     "name": "stdout",
     "output_type": "stream",
     "text": [
      "(1190, 2037) (298, 2037)\n"
     ]
    }
   ],
   "source": [
    "X_train, X_test, Y_train, Y_test = train_test_split(text_counts, df1['Kategori'], test_size=0.2)\n",
    "print(X_train.shape, X_test.shape)"
   ]
  },
  {
   "cell_type": "markdown",
   "metadata": {
    "papermill": {
     "duration": 0.084179,
     "end_time": "2021-03-11T05:30:15.025215",
     "exception": false,
     "start_time": "2021-03-11T05:30:14.941036",
     "status": "completed"
    },
    "tags": []
   },
   "source": [
    "# KLASIFIKASI"
   ]
  },
  {
   "cell_type": "markdown",
   "metadata": {
    "papermill": {
     "duration": 0.083656,
     "end_time": "2021-03-11T05:30:15.191901",
     "exception": false,
     "start_time": "2021-03-11T05:30:15.108245",
     "status": "completed"
    },
    "tags": []
   },
   "source": [
    "# 1. Naive Bayes MNB"
   ]
  },
  {
   "cell_type": "code",
   "execution_count": 52,
   "metadata": {
    "execution": {
     "iopub.execute_input": "2021-03-11T05:30:15.364618Z",
     "iopub.status.busy": "2021-03-11T05:30:15.363970Z",
     "iopub.status.idle": "2021-03-11T05:30:15.371300Z",
     "shell.execute_reply": "2021-03-11T05:30:15.371955Z"
    },
    "papermill": {
     "duration": 0.096751,
     "end_time": "2021-03-11T05:30:15.372138",
     "exception": false,
     "start_time": "2021-03-11T05:30:15.275387",
     "status": "completed"
    },
    "tags": []
   },
   "outputs": [
    {
     "name": "stdout",
     "output_type": "stream",
     "text": [
      "91.95%\n"
     ]
    }
   ],
   "source": [
    "MNB.fit(X_train, Y_train)\n",
    "predicted = MNB.predict(X_test)\n",
    "model5 = metrics.accuracy_score(predicted, Y_test)\n",
    "print(str('{:04.2f}'.format(model5*100))+'%')"
   ]
  },
  {
   "cell_type": "code",
   "execution_count": 53,
   "metadata": {
    "execution": {
     "iopub.execute_input": "2021-03-11T05:30:15.546752Z",
     "iopub.status.busy": "2021-03-11T05:30:15.545149Z",
     "iopub.status.idle": "2021-03-11T05:30:15.553349Z",
     "shell.execute_reply": "2021-03-11T05:30:15.552803Z"
    },
    "papermill": {
     "duration": 0.097565,
     "end_time": "2021-03-11T05:30:15.553495",
     "exception": false,
     "start_time": "2021-03-11T05:30:15.455930",
     "status": "completed"
    },
    "tags": []
   },
   "outputs": [
    {
     "name": "stdout",
     "output_type": "stream",
     "text": [
      "[[199  10]\n",
      " [ 14  75]]\n"
     ]
    }
   ],
   "source": [
    "confusion = confusion_matrix(Y_test, predicted)\n",
    "print(confusion)"
   ]
  },
  {
   "cell_type": "code",
   "execution_count": 54,
   "metadata": {
    "execution": {
     "iopub.execute_input": "2021-03-11T05:30:15.751674Z",
     "iopub.status.busy": "2021-03-11T05:30:15.749207Z",
     "iopub.status.idle": "2021-03-11T05:30:15.838163Z",
     "shell.execute_reply": "2021-03-11T05:30:15.838697Z"
    },
    "papermill": {
     "duration": 0.199433,
     "end_time": "2021-03-11T05:30:15.838904",
     "exception": false,
     "start_time": "2021-03-11T05:30:15.639471",
     "status": "completed"
    },
    "tags": []
   },
   "outputs": [
    {
     "data": {
      "text/plain": [
       "Text(91.68, 0.5, 'predicted label')"
      ]
     },
     "execution_count": 54,
     "metadata": {},
     "output_type": "execute_result"
    },
    {
     "data": {
      "image/png": "[encoded data removed]",
      "text/plain": [
       "<Figure size 432x288 with 1 Axes>"
      ]
     },
     "metadata": {
      "needs_background": "light"
     },
     "output_type": "display_data"
    }
   ],
   "source": [
    "sns.heatmap(confusion, square=True, annot=True, cbar=False, cmap='Blues', \n",
    "xticklabels=['positif', 'negatif'], yticklabels=['positif', 'negatif'])\n",
    "plt.xlabel('true label')\n",
    "plt.ylabel('predicted label')"
   ]
  },
  {
   "cell_type": "code",
   "execution_count": 55,
   "metadata": {
    "execution": {
     "iopub.execute_input": "2021-03-11T05:30:16.016374Z",
     "iopub.status.busy": "2021-03-11T05:30:16.015723Z",
     "iopub.status.idle": "2021-03-11T05:30:16.021373Z",
     "shell.execute_reply": "2021-03-11T05:30:16.021927Z"
    },
    "papermill": {
     "duration": 0.098768,
     "end_time": "2021-03-11T05:30:16.022116",
     "exception": false,
     "start_time": "2021-03-11T05:30:15.923348",
     "status": "completed"
    },
    "tags": []
   },
   "outputs": [
    {
     "data": {
      "text/plain": [
       "1    213\n",
       "2     85\n",
       "Name: label, dtype: int64"
      ]
     },
     "execution_count": 55,
     "metadata": {},
     "output_type": "execute_result"
    }
   ],
   "source": [
    "output = pd.DataFrame({'tweet': X_test, 'label': predicted})\n",
    "output['label'].value_counts()"
   ]
  },
  {
   "cell_type": "markdown",
   "metadata": {
    "papermill": {
     "duration": 0.085957,
     "end_time": "2021-03-11T05:30:16.193526",
     "exception": false,
     "start_time": "2021-03-11T05:30:16.107569",
     "status": "completed"
    },
    "tags": []
   },
   "source": [
    "# 2. Naive Bayes BNB"
   ]
  },
  {
   "cell_type": "code",
   "execution_count": 56,
   "metadata": {
    "execution": {
     "iopub.execute_input": "2021-03-11T05:30:16.369542Z",
     "iopub.status.busy": "2021-03-11T05:30:16.368856Z",
     "iopub.status.idle": "2021-03-11T05:30:16.378142Z",
     "shell.execute_reply": "2021-03-11T05:30:16.378754Z"
    },
    "papermill": {
     "duration": 0.100213,
     "end_time": "2021-03-11T05:30:16.378942",
     "exception": false,
     "start_time": "2021-03-11T05:30:16.278729",
     "status": "completed"
    },
    "tags": []
   },
   "outputs": [
    {
     "name": "stdout",
     "output_type": "stream",
     "text": [
      "BNB accuracy = 85.23%\n"
     ]
    }
   ],
   "source": [
    "BNB.fit(X_train, Y_train)\n",
    "model6 = metrics.accuracy_score(BNB.predict(X_test),Y_test)\n",
    "print('BNB accuracy = ' + str('{:4.2f}'.format(model6*100))+'%')"
   ]
  },
  {
   "cell_type": "code",
   "execution_count": 57,
   "metadata": {
    "execution": {
     "iopub.execute_input": "2021-03-11T05:30:16.560241Z",
     "iopub.status.busy": "2021-03-11T05:30:16.559501Z",
     "iopub.status.idle": "2021-03-11T05:30:16.568493Z",
     "shell.execute_reply": "2021-03-11T05:30:16.569058Z"
    },
    "papermill": {
     "duration": 0.099523,
     "end_time": "2021-03-11T05:30:16.569246",
     "exception": false,
     "start_time": "2021-03-11T05:30:16.469723",
     "status": "completed"
    },
    "tags": []
   },
   "outputs": [
    {
     "name": "stdout",
     "output_type": "stream",
     "text": [
      "[[200   9]\n",
      " [ 35  54]]\n"
     ]
    }
   ],
   "source": [
    "predicted = BNB.predict(X_test)\n",
    "confusion = confusion_matrix(Y_test, predicted)\n",
    "print(confusion)"
   ]
  },
  {
   "cell_type": "code",
   "execution_count": 58,
   "metadata": {
    "execution": {
     "iopub.execute_input": "2021-03-11T05:30:16.776122Z",
     "iopub.status.busy": "2021-03-11T05:30:16.765945Z",
     "iopub.status.idle": "2021-03-11T05:30:16.854693Z",
     "shell.execute_reply": "2021-03-11T05:30:16.854090Z"
    },
    "papermill": {
     "duration": 0.198574,
     "end_time": "2021-03-11T05:30:16.854838",
     "exception": false,
     "start_time": "2021-03-11T05:30:16.656264",
     "status": "completed"
    },
    "tags": []
   },
   "outputs": [
    {
     "data": {
      "text/plain": [
       "Text(91.68, 0.5, 'predicted label')"
      ]
     },
     "execution_count": 58,
     "metadata": {},
     "output_type": "execute_result"
    },
    {
     "data": {
      "image/png": "[encoded data removed]",
      "text/plain": [
       "<Figure size 432x288 with 1 Axes>"
      ]
     },
     "metadata": {
      "needs_background": "light"
     },
     "output_type": "display_data"
    }
   ],
   "source": [
    "sns.heatmap(confusion, square=True, annot=True, cbar=False, cmap='Blues',\n",
    "xticklabels=['positif', 'negatif'], yticklabels=['positif', 'negatif'])\n",
    "plt.xlabel('true label')\n",
    "plt.ylabel('predicted label')"
   ]
  },
  {
   "cell_type": "code",
   "execution_count": 59,
   "metadata": {
    "execution": {
     "iopub.execute_input": "2021-03-11T05:30:17.040301Z",
     "iopub.status.busy": "2021-03-11T05:30:17.039333Z",
     "iopub.status.idle": "2021-03-11T05:30:17.044935Z",
     "shell.execute_reply": "2021-03-11T05:30:17.044389Z"
    },
    "papermill": {
     "duration": 0.101498,
     "end_time": "2021-03-11T05:30:17.045075",
     "exception": false,
     "start_time": "2021-03-11T05:30:16.943577",
     "status": "completed"
    },
    "tags": []
   },
   "outputs": [
    {
     "data": {
      "text/plain": [
       "1    235\n",
       "2     63\n",
       "Name: label, dtype: int64"
      ]
     },
     "execution_count": 59,
     "metadata": {},
     "output_type": "execute_result"
    }
   ],
   "source": [
    "output = pd.DataFrame({'tweet': X_test, 'label': predicted})\n",
    "output['label'].value_counts()"
   ]
  },
  {
   "cell_type": "code",
   "execution_count": 60,
   "metadata": {
    "execution": {
     "iopub.execute_input": "2021-03-11T05:30:17.234884Z",
     "iopub.status.busy": "2021-03-11T05:30:17.233980Z",
     "iopub.status.idle": "2021-03-11T05:30:17.238709Z",
     "shell.execute_reply": "2021-03-11T05:30:17.238091Z"
    },
    "papermill": {
     "duration": 0.104372,
     "end_time": "2021-03-11T05:30:17.238863",
     "exception": false,
     "start_time": "2021-03-11T05:30:17.134491",
     "status": "completed"
    },
    "tags": []
   },
   "outputs": [
    {
     "data": {
      "text/html": [
       "<div>\n",
       "<style scoped>\n",
       "    .dataframe tbody tr th:only-of-type {\n",
       "        vertical-align: middle;\n",
       "    }\n",
       "\n",
       "    .dataframe tbody tr th {\n",
       "        vertical-align: top;\n",
       "    }\n",
       "\n",
       "    .dataframe thead th {\n",
       "        text-align: right;\n",
       "    }\n",
       "</style>\n",
       "<table border=\"1\" class=\"dataframe\">\n",
       "  <thead>\n",
       "    <tr style=\"text-align: right;\">\n",
       "      <th></th>\n",
       "      <th>Prepocessing</th>\n",
       "      <th>Akurasi</th>\n",
       "    </tr>\n",
       "  </thead>\n",
       "  <tbody>\n",
       "    <tr>\n",
       "      <th>0</th>\n",
       "      <td>Multinomial TSS</td>\n",
       "      <td>0.899329</td>\n",
       "    </tr>\n",
       "    <tr>\n",
       "      <th>1</th>\n",
       "      <td>Bernoulli TSS</td>\n",
       "      <td>0.852349</td>\n",
       "    </tr>\n",
       "    <tr>\n",
       "      <th>2</th>\n",
       "      <td>Multinomial Stopwords</td>\n",
       "      <td>0.906040</td>\n",
       "    </tr>\n",
       "    <tr>\n",
       "      <th>3</th>\n",
       "      <td>Bernoulli Stopwords</td>\n",
       "      <td>0.825503</td>\n",
       "    </tr>\n",
       "    <tr>\n",
       "      <th>4</th>\n",
       "      <td>Multinomial SS</td>\n",
       "      <td>0.919463</td>\n",
       "    </tr>\n",
       "    <tr>\n",
       "      <th>5</th>\n",
       "      <td>Bernoulli SS</td>\n",
       "      <td>0.852349</td>\n",
       "    </tr>\n",
       "  </tbody>\n",
       "</table>\n",
       "</div>"
      ],
      "text/plain": [
       "            Prepocessing   Akurasi\n",
       "0        Multinomial TSS  0.899329\n",
       "1          Bernoulli TSS  0.852349\n",
       "2  Multinomial Stopwords  0.906040\n",
       "3    Bernoulli Stopwords  0.825503\n",
       "4         Multinomial SS  0.919463\n",
       "5           Bernoulli SS  0.852349"
      ]
     },
     "execution_count": 60,
     "metadata": {},
     "output_type": "execute_result"
    }
   ],
   "source": [
    "pre=['Multinomial TSS','Bernoulli TSS','Multinomial Stopwords','Bernoulli Stopwords','Multinomial SS','Bernoulli SS']\n",
    "akurasi =[model1,model2,model3,model4,model5,model6]\n",
    "d={'Prepocessing':pre,'Akurasi':akurasi}   \n",
    "dataframe=pd.DataFrame(d)\n",
    "dataframe"
   ]
  },
  {
   "cell_type": "code",
   "execution_count": 61,
   "metadata": {
    "execution": {
     "iopub.execute_input": "2021-03-11T05:30:17.426642Z",
     "iopub.status.busy": "2021-03-11T05:30:17.425995Z",
     "iopub.status.idle": "2021-03-11T05:30:17.673454Z",
     "shell.execute_reply": "2021-03-11T05:30:17.672906Z"
    },
    "papermill": {
     "duration": 0.342414,
     "end_time": "2021-03-11T05:30:17.673626",
     "exception": false,
     "start_time": "2021-03-11T05:30:17.331212",
     "status": "completed"
    },
    "tags": []
   },
   "outputs": [
    {
     "name": "stderr",
     "output_type": "stream",
     "text": [
      "/opt/conda/lib/python3.7/site-packages/seaborn/categorical.py:3714: UserWarning: The `factorplot` function has been renamed to `catplot`. The original name will be removed in a future release. Please update your code. Note that the default `kind` in `factorplot` (`'point'`) has changed `'strip'` in `catplot`.\n",
      "  warnings.warn(msg)\n",
      "/opt/conda/lib/python3.7/site-packages/seaborn/categorical.py:3720: UserWarning: The `size` parameter has been renamed to `height`; please update your code.\n",
      "  warnings.warn(msg, UserWarning)\n"
     ]
    },
    {
     "data": {
      "text/plain": [
       "<seaborn.axisgrid.FacetGrid at 0x7fd2b2725dd0>"
      ]
     },
     "execution_count": 61,
     "metadata": {},
     "output_type": "execute_result"
    },
    {
     "data": {
      "image/png": "[encoded data removed]",
      "text/plain": [
       "<Figure size 720x360 with 1 Axes>"
      ]
     },
     "metadata": {
      "needs_background": "light"
     },
     "output_type": "display_data"
    }
   ],
   "source": [
    "sns.factorplot(y='Akurasi',x='Prepocessing',data=dataframe,kind='bar',size=5,aspect=2)"
   ]
  },
  {
   "cell_type": "markdown",
   "metadata": {
    "papermill": {
     "duration": 0.089172,
     "end_time": "2021-03-11T05:30:17.853150",
     "exception": false,
     "start_time": "2021-03-11T05:30:17.763978",
     "status": "completed"
    },
    "tags": []
   },
   "source": [
    "# SAVE MODEL"
   ]
  },
  {
   "cell_type": "code",
   "execution_count": 62,
   "metadata": {
    "execution": {
     "iopub.execute_input": "2021-03-11T05:30:18.061820Z",
     "iopub.status.busy": "2021-03-11T05:30:18.043292Z",
     "iopub.status.idle": "2021-03-11T05:30:18.066633Z",
     "shell.execute_reply": "2021-03-11T05:30:18.065861Z"
    },
    "papermill": {
     "duration": 0.123092,
     "end_time": "2021-03-11T05:30:18.066794",
     "exception": false,
     "start_time": "2021-03-11T05:30:17.943702",
     "status": "completed"
    },
    "tags": []
   },
   "outputs": [
    {
     "data": {
      "text/plain": [
       "['vektor.sav']"
      ]
     },
     "execution_count": 62,
     "metadata": {},
     "output_type": "execute_result"
    }
   ],
   "source": [
    "filename = 'vektor.sav'\n",
    "joblib.dump(cv, filename)"
   ]
  },
  {
   "cell_type": "code",
   "execution_count": 63,
   "metadata": {
    "execution": {
     "iopub.execute_input": "2021-03-11T05:30:18.251306Z",
     "iopub.status.busy": "2021-03-11T05:30:18.250478Z",
     "iopub.status.idle": "2021-03-11T05:30:18.256963Z",
     "shell.execute_reply": "2021-03-11T05:30:18.256344Z"
    },
    "papermill": {
     "duration": 0.09914,
     "end_time": "2021-03-11T05:30:18.257108",
     "exception": false,
     "start_time": "2021-03-11T05:30:18.157968",
     "status": "completed"
    },
    "tags": []
   },
   "outputs": [
    {
     "data": {
      "text/plain": [
       "['MNB3.sav']"
      ]
     },
     "execution_count": 63,
     "metadata": {},
     "output_type": "execute_result"
    }
   ],
   "source": [
    "filename = 'MNB3.sav'\n",
    "joblib.dump(MNB, filename)"
   ]
  },
  {
   "cell_type": "code",
   "execution_count": 64,
   "metadata": {
    "execution": {
     "iopub.execute_input": "2021-03-11T05:30:18.456894Z",
     "iopub.status.busy": "2021-03-11T05:30:18.455375Z",
     "iopub.status.idle": "2021-03-11T05:30:18.463657Z",
     "shell.execute_reply": "2021-03-11T05:30:18.464275Z"
    },
    "papermill": {
     "duration": 0.11554,
     "end_time": "2021-03-11T05:30:18.464448",
     "exception": false,
     "start_time": "2021-03-11T05:30:18.348908",
     "status": "completed"
    },
    "tags": []
   },
   "outputs": [
    {
     "data": {
      "text/plain": [
       "['BNB3.sav']"
      ]
     },
     "execution_count": 64,
     "metadata": {},
     "output_type": "execute_result"
    }
   ],
   "source": [
    "filename = 'BNB3.sav'\n",
    "joblib.dump(BNB, filename)"
   ]
  },
  {
   "cell_type": "markdown",
   "metadata": {
    "papermill": {
     "duration": 0.093277,
     "end_time": "2021-03-11T05:30:18.669020",
     "exception": false,
     "start_time": "2021-03-11T05:30:18.575743",
     "status": "completed"
    },
    "tags": []
   },
   "source": [
    "# IMPLEMENTASI"
   ]
  },
  {
   "cell_type": "code",
   "execution_count": 65,
   "metadata": {
    "execution": {
     "iopub.execute_input": "2021-03-11T05:30:18.857461Z",
     "iopub.status.busy": "2021-03-11T05:30:18.856671Z",
     "iopub.status.idle": "2021-03-11T05:30:18.875716Z",
     "shell.execute_reply": "2021-03-11T05:30:18.876529Z"
    },
    "papermill": {
     "duration": 0.116047,
     "end_time": "2021-03-11T05:30:18.876769",
     "exception": false,
     "start_time": "2021-03-11T05:30:18.760722",
     "status": "completed"
    },
    "tags": []
   },
   "outputs": [],
   "source": [
    "vektor = joblib.load(\"vektor.sav\")\n",
    "MNB = joblib.load(\"MNB3.sav\")"
   ]
  },
  {
   "cell_type": "code",
   "execution_count": 66,
   "metadata": {
    "execution": {
     "iopub.execute_input": "2021-03-11T05:30:19.069891Z",
     "iopub.status.busy": "2021-03-11T05:30:19.069104Z",
     "iopub.status.idle": "2021-03-11T05:30:19.076527Z",
     "shell.execute_reply": "2021-03-11T05:30:19.077044Z"
    },
    "papermill": {
     "duration": 0.106319,
     "end_time": "2021-03-11T05:30:19.077302",
     "exception": false,
     "start_time": "2021-03-11T05:30:18.970983",
     "status": "completed"
    },
    "tags": []
   },
   "outputs": [
    {
     "data": {
      "text/plain": [
       "'positif'"
      ]
     },
     "execution_count": 66,
     "metadata": {},
     "output_type": "execute_result"
    }
   ],
   "source": [
    "result = MNB.predict(vektor.transform([\"Harapan kita dengan vaksin ini bisa menghilangkan virus corona #DukungSehatkanBangsa Wajib Bebas Covid\"]))\n",
    "if (result == [2]) :\n",
    "  result = \"negatif\"\n",
    "elif (result == [1]) :\n",
    "  result = \"positif\"\n",
    "\n",
    "result"
   ]
  },
  {
   "cell_type": "code",
   "execution_count": 67,
   "metadata": {
    "execution": {
     "iopub.execute_input": "2021-03-11T05:30:19.272115Z",
     "iopub.status.busy": "2021-03-11T05:30:19.271401Z",
     "iopub.status.idle": "2021-03-11T05:30:19.276848Z",
     "shell.execute_reply": "2021-03-11T05:30:19.277454Z"
    },
    "papermill": {
     "duration": 0.104172,
     "end_time": "2021-03-11T05:30:19.277656",
     "exception": false,
     "start_time": "2021-03-11T05:30:19.173484",
     "status": "completed"
    },
    "tags": []
   },
   "outputs": [
    {
     "data": {
      "text/plain": [
       "'positif'"
      ]
     },
     "execution_count": 67,
     "metadata": {},
     "output_type": "execute_result"
    }
   ],
   "source": [
    "BNB = joblib.load(\"BNB3.sav\")\n",
    "if (result == [2]) :\n",
    "  result = \"negatif\"\n",
    "elif (result == [1]) :\n",
    "  result = \"positif\"\n",
    "\n",
    "result"
   ]
  }
 ],
 "metadata": {
  "kernelspec": {
   "display_name": "Python 3",
   "language": "python",
   "name": "python3"
  },
  "language_info": {
   "codemirror_mode": {
    "name": "ipython",
    "version": 3
   },
   "file_extension": ".py",
   "mimetype": "text/x-python",
   "name": "python",
   "nbconvert_exporter": "python",
   "pygments_lexer": "ipython3",
   "version": "3.6.9"
  },
  "papermill": {
   "default_parameters": {},
   "duration": 627.124831,
   "end_time": "2021-03-11T05:30:20.183132",
   "environment_variables": {},
   "exception": null,
   "input_path": "__notebook__.ipynb",
   "output_path": "__notebook__.ipynb",
   "parameters": {},
   "start_time": "2021-03-11T05:19:53.058301",
   "version": "2.2.2"
  }
 },
 "nbformat": 4,
 "nbformat_minor": 4
}
