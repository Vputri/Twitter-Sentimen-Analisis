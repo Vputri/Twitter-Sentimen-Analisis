{
 "cells": [
  {
   "cell_type": "code",
   "execution_count": 1,
   "metadata": {
    "execution": {
     "iopub.execute_input": "2021-03-10T10:05:31.366529Z",
     "iopub.status.busy": "2021-03-10T10:05:31.354841Z",
     "iopub.status.idle": "2021-03-10T10:05:40.405529Z",
     "shell.execute_reply": "2021-03-10T10:05:40.406040Z"
    },
    "papermill": {
     "duration": 9.080652,
     "end_time": "2021-03-10T10:05:40.406401",
     "exception": false,
     "start_time": "2021-03-10T10:05:31.325749",
     "status": "completed"
    },
    "tags": []
   },
   "outputs": [
    {
     "name": "stdout",
     "output_type": "stream",
     "text": [
      "Collecting Sastrawi\r\n",
      "  Downloading Sastrawi-1.0.1-py2.py3-none-any.whl (209 kB)\r\n",
      "\u001b[K     |████████████████████████████████| 209 kB 1.2 MB/s \r\n",
      "\u001b[?25hInstalling collected packages: Sastrawi\r\n",
      "Successfully installed Sastrawi-1.0.1\r\n"
     ]
    }
   ],
   "source": [
    "!pip install Sastrawi"
   ]
  },
  {
   "cell_type": "markdown",
   "metadata": {
    "papermill": {
     "duration": 0.024646,
     "end_time": "2021-03-10T10:05:40.457093",
     "exception": false,
     "start_time": "2021-03-10T10:05:40.432447",
     "status": "completed"
    },
    "tags": []
   },
   "source": [
    "# READ DATASET"
   ]
  },
  {
   "cell_type": "code",
   "execution_count": 2,
   "metadata": {
    "_cell_guid": "b1076dfc-b9ad-4769-8c92-a6c4dae69d19",
    "_uuid": "8f2839f25d086af736a60e9eeb907d3b93b6e0e5",
    "execution": {
     "iopub.execute_input": "2021-03-10T10:05:40.512899Z",
     "iopub.status.busy": "2021-03-10T10:05:40.512131Z",
     "iopub.status.idle": "2021-03-10T10:05:40.524882Z",
     "shell.execute_reply": "2021-03-10T10:05:40.524339Z"
    },
    "papermill": {
     "duration": 0.042984,
     "end_time": "2021-03-10T10:05:40.525035",
     "exception": false,
     "start_time": "2021-03-10T10:05:40.482051",
     "status": "completed"
    },
    "tags": []
   },
   "outputs": [
    {
     "name": "stdout",
     "output_type": "stream",
     "text": [
      "/kaggle/input/vaksin/vaksinn.csv\n",
      "/kaggle/input/vaksin/kbba.csv\n"
     ]
    }
   ],
   "source": [
    "\n",
    "import os\n",
    "for dirname, _, filenames in os.walk('/kaggle/input'):\n",
    "    for filename in filenames:\n",
    "        print(os.path.join(dirname, filename))"
   ]
  },
  {
   "cell_type": "code",
   "execution_count": 3,
   "metadata": {
    "execution": {
     "iopub.execute_input": "2021-03-10T10:05:40.582195Z",
     "iopub.status.busy": "2021-03-10T10:05:40.581562Z",
     "iopub.status.idle": "2021-03-10T10:05:40.640237Z",
     "shell.execute_reply": "2021-03-10T10:05:40.640698Z"
    },
    "papermill": {
     "duration": 0.089462,
     "end_time": "2021-03-10T10:05:40.640870",
     "exception": false,
     "start_time": "2021-03-10T10:05:40.551408",
     "status": "completed"
    },
    "tags": []
   },
   "outputs": [
    {
     "data": {
      "text/html": [
       "<div>\n",
       "<style scoped>\n",
       "    .dataframe tbody tr th:only-of-type {\n",
       "        vertical-align: middle;\n",
       "    }\n",
       "\n",
       "    .dataframe tbody tr th {\n",
       "        vertical-align: top;\n",
       "    }\n",
       "\n",
       "    .dataframe thead th {\n",
       "        text-align: right;\n",
       "    }\n",
       "</style>\n",
       "<table border=\"1\" class=\"dataframe\">\n",
       "  <thead>\n",
       "    <tr style=\"text-align: right;\">\n",
       "      <th></th>\n",
       "      <th>id</th>\n",
       "      <th>date</th>\n",
       "      <th>username</th>\n",
       "      <th>tweet</th>\n",
       "      <th>Kategori</th>\n",
       "    </tr>\n",
       "  </thead>\n",
       "  <tbody>\n",
       "    <tr>\n",
       "      <th>0</th>\n",
       "      <td>1.339103e+18</td>\n",
       "      <td>2020-12-16</td>\n",
       "      <td>abdulaz93506871</td>\n",
       "      <td>@MaspiyuO Tampang si Jokowi dan Si Koruptor E-...</td>\n",
       "      <td>2</td>\n",
       "    </tr>\n",
       "    <tr>\n",
       "      <th>1</th>\n",
       "      <td>1.339053e+18</td>\n",
       "      <td>2020-12-16</td>\n",
       "      <td>alyssa_ncls</td>\n",
       "      <td>Ribet gini si corona teh. Di Bisnis teruss. Eh...</td>\n",
       "      <td>2</td>\n",
       "    </tr>\n",
       "    <tr>\n",
       "      <th>2</th>\n",
       "      <td>1.339146e+18</td>\n",
       "      <td>2020-12-16</td>\n",
       "      <td>amellia76564885</td>\n",
       "      <td>@fadlizon Akal sehat pun harus dipakai. Sumber...</td>\n",
       "      <td>2</td>\n",
       "    </tr>\n",
       "    <tr>\n",
       "      <th>3</th>\n",
       "      <td>1.339143e+18</td>\n",
       "      <td>2020-12-16</td>\n",
       "      <td>amellia76564885</td>\n",
       "      <td>@fadlizon Sumber dan Asal birus corona covid 1...</td>\n",
       "      <td>2</td>\n",
       "    </tr>\n",
       "    <tr>\n",
       "      <th>4</th>\n",
       "      <td>1.339065e+18</td>\n",
       "      <td>2020-12-16</td>\n",
       "      <td>anaktopik</td>\n",
       "      <td>Negara yang lalai menjaga rakyat dari terpapar...</td>\n",
       "      <td>2</td>\n",
       "    </tr>\n",
       "    <tr>\n",
       "      <th>...</th>\n",
       "      <td>...</td>\n",
       "      <td>...</td>\n",
       "      <td>...</td>\n",
       "      <td>...</td>\n",
       "      <td>...</td>\n",
       "    </tr>\n",
       "    <tr>\n",
       "      <th>1995</th>\n",
       "      <td>1.341977e+18</td>\n",
       "      <td>2020-12-24</td>\n",
       "      <td>nar_dwi</td>\n",
       "      <td>Tak usah ragu dan takut dengan Vaksin,  BPOM p...</td>\n",
       "      <td>1</td>\n",
       "    </tr>\n",
       "    <tr>\n",
       "      <th>1996</th>\n",
       "      <td>1.341973e+18</td>\n",
       "      <td>2020-12-24</td>\n",
       "      <td>detikinet</td>\n",
       "      <td>Untuk mengendalikan pandemi, vaksin Corona per...</td>\n",
       "      <td>1</td>\n",
       "    </tr>\n",
       "    <tr>\n",
       "      <th>1997</th>\n",
       "      <td>1.341972e+18</td>\n",
       "      <td>2020-12-24</td>\n",
       "      <td>heldadh3</td>\n",
       "      <td>@jokowi Sehingga vaksin ini mampu menjadi hara...</td>\n",
       "      <td>1</td>\n",
       "    </tr>\n",
       "    <tr>\n",
       "      <th>1998</th>\n",
       "      <td>1.341943e+18</td>\n",
       "      <td>2020-12-24</td>\n",
       "      <td>godham5</td>\n",
       "      <td>@27_jelo @jokowi #DemiNKRI  Akooh jg siap utk ...</td>\n",
       "      <td>1</td>\n",
       "    </tr>\n",
       "    <tr>\n",
       "      <th>1999</th>\n",
       "      <td>1.341994e+18</td>\n",
       "      <td>2020-12-24</td>\n",
       "      <td>ikanbadutz</td>\n",
       "      <td>@Ephraym9 Gw kuatirnye vaksin yg udh dibeli gk...</td>\n",
       "      <td>2</td>\n",
       "    </tr>\n",
       "  </tbody>\n",
       "</table>\n",
       "<p>2000 rows × 5 columns</p>\n",
       "</div>"
      ],
      "text/plain": [
       "                id        date         username  \\\n",
       "0     1.339103e+18  2020-12-16  abdulaz93506871   \n",
       "1     1.339053e+18  2020-12-16      alyssa_ncls   \n",
       "2     1.339146e+18  2020-12-16  amellia76564885   \n",
       "3     1.339143e+18  2020-12-16  amellia76564885   \n",
       "4     1.339065e+18  2020-12-16        anaktopik   \n",
       "...            ...         ...              ...   \n",
       "1995  1.341977e+18  2020-12-24          nar_dwi   \n",
       "1996  1.341973e+18  2020-12-24        detikinet   \n",
       "1997  1.341972e+18  2020-12-24         heldadh3   \n",
       "1998  1.341943e+18  2020-12-24          godham5   \n",
       "1999  1.341994e+18  2020-12-24       ikanbadutz   \n",
       "\n",
       "                                                  tweet  Kategori  \n",
       "0     @MaspiyuO Tampang si Jokowi dan Si Koruptor E-...         2  \n",
       "1     Ribet gini si corona teh. Di Bisnis teruss. Eh...         2  \n",
       "2     @fadlizon Akal sehat pun harus dipakai. Sumber...         2  \n",
       "3     @fadlizon Sumber dan Asal birus corona covid 1...         2  \n",
       "4     Negara yang lalai menjaga rakyat dari terpapar...         2  \n",
       "...                                                 ...       ...  \n",
       "1995  Tak usah ragu dan takut dengan Vaksin,  BPOM p...         1  \n",
       "1996  Untuk mengendalikan pandemi, vaksin Corona per...         1  \n",
       "1997  @jokowi Sehingga vaksin ini mampu menjadi hara...         1  \n",
       "1998  @27_jelo @jokowi #DemiNKRI  Akooh jg siap utk ...         1  \n",
       "1999  @Ephraym9 Gw kuatirnye vaksin yg udh dibeli gk...         2  \n",
       "\n",
       "[2000 rows x 5 columns]"
      ]
     },
     "execution_count": 3,
     "metadata": {},
     "output_type": "execute_result"
    }
   ],
   "source": [
    "import pandas as pd\n",
    "\n",
    "df = pd.read_csv(\"/kaggle/input/vaksin/vaksinn.csv\")\n",
    "df"
   ]
  },
  {
   "cell_type": "code",
   "execution_count": 4,
   "metadata": {
    "execution": {
     "iopub.execute_input": "2021-03-10T10:05:40.706584Z",
     "iopub.status.busy": "2021-03-10T10:05:40.705712Z",
     "iopub.status.idle": "2021-03-10T10:05:40.710751Z",
     "shell.execute_reply": "2021-03-10T10:05:40.710090Z"
    },
    "papermill": {
     "duration": 0.044474,
     "end_time": "2021-03-10T10:05:40.710916",
     "exception": false,
     "start_time": "2021-03-10T10:05:40.666442",
     "status": "completed"
    },
    "tags": []
   },
   "outputs": [
    {
     "data": {
      "text/html": [
       "<div>\n",
       "<style scoped>\n",
       "    .dataframe tbody tr th:only-of-type {\n",
       "        vertical-align: middle;\n",
       "    }\n",
       "\n",
       "    .dataframe tbody tr th {\n",
       "        vertical-align: top;\n",
       "    }\n",
       "\n",
       "    .dataframe thead th {\n",
       "        text-align: right;\n",
       "    }\n",
       "</style>\n",
       "<table border=\"1\" class=\"dataframe\">\n",
       "  <thead>\n",
       "    <tr style=\"text-align: right;\">\n",
       "      <th></th>\n",
       "      <th>tweet</th>\n",
       "      <th>Kategori</th>\n",
       "    </tr>\n",
       "  </thead>\n",
       "  <tbody>\n",
       "    <tr>\n",
       "      <th>0</th>\n",
       "      <td>@MaspiyuO Tampang si Jokowi dan Si Koruptor E-...</td>\n",
       "      <td>2</td>\n",
       "    </tr>\n",
       "    <tr>\n",
       "      <th>1</th>\n",
       "      <td>Ribet gini si corona teh. Di Bisnis teruss. Eh...</td>\n",
       "      <td>2</td>\n",
       "    </tr>\n",
       "    <tr>\n",
       "      <th>2</th>\n",
       "      <td>@fadlizon Akal sehat pun harus dipakai. Sumber...</td>\n",
       "      <td>2</td>\n",
       "    </tr>\n",
       "    <tr>\n",
       "      <th>3</th>\n",
       "      <td>@fadlizon Sumber dan Asal birus corona covid 1...</td>\n",
       "      <td>2</td>\n",
       "    </tr>\n",
       "    <tr>\n",
       "      <th>4</th>\n",
       "      <td>Negara yang lalai menjaga rakyat dari terpapar...</td>\n",
       "      <td>2</td>\n",
       "    </tr>\n",
       "    <tr>\n",
       "      <th>...</th>\n",
       "      <td>...</td>\n",
       "      <td>...</td>\n",
       "    </tr>\n",
       "    <tr>\n",
       "      <th>1995</th>\n",
       "      <td>Tak usah ragu dan takut dengan Vaksin,  BPOM p...</td>\n",
       "      <td>1</td>\n",
       "    </tr>\n",
       "    <tr>\n",
       "      <th>1996</th>\n",
       "      <td>Untuk mengendalikan pandemi, vaksin Corona per...</td>\n",
       "      <td>1</td>\n",
       "    </tr>\n",
       "    <tr>\n",
       "      <th>1997</th>\n",
       "      <td>@jokowi Sehingga vaksin ini mampu menjadi hara...</td>\n",
       "      <td>1</td>\n",
       "    </tr>\n",
       "    <tr>\n",
       "      <th>1998</th>\n",
       "      <td>@27_jelo @jokowi #DemiNKRI  Akooh jg siap utk ...</td>\n",
       "      <td>1</td>\n",
       "    </tr>\n",
       "    <tr>\n",
       "      <th>1999</th>\n",
       "      <td>@Ephraym9 Gw kuatirnye vaksin yg udh dibeli gk...</td>\n",
       "      <td>2</td>\n",
       "    </tr>\n",
       "  </tbody>\n",
       "</table>\n",
       "<p>2000 rows × 2 columns</p>\n",
       "</div>"
      ],
      "text/plain": [
       "                                                  tweet  Kategori\n",
       "0     @MaspiyuO Tampang si Jokowi dan Si Koruptor E-...         2\n",
       "1     Ribet gini si corona teh. Di Bisnis teruss. Eh...         2\n",
       "2     @fadlizon Akal sehat pun harus dipakai. Sumber...         2\n",
       "3     @fadlizon Sumber dan Asal birus corona covid 1...         2\n",
       "4     Negara yang lalai menjaga rakyat dari terpapar...         2\n",
       "...                                                 ...       ...\n",
       "1995  Tak usah ragu dan takut dengan Vaksin,  BPOM p...         1\n",
       "1996  Untuk mengendalikan pandemi, vaksin Corona per...         1\n",
       "1997  @jokowi Sehingga vaksin ini mampu menjadi hara...         1\n",
       "1998  @27_jelo @jokowi #DemiNKRI  Akooh jg siap utk ...         1\n",
       "1999  @Ephraym9 Gw kuatirnye vaksin yg udh dibeli gk...         2\n",
       "\n",
       "[2000 rows x 2 columns]"
      ]
     },
     "execution_count": 4,
     "metadata": {},
     "output_type": "execute_result"
    }
   ],
   "source": [
    "df1 = df.copy()\n",
    "del df1['id'], df1['date'], df1['username']\n",
    "df1"
   ]
  },
  {
   "cell_type": "code",
   "execution_count": 5,
   "metadata": {
    "execution": {
     "iopub.execute_input": "2021-03-10T10:05:40.774303Z",
     "iopub.status.busy": "2021-03-10T10:05:40.773205Z",
     "iopub.status.idle": "2021-03-10T10:05:40.777913Z",
     "shell.execute_reply": "2021-03-10T10:05:40.777316Z"
    },
    "papermill": {
     "duration": 0.040688,
     "end_time": "2021-03-10T10:05:40.778060",
     "exception": false,
     "start_time": "2021-03-10T10:05:40.737372",
     "status": "completed"
    },
    "tags": []
   },
   "outputs": [
    {
     "data": {
      "text/plain": [
       "1    1430\n",
       "2     570\n",
       "Name: Kategori, dtype: int64"
      ]
     },
     "execution_count": 5,
     "metadata": {},
     "output_type": "execute_result"
    }
   ],
   "source": [
    "df1['Kategori'].value_counts()"
   ]
  },
  {
   "cell_type": "markdown",
   "metadata": {
    "papermill": {
     "duration": 0.025975,
     "end_time": "2021-03-10T10:05:40.830649",
     "exception": false,
     "start_time": "2021-03-10T10:05:40.804674",
     "status": "completed"
    },
    "tags": []
   },
   "source": [
    "# PREPROCESSING"
   ]
  },
  {
   "cell_type": "markdown",
   "metadata": {
    "papermill": {
     "duration": 0.029426,
     "end_time": "2021-03-10T10:05:40.886606",
     "exception": false,
     "start_time": "2021-03-10T10:05:40.857180",
     "status": "completed"
    },
    "tags": []
   },
   "source": [
    "# 1. CASE FOLDING"
   ]
  },
  {
   "cell_type": "code",
   "execution_count": 6,
   "metadata": {
    "execution": {
     "iopub.execute_input": "2021-03-10T10:05:40.968705Z",
     "iopub.status.busy": "2021-03-10T10:05:40.967825Z",
     "iopub.status.idle": "2021-03-10T10:05:40.973046Z",
     "shell.execute_reply": "2021-03-10T10:05:40.972447Z"
    },
    "papermill": {
     "duration": 0.053572,
     "end_time": "2021-03-10T10:05:40.973182",
     "exception": false,
     "start_time": "2021-03-10T10:05:40.919610",
     "status": "completed"
    },
    "tags": []
   },
   "outputs": [
    {
     "data": {
      "text/html": [
       "<div>\n",
       "<style scoped>\n",
       "    .dataframe tbody tr th:only-of-type {\n",
       "        vertical-align: middle;\n",
       "    }\n",
       "\n",
       "    .dataframe tbody tr th {\n",
       "        vertical-align: top;\n",
       "    }\n",
       "\n",
       "    .dataframe thead th {\n",
       "        text-align: right;\n",
       "    }\n",
       "</style>\n",
       "<table border=\"1\" class=\"dataframe\">\n",
       "  <thead>\n",
       "    <tr style=\"text-align: right;\">\n",
       "      <th></th>\n",
       "      <th>tweet</th>\n",
       "      <th>Kategori</th>\n",
       "      <th>cleaned_tweets</th>\n",
       "    </tr>\n",
       "  </thead>\n",
       "  <tbody>\n",
       "    <tr>\n",
       "      <th>0</th>\n",
       "      <td>@MaspiyuO Tampang si Jokowi dan Si Koruptor E-...</td>\n",
       "      <td>2</td>\n",
       "      <td>@maspiyuo tampang si jokowi dan si koruptor e-...</td>\n",
       "    </tr>\n",
       "    <tr>\n",
       "      <th>1</th>\n",
       "      <td>Ribet gini si corona teh. Di Bisnis teruss. Eh...</td>\n",
       "      <td>2</td>\n",
       "      <td>ribet gini si corona teh. di bisnis teruss. eh...</td>\n",
       "    </tr>\n",
       "    <tr>\n",
       "      <th>2</th>\n",
       "      <td>@fadlizon Akal sehat pun harus dipakai. Sumber...</td>\n",
       "      <td>2</td>\n",
       "      <td>@fadlizon akal sehat pun harus dipakai. sumber...</td>\n",
       "    </tr>\n",
       "    <tr>\n",
       "      <th>3</th>\n",
       "      <td>@fadlizon Sumber dan Asal birus corona covid 1...</td>\n",
       "      <td>2</td>\n",
       "      <td>@fadlizon sumber dan asal birus corona covid 1...</td>\n",
       "    </tr>\n",
       "    <tr>\n",
       "      <th>4</th>\n",
       "      <td>Negara yang lalai menjaga rakyat dari terpapar...</td>\n",
       "      <td>2</td>\n",
       "      <td>negara yang lalai menjaga rakyat dari terpapar...</td>\n",
       "    </tr>\n",
       "    <tr>\n",
       "      <th>...</th>\n",
       "      <td>...</td>\n",
       "      <td>...</td>\n",
       "      <td>...</td>\n",
       "    </tr>\n",
       "    <tr>\n",
       "      <th>1995</th>\n",
       "      <td>Tak usah ragu dan takut dengan Vaksin,  BPOM p...</td>\n",
       "      <td>1</td>\n",
       "      <td>tak usah ragu dan takut dengan vaksin,  bpom p...</td>\n",
       "    </tr>\n",
       "    <tr>\n",
       "      <th>1996</th>\n",
       "      <td>Untuk mengendalikan pandemi, vaksin Corona per...</td>\n",
       "      <td>1</td>\n",
       "      <td>untuk mengendalikan pandemi, vaksin corona per...</td>\n",
       "    </tr>\n",
       "    <tr>\n",
       "      <th>1997</th>\n",
       "      <td>@jokowi Sehingga vaksin ini mampu menjadi hara...</td>\n",
       "      <td>1</td>\n",
       "      <td>@jokowi sehingga vaksin ini mampu menjadi hara...</td>\n",
       "    </tr>\n",
       "    <tr>\n",
       "      <th>1998</th>\n",
       "      <td>@27_jelo @jokowi #DemiNKRI  Akooh jg siap utk ...</td>\n",
       "      <td>1</td>\n",
       "      <td>@27_jelo @jokowi #deminkri  akooh jg siap utk ...</td>\n",
       "    </tr>\n",
       "    <tr>\n",
       "      <th>1999</th>\n",
       "      <td>@Ephraym9 Gw kuatirnye vaksin yg udh dibeli gk...</td>\n",
       "      <td>2</td>\n",
       "      <td>@ephraym9 gw kuatirnye vaksin yg udh dibeli gk...</td>\n",
       "    </tr>\n",
       "  </tbody>\n",
       "</table>\n",
       "<p>2000 rows × 3 columns</p>\n",
       "</div>"
      ],
      "text/plain": [
       "                                                  tweet  Kategori  \\\n",
       "0     @MaspiyuO Tampang si Jokowi dan Si Koruptor E-...         2   \n",
       "1     Ribet gini si corona teh. Di Bisnis teruss. Eh...         2   \n",
       "2     @fadlizon Akal sehat pun harus dipakai. Sumber...         2   \n",
       "3     @fadlizon Sumber dan Asal birus corona covid 1...         2   \n",
       "4     Negara yang lalai menjaga rakyat dari terpapar...         2   \n",
       "...                                                 ...       ...   \n",
       "1995  Tak usah ragu dan takut dengan Vaksin,  BPOM p...         1   \n",
       "1996  Untuk mengendalikan pandemi, vaksin Corona per...         1   \n",
       "1997  @jokowi Sehingga vaksin ini mampu menjadi hara...         1   \n",
       "1998  @27_jelo @jokowi #DemiNKRI  Akooh jg siap utk ...         1   \n",
       "1999  @Ephraym9 Gw kuatirnye vaksin yg udh dibeli gk...         2   \n",
       "\n",
       "                                         cleaned_tweets  \n",
       "0     @maspiyuo tampang si jokowi dan si koruptor e-...  \n",
       "1     ribet gini si corona teh. di bisnis teruss. eh...  \n",
       "2     @fadlizon akal sehat pun harus dipakai. sumber...  \n",
       "3     @fadlizon sumber dan asal birus corona covid 1...  \n",
       "4     negara yang lalai menjaga rakyat dari terpapar...  \n",
       "...                                                 ...  \n",
       "1995  tak usah ragu dan takut dengan vaksin,  bpom p...  \n",
       "1996  untuk mengendalikan pandemi, vaksin corona per...  \n",
       "1997  @jokowi sehingga vaksin ini mampu menjadi hara...  \n",
       "1998  @27_jelo @jokowi #deminkri  akooh jg siap utk ...  \n",
       "1999  @ephraym9 gw kuatirnye vaksin yg udh dibeli gk...  \n",
       "\n",
       "[2000 rows x 3 columns]"
      ]
     },
     "execution_count": 6,
     "metadata": {},
     "output_type": "execute_result"
    }
   ],
   "source": [
    "df1['cleaned_tweets'] = df1['tweet'].apply(lambda x: x.lower())\n",
    "df1"
   ]
  },
  {
   "cell_type": "markdown",
   "metadata": {
    "papermill": {
     "duration": 0.026576,
     "end_time": "2021-03-10T10:05:41.026694",
     "exception": false,
     "start_time": "2021-03-10T10:05:41.000118",
     "status": "completed"
    },
    "tags": []
   },
   "source": [
    "# 3. NORMALISASI"
   ]
  },
  {
   "cell_type": "code",
   "execution_count": 7,
   "metadata": {
    "execution": {
     "iopub.execute_input": "2021-03-10T10:05:41.088703Z",
     "iopub.status.busy": "2021-03-10T10:05:41.087881Z",
     "iopub.status.idle": "2021-03-10T10:05:41.091207Z",
     "shell.execute_reply": "2021-03-10T10:05:41.091856Z"
    },
    "papermill": {
     "duration": 0.038458,
     "end_time": "2021-03-10T10:05:41.092047",
     "exception": false,
     "start_time": "2021-03-10T10:05:41.053589",
     "status": "completed"
    },
    "tags": []
   },
   "outputs": [],
   "source": [
    "import re\n",
    "\n",
    "def normalisasi(text):\n",
    "  text = re.sub(r\"http\\S+\", \" \", text)\n",
    "  text = re.sub(r\"@\\w+\", \" \", text)\n",
    "  text = re.sub(r\"#\\w+\", \" \", text)\n",
    "  text = re.sub(r'\\W', \" \", text)\n",
    "  text = re.sub(r\"\\d+\", \"\", text)\n",
    "  text = re.sub(r'_', ' ',text)\n",
    "  text = re.sub(r' +', ' ', text)\n",
    "  text = re.sub(r\"^\\s+\", '', text)\n",
    "  #text = text.lstrip()\n",
    "  return text"
   ]
  },
  {
   "cell_type": "code",
   "execution_count": 8,
   "metadata": {
    "execution": {
     "iopub.execute_input": "2021-03-10T10:05:41.198005Z",
     "iopub.status.busy": "2021-03-10T10:05:41.187511Z",
     "iopub.status.idle": "2021-03-10T10:05:41.254153Z",
     "shell.execute_reply": "2021-03-10T10:05:41.254931Z"
    },
    "papermill": {
     "duration": 0.130379,
     "end_time": "2021-03-10T10:05:41.255173",
     "exception": false,
     "start_time": "2021-03-10T10:05:41.124794",
     "status": "completed"
    },
    "tags": []
   },
   "outputs": [],
   "source": [
    "df1['cleaned_tweets'] = df1['cleaned_tweets'].apply(lambda x: normalisasi(x))"
   ]
  },
  {
   "cell_type": "markdown",
   "metadata": {
    "papermill": {
     "duration": 0.030488,
     "end_time": "2021-03-10T10:05:41.318417",
     "exception": false,
     "start_time": "2021-03-10T10:05:41.287929",
     "status": "completed"
    },
    "tags": []
   },
   "source": [
    "# 4. BAKU"
   ]
  },
  {
   "cell_type": "code",
   "execution_count": 9,
   "metadata": {
    "execution": {
     "iopub.execute_input": "2021-03-10T10:05:41.381774Z",
     "iopub.status.busy": "2021-03-10T10:05:41.380779Z",
     "iopub.status.idle": "2021-03-10T10:05:41.475872Z",
     "shell.execute_reply": "2021-03-10T10:05:41.475311Z"
    },
    "papermill": {
     "duration": 0.128767,
     "end_time": "2021-03-10T10:05:41.476040",
     "exception": false,
     "start_time": "2021-03-10T10:05:41.347273",
     "status": "completed"
    },
    "tags": []
   },
   "outputs": [],
   "source": [
    "dict = {row[0] : row[1] for _, row in pd.read_csv(\"/kaggle/input/vaksin/kbba.csv\").iterrows()}"
   ]
  },
  {
   "cell_type": "code",
   "execution_count": 10,
   "metadata": {
    "execution": {
     "iopub.execute_input": "2021-03-10T10:05:41.537125Z",
     "iopub.status.busy": "2021-03-10T10:05:41.536398Z",
     "iopub.status.idle": "2021-03-10T10:05:41.538936Z",
     "shell.execute_reply": "2021-03-10T10:05:41.539559Z"
    },
    "papermill": {
     "duration": 0.036556,
     "end_time": "2021-03-10T10:05:41.539750",
     "exception": false,
     "start_time": "2021-03-10T10:05:41.503194",
     "status": "completed"
    },
    "tags": []
   },
   "outputs": [],
   "source": [
    "def kbbi(text): \n",
    "    token = text.split()\n",
    "    final_string = ' '.join(str(dict.get(word, word)) for word in token)\n",
    "    return final_string"
   ]
  },
  {
   "cell_type": "code",
   "execution_count": 11,
   "metadata": {
    "execution": {
     "iopub.execute_input": "2021-03-10T10:05:41.598329Z",
     "iopub.status.busy": "2021-03-10T10:05:41.597676Z",
     "iopub.status.idle": "2021-03-10T10:05:41.627698Z",
     "shell.execute_reply": "2021-03-10T10:05:41.627019Z"
    },
    "papermill": {
     "duration": 0.060548,
     "end_time": "2021-03-10T10:05:41.627855",
     "exception": false,
     "start_time": "2021-03-10T10:05:41.567307",
     "status": "completed"
    },
    "tags": []
   },
   "outputs": [],
   "source": [
    "df1['cleaned_tweets'] = df1['cleaned_tweets'].apply(lambda x: kbbi(x))"
   ]
  },
  {
   "cell_type": "markdown",
   "metadata": {
    "papermill": {
     "duration": 0.027025,
     "end_time": "2021-03-10T10:05:41.682802",
     "exception": false,
     "start_time": "2021-03-10T10:05:41.655777",
     "status": "completed"
    },
    "tags": []
   },
   "source": [
    "# 5. STOPWORDS"
   ]
  },
  {
   "cell_type": "code",
   "execution_count": 12,
   "metadata": {
    "execution": {
     "iopub.execute_input": "2021-03-10T10:05:41.745574Z",
     "iopub.status.busy": "2021-03-10T10:05:41.744487Z",
     "iopub.status.idle": "2021-03-10T10:05:43.577309Z",
     "shell.execute_reply": "2021-03-10T10:05:43.576032Z"
    },
    "papermill": {
     "duration": 1.867236,
     "end_time": "2021-03-10T10:05:43.577521",
     "exception": false,
     "start_time": "2021-03-10T10:05:41.710285",
     "status": "completed"
    },
    "tags": []
   },
   "outputs": [
    {
     "name": "stdout",
     "output_type": "stream",
     "text": [
      "[nltk_data] Downloading package stopwords to /usr/share/nltk_data...\n",
      "[nltk_data]   Package stopwords is already up-to-date!\n"
     ]
    }
   ],
   "source": [
    "import nltk\n",
    "nltk.download('stopwords')\n",
    "from nltk.corpus import stopwords  \n",
    "\n",
    "def remove_stop_words(text):\n",
    "    text = text.split()\n",
    "    listStopword =  set(stopwords.words('indonesian'))\n",
    "    text = [w for w in text if not w in listStopword]\n",
    "    text = \" \".join(text)\n",
    "    return text"
   ]
  },
  {
   "cell_type": "code",
   "execution_count": 13,
   "metadata": {
    "execution": {
     "iopub.execute_input": "2021-03-10T10:05:43.644754Z",
     "iopub.status.busy": "2021-03-10T10:05:43.644062Z",
     "iopub.status.idle": "2021-03-10T10:05:44.459936Z",
     "shell.execute_reply": "2021-03-10T10:05:44.459418Z"
    },
    "papermill": {
     "duration": 0.853354,
     "end_time": "2021-03-10T10:05:44.460078",
     "exception": false,
     "start_time": "2021-03-10T10:05:43.606724",
     "status": "completed"
    },
    "tags": []
   },
   "outputs": [
    {
     "data": {
      "text/html": [
       "<div>\n",
       "<style scoped>\n",
       "    .dataframe tbody tr th:only-of-type {\n",
       "        vertical-align: middle;\n",
       "    }\n",
       "\n",
       "    .dataframe tbody tr th {\n",
       "        vertical-align: top;\n",
       "    }\n",
       "\n",
       "    .dataframe thead th {\n",
       "        text-align: right;\n",
       "    }\n",
       "</style>\n",
       "<table border=\"1\" class=\"dataframe\">\n",
       "  <thead>\n",
       "    <tr style=\"text-align: right;\">\n",
       "      <th></th>\n",
       "      <th>tweet</th>\n",
       "      <th>Kategori</th>\n",
       "      <th>cleaned_tweets</th>\n",
       "    </tr>\n",
       "  </thead>\n",
       "  <tbody>\n",
       "    <tr>\n",
       "      <th>0</th>\n",
       "      <td>@MaspiyuO Tampang si Jokowi dan Si Koruptor E-...</td>\n",
       "      <td>2</td>\n",
       "      <td>tampang si jokowi si koruptor e ktp puan mahar...</td>\n",
       "    </tr>\n",
       "    <tr>\n",
       "      <th>1</th>\n",
       "      <td>Ribet gini si corona teh. Di Bisnis teruss. Eh...</td>\n",
       "      <td>2</td>\n",
       "      <td>ruwet si corona teh bisnis eh sih bisnis makan...</td>\n",
       "    </tr>\n",
       "    <tr>\n",
       "      <th>2</th>\n",
       "      <td>@fadlizon Akal sehat pun harus dipakai. Sumber...</td>\n",
       "      <td>2</td>\n",
       "      <td>akal sehat dipakai sumber virus corona merokok...</td>\n",
       "    </tr>\n",
       "    <tr>\n",
       "      <th>3</th>\n",
       "      <td>@fadlizon Sumber dan Asal birus corona covid 1...</td>\n",
       "      <td>2</td>\n",
       "      <td>sumber virus corona merokok cina jual vaksin o...</td>\n",
       "    </tr>\n",
       "    <tr>\n",
       "      <th>4</th>\n",
       "      <td>Negara yang lalai menjaga rakyat dari terpapar...</td>\n",
       "      <td>2</td>\n",
       "      <td>negara lalai menjaga rakyat terpapar virus cor...</td>\n",
       "    </tr>\n",
       "    <tr>\n",
       "      <th>...</th>\n",
       "      <td>...</td>\n",
       "      <td>...</td>\n",
       "      <td>...</td>\n",
       "    </tr>\n",
       "    <tr>\n",
       "      <th>1995</th>\n",
       "      <td>Tak usah ragu dan takut dengan Vaksin,  BPOM p...</td>\n",
       "      <td>1</td>\n",
       "      <td>ragu takut vaksin bpom pastikan vaksin corona ...</td>\n",
       "    </tr>\n",
       "    <tr>\n",
       "      <th>1996</th>\n",
       "      <td>Untuk mengendalikan pandemi, vaksin Corona per...</td>\n",
       "      <td>1</td>\n",
       "      <td>mengendalikan pandemi vaksin corona populasi d...</td>\n",
       "    </tr>\n",
       "    <tr>\n",
       "      <th>1997</th>\n",
       "      <td>@jokowi Sehingga vaksin ini mampu menjadi hara...</td>\n",
       "      <td>1</td>\n",
       "      <td>vaksin harapan indonesia bebas corona vaksin d...</td>\n",
       "    </tr>\n",
       "    <tr>\n",
       "      <th>1998</th>\n",
       "      <td>@27_jelo @jokowi #DemiNKRI  Akooh jg siap utk ...</td>\n",
       "      <td>1</td>\n",
       "      <td>vaksin vaksin corona aman</td>\n",
       "    </tr>\n",
       "    <tr>\n",
       "      <th>1999</th>\n",
       "      <td>@Ephraym9 Gw kuatirnye vaksin yg udh dibeli gk...</td>\n",
       "      <td>2</td>\n",
       "      <td>khawatirnya vaksin dibeli terbaru corona maklu...</td>\n",
       "    </tr>\n",
       "  </tbody>\n",
       "</table>\n",
       "<p>2000 rows × 3 columns</p>\n",
       "</div>"
      ],
      "text/plain": [
       "                                                  tweet  Kategori  \\\n",
       "0     @MaspiyuO Tampang si Jokowi dan Si Koruptor E-...         2   \n",
       "1     Ribet gini si corona teh. Di Bisnis teruss. Eh...         2   \n",
       "2     @fadlizon Akal sehat pun harus dipakai. Sumber...         2   \n",
       "3     @fadlizon Sumber dan Asal birus corona covid 1...         2   \n",
       "4     Negara yang lalai menjaga rakyat dari terpapar...         2   \n",
       "...                                                 ...       ...   \n",
       "1995  Tak usah ragu dan takut dengan Vaksin,  BPOM p...         1   \n",
       "1996  Untuk mengendalikan pandemi, vaksin Corona per...         1   \n",
       "1997  @jokowi Sehingga vaksin ini mampu menjadi hara...         1   \n",
       "1998  @27_jelo @jokowi #DemiNKRI  Akooh jg siap utk ...         1   \n",
       "1999  @Ephraym9 Gw kuatirnye vaksin yg udh dibeli gk...         2   \n",
       "\n",
       "                                         cleaned_tweets  \n",
       "0     tampang si jokowi si koruptor e ktp puan mahar...  \n",
       "1     ruwet si corona teh bisnis eh sih bisnis makan...  \n",
       "2     akal sehat dipakai sumber virus corona merokok...  \n",
       "3     sumber virus corona merokok cina jual vaksin o...  \n",
       "4     negara lalai menjaga rakyat terpapar virus cor...  \n",
       "...                                                 ...  \n",
       "1995  ragu takut vaksin bpom pastikan vaksin corona ...  \n",
       "1996  mengendalikan pandemi vaksin corona populasi d...  \n",
       "1997  vaksin harapan indonesia bebas corona vaksin d...  \n",
       "1998                          vaksin vaksin corona aman  \n",
       "1999  khawatirnya vaksin dibeli terbaru corona maklu...  \n",
       "\n",
       "[2000 rows x 3 columns]"
      ]
     },
     "execution_count": 13,
     "metadata": {},
     "output_type": "execute_result"
    }
   ],
   "source": [
    "df1['cleaned_tweets'] = df1['cleaned_tweets'].apply(lambda x: remove_stop_words(x))\n",
    "df1"
   ]
  },
  {
   "cell_type": "code",
   "execution_count": 14,
   "metadata": {
    "execution": {
     "iopub.execute_input": "2021-03-10T10:05:44.524423Z",
     "iopub.status.busy": "2021-03-10T10:05:44.523707Z",
     "iopub.status.idle": "2021-03-10T10:05:44.525798Z",
     "shell.execute_reply": "2021-03-10T10:05:44.526255Z"
    },
    "papermill": {
     "duration": 0.038252,
     "end_time": "2021-03-10T10:05:44.526436",
     "exception": false,
     "start_time": "2021-03-10T10:05:44.488184",
     "status": "completed"
    },
    "tags": []
   },
   "outputs": [],
   "source": [
    "def noise(text): \n",
    "    text = text.split()\n",
    "    listStopword =  ['amp','fry', 'vcs', 'bahh', 'a', 'wkwkwk', 'c', 'iya', 'nya', \n",
    "                     'sih', 'mbok', 'ku', 'loh', 'lho', 'ah', 'nihh', 'ya', 'hah', \n",
    "                     'deh','rmp', 'v', 'via', 'lha', 'mah', 'xixi', 'nya', 'ku',\n",
    "                     'kah', 'nge', 'an', 'pun', 'si', 'dong', 'deh', 'toh','cc', \n",
    "                     'nah','re','mah','ee', 'in','oi', 'woyyy','kan', 'nah','s','dodo']\n",
    "    text = [w for w in text if not w in listStopword]\n",
    "    text = \" \".join(text)\n",
    "    return text"
   ]
  },
  {
   "cell_type": "code",
   "execution_count": 15,
   "metadata": {
    "execution": {
     "iopub.execute_input": "2021-03-10T10:05:44.585588Z",
     "iopub.status.busy": "2021-03-10T10:05:44.584910Z",
     "iopub.status.idle": "2021-03-10T10:05:44.608182Z",
     "shell.execute_reply": "2021-03-10T10:05:44.608751Z"
    },
    "papermill": {
     "duration": 0.054298,
     "end_time": "2021-03-10T10:05:44.608929",
     "exception": false,
     "start_time": "2021-03-10T10:05:44.554631",
     "status": "completed"
    },
    "tags": []
   },
   "outputs": [],
   "source": [
    "df1['cleaned_tweets'] = df1['cleaned_tweets'].apply(lambda x: noise(x))"
   ]
  },
  {
   "cell_type": "markdown",
   "metadata": {
    "papermill": {
     "duration": 0.02746,
     "end_time": "2021-03-10T10:05:44.664273",
     "exception": false,
     "start_time": "2021-03-10T10:05:44.636813",
     "status": "completed"
    },
    "tags": []
   },
   "source": [
    "# 6. STEAMING"
   ]
  },
  {
   "cell_type": "code",
   "execution_count": 16,
   "metadata": {
    "execution": {
     "iopub.execute_input": "2021-03-10T10:05:44.724839Z",
     "iopub.status.busy": "2021-03-10T10:05:44.724130Z",
     "iopub.status.idle": "2021-03-10T10:05:44.740550Z",
     "shell.execute_reply": "2021-03-10T10:05:44.741090Z"
    },
    "papermill": {
     "duration": 0.049139,
     "end_time": "2021-03-10T10:05:44.741284",
     "exception": false,
     "start_time": "2021-03-10T10:05:44.692145",
     "status": "completed"
    },
    "tags": []
   },
   "outputs": [],
   "source": [
    "from Sastrawi.Stemmer.StemmerFactory import StemmerFactory\n",
    "\n",
    "def steamming(text):\n",
    "    factory = StemmerFactory()\n",
    "    stemmer = factory.create_stemmer()\n",
    "    split = text.split()\n",
    "    hasil = [stemmer.stem(token) for token in split]\n",
    "    hasil = \" \".join(hasil)\n",
    "    return hasil"
   ]
  },
  {
   "cell_type": "code",
   "execution_count": 17,
   "metadata": {
    "execution": {
     "iopub.execute_input": "2021-03-10T10:05:44.803963Z",
     "iopub.status.busy": "2021-03-10T10:05:44.803296Z",
     "iopub.status.idle": "2021-03-10T10:18:54.046358Z",
     "shell.execute_reply": "2021-03-10T10:18:54.046889Z"
    },
    "papermill": {
     "duration": 789.276716,
     "end_time": "2021-03-10T10:18:54.047098",
     "exception": false,
     "start_time": "2021-03-10T10:05:44.770382",
     "status": "completed"
    },
    "tags": []
   },
   "outputs": [
    {
     "data": {
      "text/html": [
       "<div>\n",
       "<style scoped>\n",
       "    .dataframe tbody tr th:only-of-type {\n",
       "        vertical-align: middle;\n",
       "    }\n",
       "\n",
       "    .dataframe tbody tr th {\n",
       "        vertical-align: top;\n",
       "    }\n",
       "\n",
       "    .dataframe thead th {\n",
       "        text-align: right;\n",
       "    }\n",
       "</style>\n",
       "<table border=\"1\" class=\"dataframe\">\n",
       "  <thead>\n",
       "    <tr style=\"text-align: right;\">\n",
       "      <th></th>\n",
       "      <th>tweet</th>\n",
       "      <th>Kategori</th>\n",
       "      <th>cleaned_tweets</th>\n",
       "    </tr>\n",
       "  </thead>\n",
       "  <tbody>\n",
       "    <tr>\n",
       "      <th>0</th>\n",
       "      <td>@MaspiyuO Tampang si Jokowi dan Si Koruptor E-...</td>\n",
       "      <td>2</td>\n",
       "      <td>tampang jokowi koruptor e ktp puan maharani da...</td>\n",
       "    </tr>\n",
       "    <tr>\n",
       "      <th>1</th>\n",
       "      <td>Ribet gini si corona teh. Di Bisnis teruss. Eh...</td>\n",
       "      <td>2</td>\n",
       "      <td>ruwet corona teh bisnis eh bisnis makan jerink...</td>\n",
       "    </tr>\n",
       "    <tr>\n",
       "      <th>2</th>\n",
       "      <td>@fadlizon Akal sehat pun harus dipakai. Sumber...</td>\n",
       "      <td>2</td>\n",
       "      <td>akal sehat pakai sumber virus corona rokok asa...</td>\n",
       "    </tr>\n",
       "    <tr>\n",
       "      <th>3</th>\n",
       "      <td>@fadlizon Sumber dan Asal birus corona covid 1...</td>\n",
       "      <td>2</td>\n",
       "      <td>sumber virus corona rokok cina jual vaksin oba...</td>\n",
       "    </tr>\n",
       "    <tr>\n",
       "      <th>4</th>\n",
       "      <td>Negara yang lalai menjaga rakyat dari terpapar...</td>\n",
       "      <td>2</td>\n",
       "      <td>negara lalai jaga rakyat papar virus corona ne...</td>\n",
       "    </tr>\n",
       "    <tr>\n",
       "      <th>...</th>\n",
       "      <td>...</td>\n",
       "      <td>...</td>\n",
       "      <td>...</td>\n",
       "    </tr>\n",
       "    <tr>\n",
       "      <th>1995</th>\n",
       "      <td>Tak usah ragu dan takut dengan Vaksin,  BPOM p...</td>\n",
       "      <td>1</td>\n",
       "      <td>ragu takut vaksin bpom pasti vaksin corona aman</td>\n",
       "    </tr>\n",
       "    <tr>\n",
       "      <th>1996</th>\n",
       "      <td>Untuk mengendalikan pandemi, vaksin Corona per...</td>\n",
       "      <td>1</td>\n",
       "      <td>kendali pandemi vaksin corona populasi dunia b...</td>\n",
       "    </tr>\n",
       "    <tr>\n",
       "      <th>1997</th>\n",
       "      <td>@jokowi Sehingga vaksin ini mampu menjadi hara...</td>\n",
       "      <td>1</td>\n",
       "      <td>vaksin harap indonesia bebas corona vaksin har...</td>\n",
       "    </tr>\n",
       "    <tr>\n",
       "      <th>1998</th>\n",
       "      <td>@27_jelo @jokowi #DemiNKRI  Akooh jg siap utk ...</td>\n",
       "      <td>1</td>\n",
       "      <td>vaksin vaksin corona aman</td>\n",
       "    </tr>\n",
       "    <tr>\n",
       "      <th>1999</th>\n",
       "      <td>@Ephraym9 Gw kuatirnye vaksin yg udh dibeli gk...</td>\n",
       "      <td>2</td>\n",
       "      <td>khawatir vaksin beli baru corona maklum vaksin</td>\n",
       "    </tr>\n",
       "  </tbody>\n",
       "</table>\n",
       "<p>2000 rows × 3 columns</p>\n",
       "</div>"
      ],
      "text/plain": [
       "                                                  tweet  Kategori  \\\n",
       "0     @MaspiyuO Tampang si Jokowi dan Si Koruptor E-...         2   \n",
       "1     Ribet gini si corona teh. Di Bisnis teruss. Eh...         2   \n",
       "2     @fadlizon Akal sehat pun harus dipakai. Sumber...         2   \n",
       "3     @fadlizon Sumber dan Asal birus corona covid 1...         2   \n",
       "4     Negara yang lalai menjaga rakyat dari terpapar...         2   \n",
       "...                                                 ...       ...   \n",
       "1995  Tak usah ragu dan takut dengan Vaksin,  BPOM p...         1   \n",
       "1996  Untuk mengendalikan pandemi, vaksin Corona per...         1   \n",
       "1997  @jokowi Sehingga vaksin ini mampu menjadi hara...         1   \n",
       "1998  @27_jelo @jokowi #DemiNKRI  Akooh jg siap utk ...         1   \n",
       "1999  @Ephraym9 Gw kuatirnye vaksin yg udh dibeli gk...         2   \n",
       "\n",
       "                                         cleaned_tweets  \n",
       "0     tampang jokowi koruptor e ktp puan maharani da...  \n",
       "1     ruwet corona teh bisnis eh bisnis makan jerink...  \n",
       "2     akal sehat pakai sumber virus corona rokok asa...  \n",
       "3     sumber virus corona rokok cina jual vaksin oba...  \n",
       "4     negara lalai jaga rakyat papar virus corona ne...  \n",
       "...                                                 ...  \n",
       "1995    ragu takut vaksin bpom pasti vaksin corona aman  \n",
       "1996  kendali pandemi vaksin corona populasi dunia b...  \n",
       "1997  vaksin harap indonesia bebas corona vaksin har...  \n",
       "1998                          vaksin vaksin corona aman  \n",
       "1999     khawatir vaksin beli baru corona maklum vaksin  \n",
       "\n",
       "[2000 rows x 3 columns]"
      ]
     },
     "execution_count": 17,
     "metadata": {},
     "output_type": "execute_result"
    }
   ],
   "source": [
    "df1['cleaned_tweets'] = df1['cleaned_tweets'].apply(lambda x: steamming(x))\n",
    "df1"
   ]
  },
  {
   "cell_type": "code",
   "execution_count": 18,
   "metadata": {
    "execution": {
     "iopub.execute_input": "2021-03-10T10:18:54.121311Z",
     "iopub.status.busy": "2021-03-10T10:18:54.120431Z",
     "iopub.status.idle": "2021-03-10T10:18:54.123312Z",
     "shell.execute_reply": "2021-03-10T10:18:54.122726Z"
    },
    "papermill": {
     "duration": 0.043044,
     "end_time": "2021-03-10T10:18:54.123473",
     "exception": false,
     "start_time": "2021-03-10T10:18:54.080429",
     "status": "completed"
    },
    "tags": []
   },
   "outputs": [],
   "source": [
    "df2 = df1"
   ]
  },
  {
   "cell_type": "code",
   "execution_count": 19,
   "metadata": {
    "execution": {
     "iopub.execute_input": "2021-03-10T10:18:54.187278Z",
     "iopub.status.busy": "2021-03-10T10:18:54.186603Z",
     "iopub.status.idle": "2021-03-10T10:18:54.219106Z",
     "shell.execute_reply": "2021-03-10T10:18:54.218265Z"
    },
    "papermill": {
     "duration": 0.066787,
     "end_time": "2021-03-10T10:18:54.219288",
     "exception": false,
     "start_time": "2021-03-10T10:18:54.152501",
     "status": "completed"
    },
    "tags": []
   },
   "outputs": [],
   "source": [
    "df2.to_csv('prepocessing.csv',index=False)"
   ]
  },
  {
   "cell_type": "code",
   "execution_count": 20,
   "metadata": {
    "execution": {
     "iopub.execute_input": "2021-03-10T10:18:54.286296Z",
     "iopub.status.busy": "2021-03-10T10:18:54.285513Z",
     "iopub.status.idle": "2021-03-10T10:18:56.136424Z",
     "shell.execute_reply": "2021-03-10T10:18:56.136948Z"
    },
    "papermill": {
     "duration": 1.889007,
     "end_time": "2021-03-10T10:18:56.137126",
     "exception": false,
     "start_time": "2021-03-10T10:18:54.248119",
     "status": "completed"
    },
    "tags": []
   },
   "outputs": [
    {
     "data": {
      "image/png": "[encoded data removed]",
      "text/plain": [
       "<Figure size 864x720 with 1 Axes>"
      ]
     },
     "metadata": {
      "needs_background": "light"
     },
     "output_type": "display_data"
    }
   ],
   "source": [
    "import matplotlib.pyplot as plt\n",
    "from wordcloud import WordCloud, ImageColorGenerator\n",
    "\n",
    "wd_list = df2['cleaned_tweets']\n",
    "#liststopwords = set(stopwords.words('indonesian'))\n",
    "all_words = ' '.join([text for text in wd_list])\n",
    "\n",
    "wordcloud = WordCloud(\n",
    "    background_color='white',\n",
    "    #stopwords=liststopwords,\n",
    "    width=1600,\n",
    "    height=800,\n",
    "    random_state=1,\n",
    "    colormap='jet',\n",
    "    max_words=80,\n",
    "    max_font_size=200).generate(all_words)\n",
    "plt.figure(figsize=(12, 10))\n",
    "plt.axis('off')\n",
    "plt.imshow(wordcloud, interpolation=\"bilinear\");"
   ]
  },
  {
   "cell_type": "markdown",
   "metadata": {
    "papermill": {
     "duration": 0.037791,
     "end_time": "2021-03-10T10:18:56.211762",
     "exception": false,
     "start_time": "2021-03-10T10:18:56.173971",
     "status": "completed"
    },
    "tags": []
   },
   "source": [
    "# VEKTORISASI"
   ]
  },
  {
   "cell_type": "code",
   "execution_count": 21,
   "metadata": {
    "execution": {
     "iopub.execute_input": "2021-03-10T10:18:56.332073Z",
     "iopub.status.busy": "2021-03-10T10:18:56.307445Z",
     "iopub.status.idle": "2021-03-10T10:18:56.343254Z",
     "shell.execute_reply": "2021-03-10T10:18:56.343818Z"
    },
    "papermill": {
     "duration": 0.089085,
     "end_time": "2021-03-10T10:18:56.344002",
     "exception": false,
     "start_time": "2021-03-10T10:18:56.254917",
     "status": "completed"
    },
    "tags": []
   },
   "outputs": [],
   "source": [
    "from sklearn.feature_extraction.text import CountVectorizer\n",
    "\n",
    "cv = CountVectorizer()\n",
    "text_counts = cv.fit_transform(df2['cleaned_tweets'])"
   ]
  },
  {
   "cell_type": "markdown",
   "metadata": {
    "papermill": {
     "duration": 0.038061,
     "end_time": "2021-03-10T10:18:56.417469",
     "exception": false,
     "start_time": "2021-03-10T10:18:56.379408",
     "status": "completed"
    },
    "tags": []
   },
   "source": [
    "# SPLIT DATASET"
   ]
  },
  {
   "cell_type": "code",
   "execution_count": 22,
   "metadata": {
    "execution": {
     "iopub.execute_input": "2021-03-10T10:18:56.492488Z",
     "iopub.status.busy": "2021-03-10T10:18:56.491703Z",
     "iopub.status.idle": "2021-03-10T10:18:56.517772Z",
     "shell.execute_reply": "2021-03-10T10:18:56.517047Z"
    },
    "papermill": {
     "duration": 0.065072,
     "end_time": "2021-03-10T10:18:56.517923",
     "exception": false,
     "start_time": "2021-03-10T10:18:56.452851",
     "status": "completed"
    },
    "tags": []
   },
   "outputs": [
    {
     "name": "stdout",
     "output_type": "stream",
     "text": [
      "MNB accuracy = 90.75%\n",
      "BNB accuracy = 86.62%\n"
     ]
    }
   ],
   "source": [
    "from sklearn.model_selection import train_test_split\n",
    "from sklearn.naive_bayes import MultinomialNB\n",
    "from sklearn.naive_bayes import BernoulliNB\n",
    "from sklearn import metrics\n",
    "\n",
    "X_train, X_test, Y_train, Y_test = train_test_split(text_counts, df2['Kategori'], test_size=0.4)\n",
    "\n",
    "MNB = MultinomialNB()\n",
    "BNB = BernoulliNB()\n",
    "\n",
    "MNB.fit(X_train, Y_train)\n",
    "predicted = MNB.predict(X_test)\n",
    "model1 = metrics.accuracy_score(predicted, Y_test)\n",
    "print('MNB accuracy = ' + str(model1*100) + '%')\n",
    "\n",
    "BNB.fit(X_train, Y_train)\n",
    "predicted = BNB.predict(X_test)\n",
    "model2 = metrics.accuracy_score(BNB.predict(X_test),Y_test)\n",
    "print('BNB accuracy = ' + str('{:4.2f}'.format(model2*100))+'%')"
   ]
  },
  {
   "cell_type": "code",
   "execution_count": 23,
   "metadata": {
    "execution": {
     "iopub.execute_input": "2021-03-10T10:18:56.599748Z",
     "iopub.status.busy": "2021-03-10T10:18:56.598759Z",
     "iopub.status.idle": "2021-03-10T10:18:56.613423Z",
     "shell.execute_reply": "2021-03-10T10:18:56.614060Z"
    },
    "papermill": {
     "duration": 0.056466,
     "end_time": "2021-03-10T10:18:56.614258",
     "exception": false,
     "start_time": "2021-03-10T10:18:56.557792",
     "status": "completed"
    },
    "tags": []
   },
   "outputs": [
    {
     "name": "stdout",
     "output_type": "stream",
     "text": [
      "MNB accuracy = 90.75%\n",
      "BNB accuracy = 86.62%\n"
     ]
    }
   ],
   "source": [
    "X_train, X_test, Y_train, Y_test = train_test_split(text_counts, df2['Kategori'], test_size=0.3)\n",
    "\n",
    "MNB.fit(X_train, Y_train)\n",
    "predicted = MNB.predict(X_test)\n",
    "model3 = metrics.accuracy_score(predicted, Y_test)\n",
    "print('MNB accuracy = ' + str(model1*100) + '%')\n",
    "\n",
    "predicted = BNB.predict(X_test)\n",
    "model4 = metrics.accuracy_score(BNB.predict(X_test),Y_test)\n",
    "print('BNB accuracy = ' + str('{:4.2f}'.format(model2*100))+'%')"
   ]
  },
  {
   "cell_type": "code",
   "execution_count": 24,
   "metadata": {
    "execution": {
     "iopub.execute_input": "2021-03-10T10:18:56.689719Z",
     "iopub.status.busy": "2021-03-10T10:18:56.688925Z",
     "iopub.status.idle": "2021-03-10T10:18:56.703118Z",
     "shell.execute_reply": "2021-03-10T10:18:56.703639Z"
    },
    "papermill": {
     "duration": 0.05368,
     "end_time": "2021-03-10T10:18:56.703865",
     "exception": false,
     "start_time": "2021-03-10T10:18:56.650185",
     "status": "completed"
    },
    "tags": []
   },
   "outputs": [
    {
     "name": "stdout",
     "output_type": "stream",
     "text": [
      "MNB accuracy = 90.75%\n",
      "BNB accuracy = 86.62%\n"
     ]
    }
   ],
   "source": [
    "X_train, X_test, Y_train, Y_test = train_test_split(text_counts, df2['Kategori'], test_size=0.2)\n",
    "\n",
    "MNB.fit(X_train, Y_train)\n",
    "predicted = MNB.predict(X_test)\n",
    "model5 = metrics.accuracy_score(predicted, Y_test)\n",
    "print('MNB accuracy = ' + str(model1*100) + '%')\n",
    "\n",
    "predicted = BNB.predict(X_test)\n",
    "model6 = metrics.accuracy_score(BNB.predict(X_test),Y_test)\n",
    "print('BNB accuracy = ' + str('{:4.2f}'.format(model2*100))+'%')"
   ]
  },
  {
   "cell_type": "code",
   "execution_count": 25,
   "metadata": {
    "execution": {
     "iopub.execute_input": "2021-03-10T10:18:56.786706Z",
     "iopub.status.busy": "2021-03-10T10:18:56.786002Z",
     "iopub.status.idle": "2021-03-10T10:18:56.798294Z",
     "shell.execute_reply": "2021-03-10T10:18:56.798854Z"
    },
    "papermill": {
     "duration": 0.057152,
     "end_time": "2021-03-10T10:18:56.799030",
     "exception": false,
     "start_time": "2021-03-10T10:18:56.741878",
     "status": "completed"
    },
    "tags": []
   },
   "outputs": [
    {
     "name": "stdout",
     "output_type": "stream",
     "text": [
      "MNB accuracy = 90.75%\n",
      "BNB accuracy = 86.62%\n"
     ]
    }
   ],
   "source": [
    "x_train, x_test, y_train, y_test = train_test_split(text_counts, df2['Kategori'], test_size=0.1)\n",
    "\n",
    "MNB.fit(X_train, Y_train)\n",
    "predicted = MNB.predict(X_test)\n",
    "model7 = metrics.accuracy_score(predicted, Y_test)\n",
    "print('MNB accuracy = ' + str(model1*100) + '%')\n",
    "\n",
    "predicted = BNB.predict(X_test)\n",
    "model8 = metrics.accuracy_score(BNB.predict(X_test),Y_test)\n",
    "print('BNB accuracy = ' + str('{:4.2f}'.format(model2*100))+'%')"
   ]
  },
  {
   "cell_type": "code",
   "execution_count": 26,
   "metadata": {
    "execution": {
     "iopub.execute_input": "2021-03-10T10:18:56.889694Z",
     "iopub.status.busy": "2021-03-10T10:18:56.888607Z",
     "iopub.status.idle": "2021-03-10T10:18:56.893143Z",
     "shell.execute_reply": "2021-03-10T10:18:56.892627Z"
    },
    "papermill": {
     "duration": 0.057571,
     "end_time": "2021-03-10T10:18:56.893313",
     "exception": false,
     "start_time": "2021-03-10T10:18:56.835742",
     "status": "completed"
    },
    "tags": []
   },
   "outputs": [
    {
     "data": {
      "text/html": [
       "<div>\n",
       "<style scoped>\n",
       "    .dataframe tbody tr th:only-of-type {\n",
       "        vertical-align: middle;\n",
       "    }\n",
       "\n",
       "    .dataframe tbody tr th {\n",
       "        vertical-align: top;\n",
       "    }\n",
       "\n",
       "    .dataframe thead th {\n",
       "        text-align: right;\n",
       "    }\n",
       "</style>\n",
       "<table border=\"1\" class=\"dataframe\">\n",
       "  <thead>\n",
       "    <tr style=\"text-align: right;\">\n",
       "      <th></th>\n",
       "      <th>Test</th>\n",
       "      <th>Train</th>\n",
       "      <th>Multinomial</th>\n",
       "      <th>Bernoulli</th>\n",
       "    </tr>\n",
       "  </thead>\n",
       "  <tbody>\n",
       "    <tr>\n",
       "      <th>0</th>\n",
       "      <td>40%</td>\n",
       "      <td>60%</td>\n",
       "      <td>0.9075</td>\n",
       "      <td>0.866250</td>\n",
       "    </tr>\n",
       "    <tr>\n",
       "      <th>1</th>\n",
       "      <td>30%</td>\n",
       "      <td>70%</td>\n",
       "      <td>0.9050</td>\n",
       "      <td>0.888333</td>\n",
       "    </tr>\n",
       "    <tr>\n",
       "      <th>2</th>\n",
       "      <td>20%</td>\n",
       "      <td>80%</td>\n",
       "      <td>0.9350</td>\n",
       "      <td>0.902500</td>\n",
       "    </tr>\n",
       "    <tr>\n",
       "      <th>3</th>\n",
       "      <td>10%</td>\n",
       "      <td>90%</td>\n",
       "      <td>0.9350</td>\n",
       "      <td>0.902500</td>\n",
       "    </tr>\n",
       "  </tbody>\n",
       "</table>\n",
       "</div>"
      ],
      "text/plain": [
       "  Test Train  Multinomial  Bernoulli\n",
       "0  40%   60%       0.9075   0.866250\n",
       "1  30%   70%       0.9050   0.888333\n",
       "2  20%   80%       0.9350   0.902500\n",
       "3  10%   90%       0.9350   0.902500"
      ]
     },
     "execution_count": 26,
     "metadata": {},
     "output_type": "execute_result"
    }
   ],
   "source": [
    "test=['40%', '30%', '20%', '10%']\n",
    "train = ['60%', '70%', '80%', '90%']\n",
    "multinomial = [model1, model3, model5, model7]\n",
    "bernoulli = [model2, model4, model6, model8]\n",
    "d={'Test':test,'Train':train, 'Multinomial':multinomial, 'Bernoulli':bernoulli}   \n",
    "dataframe=pd.DataFrame(d)\n",
    "dataframe"
   ]
  }
 ],
 "metadata": {
  "kernelspec": {
   "display_name": "Python 3",
   "language": "python",
   "name": "python3"
  },
  "language_info": {
   "codemirror_mode": {
    "name": "ipython",
    "version": 3
   },
   "file_extension": ".py",
   "mimetype": "text/x-python",
   "name": "python",
   "nbconvert_exporter": "python",
   "pygments_lexer": "ipython3",
   "version": "3.6.9"
  },
  "papermill": {
   "default_parameters": {},
   "duration": 813.187563,
   "end_time": "2021-03-10T10:18:58.741257",
   "environment_variables": {},
   "exception": null,
   "input_path": "__notebook__.ipynb",
   "output_path": "__notebook__.ipynb",
   "parameters": {},
   "start_time": "2021-03-10T10:05:25.553694",
   "version": "2.2.2"
  }
 },
 "nbformat": 4,
 "nbformat_minor": 4
}
