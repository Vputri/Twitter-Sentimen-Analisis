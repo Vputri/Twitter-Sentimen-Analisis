{
 "cells": [
  {
   "cell_type": "code",
   "execution_count": 1,
   "metadata": {
    "execution": {
     "iopub.execute_input": "2021-08-14T08:32:15.462627Z",
     "iopub.status.busy": "2021-08-14T08:32:15.461826Z",
     "iopub.status.idle": "2021-08-14T08:32:23.328040Z",
     "shell.execute_reply": "2021-08-14T08:32:23.327441Z",
     "shell.execute_reply.started": "2021-07-29T02:33:16.940623Z"
    },
    "papermill": {
     "duration": 7.916541,
     "end_time": "2021-08-14T08:32:23.328281",
     "exception": false,
     "start_time": "2021-08-14T08:32:15.411740",
     "status": "completed"
    },
    "tags": []
   },
   "outputs": [
    {
     "name": "stdout",
     "output_type": "stream",
     "text": [
      "Collecting Sastrawi\r\n",
      "  Downloading Sastrawi-1.0.1-py2.py3-none-any.whl (209 kB)\r\n",
      "\u001b[K     |████████████████████████████████| 209 kB 615 kB/s \r\n",
      "\u001b[?25hInstalling collected packages: Sastrawi\r\n",
      "Successfully installed Sastrawi-1.0.1\r\n",
      "\u001b[33mWARNING: You are using pip version 21.0.1; however, version 21.2.4 is available.\r\n",
      "You should consider upgrading via the '/opt/conda/bin/python3.7 -m pip install --upgrade pip' command.\u001b[0m\r\n"
     ]
    }
   ],
   "source": [
    "!pip install Sastrawi"
   ]
  },
  {
   "cell_type": "markdown",
   "metadata": {
    "papermill": {
     "duration": 0.043817,
     "end_time": "2021-08-14T08:32:23.416746",
     "exception": false,
     "start_time": "2021-08-14T08:32:23.372929",
     "status": "completed"
    },
    "tags": []
   },
   "source": [
    "# READ DATASET"
   ]
  },
  {
   "cell_type": "code",
   "execution_count": 2,
   "metadata": {
    "_cell_guid": "b1076dfc-b9ad-4769-8c92-a6c4dae69d19",
    "_uuid": "8f2839f25d086af736a60e9eeb907d3b93b6e0e5",
    "execution": {
     "iopub.execute_input": "2021-08-14T08:32:23.510062Z",
     "iopub.status.busy": "2021-08-14T08:32:23.509429Z",
     "iopub.status.idle": "2021-08-14T08:32:23.520832Z",
     "shell.execute_reply": "2021-08-14T08:32:23.520372Z",
     "shell.execute_reply.started": "2021-07-29T02:33:25.599955Z"
    },
    "papermill": {
     "duration": 0.060326,
     "end_time": "2021-08-14T08:32:23.520963",
     "exception": false,
     "start_time": "2021-08-14T08:32:23.460637",
     "status": "completed"
    },
    "tags": []
   },
   "outputs": [
    {
     "name": "stdout",
     "output_type": "stream",
     "text": [
      "/kaggle/input/vaksin/vaksinn.csv\n",
      "/kaggle/input/vaksin/kbba.csv\n"
     ]
    }
   ],
   "source": [
    "import os\n",
    "for dirname, _, filenames in os.walk('/kaggle/input'):\n",
    "    for filename in filenames:\n",
    "        print(os.path.join(dirname, filename))"
   ]
  },
  {
   "cell_type": "code",
   "execution_count": 3,
   "metadata": {
    "execution": {
     "iopub.execute_input": "2021-08-14T08:32:23.615663Z",
     "iopub.status.busy": "2021-08-14T08:32:23.614826Z",
     "iopub.status.idle": "2021-08-14T08:32:23.670926Z",
     "shell.execute_reply": "2021-08-14T08:32:23.671403Z",
     "shell.execute_reply.started": "2021-07-29T02:33:25.613309Z"
    },
    "papermill": {
     "duration": 0.105602,
     "end_time": "2021-08-14T08:32:23.671568",
     "exception": false,
     "start_time": "2021-08-14T08:32:23.565966",
     "status": "completed"
    },
    "tags": []
   },
   "outputs": [
    {
     "data": {
      "text/html": [
       "<div>\n",
       "<style scoped>\n",
       "    .dataframe tbody tr th:only-of-type {\n",
       "        vertical-align: middle;\n",
       "    }\n",
       "\n",
       "    .dataframe tbody tr th {\n",
       "        vertical-align: top;\n",
       "    }\n",
       "\n",
       "    .dataframe thead th {\n",
       "        text-align: right;\n",
       "    }\n",
       "</style>\n",
       "<table border=\"1\" class=\"dataframe\">\n",
       "  <thead>\n",
       "    <tr style=\"text-align: right;\">\n",
       "      <th></th>\n",
       "      <th>id</th>\n",
       "      <th>date</th>\n",
       "      <th>username</th>\n",
       "      <th>tweet</th>\n",
       "      <th>Kategori</th>\n",
       "    </tr>\n",
       "  </thead>\n",
       "  <tbody>\n",
       "    <tr>\n",
       "      <th>0</th>\n",
       "      <td>1.339103e+18</td>\n",
       "      <td>2020-12-16</td>\n",
       "      <td>abdulaz93506871</td>\n",
       "      <td>@MaspiyuO Tampang si Jokowi dan Si Koruptor E-...</td>\n",
       "      <td>2</td>\n",
       "    </tr>\n",
       "    <tr>\n",
       "      <th>1</th>\n",
       "      <td>1.339053e+18</td>\n",
       "      <td>2020-12-16</td>\n",
       "      <td>alyssa_ncls</td>\n",
       "      <td>Ribet gini si corona teh. Di Bisnis teruss. Eh...</td>\n",
       "      <td>2</td>\n",
       "    </tr>\n",
       "    <tr>\n",
       "      <th>2</th>\n",
       "      <td>1.339146e+18</td>\n",
       "      <td>2020-12-16</td>\n",
       "      <td>amellia76564885</td>\n",
       "      <td>@fadlizon Akal sehat pun harus dipakai. Sumber...</td>\n",
       "      <td>2</td>\n",
       "    </tr>\n",
       "    <tr>\n",
       "      <th>3</th>\n",
       "      <td>1.339143e+18</td>\n",
       "      <td>2020-12-16</td>\n",
       "      <td>amellia76564885</td>\n",
       "      <td>@fadlizon Sumber dan Asal birus corona covid 1...</td>\n",
       "      <td>2</td>\n",
       "    </tr>\n",
       "    <tr>\n",
       "      <th>4</th>\n",
       "      <td>1.339065e+18</td>\n",
       "      <td>2020-12-16</td>\n",
       "      <td>anaktopik</td>\n",
       "      <td>Negara yang lalai menjaga rakyat dari terpapar...</td>\n",
       "      <td>2</td>\n",
       "    </tr>\n",
       "    <tr>\n",
       "      <th>...</th>\n",
       "      <td>...</td>\n",
       "      <td>...</td>\n",
       "      <td>...</td>\n",
       "      <td>...</td>\n",
       "      <td>...</td>\n",
       "    </tr>\n",
       "    <tr>\n",
       "      <th>1995</th>\n",
       "      <td>1.341977e+18</td>\n",
       "      <td>2020-12-24</td>\n",
       "      <td>nar_dwi</td>\n",
       "      <td>Tak usah ragu dan takut dengan Vaksin,  BPOM p...</td>\n",
       "      <td>1</td>\n",
       "    </tr>\n",
       "    <tr>\n",
       "      <th>1996</th>\n",
       "      <td>1.341973e+18</td>\n",
       "      <td>2020-12-24</td>\n",
       "      <td>detikinet</td>\n",
       "      <td>Untuk mengendalikan pandemi, vaksin Corona per...</td>\n",
       "      <td>1</td>\n",
       "    </tr>\n",
       "    <tr>\n",
       "      <th>1997</th>\n",
       "      <td>1.341972e+18</td>\n",
       "      <td>2020-12-24</td>\n",
       "      <td>heldadh3</td>\n",
       "      <td>@jokowi Sehingga vaksin ini mampu menjadi hara...</td>\n",
       "      <td>1</td>\n",
       "    </tr>\n",
       "    <tr>\n",
       "      <th>1998</th>\n",
       "      <td>1.341943e+18</td>\n",
       "      <td>2020-12-24</td>\n",
       "      <td>godham5</td>\n",
       "      <td>@27_jelo @jokowi #DemiNKRI  Akooh jg siap utk ...</td>\n",
       "      <td>1</td>\n",
       "    </tr>\n",
       "    <tr>\n",
       "      <th>1999</th>\n",
       "      <td>1.341994e+18</td>\n",
       "      <td>2020-12-24</td>\n",
       "      <td>ikanbadutz</td>\n",
       "      <td>@Ephraym9 Gw kuatirnye vaksin yg udh dibeli gk...</td>\n",
       "      <td>2</td>\n",
       "    </tr>\n",
       "  </tbody>\n",
       "</table>\n",
       "<p>2000 rows × 5 columns</p>\n",
       "</div>"
      ],
      "text/plain": [
       "                id        date         username  \\\n",
       "0     1.339103e+18  2020-12-16  abdulaz93506871   \n",
       "1     1.339053e+18  2020-12-16      alyssa_ncls   \n",
       "2     1.339146e+18  2020-12-16  amellia76564885   \n",
       "3     1.339143e+18  2020-12-16  amellia76564885   \n",
       "4     1.339065e+18  2020-12-16        anaktopik   \n",
       "...            ...         ...              ...   \n",
       "1995  1.341977e+18  2020-12-24          nar_dwi   \n",
       "1996  1.341973e+18  2020-12-24        detikinet   \n",
       "1997  1.341972e+18  2020-12-24         heldadh3   \n",
       "1998  1.341943e+18  2020-12-24          godham5   \n",
       "1999  1.341994e+18  2020-12-24       ikanbadutz   \n",
       "\n",
       "                                                  tweet  Kategori  \n",
       "0     @MaspiyuO Tampang si Jokowi dan Si Koruptor E-...         2  \n",
       "1     Ribet gini si corona teh. Di Bisnis teruss. Eh...         2  \n",
       "2     @fadlizon Akal sehat pun harus dipakai. Sumber...         2  \n",
       "3     @fadlizon Sumber dan Asal birus corona covid 1...         2  \n",
       "4     Negara yang lalai menjaga rakyat dari terpapar...         2  \n",
       "...                                                 ...       ...  \n",
       "1995  Tak usah ragu dan takut dengan Vaksin,  BPOM p...         1  \n",
       "1996  Untuk mengendalikan pandemi, vaksin Corona per...         1  \n",
       "1997  @jokowi Sehingga vaksin ini mampu menjadi hara...         1  \n",
       "1998  @27_jelo @jokowi #DemiNKRI  Akooh jg siap utk ...         1  \n",
       "1999  @Ephraym9 Gw kuatirnye vaksin yg udh dibeli gk...         2  \n",
       "\n",
       "[2000 rows x 5 columns]"
      ]
     },
     "execution_count": 3,
     "metadata": {},
     "output_type": "execute_result"
    }
   ],
   "source": [
    "import pandas as pd\n",
    "\n",
    "df = pd.read_csv(\"/kaggle/input/vaksin/vaksinn.csv\")\n",
    "df"
   ]
  },
  {
   "cell_type": "code",
   "execution_count": 4,
   "metadata": {
    "execution": {
     "iopub.execute_input": "2021-08-14T08:32:23.771208Z",
     "iopub.status.busy": "2021-08-14T08:32:23.770376Z",
     "iopub.status.idle": "2021-08-14T08:32:23.774431Z",
     "shell.execute_reply": "2021-08-14T08:32:23.773942Z",
     "shell.execute_reply.started": "2021-07-29T02:33:25.672445Z"
    },
    "papermill": {
     "duration": 0.05753,
     "end_time": "2021-08-14T08:32:23.774564",
     "exception": false,
     "start_time": "2021-08-14T08:32:23.717034",
     "status": "completed"
    },
    "tags": []
   },
   "outputs": [
    {
     "data": {
      "text/plain": [
       "1    1430\n",
       "2     570\n",
       "Name: Kategori, dtype: int64"
      ]
     },
     "execution_count": 4,
     "metadata": {},
     "output_type": "execute_result"
    }
   ],
   "source": [
    "df['Kategori'].value_counts()"
   ]
  },
  {
   "cell_type": "code",
   "execution_count": 5,
   "metadata": {
    "execution": {
     "iopub.execute_input": "2021-08-14T08:32:23.868822Z",
     "iopub.status.busy": "2021-08-14T08:32:23.868266Z",
     "iopub.status.idle": "2021-08-14T08:32:24.766850Z",
     "shell.execute_reply": "2021-08-14T08:32:24.766289Z",
     "shell.execute_reply.started": "2021-07-29T02:33:25.686307Z"
    },
    "papermill": {
     "duration": 0.946424,
     "end_time": "2021-08-14T08:32:24.766983",
     "exception": false,
     "start_time": "2021-08-14T08:32:23.820559",
     "status": "completed"
    },
    "tags": []
   },
   "outputs": [
    {
     "data": {
      "text/plain": [
       "<AxesSubplot:xlabel='Kategori', ylabel='count'>"
      ]
     },
     "execution_count": 5,
     "metadata": {},
     "output_type": "execute_result"
    },
    {
     "data": {
      "image/png": "[encoded data removed]",
      "text/plain": [
       "<Figure size 432x288 with 1 Axes>"
      ]
     },
     "metadata": {
      "needs_background": "light"
     },
     "output_type": "display_data"
    }
   ],
   "source": [
    "import seaborn as sns\n",
    "\n",
    "sns.countplot(x=\"Kategori\", data=df)"
   ]
  },
  {
   "cell_type": "markdown",
   "metadata": {
    "papermill": {
     "duration": 0.045603,
     "end_time": "2021-08-14T08:32:24.858926",
     "exception": false,
     "start_time": "2021-08-14T08:32:24.813323",
     "status": "completed"
    },
    "tags": []
   },
   "source": [
    "# PREPROCESSING"
   ]
  },
  {
   "cell_type": "markdown",
   "metadata": {
    "papermill": {
     "duration": 0.045796,
     "end_time": "2021-08-14T08:32:24.950708",
     "exception": false,
     "start_time": "2021-08-14T08:32:24.904912",
     "status": "completed"
    },
    "tags": []
   },
   "source": [
    "# 2. Filtering"
   ]
  },
  {
   "cell_type": "code",
   "execution_count": 6,
   "metadata": {
    "execution": {
     "iopub.execute_input": "2021-08-14T08:32:25.052140Z",
     "iopub.status.busy": "2021-08-14T08:32:25.048136Z",
     "iopub.status.idle": "2021-08-14T08:32:25.059310Z",
     "shell.execute_reply": "2021-08-14T08:32:25.058752Z",
     "shell.execute_reply.started": "2021-07-29T02:33:26.595561Z"
    },
    "papermill": {
     "duration": 0.062761,
     "end_time": "2021-08-14T08:32:25.059451",
     "exception": false,
     "start_time": "2021-08-14T08:32:24.996690",
     "status": "completed"
    },
    "tags": []
   },
   "outputs": [
    {
     "data": {
      "text/html": [
       "<div>\n",
       "<style scoped>\n",
       "    .dataframe tbody tr th:only-of-type {\n",
       "        vertical-align: middle;\n",
       "    }\n",
       "\n",
       "    .dataframe tbody tr th {\n",
       "        vertical-align: top;\n",
       "    }\n",
       "\n",
       "    .dataframe thead th {\n",
       "        text-align: right;\n",
       "    }\n",
       "</style>\n",
       "<table border=\"1\" class=\"dataframe\">\n",
       "  <thead>\n",
       "    <tr style=\"text-align: right;\">\n",
       "      <th></th>\n",
       "      <th>tweet</th>\n",
       "      <th>Kategori</th>\n",
       "    </tr>\n",
       "  </thead>\n",
       "  <tbody>\n",
       "    <tr>\n",
       "      <th>0</th>\n",
       "      <td>@MaspiyuO Tampang si Jokowi dan Si Koruptor E-...</td>\n",
       "      <td>2</td>\n",
       "    </tr>\n",
       "    <tr>\n",
       "      <th>1</th>\n",
       "      <td>Ribet gini si corona teh. Di Bisnis teruss. Eh...</td>\n",
       "      <td>2</td>\n",
       "    </tr>\n",
       "    <tr>\n",
       "      <th>2</th>\n",
       "      <td>@fadlizon Akal sehat pun harus dipakai. Sumber...</td>\n",
       "      <td>2</td>\n",
       "    </tr>\n",
       "    <tr>\n",
       "      <th>3</th>\n",
       "      <td>@fadlizon Sumber dan Asal birus corona covid 1...</td>\n",
       "      <td>2</td>\n",
       "    </tr>\n",
       "    <tr>\n",
       "      <th>4</th>\n",
       "      <td>Negara yang lalai menjaga rakyat dari terpapar...</td>\n",
       "      <td>2</td>\n",
       "    </tr>\n",
       "    <tr>\n",
       "      <th>...</th>\n",
       "      <td>...</td>\n",
       "      <td>...</td>\n",
       "    </tr>\n",
       "    <tr>\n",
       "      <th>1995</th>\n",
       "      <td>Tak usah ragu dan takut dengan Vaksin,  BPOM p...</td>\n",
       "      <td>1</td>\n",
       "    </tr>\n",
       "    <tr>\n",
       "      <th>1996</th>\n",
       "      <td>Untuk mengendalikan pandemi, vaksin Corona per...</td>\n",
       "      <td>1</td>\n",
       "    </tr>\n",
       "    <tr>\n",
       "      <th>1997</th>\n",
       "      <td>@jokowi Sehingga vaksin ini mampu menjadi hara...</td>\n",
       "      <td>1</td>\n",
       "    </tr>\n",
       "    <tr>\n",
       "      <th>1998</th>\n",
       "      <td>@27_jelo @jokowi #DemiNKRI  Akooh jg siap utk ...</td>\n",
       "      <td>1</td>\n",
       "    </tr>\n",
       "    <tr>\n",
       "      <th>1999</th>\n",
       "      <td>@Ephraym9 Gw kuatirnye vaksin yg udh dibeli gk...</td>\n",
       "      <td>2</td>\n",
       "    </tr>\n",
       "  </tbody>\n",
       "</table>\n",
       "<p>2000 rows × 2 columns</p>\n",
       "</div>"
      ],
      "text/plain": [
       "                                                  tweet  Kategori\n",
       "0     @MaspiyuO Tampang si Jokowi dan Si Koruptor E-...         2\n",
       "1     Ribet gini si corona teh. Di Bisnis teruss. Eh...         2\n",
       "2     @fadlizon Akal sehat pun harus dipakai. Sumber...         2\n",
       "3     @fadlizon Sumber dan Asal birus corona covid 1...         2\n",
       "4     Negara yang lalai menjaga rakyat dari terpapar...         2\n",
       "...                                                 ...       ...\n",
       "1995  Tak usah ragu dan takut dengan Vaksin,  BPOM p...         1\n",
       "1996  Untuk mengendalikan pandemi, vaksin Corona per...         1\n",
       "1997  @jokowi Sehingga vaksin ini mampu menjadi hara...         1\n",
       "1998  @27_jelo @jokowi #DemiNKRI  Akooh jg siap utk ...         1\n",
       "1999  @Ephraym9 Gw kuatirnye vaksin yg udh dibeli gk...         2\n",
       "\n",
       "[2000 rows x 2 columns]"
      ]
     },
     "execution_count": 6,
     "metadata": {},
     "output_type": "execute_result"
    }
   ],
   "source": [
    "df1 = df.copy()\n",
    "del df1['id'], df1['date'], df1['username']\n",
    "df1"
   ]
  },
  {
   "cell_type": "code",
   "execution_count": 7,
   "metadata": {
    "execution": {
     "iopub.execute_input": "2021-08-14T08:32:25.157378Z",
     "iopub.status.busy": "2021-08-14T08:32:25.156796Z",
     "iopub.status.idle": "2021-08-14T08:32:25.171529Z",
     "shell.execute_reply": "2021-08-14T08:32:25.171918Z",
     "shell.execute_reply.started": "2021-07-29T02:33:26.614386Z"
    },
    "papermill": {
     "duration": 0.065793,
     "end_time": "2021-08-14T08:32:25.172089",
     "exception": false,
     "start_time": "2021-08-14T08:32:25.106296",
     "status": "completed"
    },
    "tags": []
   },
   "outputs": [
    {
     "data": {
      "text/html": [
       "<div>\n",
       "<style scoped>\n",
       "    .dataframe tbody tr th:only-of-type {\n",
       "        vertical-align: middle;\n",
       "    }\n",
       "\n",
       "    .dataframe tbody tr th {\n",
       "        vertical-align: top;\n",
       "    }\n",
       "\n",
       "    .dataframe thead th {\n",
       "        text-align: right;\n",
       "    }\n",
       "</style>\n",
       "<table border=\"1\" class=\"dataframe\">\n",
       "  <thead>\n",
       "    <tr style=\"text-align: right;\">\n",
       "      <th></th>\n",
       "      <th>tweet</th>\n",
       "      <th>Kategori</th>\n",
       "    </tr>\n",
       "  </thead>\n",
       "  <tbody>\n",
       "    <tr>\n",
       "      <th>0</th>\n",
       "      <td>@MaspiyuO Tampang si Jokowi dan Si Koruptor E-...</td>\n",
       "      <td>2</td>\n",
       "    </tr>\n",
       "    <tr>\n",
       "      <th>1</th>\n",
       "      <td>Ribet gini si corona teh. Di Bisnis teruss. Eh...</td>\n",
       "      <td>2</td>\n",
       "    </tr>\n",
       "    <tr>\n",
       "      <th>2</th>\n",
       "      <td>@fadlizon Akal sehat pun harus dipakai. Sumber...</td>\n",
       "      <td>2</td>\n",
       "    </tr>\n",
       "    <tr>\n",
       "      <th>3</th>\n",
       "      <td>@fadlizon Sumber dan Asal birus corona covid 1...</td>\n",
       "      <td>2</td>\n",
       "    </tr>\n",
       "    <tr>\n",
       "      <th>4</th>\n",
       "      <td>Negara yang lalai menjaga rakyat dari terpapar...</td>\n",
       "      <td>2</td>\n",
       "    </tr>\n",
       "    <tr>\n",
       "      <th>...</th>\n",
       "      <td>...</td>\n",
       "      <td>...</td>\n",
       "    </tr>\n",
       "    <tr>\n",
       "      <th>1995</th>\n",
       "      <td>Tak usah ragu dan takut dengan Vaksin,  BPOM p...</td>\n",
       "      <td>1</td>\n",
       "    </tr>\n",
       "    <tr>\n",
       "      <th>1996</th>\n",
       "      <td>Untuk mengendalikan pandemi, vaksin Corona per...</td>\n",
       "      <td>1</td>\n",
       "    </tr>\n",
       "    <tr>\n",
       "      <th>1997</th>\n",
       "      <td>@jokowi Sehingga vaksin ini mampu menjadi hara...</td>\n",
       "      <td>1</td>\n",
       "    </tr>\n",
       "    <tr>\n",
       "      <th>1998</th>\n",
       "      <td>@27_jelo @jokowi #DemiNKRI  Akooh jg siap utk ...</td>\n",
       "      <td>1</td>\n",
       "    </tr>\n",
       "    <tr>\n",
       "      <th>1999</th>\n",
       "      <td>@Ephraym9 Gw kuatirnye vaksin yg udh dibeli gk...</td>\n",
       "      <td>2</td>\n",
       "    </tr>\n",
       "  </tbody>\n",
       "</table>\n",
       "<p>1488 rows × 2 columns</p>\n",
       "</div>"
      ],
      "text/plain": [
       "                                                  tweet  Kategori\n",
       "0     @MaspiyuO Tampang si Jokowi dan Si Koruptor E-...         2\n",
       "1     Ribet gini si corona teh. Di Bisnis teruss. Eh...         2\n",
       "2     @fadlizon Akal sehat pun harus dipakai. Sumber...         2\n",
       "3     @fadlizon Sumber dan Asal birus corona covid 1...         2\n",
       "4     Negara yang lalai menjaga rakyat dari terpapar...         2\n",
       "...                                                 ...       ...\n",
       "1995  Tak usah ragu dan takut dengan Vaksin,  BPOM p...         1\n",
       "1996  Untuk mengendalikan pandemi, vaksin Corona per...         1\n",
       "1997  @jokowi Sehingga vaksin ini mampu menjadi hara...         1\n",
       "1998  @27_jelo @jokowi #DemiNKRI  Akooh jg siap utk ...         1\n",
       "1999  @Ephraym9 Gw kuatirnye vaksin yg udh dibeli gk...         2\n",
       "\n",
       "[1488 rows x 2 columns]"
      ]
     },
     "execution_count": 7,
     "metadata": {},
     "output_type": "execute_result"
    }
   ],
   "source": [
    "df1 = df1.drop_duplicates()\n",
    "df1"
   ]
  },
  {
   "cell_type": "code",
   "execution_count": 8,
   "metadata": {
    "execution": {
     "iopub.execute_input": "2021-08-14T08:32:25.268040Z",
     "iopub.status.busy": "2021-08-14T08:32:25.267511Z",
     "iopub.status.idle": "2021-08-14T08:32:25.272825Z",
     "shell.execute_reply": "2021-08-14T08:32:25.273322Z",
     "shell.execute_reply.started": "2021-07-29T02:33:26.635843Z"
    },
    "papermill": {
     "duration": 0.054952,
     "end_time": "2021-08-14T08:32:25.273482",
     "exception": false,
     "start_time": "2021-08-14T08:32:25.218530",
     "status": "completed"
    },
    "tags": []
   },
   "outputs": [
    {
     "data": {
      "text/plain": [
       "1    1036\n",
       "2     452\n",
       "Name: Kategori, dtype: int64"
      ]
     },
     "execution_count": 8,
     "metadata": {},
     "output_type": "execute_result"
    }
   ],
   "source": [
    "df1['Kategori'].value_counts()"
   ]
  },
  {
   "cell_type": "code",
   "execution_count": 9,
   "metadata": {
    "execution": {
     "iopub.execute_input": "2021-08-14T08:32:25.370260Z",
     "iopub.status.busy": "2021-08-14T08:32:25.369693Z",
     "iopub.status.idle": "2021-08-14T08:32:25.470074Z",
     "shell.execute_reply": "2021-08-14T08:32:25.470515Z",
     "shell.execute_reply.started": "2021-07-29T02:33:26.644405Z"
    },
    "papermill": {
     "duration": 0.150281,
     "end_time": "2021-08-14T08:32:25.470686",
     "exception": false,
     "start_time": "2021-08-14T08:32:25.320405",
     "status": "completed"
    },
    "tags": []
   },
   "outputs": [
    {
     "data": {
      "text/plain": [
       "<AxesSubplot:xlabel='Kategori', ylabel='count'>"
      ]
     },
     "execution_count": 9,
     "metadata": {},
     "output_type": "execute_result"
    },
    {
     "data": {
      "image/png": "[encoded data removed]",
      "text/plain": [
       "<Figure size 432x288 with 1 Axes>"
      ]
     },
     "metadata": {
      "needs_background": "light"
     },
     "output_type": "display_data"
    }
   ],
   "source": [
    "import seaborn as sns\n",
    "\n",
    "sns.countplot(x=\"Kategori\", data=df)"
   ]
  },
  {
   "cell_type": "markdown",
   "metadata": {
    "papermill": {
     "duration": 0.047126,
     "end_time": "2021-08-14T08:32:25.565319",
     "exception": false,
     "start_time": "2021-08-14T08:32:25.518193",
     "status": "completed"
    },
    "tags": []
   },
   "source": [
    "# 2. CASE FOLDING"
   ]
  },
  {
   "cell_type": "code",
   "execution_count": 10,
   "metadata": {
    "execution": {
     "iopub.execute_input": "2021-08-14T08:32:25.663538Z",
     "iopub.status.busy": "2021-08-14T08:32:25.662940Z",
     "iopub.status.idle": "2021-08-14T08:32:25.678891Z",
     "shell.execute_reply": "2021-08-14T08:32:25.679416Z",
     "shell.execute_reply.started": "2021-07-29T02:33:26.772554Z"
    },
    "papermill": {
     "duration": 0.066959,
     "end_time": "2021-08-14T08:32:25.679589",
     "exception": false,
     "start_time": "2021-08-14T08:32:25.612630",
     "status": "completed"
    },
    "tags": []
   },
   "outputs": [
    {
     "name": "stderr",
     "output_type": "stream",
     "text": [
      "/opt/conda/lib/python3.7/site-packages/ipykernel_launcher.py:1: SettingWithCopyWarning: \n",
      "A value is trying to be set on a copy of a slice from a DataFrame.\n",
      "Try using .loc[row_indexer,col_indexer] = value instead\n",
      "\n",
      "See the caveats in the documentation: https://pandas.pydata.org/pandas-docs/stable/user_guide/indexing.html#returning-a-view-versus-a-copy\n",
      "  \"\"\"Entry point for launching an IPython kernel.\n"
     ]
    },
    {
     "data": {
      "text/html": [
       "<div>\n",
       "<style scoped>\n",
       "    .dataframe tbody tr th:only-of-type {\n",
       "        vertical-align: middle;\n",
       "    }\n",
       "\n",
       "    .dataframe tbody tr th {\n",
       "        vertical-align: top;\n",
       "    }\n",
       "\n",
       "    .dataframe thead th {\n",
       "        text-align: right;\n",
       "    }\n",
       "</style>\n",
       "<table border=\"1\" class=\"dataframe\">\n",
       "  <thead>\n",
       "    <tr style=\"text-align: right;\">\n",
       "      <th></th>\n",
       "      <th>tweet</th>\n",
       "      <th>Kategori</th>\n",
       "      <th>cleaned_tweets</th>\n",
       "    </tr>\n",
       "  </thead>\n",
       "  <tbody>\n",
       "    <tr>\n",
       "      <th>0</th>\n",
       "      <td>@MaspiyuO Tampang si Jokowi dan Si Koruptor E-...</td>\n",
       "      <td>2</td>\n",
       "      <td>@maspiyuo tampang si jokowi dan si koruptor e-...</td>\n",
       "    </tr>\n",
       "    <tr>\n",
       "      <th>1</th>\n",
       "      <td>Ribet gini si corona teh. Di Bisnis teruss. Eh...</td>\n",
       "      <td>2</td>\n",
       "      <td>ribet gini si corona teh. di bisnis teruss. eh...</td>\n",
       "    </tr>\n",
       "    <tr>\n",
       "      <th>2</th>\n",
       "      <td>@fadlizon Akal sehat pun harus dipakai. Sumber...</td>\n",
       "      <td>2</td>\n",
       "      <td>@fadlizon akal sehat pun harus dipakai. sumber...</td>\n",
       "    </tr>\n",
       "    <tr>\n",
       "      <th>3</th>\n",
       "      <td>@fadlizon Sumber dan Asal birus corona covid 1...</td>\n",
       "      <td>2</td>\n",
       "      <td>@fadlizon sumber dan asal birus corona covid 1...</td>\n",
       "    </tr>\n",
       "    <tr>\n",
       "      <th>4</th>\n",
       "      <td>Negara yang lalai menjaga rakyat dari terpapar...</td>\n",
       "      <td>2</td>\n",
       "      <td>negara yang lalai menjaga rakyat dari terpapar...</td>\n",
       "    </tr>\n",
       "    <tr>\n",
       "      <th>...</th>\n",
       "      <td>...</td>\n",
       "      <td>...</td>\n",
       "      <td>...</td>\n",
       "    </tr>\n",
       "    <tr>\n",
       "      <th>1995</th>\n",
       "      <td>Tak usah ragu dan takut dengan Vaksin,  BPOM p...</td>\n",
       "      <td>1</td>\n",
       "      <td>tak usah ragu dan takut dengan vaksin,  bpom p...</td>\n",
       "    </tr>\n",
       "    <tr>\n",
       "      <th>1996</th>\n",
       "      <td>Untuk mengendalikan pandemi, vaksin Corona per...</td>\n",
       "      <td>1</td>\n",
       "      <td>untuk mengendalikan pandemi, vaksin corona per...</td>\n",
       "    </tr>\n",
       "    <tr>\n",
       "      <th>1997</th>\n",
       "      <td>@jokowi Sehingga vaksin ini mampu menjadi hara...</td>\n",
       "      <td>1</td>\n",
       "      <td>@jokowi sehingga vaksin ini mampu menjadi hara...</td>\n",
       "    </tr>\n",
       "    <tr>\n",
       "      <th>1998</th>\n",
       "      <td>@27_jelo @jokowi #DemiNKRI  Akooh jg siap utk ...</td>\n",
       "      <td>1</td>\n",
       "      <td>@27_jelo @jokowi #deminkri  akooh jg siap utk ...</td>\n",
       "    </tr>\n",
       "    <tr>\n",
       "      <th>1999</th>\n",
       "      <td>@Ephraym9 Gw kuatirnye vaksin yg udh dibeli gk...</td>\n",
       "      <td>2</td>\n",
       "      <td>@ephraym9 gw kuatirnye vaksin yg udh dibeli gk...</td>\n",
       "    </tr>\n",
       "  </tbody>\n",
       "</table>\n",
       "<p>1488 rows × 3 columns</p>\n",
       "</div>"
      ],
      "text/plain": [
       "                                                  tweet  Kategori  \\\n",
       "0     @MaspiyuO Tampang si Jokowi dan Si Koruptor E-...         2   \n",
       "1     Ribet gini si corona teh. Di Bisnis teruss. Eh...         2   \n",
       "2     @fadlizon Akal sehat pun harus dipakai. Sumber...         2   \n",
       "3     @fadlizon Sumber dan Asal birus corona covid 1...         2   \n",
       "4     Negara yang lalai menjaga rakyat dari terpapar...         2   \n",
       "...                                                 ...       ...   \n",
       "1995  Tak usah ragu dan takut dengan Vaksin,  BPOM p...         1   \n",
       "1996  Untuk mengendalikan pandemi, vaksin Corona per...         1   \n",
       "1997  @jokowi Sehingga vaksin ini mampu menjadi hara...         1   \n",
       "1998  @27_jelo @jokowi #DemiNKRI  Akooh jg siap utk ...         1   \n",
       "1999  @Ephraym9 Gw kuatirnye vaksin yg udh dibeli gk...         2   \n",
       "\n",
       "                                         cleaned_tweets  \n",
       "0     @maspiyuo tampang si jokowi dan si koruptor e-...  \n",
       "1     ribet gini si corona teh. di bisnis teruss. eh...  \n",
       "2     @fadlizon akal sehat pun harus dipakai. sumber...  \n",
       "3     @fadlizon sumber dan asal birus corona covid 1...  \n",
       "4     negara yang lalai menjaga rakyat dari terpapar...  \n",
       "...                                                 ...  \n",
       "1995  tak usah ragu dan takut dengan vaksin,  bpom p...  \n",
       "1996  untuk mengendalikan pandemi, vaksin corona per...  \n",
       "1997  @jokowi sehingga vaksin ini mampu menjadi hara...  \n",
       "1998  @27_jelo @jokowi #deminkri  akooh jg siap utk ...  \n",
       "1999  @ephraym9 gw kuatirnye vaksin yg udh dibeli gk...  \n",
       "\n",
       "[1488 rows x 3 columns]"
      ]
     },
     "execution_count": 10,
     "metadata": {},
     "output_type": "execute_result"
    }
   ],
   "source": [
    "df1['cleaned_tweets'] = df1['tweet'].apply(lambda x: x.lower())\n",
    "df1"
   ]
  },
  {
   "cell_type": "markdown",
   "metadata": {
    "papermill": {
     "duration": 0.048315,
     "end_time": "2021-08-14T08:32:25.776596",
     "exception": false,
     "start_time": "2021-08-14T08:32:25.728281",
     "status": "completed"
    },
    "tags": []
   },
   "source": [
    "# 3. NORMALISASI"
   ]
  },
  {
   "cell_type": "code",
   "execution_count": 11,
   "metadata": {
    "execution": {
     "iopub.execute_input": "2021-08-14T08:32:25.879815Z",
     "iopub.status.busy": "2021-08-14T08:32:25.879242Z",
     "iopub.status.idle": "2021-08-14T08:32:25.882104Z",
     "shell.execute_reply": "2021-08-14T08:32:25.881623Z",
     "shell.execute_reply.started": "2021-07-29T02:33:26.794625Z"
    },
    "papermill": {
     "duration": 0.057218,
     "end_time": "2021-08-14T08:32:25.882272",
     "exception": false,
     "start_time": "2021-08-14T08:32:25.825054",
     "status": "completed"
    },
    "tags": []
   },
   "outputs": [],
   "source": [
    "import re\n",
    "\n",
    "def normalisasi(text):\n",
    "  text = re.sub(r\"http\\S+\", \" \", text)\n",
    "  text = re.sub(r\"@\\w+\", \" \", text)\n",
    "  text = re.sub(r\"#\\w+\", \" \", text)\n",
    "  text = re.sub(r'\\W', \" \", text)\n",
    "  text = re.sub(r\"\\d+\", \"\", text)\n",
    "  text = re.sub(r'_', ' ',text)\n",
    "  text = re.sub(r' +', ' ', text)\n",
    "  text = re.sub(r\"^\\s+\", '', text)\n",
    "  return text"
   ]
  },
  {
   "cell_type": "code",
   "execution_count": 12,
   "metadata": {
    "execution": {
     "iopub.execute_input": "2021-08-14T08:32:25.982573Z",
     "iopub.status.busy": "2021-08-14T08:32:25.981974Z",
     "iopub.status.idle": "2021-08-14T08:32:26.030781Z",
     "shell.execute_reply": "2021-08-14T08:32:26.031203Z",
     "shell.execute_reply.started": "2021-07-29T02:33:26.802691Z"
    },
    "papermill": {
     "duration": 0.100403,
     "end_time": "2021-08-14T08:32:26.031405",
     "exception": false,
     "start_time": "2021-08-14T08:32:25.931002",
     "status": "completed"
    },
    "tags": []
   },
   "outputs": [
    {
     "name": "stderr",
     "output_type": "stream",
     "text": [
      "/opt/conda/lib/python3.7/site-packages/ipykernel_launcher.py:1: SettingWithCopyWarning: \n",
      "A value is trying to be set on a copy of a slice from a DataFrame.\n",
      "Try using .loc[row_indexer,col_indexer] = value instead\n",
      "\n",
      "See the caveats in the documentation: https://pandas.pydata.org/pandas-docs/stable/user_guide/indexing.html#returning-a-view-versus-a-copy\n",
      "  \"\"\"Entry point for launching an IPython kernel.\n"
     ]
    }
   ],
   "source": [
    "df1['cleaned_tweets'] = df1['cleaned_tweets'].apply(lambda x: normalisasi(x))"
   ]
  },
  {
   "cell_type": "markdown",
   "metadata": {
    "papermill": {
     "duration": 0.048595,
     "end_time": "2021-08-14T08:32:26.129604",
     "exception": false,
     "start_time": "2021-08-14T08:32:26.081009",
     "status": "completed"
    },
    "tags": []
   },
   "source": [
    "# 4. BAKU"
   ]
  },
  {
   "cell_type": "code",
   "execution_count": 13,
   "metadata": {
    "execution": {
     "iopub.execute_input": "2021-08-14T08:32:26.232180Z",
     "iopub.status.busy": "2021-08-14T08:32:26.231591Z",
     "iopub.status.idle": "2021-08-14T08:32:26.303800Z",
     "shell.execute_reply": "2021-08-14T08:32:26.303311Z",
     "shell.execute_reply.started": "2021-07-29T02:33:26.876633Z"
    },
    "papermill": {
     "duration": 0.125456,
     "end_time": "2021-08-14T08:32:26.303950",
     "exception": false,
     "start_time": "2021-08-14T08:32:26.178494",
     "status": "completed"
    },
    "tags": []
   },
   "outputs": [],
   "source": [
    "dict = {row[0] : row[1] for _, row in pd.read_csv(\"/kaggle/input/vaksin/kbba.csv\").iterrows()}"
   ]
  },
  {
   "cell_type": "code",
   "execution_count": 14,
   "metadata": {
    "execution": {
     "iopub.execute_input": "2021-08-14T08:32:26.407745Z",
     "iopub.status.busy": "2021-08-14T08:32:26.407057Z",
     "iopub.status.idle": "2021-08-14T08:32:26.409692Z",
     "shell.execute_reply": "2021-08-14T08:32:26.409277Z",
     "shell.execute_reply.started": "2021-07-29T02:33:26.962757Z"
    },
    "papermill": {
     "duration": 0.056349,
     "end_time": "2021-08-14T08:32:26.409829",
     "exception": false,
     "start_time": "2021-08-14T08:32:26.353480",
     "status": "completed"
    },
    "tags": []
   },
   "outputs": [],
   "source": [
    "def kbbi(text): \n",
    "    token = text.split()\n",
    "    final_string = ' '.join(str(dict.get(word, word)) for word in token)\n",
    "    return final_string"
   ]
  },
  {
   "cell_type": "code",
   "execution_count": 15,
   "metadata": {
    "execution": {
     "iopub.execute_input": "2021-08-14T08:32:26.524457Z",
     "iopub.status.busy": "2021-08-14T08:32:26.523689Z",
     "iopub.status.idle": "2021-08-14T08:32:26.526586Z",
     "shell.execute_reply": "2021-08-14T08:32:26.527025Z",
     "shell.execute_reply.started": "2021-07-29T02:33:26.970001Z"
    },
    "papermill": {
     "duration": 0.068668,
     "end_time": "2021-08-14T08:32:26.527206",
     "exception": false,
     "start_time": "2021-08-14T08:32:26.458538",
     "status": "completed"
    },
    "tags": []
   },
   "outputs": [
    {
     "name": "stderr",
     "output_type": "stream",
     "text": [
      "/opt/conda/lib/python3.7/site-packages/ipykernel_launcher.py:1: SettingWithCopyWarning: \n",
      "A value is trying to be set on a copy of a slice from a DataFrame.\n",
      "Try using .loc[row_indexer,col_indexer] = value instead\n",
      "\n",
      "See the caveats in the documentation: https://pandas.pydata.org/pandas-docs/stable/user_guide/indexing.html#returning-a-view-versus-a-copy\n",
      "  \"\"\"Entry point for launching an IPython kernel.\n"
     ]
    }
   ],
   "source": [
    "df1['cleaned_tweets'] = df1['cleaned_tweets'].apply(lambda x: kbbi(x))"
   ]
  },
  {
   "cell_type": "code",
   "execution_count": 16,
   "metadata": {
    "execution": {
     "iopub.execute_input": "2021-08-14T08:32:26.629960Z",
     "iopub.status.busy": "2021-08-14T08:32:26.629377Z",
     "iopub.status.idle": "2021-08-14T08:32:26.909871Z",
     "shell.execute_reply": "2021-08-14T08:32:26.909376Z",
     "shell.execute_reply.started": "2021-07-29T02:33:27.080534Z"
    },
    "papermill": {
     "duration": 0.33372,
     "end_time": "2021-08-14T08:32:26.910016",
     "exception": false,
     "start_time": "2021-08-14T08:32:26.576296",
     "status": "completed"
    },
    "tags": []
   },
   "outputs": [],
   "source": [
    "from sklearn.feature_extraction.text import CountVectorizer\n",
    "\n",
    "cv = CountVectorizer()\n",
    "text_counts = cv.fit_transform(df1['cleaned_tweets'])"
   ]
  },
  {
   "cell_type": "code",
   "execution_count": 17,
   "metadata": {
    "execution": {
     "iopub.execute_input": "2021-08-14T08:32:27.013066Z",
     "iopub.status.busy": "2021-08-14T08:32:27.012430Z",
     "iopub.status.idle": "2021-08-14T08:32:27.080883Z",
     "shell.execute_reply": "2021-08-14T08:32:27.080393Z",
     "shell.execute_reply.started": "2021-07-29T02:33:27.297464Z"
    },
    "papermill": {
     "duration": 0.121953,
     "end_time": "2021-08-14T08:32:27.081035",
     "exception": false,
     "start_time": "2021-08-14T08:32:26.959082",
     "status": "completed"
    },
    "tags": []
   },
   "outputs": [
    {
     "name": "stdout",
     "output_type": "stream",
     "text": [
      "(1190, 3234) (298, 3234)\n"
     ]
    }
   ],
   "source": [
    "from sklearn.model_selection import train_test_split\n",
    "\n",
    "X_train, X_test, Y_train, Y_test = train_test_split(text_counts, df1['Kategori'], test_size=0.2)\n",
    "print(X_train.shape, X_test.shape)"
   ]
  },
  {
   "cell_type": "code",
   "execution_count": 18,
   "metadata": {
    "execution": {
     "iopub.execute_input": "2021-08-14T08:32:27.186506Z",
     "iopub.status.busy": "2021-08-14T08:32:27.185892Z",
     "iopub.status.idle": "2021-08-14T08:32:27.190426Z",
     "shell.execute_reply": "2021-08-14T08:32:27.189723Z",
     "shell.execute_reply.started": "2021-07-29T02:35:39.336317Z"
    },
    "papermill": {
     "duration": 0.059724,
     "end_time": "2021-08-14T08:32:27.190586",
     "exception": false,
     "start_time": "2021-08-14T08:32:27.130862",
     "status": "completed"
    },
    "tags": []
   },
   "outputs": [
    {
     "data": {
      "text/plain": [
       "1    193\n",
       "2    105\n",
       "Name: Kategori, dtype: int64"
      ]
     },
     "execution_count": 18,
     "metadata": {},
     "output_type": "execute_result"
    }
   ],
   "source": [
    "Y_test.value_counts()"
   ]
  },
  {
   "cell_type": "code",
   "execution_count": 19,
   "metadata": {
    "execution": {
     "iopub.execute_input": "2021-08-14T08:32:27.298882Z",
     "iopub.status.busy": "2021-08-14T08:32:27.298232Z",
     "iopub.status.idle": "2021-08-14T08:32:27.302770Z",
     "shell.execute_reply": "2021-08-14T08:32:27.302244Z",
     "shell.execute_reply.started": "2021-07-29T02:36:03.897367Z"
    },
    "papermill": {
     "duration": 0.060839,
     "end_time": "2021-08-14T08:32:27.302907",
     "exception": false,
     "start_time": "2021-08-14T08:32:27.242068",
     "status": "completed"
    },
    "tags": []
   },
   "outputs": [
    {
     "data": {
      "text/plain": [
       "1    843\n",
       "2    347\n",
       "Name: Kategori, dtype: int64"
      ]
     },
     "execution_count": 19,
     "metadata": {},
     "output_type": "execute_result"
    }
   ],
   "source": [
    "Y_train.value_counts()"
   ]
  },
  {
   "cell_type": "code",
   "execution_count": 20,
   "metadata": {
    "execution": {
     "iopub.execute_input": "2021-08-14T08:32:27.411031Z",
     "iopub.status.busy": "2021-08-14T08:32:27.410418Z",
     "iopub.status.idle": "2021-08-14T08:32:27.421110Z",
     "shell.execute_reply": "2021-08-14T08:32:27.420628Z",
     "shell.execute_reply.started": "2021-07-29T02:36:25.377987Z"
    },
    "papermill": {
     "duration": 0.066948,
     "end_time": "2021-08-14T08:32:27.421315",
     "exception": false,
     "start_time": "2021-08-14T08:32:27.354367",
     "status": "completed"
    },
    "tags": []
   },
   "outputs": [
    {
     "name": "stdout",
     "output_type": "stream",
     "text": [
      "Akurasi MNB Tanpa Stemming dan Stopwords dengan 20% data test = 89.26%\n"
     ]
    }
   ],
   "source": [
    "from sklearn.naive_bayes import MultinomialNB\n",
    "from sklearn import metrics\n",
    "\n",
    "MNB = MultinomialNB()\n",
    "MNB.fit(X_train, Y_train)\n",
    "\n",
    "predicted = MNB.predict(X_test)\n",
    "model1 = metrics.accuracy_score(predicted, Y_test)\n",
    "print('Akurasi MNB Tanpa Stemming dan Stopwords dengan 20% data test = ' + str('{:04.2f}'.format(model1*100))+'%')"
   ]
  },
  {
   "cell_type": "code",
   "execution_count": 21,
   "metadata": {
    "execution": {
     "iopub.execute_input": "2021-08-14T08:32:27.530970Z",
     "iopub.status.busy": "2021-08-14T08:32:27.530233Z",
     "iopub.status.idle": "2021-08-14T08:32:27.533285Z",
     "shell.execute_reply": "2021-08-14T08:32:27.533676Z",
     "shell.execute_reply.started": "2021-07-29T02:36:25.38963Z"
    },
    "papermill": {
     "duration": 0.061857,
     "end_time": "2021-08-14T08:32:27.533860",
     "exception": false,
     "start_time": "2021-08-14T08:32:27.472003",
     "status": "completed"
    },
    "tags": []
   },
   "outputs": [
    {
     "data": {
      "text/plain": [
       "1    185\n",
       "2    113\n",
       "Name: label, dtype: int64"
      ]
     },
     "execution_count": 21,
     "metadata": {},
     "output_type": "execute_result"
    }
   ],
   "source": [
    "output = pd.DataFrame({'tweet': X_test, 'label': predicted})\n",
    "output['label'].value_counts()"
   ]
  },
  {
   "cell_type": "code",
   "execution_count": 22,
   "metadata": {
    "execution": {
     "iopub.execute_input": "2021-08-14T08:32:27.639145Z",
     "iopub.status.busy": "2021-08-14T08:32:27.638532Z",
     "iopub.status.idle": "2021-08-14T08:32:27.645718Z",
     "shell.execute_reply": "2021-08-14T08:32:27.644880Z"
    },
    "papermill": {
     "duration": 0.060693,
     "end_time": "2021-08-14T08:32:27.645919",
     "exception": false,
     "start_time": "2021-08-14T08:32:27.585226",
     "status": "completed"
    },
    "tags": []
   },
   "outputs": [
    {
     "name": "stdout",
     "output_type": "stream",
     "text": [
      "[[173  20]\n",
      " [ 12  93]]\n"
     ]
    }
   ],
   "source": [
    "from sklearn.metrics import confusion_matrix\n",
    "confusion = confusion_matrix(Y_test, MNB.predict(X_test))\n",
    "print(confusion)"
   ]
  },
  {
   "cell_type": "code",
   "execution_count": 23,
   "metadata": {
    "execution": {
     "iopub.execute_input": "2021-08-14T08:32:27.778770Z",
     "iopub.status.busy": "2021-08-14T08:32:27.777812Z",
     "iopub.status.idle": "2021-08-14T08:32:27.847796Z",
     "shell.execute_reply": "2021-08-14T08:32:27.848244Z"
    },
    "papermill": {
     "duration": 0.149455,
     "end_time": "2021-08-14T08:32:27.848442",
     "exception": false,
     "start_time": "2021-08-14T08:32:27.698987",
     "status": "completed"
    },
    "tags": []
   },
   "outputs": [
    {
     "data": {
      "text/plain": [
       "Text(91.68, 0.5, 'predicted label')"
      ]
     },
     "execution_count": 23,
     "metadata": {},
     "output_type": "execute_result"
    },
    {
     "data": {
      "image/png": "[encoded data removed]",
      "text/plain": [
       "<Figure size 432x288 with 1 Axes>"
      ]
     },
     "metadata": {
      "needs_background": "light"
     },
     "output_type": "display_data"
    }
   ],
   "source": [
    "import matplotlib.pyplot as plt\n",
    "\n",
    "sns.heatmap(confusion, square=True, annot=True, cbar=False, cmap='Blues', fmt='.3g',\n",
    "xticklabels=['positif', 'negatif'], yticklabels=['positif', 'negatif'])\n",
    "plt.xlabel('true label')\n",
    "plt.ylabel('predicted label')"
   ]
  },
  {
   "cell_type": "code",
   "execution_count": 24,
   "metadata": {
    "execution": {
     "iopub.execute_input": "2021-08-14T08:32:27.959611Z",
     "iopub.status.busy": "2021-08-14T08:32:27.958667Z",
     "iopub.status.idle": "2021-08-14T08:32:27.965631Z",
     "shell.execute_reply": "2021-08-14T08:32:27.966041Z",
     "shell.execute_reply.started": "2021-07-29T02:36:25.399931Z"
    },
    "papermill": {
     "duration": 0.065141,
     "end_time": "2021-08-14T08:32:27.966238",
     "exception": false,
     "start_time": "2021-08-14T08:32:27.901097",
     "status": "completed"
    },
    "tags": []
   },
   "outputs": [
    {
     "name": "stdout",
     "output_type": "stream",
     "text": [
      "Akurasi BNB Tanpa Stemming dan Stopwords dengan 20% data test = 81.54%\n"
     ]
    }
   ],
   "source": [
    "from sklearn.naive_bayes import BernoulliNB\n",
    "BNB = BernoulliNB()\n",
    "BNB.fit(X_train, Y_train)\n",
    "model2 = metrics.accuracy_score(BNB.predict(X_test),Y_test)\n",
    "print('Akurasi BNB Tanpa Stemming dan Stopwords dengan 20% data test = ' + str('{:4.2f}'.format(model2*100))+'%')"
   ]
  },
  {
   "cell_type": "code",
   "execution_count": 25,
   "metadata": {
    "execution": {
     "iopub.execute_input": "2021-08-14T08:32:28.078543Z",
     "iopub.status.busy": "2021-08-14T08:32:28.077608Z",
     "iopub.status.idle": "2021-08-14T08:32:28.082565Z",
     "shell.execute_reply": "2021-08-14T08:32:28.081921Z",
     "shell.execute_reply.started": "2021-07-29T02:36:25.415889Z"
    },
    "papermill": {
     "duration": 0.064465,
     "end_time": "2021-08-14T08:32:28.082706",
     "exception": false,
     "start_time": "2021-08-14T08:32:28.018241",
     "status": "completed"
    },
    "tags": []
   },
   "outputs": [
    {
     "data": {
      "text/plain": [
       "1    185\n",
       "2    113\n",
       "Name: label, dtype: int64"
      ]
     },
     "execution_count": 25,
     "metadata": {},
     "output_type": "execute_result"
    }
   ],
   "source": [
    "output = pd.DataFrame({'tweet': X_test, 'label': predicted})\n",
    "output['label'].value_counts()"
   ]
  },
  {
   "cell_type": "code",
   "execution_count": 26,
   "metadata": {
    "execution": {
     "iopub.execute_input": "2021-08-14T08:32:28.193771Z",
     "iopub.status.busy": "2021-08-14T08:32:28.193199Z",
     "iopub.status.idle": "2021-08-14T08:32:28.198645Z",
     "shell.execute_reply": "2021-08-14T08:32:28.199244Z"
    },
    "papermill": {
     "duration": 0.063267,
     "end_time": "2021-08-14T08:32:28.199499",
     "exception": false,
     "start_time": "2021-08-14T08:32:28.136232",
     "status": "completed"
    },
    "tags": []
   },
   "outputs": [
    {
     "name": "stdout",
     "output_type": "stream",
     "text": [
      "[[178  15]\n",
      " [ 40  65]]\n"
     ]
    }
   ],
   "source": [
    "confusion = confusion_matrix(Y_test, BNB.predict(X_test))\n",
    "print(confusion)"
   ]
  },
  {
   "cell_type": "code",
   "execution_count": 27,
   "metadata": {
    "execution": {
     "iopub.execute_input": "2021-08-14T08:32:28.325034Z",
     "iopub.status.busy": "2021-08-14T08:32:28.323749Z",
     "iopub.status.idle": "2021-08-14T08:32:28.397057Z",
     "shell.execute_reply": "2021-08-14T08:32:28.396577Z"
    },
    "papermill": {
     "duration": 0.144376,
     "end_time": "2021-08-14T08:32:28.397222",
     "exception": false,
     "start_time": "2021-08-14T08:32:28.252846",
     "status": "completed"
    },
    "tags": []
   },
   "outputs": [
    {
     "data": {
      "text/plain": [
       "Text(91.68, 0.5, 'predicted label')"
      ]
     },
     "execution_count": 27,
     "metadata": {},
     "output_type": "execute_result"
    },
    {
     "data": {
      "image/png": "[encoded data removed]",
      "text/plain": [
       "<Figure size 432x288 with 1 Axes>"
      ]
     },
     "metadata": {
      "needs_background": "light"
     },
     "output_type": "display_data"
    }
   ],
   "source": [
    "sns.heatmap(confusion, square=True, annot=True, cbar=False, cmap='Blues', fmt='.3g',\n",
    "xticklabels=['positif', 'negatif'], yticklabels=['positif', 'negatif'])\n",
    "plt.xlabel('true label')\n",
    "plt.ylabel('predicted label')"
   ]
  },
  {
   "cell_type": "code",
   "execution_count": 28,
   "metadata": {
    "execution": {
     "iopub.execute_input": "2021-08-14T08:32:28.512451Z",
     "iopub.status.busy": "2021-08-14T08:32:28.511097Z",
     "iopub.status.idle": "2021-08-14T08:32:28.516376Z",
     "shell.execute_reply": "2021-08-14T08:32:28.515922Z"
    },
    "papermill": {
     "duration": 0.065723,
     "end_time": "2021-08-14T08:32:28.516511",
     "exception": false,
     "start_time": "2021-08-14T08:32:28.450788",
     "status": "completed"
    },
    "tags": []
   },
   "outputs": [
    {
     "name": "stdout",
     "output_type": "stream",
     "text": [
      "(1339, 3234) (149, 3234)\n"
     ]
    }
   ],
   "source": [
    "X_train, X_test, Y_train, Y_test = train_test_split(text_counts, df1['Kategori'], test_size=0.1)\n",
    "print(X_train.shape, X_test.shape)"
   ]
  },
  {
   "cell_type": "code",
   "execution_count": 29,
   "metadata": {
    "execution": {
     "iopub.execute_input": "2021-08-14T08:32:28.629124Z",
     "iopub.status.busy": "2021-08-14T08:32:28.628569Z",
     "iopub.status.idle": "2021-08-14T08:32:28.634812Z",
     "shell.execute_reply": "2021-08-14T08:32:28.634384Z"
    },
    "papermill": {
     "duration": 0.064631,
     "end_time": "2021-08-14T08:32:28.634952",
     "exception": false,
     "start_time": "2021-08-14T08:32:28.570321",
     "status": "completed"
    },
    "tags": []
   },
   "outputs": [
    {
     "name": "stdout",
     "output_type": "stream",
     "text": [
      "Akurasi MNB Tanpa Stemming dan Stopwords dengan 10% data test = 93.96%\n"
     ]
    }
   ],
   "source": [
    "MNB = MultinomialNB()\n",
    "MNB.fit(X_train, Y_train)\n",
    "\n",
    "predicted = MNB.predict(X_test)\n",
    "model1_1 = metrics.accuracy_score(predicted, Y_test)\n",
    "print('Akurasi MNB Tanpa Stemming dan Stopwords dengan 10% data test = ' + str('{:04.2f}'.format(model1_1*100))+'%')"
   ]
  },
  {
   "cell_type": "code",
   "execution_count": 30,
   "metadata": {
    "execution": {
     "iopub.execute_input": "2021-08-14T08:32:28.748681Z",
     "iopub.status.busy": "2021-08-14T08:32:28.748053Z",
     "iopub.status.idle": "2021-08-14T08:32:28.755010Z",
     "shell.execute_reply": "2021-08-14T08:32:28.754594Z"
    },
    "papermill": {
     "duration": 0.065363,
     "end_time": "2021-08-14T08:32:28.755144",
     "exception": false,
     "start_time": "2021-08-14T08:32:28.689781",
     "status": "completed"
    },
    "tags": []
   },
   "outputs": [
    {
     "name": "stdout",
     "output_type": "stream",
     "text": [
      "Akurasi BNB Tanpa Stemming dan Stopwords dengan 10% data test = 90.60%\n"
     ]
    }
   ],
   "source": [
    "BNB = BernoulliNB()\n",
    "BNB.fit(X_train, Y_train)\n",
    "model2_1 = metrics.accuracy_score(BNB.predict(X_test),Y_test)\n",
    "print('Akurasi BNB Tanpa Stemming dan Stopwords dengan 10% data test = ' + str('{:4.2f}'.format(model2_1*100))+'%')"
   ]
  },
  {
   "cell_type": "markdown",
   "metadata": {
    "papermill": {
     "duration": 0.054122,
     "end_time": "2021-08-14T08:32:28.863913",
     "exception": false,
     "start_time": "2021-08-14T08:32:28.809791",
     "status": "completed"
    },
    "tags": []
   },
   "source": [
    "# 5. STOPWORDS"
   ]
  },
  {
   "cell_type": "code",
   "execution_count": 31,
   "metadata": {
    "execution": {
     "iopub.execute_input": "2021-08-14T08:32:28.979420Z",
     "iopub.status.busy": "2021-08-14T08:32:28.978805Z",
     "iopub.status.idle": "2021-08-14T08:32:29.645297Z",
     "shell.execute_reply": "2021-08-14T08:32:29.644775Z",
     "shell.execute_reply.started": "2021-07-29T02:36:25.425869Z"
    },
    "papermill": {
     "duration": 0.727318,
     "end_time": "2021-08-14T08:32:29.645443",
     "exception": false,
     "start_time": "2021-08-14T08:32:28.918125",
     "status": "completed"
    },
    "tags": []
   },
   "outputs": [
    {
     "name": "stdout",
     "output_type": "stream",
     "text": [
      "[nltk_data] Downloading package stopwords to /usr/share/nltk_data...\n",
      "[nltk_data]   Package stopwords is already up-to-date!\n"
     ]
    }
   ],
   "source": [
    "import nltk\n",
    "nltk.download('stopwords')\n",
    "from nltk.corpus import stopwords  \n",
    "\n",
    "def remove_stop_words(text):\n",
    "    text = text.split()\n",
    "    listStopword =  set(stopwords.words('indonesian'))\n",
    "    text = [w for w in text if not w in listStopword]\n",
    "    text = \" \".join(text)\n",
    "    return text"
   ]
  },
  {
   "cell_type": "code",
   "execution_count": 32,
   "metadata": {
    "execution": {
     "iopub.execute_input": "2021-08-14T08:32:29.763180Z",
     "iopub.status.busy": "2021-08-14T08:32:29.762564Z",
     "iopub.status.idle": "2021-08-14T08:32:30.298579Z",
     "shell.execute_reply": "2021-08-14T08:32:30.297969Z",
     "shell.execute_reply.started": "2021-07-29T02:36:26.088335Z"
    },
    "papermill": {
     "duration": 0.59875,
     "end_time": "2021-08-14T08:32:30.298720",
     "exception": false,
     "start_time": "2021-08-14T08:32:29.699970",
     "status": "completed"
    },
    "tags": []
   },
   "outputs": [
    {
     "name": "stderr",
     "output_type": "stream",
     "text": [
      "/opt/conda/lib/python3.7/site-packages/ipykernel_launcher.py:1: SettingWithCopyWarning: \n",
      "A value is trying to be set on a copy of a slice from a DataFrame.\n",
      "Try using .loc[row_indexer,col_indexer] = value instead\n",
      "\n",
      "See the caveats in the documentation: https://pandas.pydata.org/pandas-docs/stable/user_guide/indexing.html#returning-a-view-versus-a-copy\n",
      "  \"\"\"Entry point for launching an IPython kernel.\n"
     ]
    },
    {
     "data": {
      "text/html": [
       "<div>\n",
       "<style scoped>\n",
       "    .dataframe tbody tr th:only-of-type {\n",
       "        vertical-align: middle;\n",
       "    }\n",
       "\n",
       "    .dataframe tbody tr th {\n",
       "        vertical-align: top;\n",
       "    }\n",
       "\n",
       "    .dataframe thead th {\n",
       "        text-align: right;\n",
       "    }\n",
       "</style>\n",
       "<table border=\"1\" class=\"dataframe\">\n",
       "  <thead>\n",
       "    <tr style=\"text-align: right;\">\n",
       "      <th></th>\n",
       "      <th>tweet</th>\n",
       "      <th>Kategori</th>\n",
       "      <th>cleaned_tweets</th>\n",
       "    </tr>\n",
       "  </thead>\n",
       "  <tbody>\n",
       "    <tr>\n",
       "      <th>0</th>\n",
       "      <td>@MaspiyuO Tampang si Jokowi dan Si Koruptor E-...</td>\n",
       "      <td>2</td>\n",
       "      <td>tampang si jokowi si koruptor e ktp puan mahar...</td>\n",
       "    </tr>\n",
       "    <tr>\n",
       "      <th>1</th>\n",
       "      <td>Ribet gini si corona teh. Di Bisnis teruss. Eh...</td>\n",
       "      <td>2</td>\n",
       "      <td>ruwet si corona teh bisnis eh sih bisnis makan...</td>\n",
       "    </tr>\n",
       "    <tr>\n",
       "      <th>2</th>\n",
       "      <td>@fadlizon Akal sehat pun harus dipakai. Sumber...</td>\n",
       "      <td>2</td>\n",
       "      <td>akal sehat dipakai sumber virus corona merokok...</td>\n",
       "    </tr>\n",
       "    <tr>\n",
       "      <th>3</th>\n",
       "      <td>@fadlizon Sumber dan Asal birus corona covid 1...</td>\n",
       "      <td>2</td>\n",
       "      <td>sumber virus corona merokok cina jual vaksin o...</td>\n",
       "    </tr>\n",
       "    <tr>\n",
       "      <th>4</th>\n",
       "      <td>Negara yang lalai menjaga rakyat dari terpapar...</td>\n",
       "      <td>2</td>\n",
       "      <td>negara lalai menjaga rakyat terpapar virus cor...</td>\n",
       "    </tr>\n",
       "    <tr>\n",
       "      <th>...</th>\n",
       "      <td>...</td>\n",
       "      <td>...</td>\n",
       "      <td>...</td>\n",
       "    </tr>\n",
       "    <tr>\n",
       "      <th>1995</th>\n",
       "      <td>Tak usah ragu dan takut dengan Vaksin,  BPOM p...</td>\n",
       "      <td>1</td>\n",
       "      <td>ragu takut vaksin bpom pastikan vaksin corona ...</td>\n",
       "    </tr>\n",
       "    <tr>\n",
       "      <th>1996</th>\n",
       "      <td>Untuk mengendalikan pandemi, vaksin Corona per...</td>\n",
       "      <td>1</td>\n",
       "      <td>mengendalikan pandemi vaksin corona populasi d...</td>\n",
       "    </tr>\n",
       "    <tr>\n",
       "      <th>1997</th>\n",
       "      <td>@jokowi Sehingga vaksin ini mampu menjadi hara...</td>\n",
       "      <td>1</td>\n",
       "      <td>vaksin harapan indonesia bebas corona vaksin d...</td>\n",
       "    </tr>\n",
       "    <tr>\n",
       "      <th>1998</th>\n",
       "      <td>@27_jelo @jokowi #DemiNKRI  Akooh jg siap utk ...</td>\n",
       "      <td>1</td>\n",
       "      <td>vaksin vaksin corona aman</td>\n",
       "    </tr>\n",
       "    <tr>\n",
       "      <th>1999</th>\n",
       "      <td>@Ephraym9 Gw kuatirnye vaksin yg udh dibeli gk...</td>\n",
       "      <td>2</td>\n",
       "      <td>khawatirnya vaksin dibeli terbaru corona maklu...</td>\n",
       "    </tr>\n",
       "  </tbody>\n",
       "</table>\n",
       "<p>1488 rows × 3 columns</p>\n",
       "</div>"
      ],
      "text/plain": [
       "                                                  tweet  Kategori  \\\n",
       "0     @MaspiyuO Tampang si Jokowi dan Si Koruptor E-...         2   \n",
       "1     Ribet gini si corona teh. Di Bisnis teruss. Eh...         2   \n",
       "2     @fadlizon Akal sehat pun harus dipakai. Sumber...         2   \n",
       "3     @fadlizon Sumber dan Asal birus corona covid 1...         2   \n",
       "4     Negara yang lalai menjaga rakyat dari terpapar...         2   \n",
       "...                                                 ...       ...   \n",
       "1995  Tak usah ragu dan takut dengan Vaksin,  BPOM p...         1   \n",
       "1996  Untuk mengendalikan pandemi, vaksin Corona per...         1   \n",
       "1997  @jokowi Sehingga vaksin ini mampu menjadi hara...         1   \n",
       "1998  @27_jelo @jokowi #DemiNKRI  Akooh jg siap utk ...         1   \n",
       "1999  @Ephraym9 Gw kuatirnye vaksin yg udh dibeli gk...         2   \n",
       "\n",
       "                                         cleaned_tweets  \n",
       "0     tampang si jokowi si koruptor e ktp puan mahar...  \n",
       "1     ruwet si corona teh bisnis eh sih bisnis makan...  \n",
       "2     akal sehat dipakai sumber virus corona merokok...  \n",
       "3     sumber virus corona merokok cina jual vaksin o...  \n",
       "4     negara lalai menjaga rakyat terpapar virus cor...  \n",
       "...                                                 ...  \n",
       "1995  ragu takut vaksin bpom pastikan vaksin corona ...  \n",
       "1996  mengendalikan pandemi vaksin corona populasi d...  \n",
       "1997  vaksin harapan indonesia bebas corona vaksin d...  \n",
       "1998                          vaksin vaksin corona aman  \n",
       "1999  khawatirnya vaksin dibeli terbaru corona maklu...  \n",
       "\n",
       "[1488 rows x 3 columns]"
      ]
     },
     "execution_count": 32,
     "metadata": {},
     "output_type": "execute_result"
    }
   ],
   "source": [
    "df1['cleaned_tweets'] = df1['cleaned_tweets'].apply(lambda x: remove_stop_words(x))\n",
    "df1"
   ]
  },
  {
   "cell_type": "code",
   "execution_count": 33,
   "metadata": {
    "execution": {
     "iopub.execute_input": "2021-08-14T08:32:30.431967Z",
     "iopub.status.busy": "2021-08-14T08:32:30.431020Z",
     "iopub.status.idle": "2021-08-14T08:32:30.439236Z",
     "shell.execute_reply": "2021-08-14T08:32:30.438638Z"
    },
    "papermill": {
     "duration": 0.084449,
     "end_time": "2021-08-14T08:32:30.439382",
     "exception": false,
     "start_time": "2021-08-14T08:32:30.354933",
     "status": "completed"
    },
    "tags": []
   },
   "outputs": [],
   "source": [
    "text_counts = cv.fit_transform(df1['cleaned_tweets'])"
   ]
  },
  {
   "cell_type": "code",
   "execution_count": 34,
   "metadata": {
    "execution": {
     "iopub.execute_input": "2021-08-14T08:32:30.554531Z",
     "iopub.status.busy": "2021-08-14T08:32:30.553841Z",
     "iopub.status.idle": "2021-08-14T08:32:30.559358Z",
     "shell.execute_reply": "2021-08-14T08:32:30.559942Z"
    },
    "papermill": {
     "duration": 0.065431,
     "end_time": "2021-08-14T08:32:30.560177",
     "exception": false,
     "start_time": "2021-08-14T08:32:30.494746",
     "status": "completed"
    },
    "tags": []
   },
   "outputs": [
    {
     "name": "stdout",
     "output_type": "stream",
     "text": [
      "(1190, 2813) (298, 2813)\n"
     ]
    }
   ],
   "source": [
    "X_train, X_test, Y_train, Y_test = train_test_split(text_counts, df1['Kategori'], test_size=0.2)\n",
    "print(X_train.shape, X_test.shape)"
   ]
  },
  {
   "cell_type": "code",
   "execution_count": 35,
   "metadata": {
    "execution": {
     "iopub.execute_input": "2021-08-14T08:32:30.676047Z",
     "iopub.status.busy": "2021-08-14T08:32:30.675489Z",
     "iopub.status.idle": "2021-08-14T08:32:30.681440Z",
     "shell.execute_reply": "2021-08-14T08:32:30.680940Z"
    },
    "papermill": {
     "duration": 0.0658,
     "end_time": "2021-08-14T08:32:30.681581",
     "exception": false,
     "start_time": "2021-08-14T08:32:30.615781",
     "status": "completed"
    },
    "tags": []
   },
   "outputs": [
    {
     "name": "stdout",
     "output_type": "stream",
     "text": [
      "Akurasi MNB Tanpa Stemming dengan 20% data test = 87.25%\n"
     ]
    }
   ],
   "source": [
    "MNB.fit(X_train, Y_train)\n",
    "predicted = MNB.predict(X_test)\n",
    "model33 = metrics.accuracy_score(predicted, Y_test)\n",
    "print('Akurasi MNB Tanpa Stemming dengan 20% data test = ' + str('{:04.2f}'.format(model33*100))+'%')"
   ]
  },
  {
   "cell_type": "code",
   "execution_count": 36,
   "metadata": {
    "execution": {
     "iopub.execute_input": "2021-08-14T08:32:30.799756Z",
     "iopub.status.busy": "2021-08-14T08:32:30.799165Z",
     "iopub.status.idle": "2021-08-14T08:32:30.805526Z",
     "shell.execute_reply": "2021-08-14T08:32:30.804972Z"
    },
    "papermill": {
     "duration": 0.068327,
     "end_time": "2021-08-14T08:32:30.805668",
     "exception": false,
     "start_time": "2021-08-14T08:32:30.737341",
     "status": "completed"
    },
    "tags": []
   },
   "outputs": [
    {
     "name": "stdout",
     "output_type": "stream",
     "text": [
      "Akurasi BNB Tanpa Stemming dengan 20% data test = 80.87%\n"
     ]
    }
   ],
   "source": [
    "BNB.fit(X_train, Y_train)\n",
    "model44 = metrics.accuracy_score(BNB.predict(X_test),Y_test)\n",
    "print('Akurasi BNB Tanpa Stemming dengan 20% data test = ' + str('{:4.2f}'.format(model44*100))+'%')"
   ]
  },
  {
   "cell_type": "code",
   "execution_count": 37,
   "metadata": {
    "execution": {
     "iopub.execute_input": "2021-08-14T08:32:30.926328Z",
     "iopub.status.busy": "2021-08-14T08:32:30.925733Z",
     "iopub.status.idle": "2021-08-14T08:32:30.928897Z",
     "shell.execute_reply": "2021-08-14T08:32:30.928451Z",
     "shell.execute_reply.started": "2021-07-29T02:36:26.694152Z"
    },
    "papermill": {
     "duration": 0.067056,
     "end_time": "2021-08-14T08:32:30.929025",
     "exception": false,
     "start_time": "2021-08-14T08:32:30.861969",
     "status": "completed"
    },
    "tags": []
   },
   "outputs": [],
   "source": [
    "def noise(text): \n",
    "    text = text.split()\n",
    "    listStopword =  ['amp','fry', 'vcs', 'bahh', 'a', 'wkwkwk', 'c', 'iya', 'nya', \n",
    "                     'sih', 'mbok', 'ku', 'loh', 'lho', 'ah', 'nihh', 'ya', 'hah', \n",
    "                     'deh','rmp', 'v', 'via', 'lha', 'mah', 'xixi', 'nya', 'ku',\n",
    "                     'kah', 'nge', 'an', 'pun', 'si', 'dong', 'deh', 'toh','cc', \n",
    "                     'nah','re','mah','ee', 'in','oi', 'woyyy','kan', 'nah','s','dodo']\n",
    "    text = [w for w in text if not w in listStopword]\n",
    "    text = \" \".join(text)\n",
    "    return text"
   ]
  },
  {
   "cell_type": "code",
   "execution_count": 38,
   "metadata": {
    "execution": {
     "iopub.execute_input": "2021-08-14T08:32:31.058407Z",
     "iopub.status.busy": "2021-08-14T08:32:31.057757Z",
     "iopub.status.idle": "2021-08-14T08:32:31.061332Z",
     "shell.execute_reply": "2021-08-14T08:32:31.060711Z",
     "shell.execute_reply.started": "2021-07-29T02:36:26.704584Z"
    },
    "papermill": {
     "duration": 0.076591,
     "end_time": "2021-08-14T08:32:31.061468",
     "exception": false,
     "start_time": "2021-08-14T08:32:30.984877",
     "status": "completed"
    },
    "tags": []
   },
   "outputs": [
    {
     "name": "stderr",
     "output_type": "stream",
     "text": [
      "/opt/conda/lib/python3.7/site-packages/ipykernel_launcher.py:1: SettingWithCopyWarning: \n",
      "A value is trying to be set on a copy of a slice from a DataFrame.\n",
      "Try using .loc[row_indexer,col_indexer] = value instead\n",
      "\n",
      "See the caveats in the documentation: https://pandas.pydata.org/pandas-docs/stable/user_guide/indexing.html#returning-a-view-versus-a-copy\n",
      "  \"\"\"Entry point for launching an IPython kernel.\n"
     ]
    }
   ],
   "source": [
    "df1['cleaned_tweets'] = df1['cleaned_tweets'].apply(lambda x: noise(x))"
   ]
  },
  {
   "cell_type": "code",
   "execution_count": 39,
   "metadata": {
    "execution": {
     "iopub.execute_input": "2021-08-14T08:32:31.196365Z",
     "iopub.status.busy": "2021-08-14T08:32:31.188360Z",
     "iopub.status.idle": "2021-08-14T08:32:31.203728Z",
     "shell.execute_reply": "2021-08-14T08:32:31.204180Z",
     "shell.execute_reply.started": "2021-07-29T02:36:26.729676Z"
    },
    "papermill": {
     "duration": 0.086273,
     "end_time": "2021-08-14T08:32:31.204383",
     "exception": false,
     "start_time": "2021-08-14T08:32:31.118110",
     "status": "completed"
    },
    "tags": []
   },
   "outputs": [],
   "source": [
    "text_counts = cv.fit_transform(df1['cleaned_tweets'])"
   ]
  },
  {
   "cell_type": "code",
   "execution_count": 40,
   "metadata": {
    "execution": {
     "iopub.execute_input": "2021-08-14T08:32:31.325101Z",
     "iopub.status.busy": "2021-08-14T08:32:31.324319Z",
     "iopub.status.idle": "2021-08-14T08:32:31.329042Z",
     "shell.execute_reply": "2021-08-14T08:32:31.329502Z",
     "shell.execute_reply.started": "2021-07-29T02:36:26.771669Z"
    },
    "papermill": {
     "duration": 0.067587,
     "end_time": "2021-08-14T08:32:31.329668",
     "exception": false,
     "start_time": "2021-08-14T08:32:31.262081",
     "status": "completed"
    },
    "tags": []
   },
   "outputs": [
    {
     "name": "stdout",
     "output_type": "stream",
     "text": [
      "(1190, 2785) (298, 2785)\n"
     ]
    }
   ],
   "source": [
    "X_train, X_test, Y_train, Y_test = train_test_split(text_counts, df1['Kategori'], test_size=0.2)\n",
    "print(X_train.shape, X_test.shape)"
   ]
  },
  {
   "cell_type": "code",
   "execution_count": 41,
   "metadata": {
    "execution": {
     "iopub.execute_input": "2021-08-14T08:32:31.449409Z",
     "iopub.status.busy": "2021-08-14T08:32:31.448564Z",
     "iopub.status.idle": "2021-08-14T08:32:31.453109Z",
     "shell.execute_reply": "2021-08-14T08:32:31.452515Z",
     "shell.execute_reply.started": "2021-07-29T02:45:59.080548Z"
    },
    "papermill": {
     "duration": 0.066639,
     "end_time": "2021-08-14T08:32:31.453261",
     "exception": false,
     "start_time": "2021-08-14T08:32:31.386622",
     "status": "completed"
    },
    "tags": []
   },
   "outputs": [
    {
     "data": {
      "text/plain": [
       "1    202\n",
       "2     96\n",
       "Name: Kategori, dtype: int64"
      ]
     },
     "execution_count": 41,
     "metadata": {},
     "output_type": "execute_result"
    }
   ],
   "source": [
    "Y_test.value_counts()"
   ]
  },
  {
   "cell_type": "code",
   "execution_count": 42,
   "metadata": {
    "execution": {
     "iopub.execute_input": "2021-08-14T08:32:31.573165Z",
     "iopub.status.busy": "2021-08-14T08:32:31.572279Z",
     "iopub.status.idle": "2021-08-14T08:32:31.576582Z",
     "shell.execute_reply": "2021-08-14T08:32:31.576103Z",
     "shell.execute_reply.started": "2021-07-29T02:45:59.093017Z"
    },
    "papermill": {
     "duration": 0.066732,
     "end_time": "2021-08-14T08:32:31.576717",
     "exception": false,
     "start_time": "2021-08-14T08:32:31.509985",
     "status": "completed"
    },
    "tags": []
   },
   "outputs": [
    {
     "data": {
      "text/plain": [
       "1    834\n",
       "2    356\n",
       "Name: Kategori, dtype: int64"
      ]
     },
     "execution_count": 42,
     "metadata": {},
     "output_type": "execute_result"
    }
   ],
   "source": [
    "Y_train.value_counts()"
   ]
  },
  {
   "cell_type": "code",
   "execution_count": 43,
   "metadata": {
    "execution": {
     "iopub.execute_input": "2021-08-14T08:32:31.696298Z",
     "iopub.status.busy": "2021-08-14T08:32:31.695674Z",
     "iopub.status.idle": "2021-08-14T08:32:31.701950Z",
     "shell.execute_reply": "2021-08-14T08:32:31.701492Z",
     "shell.execute_reply.started": "2021-07-29T02:36:26.78082Z"
    },
    "papermill": {
     "duration": 0.06836,
     "end_time": "2021-08-14T08:32:31.702083",
     "exception": false,
     "start_time": "2021-08-14T08:32:31.633723",
     "status": "completed"
    },
    "tags": []
   },
   "outputs": [
    {
     "name": "stdout",
     "output_type": "stream",
     "text": [
      "Akurasi MNB Tanpa Stemming dengan 20% data test =88.93%\n"
     ]
    }
   ],
   "source": [
    "MNB.fit(X_train, Y_train)\n",
    "predicted = MNB.predict(X_test)\n",
    "model3 = metrics.accuracy_score(predicted, Y_test)\n",
    "print('Akurasi MNB Tanpa Stemming dengan 20% data test =' + str('{:04.2f}'.format(model3*100))+'%')"
   ]
  },
  {
   "cell_type": "code",
   "execution_count": 44,
   "metadata": {
    "execution": {
     "iopub.execute_input": "2021-08-14T08:32:31.824702Z",
     "iopub.status.busy": "2021-08-14T08:32:31.824051Z",
     "iopub.status.idle": "2021-08-14T08:32:31.829040Z",
     "shell.execute_reply": "2021-08-14T08:32:31.829498Z",
     "shell.execute_reply.started": "2021-07-29T02:36:26.797151Z"
    },
    "papermill": {
     "duration": 0.069319,
     "end_time": "2021-08-14T08:32:31.829659",
     "exception": false,
     "start_time": "2021-08-14T08:32:31.760340",
     "status": "completed"
    },
    "tags": []
   },
   "outputs": [
    {
     "data": {
      "text/plain": [
       "1    203\n",
       "2     95\n",
       "Name: label, dtype: int64"
      ]
     },
     "execution_count": 44,
     "metadata": {},
     "output_type": "execute_result"
    }
   ],
   "source": [
    "output = pd.DataFrame({'tweet': X_test, 'label': predicted})\n",
    "output['label'].value_counts()"
   ]
  },
  {
   "cell_type": "code",
   "execution_count": 45,
   "metadata": {
    "execution": {
     "iopub.execute_input": "2021-08-14T08:32:31.956768Z",
     "iopub.status.busy": "2021-08-14T08:32:31.955378Z",
     "iopub.status.idle": "2021-08-14T08:32:31.961118Z",
     "shell.execute_reply": "2021-08-14T08:32:31.960593Z"
    },
    "papermill": {
     "duration": 0.073662,
     "end_time": "2021-08-14T08:32:31.961289",
     "exception": false,
     "start_time": "2021-08-14T08:32:31.887627",
     "status": "completed"
    },
    "tags": []
   },
   "outputs": [
    {
     "name": "stdout",
     "output_type": "stream",
     "text": [
      "[[186  16]\n",
      " [ 17  79]]\n"
     ]
    }
   ],
   "source": [
    "confusion = confusion_matrix(Y_test, MNB.predict(X_test))\n",
    "print(confusion)"
   ]
  },
  {
   "cell_type": "code",
   "execution_count": 46,
   "metadata": {
    "execution": {
     "iopub.execute_input": "2021-08-14T08:32:32.115327Z",
     "iopub.status.busy": "2021-08-14T08:32:32.114695Z",
     "iopub.status.idle": "2021-08-14T08:32:32.187696Z",
     "shell.execute_reply": "2021-08-14T08:32:32.186779Z"
    },
    "papermill": {
     "duration": 0.152489,
     "end_time": "2021-08-14T08:32:32.187860",
     "exception": false,
     "start_time": "2021-08-14T08:32:32.035371",
     "status": "completed"
    },
    "tags": []
   },
   "outputs": [
    {
     "data": {
      "text/plain": [
       "Text(91.68, 0.5, 'predicted label')"
      ]
     },
     "execution_count": 46,
     "metadata": {},
     "output_type": "execute_result"
    },
    {
     "data": {
      "image/png": "[encoded data removed]",
      "text/plain": [
       "<Figure size 432x288 with 1 Axes>"
      ]
     },
     "metadata": {
      "needs_background": "light"
     },
     "output_type": "display_data"
    }
   ],
   "source": [
    "sns.heatmap(confusion, square=True, annot=True, cbar=False, cmap='Blues', fmt='.3g',\n",
    "xticklabels=['positif', 'negatif'], yticklabels=['positif', 'negatif'])\n",
    "plt.xlabel('true label')\n",
    "plt.ylabel('predicted label')"
   ]
  },
  {
   "cell_type": "code",
   "execution_count": 47,
   "metadata": {
    "execution": {
     "iopub.execute_input": "2021-08-14T08:32:32.312281Z",
     "iopub.status.busy": "2021-08-14T08:32:32.311310Z",
     "iopub.status.idle": "2021-08-14T08:32:32.318932Z",
     "shell.execute_reply": "2021-08-14T08:32:32.318428Z",
     "shell.execute_reply.started": "2021-07-29T02:36:26.809602Z"
    },
    "papermill": {
     "duration": 0.071782,
     "end_time": "2021-08-14T08:32:32.319067",
     "exception": false,
     "start_time": "2021-08-14T08:32:32.247285",
     "status": "completed"
    },
    "tags": []
   },
   "outputs": [
    {
     "name": "stdout",
     "output_type": "stream",
     "text": [
      "Akurasi BNB Tanpa Stemming dengan 20% data test = 83.56%\n"
     ]
    }
   ],
   "source": [
    "BNB.fit(X_train, Y_train)\n",
    "model4 = metrics.accuracy_score(BNB.predict(X_test),Y_test)\n",
    "print('Akurasi BNB Tanpa Stemming dengan 20% data test = ' + str('{:4.2f}'.format(model4*100))+'%')"
   ]
  },
  {
   "cell_type": "code",
   "execution_count": 48,
   "metadata": {
    "execution": {
     "iopub.execute_input": "2021-08-14T08:32:32.446474Z",
     "iopub.status.busy": "2021-08-14T08:32:32.445540Z",
     "iopub.status.idle": "2021-08-14T08:32:32.449690Z",
     "shell.execute_reply": "2021-08-14T08:32:32.449114Z",
     "shell.execute_reply.started": "2021-07-29T02:36:26.825881Z"
    },
    "papermill": {
     "duration": 0.070404,
     "end_time": "2021-08-14T08:32:32.449825",
     "exception": false,
     "start_time": "2021-08-14T08:32:32.379421",
     "status": "completed"
    },
    "tags": []
   },
   "outputs": [
    {
     "data": {
      "text/plain": [
       "1    203\n",
       "2     95\n",
       "Name: label, dtype: int64"
      ]
     },
     "execution_count": 48,
     "metadata": {},
     "output_type": "execute_result"
    }
   ],
   "source": [
    "output = pd.DataFrame({'tweet': X_test, 'label': predicted})\n",
    "output['label'].value_counts()"
   ]
  },
  {
   "cell_type": "code",
   "execution_count": 49,
   "metadata": {
    "execution": {
     "iopub.execute_input": "2021-08-14T08:32:32.573021Z",
     "iopub.status.busy": "2021-08-14T08:32:32.572479Z",
     "iopub.status.idle": "2021-08-14T08:32:32.577887Z",
     "shell.execute_reply": "2021-08-14T08:32:32.577388Z"
    },
    "papermill": {
     "duration": 0.068805,
     "end_time": "2021-08-14T08:32:32.578022",
     "exception": false,
     "start_time": "2021-08-14T08:32:32.509217",
     "status": "completed"
    },
    "tags": []
   },
   "outputs": [
    {
     "name": "stdout",
     "output_type": "stream",
     "text": [
      "[[188  14]\n",
      " [ 35  61]]\n"
     ]
    }
   ],
   "source": [
    "confusion = confusion_matrix(Y_test, BNB.predict(X_test))\n",
    "print(confusion)"
   ]
  },
  {
   "cell_type": "code",
   "execution_count": 50,
   "metadata": {
    "execution": {
     "iopub.execute_input": "2021-08-14T08:32:32.725036Z",
     "iopub.status.busy": "2021-08-14T08:32:32.717950Z",
     "iopub.status.idle": "2021-08-14T08:32:32.789081Z",
     "shell.execute_reply": "2021-08-14T08:32:32.788573Z"
    },
    "papermill": {
     "duration": 0.151279,
     "end_time": "2021-08-14T08:32:32.789235",
     "exception": false,
     "start_time": "2021-08-14T08:32:32.637956",
     "status": "completed"
    },
    "tags": []
   },
   "outputs": [
    {
     "data": {
      "text/plain": [
       "Text(91.68, 0.5, 'predicted label')"
      ]
     },
     "execution_count": 50,
     "metadata": {},
     "output_type": "execute_result"
    },
    {
     "data": {
      "image/png": "[encoded data removed]",
      "text/plain": [
       "<Figure size 432x288 with 1 Axes>"
      ]
     },
     "metadata": {
      "needs_background": "light"
     },
     "output_type": "display_data"
    }
   ],
   "source": [
    "sns.heatmap(confusion, square=True, annot=True, cbar=False, cmap='Blues', fmt='.3g',\n",
    "xticklabels=['positif', 'negatif'], yticklabels=['positif', 'negatif'])\n",
    "plt.xlabel('true label')\n",
    "plt.ylabel('predicted label')"
   ]
  },
  {
   "cell_type": "code",
   "execution_count": 51,
   "metadata": {
    "execution": {
     "iopub.execute_input": "2021-08-14T08:32:32.920941Z",
     "iopub.status.busy": "2021-08-14T08:32:32.918437Z",
     "iopub.status.idle": "2021-08-14T08:32:32.925055Z",
     "shell.execute_reply": "2021-08-14T08:32:32.924590Z"
    },
    "papermill": {
     "duration": 0.075586,
     "end_time": "2021-08-14T08:32:32.925200",
     "exception": false,
     "start_time": "2021-08-14T08:32:32.849614",
     "status": "completed"
    },
    "tags": []
   },
   "outputs": [
    {
     "data": {
      "text/html": [
       "<div>\n",
       "<style scoped>\n",
       "    .dataframe tbody tr th:only-of-type {\n",
       "        vertical-align: middle;\n",
       "    }\n",
       "\n",
       "    .dataframe tbody tr th {\n",
       "        vertical-align: top;\n",
       "    }\n",
       "\n",
       "    .dataframe thead th {\n",
       "        text-align: right;\n",
       "    }\n",
       "</style>\n",
       "<table border=\"1\" class=\"dataframe\">\n",
       "  <thead>\n",
       "    <tr style=\"text-align: right;\">\n",
       "      <th></th>\n",
       "      <th>Prepocessing</th>\n",
       "      <th>Multinomial</th>\n",
       "      <th>Bernoulli</th>\n",
       "    </tr>\n",
       "  </thead>\n",
       "  <tbody>\n",
       "    <tr>\n",
       "      <th>0</th>\n",
       "      <td>Stopwords</td>\n",
       "      <td>0.872483</td>\n",
       "      <td>0.808725</td>\n",
       "    </tr>\n",
       "    <tr>\n",
       "      <th>1</th>\n",
       "      <td>ListStopwords dan Stopwords</td>\n",
       "      <td>0.889262</td>\n",
       "      <td>0.835570</td>\n",
       "    </tr>\n",
       "  </tbody>\n",
       "</table>\n",
       "</div>"
      ],
      "text/plain": [
       "                  Prepocessing  Multinomial  Bernoulli\n",
       "0                    Stopwords     0.872483   0.808725\n",
       "1  ListStopwords dan Stopwords     0.889262   0.835570"
      ]
     },
     "execution_count": 51,
     "metadata": {},
     "output_type": "execute_result"
    }
   ],
   "source": [
    "labels = ['Stopwords', 'ListStopwords dan Stopwords']\n",
    "multinomial = [model33, model3]\n",
    "bernoulli = [model44, model4]\n",
    "d={'Prepocessing':labels, 'Multinomial':multinomial, 'Bernoulli':bernoulli}   \n",
    "dataframe=pd.DataFrame(d)\n",
    "dataframe"
   ]
  },
  {
   "cell_type": "code",
   "execution_count": 52,
   "metadata": {
    "execution": {
     "iopub.execute_input": "2021-08-14T08:32:33.053351Z",
     "iopub.status.busy": "2021-08-14T08:32:33.052739Z",
     "iopub.status.idle": "2021-08-14T08:32:33.057623Z",
     "shell.execute_reply": "2021-08-14T08:32:33.056941Z"
    },
    "papermill": {
     "duration": 0.071801,
     "end_time": "2021-08-14T08:32:33.057811",
     "exception": false,
     "start_time": "2021-08-14T08:32:32.986010",
     "status": "completed"
    },
    "tags": []
   },
   "outputs": [
    {
     "name": "stdout",
     "output_type": "stream",
     "text": [
      "(1339, 2785) (149, 2785)\n"
     ]
    }
   ],
   "source": [
    "X_train, X_test, Y_train, Y_test = train_test_split(text_counts, df1['Kategori'], test_size=0.1)\n",
    "print(X_train.shape, X_test.shape)"
   ]
  },
  {
   "cell_type": "code",
   "execution_count": 53,
   "metadata": {
    "execution": {
     "iopub.execute_input": "2021-08-14T08:32:33.188644Z",
     "iopub.status.busy": "2021-08-14T08:32:33.187726Z",
     "iopub.status.idle": "2021-08-14T08:32:33.193683Z",
     "shell.execute_reply": "2021-08-14T08:32:33.192968Z"
    },
    "papermill": {
     "duration": 0.074332,
     "end_time": "2021-08-14T08:32:33.193873",
     "exception": false,
     "start_time": "2021-08-14T08:32:33.119541",
     "status": "completed"
    },
    "tags": []
   },
   "outputs": [
    {
     "name": "stdout",
     "output_type": "stream",
     "text": [
      "Akurasi MNB Tanpa Stemming dengan 10% data test93.29%\n"
     ]
    }
   ],
   "source": [
    "MNB.fit(X_train, Y_train)\n",
    "predicted = MNB.predict(X_test)\n",
    "model3_1 = metrics.accuracy_score(predicted, Y_test)\n",
    "print('Akurasi MNB Tanpa Stemming dengan 10% data test' + str('{:04.2f}'.format(model3_1*100))+'%')"
   ]
  },
  {
   "cell_type": "code",
   "execution_count": 54,
   "metadata": {
    "execution": {
     "iopub.execute_input": "2021-08-14T08:32:33.323100Z",
     "iopub.status.busy": "2021-08-14T08:32:33.322490Z",
     "iopub.status.idle": "2021-08-14T08:32:33.329722Z",
     "shell.execute_reply": "2021-08-14T08:32:33.330479Z"
    },
    "papermill": {
     "duration": 0.074425,
     "end_time": "2021-08-14T08:32:33.330772",
     "exception": false,
     "start_time": "2021-08-14T08:32:33.256347",
     "status": "completed"
    },
    "tags": []
   },
   "outputs": [
    {
     "name": "stdout",
     "output_type": "stream",
     "text": [
      "Akurasi BNB Tanpa Stemming dengan 10% data test = 91.95%\n"
     ]
    }
   ],
   "source": [
    "BNB.fit(X_train, Y_train)\n",
    "model4_1 = metrics.accuracy_score(BNB.predict(X_test),Y_test)\n",
    "print('Akurasi BNB Tanpa Stemming dengan 10% data test = ' + str('{:4.2f}'.format(model4_1*100))+'%')"
   ]
  },
  {
   "cell_type": "markdown",
   "metadata": {
    "papermill": {
     "duration": 0.064347,
     "end_time": "2021-08-14T08:32:33.462770",
     "exception": false,
     "start_time": "2021-08-14T08:32:33.398423",
     "status": "completed"
    },
    "tags": []
   },
   "source": [
    "# 6. STEMMING"
   ]
  },
  {
   "cell_type": "code",
   "execution_count": 55,
   "metadata": {
    "execution": {
     "iopub.execute_input": "2021-08-14T08:32:33.591872Z",
     "iopub.status.busy": "2021-08-14T08:32:33.591313Z",
     "iopub.status.idle": "2021-08-14T08:32:33.604338Z",
     "shell.execute_reply": "2021-08-14T08:32:33.604791Z",
     "shell.execute_reply.started": "2021-07-29T02:36:26.836176Z"
    },
    "papermill": {
     "duration": 0.079685,
     "end_time": "2021-08-14T08:32:33.604969",
     "exception": false,
     "start_time": "2021-08-14T08:32:33.525284",
     "status": "completed"
    },
    "tags": []
   },
   "outputs": [],
   "source": [
    "from Sastrawi.Stemmer.StemmerFactory import StemmerFactory\n",
    "from nltk.stem import PorterStemmer    \n",
    "\n",
    "def steamming(text):\n",
    "    factory = StemmerFactory()\n",
    "    stemmer = factory.create_stemmer()\n",
    "    split = text.split()\n",
    "    hasil = [stemmer.stem(token) for token in split]\n",
    "    hasil = \" \".join(hasil)\n",
    "    return hasil"
   ]
  },
  {
   "cell_type": "code",
   "execution_count": 56,
   "metadata": {
    "execution": {
     "iopub.execute_input": "2021-08-14T08:32:33.732720Z",
     "iopub.status.busy": "2021-08-14T08:32:33.731825Z",
     "iopub.status.idle": "2021-08-14T08:41:34.055766Z",
     "shell.execute_reply": "2021-08-14T08:41:34.055244Z",
     "shell.execute_reply.started": "2021-07-29T02:36:26.863437Z"
    },
    "papermill": {
     "duration": 540.389163,
     "end_time": "2021-08-14T08:41:34.055932",
     "exception": false,
     "start_time": "2021-08-14T08:32:33.666769",
     "status": "completed"
    },
    "tags": []
   },
   "outputs": [
    {
     "name": "stderr",
     "output_type": "stream",
     "text": [
      "/opt/conda/lib/python3.7/site-packages/ipykernel_launcher.py:1: SettingWithCopyWarning: \n",
      "A value is trying to be set on a copy of a slice from a DataFrame.\n",
      "Try using .loc[row_indexer,col_indexer] = value instead\n",
      "\n",
      "See the caveats in the documentation: https://pandas.pydata.org/pandas-docs/stable/user_guide/indexing.html#returning-a-view-versus-a-copy\n",
      "  \"\"\"Entry point for launching an IPython kernel.\n"
     ]
    },
    {
     "data": {
      "text/html": [
       "<div>\n",
       "<style scoped>\n",
       "    .dataframe tbody tr th:only-of-type {\n",
       "        vertical-align: middle;\n",
       "    }\n",
       "\n",
       "    .dataframe tbody tr th {\n",
       "        vertical-align: top;\n",
       "    }\n",
       "\n",
       "    .dataframe thead th {\n",
       "        text-align: right;\n",
       "    }\n",
       "</style>\n",
       "<table border=\"1\" class=\"dataframe\">\n",
       "  <thead>\n",
       "    <tr style=\"text-align: right;\">\n",
       "      <th></th>\n",
       "      <th>tweet</th>\n",
       "      <th>Kategori</th>\n",
       "      <th>cleaned_tweets</th>\n",
       "    </tr>\n",
       "  </thead>\n",
       "  <tbody>\n",
       "    <tr>\n",
       "      <th>0</th>\n",
       "      <td>@MaspiyuO Tampang si Jokowi dan Si Koruptor E-...</td>\n",
       "      <td>2</td>\n",
       "      <td>tampang jokowi koruptor e ktp puan maharani da...</td>\n",
       "    </tr>\n",
       "    <tr>\n",
       "      <th>1</th>\n",
       "      <td>Ribet gini si corona teh. Di Bisnis teruss. Eh...</td>\n",
       "      <td>2</td>\n",
       "      <td>ruwet corona teh bisnis eh bisnis makan jerink...</td>\n",
       "    </tr>\n",
       "    <tr>\n",
       "      <th>2</th>\n",
       "      <td>@fadlizon Akal sehat pun harus dipakai. Sumber...</td>\n",
       "      <td>2</td>\n",
       "      <td>akal sehat pakai sumber virus corona rokok asa...</td>\n",
       "    </tr>\n",
       "    <tr>\n",
       "      <th>3</th>\n",
       "      <td>@fadlizon Sumber dan Asal birus corona covid 1...</td>\n",
       "      <td>2</td>\n",
       "      <td>sumber virus corona rokok cina jual vaksin oba...</td>\n",
       "    </tr>\n",
       "    <tr>\n",
       "      <th>4</th>\n",
       "      <td>Negara yang lalai menjaga rakyat dari terpapar...</td>\n",
       "      <td>2</td>\n",
       "      <td>negara lalai jaga rakyat papar virus corona ne...</td>\n",
       "    </tr>\n",
       "    <tr>\n",
       "      <th>...</th>\n",
       "      <td>...</td>\n",
       "      <td>...</td>\n",
       "      <td>...</td>\n",
       "    </tr>\n",
       "    <tr>\n",
       "      <th>1995</th>\n",
       "      <td>Tak usah ragu dan takut dengan Vaksin,  BPOM p...</td>\n",
       "      <td>1</td>\n",
       "      <td>ragu takut vaksin bpom pasti vaksin corona aman</td>\n",
       "    </tr>\n",
       "    <tr>\n",
       "      <th>1996</th>\n",
       "      <td>Untuk mengendalikan pandemi, vaksin Corona per...</td>\n",
       "      <td>1</td>\n",
       "      <td>kendali pandemi vaksin corona populasi dunia b...</td>\n",
       "    </tr>\n",
       "    <tr>\n",
       "      <th>1997</th>\n",
       "      <td>@jokowi Sehingga vaksin ini mampu menjadi hara...</td>\n",
       "      <td>1</td>\n",
       "      <td>vaksin harap indonesia bebas corona vaksin har...</td>\n",
       "    </tr>\n",
       "    <tr>\n",
       "      <th>1998</th>\n",
       "      <td>@27_jelo @jokowi #DemiNKRI  Akooh jg siap utk ...</td>\n",
       "      <td>1</td>\n",
       "      <td>vaksin vaksin corona aman</td>\n",
       "    </tr>\n",
       "    <tr>\n",
       "      <th>1999</th>\n",
       "      <td>@Ephraym9 Gw kuatirnye vaksin yg udh dibeli gk...</td>\n",
       "      <td>2</td>\n",
       "      <td>khawatir vaksin beli baru corona maklum vaksin</td>\n",
       "    </tr>\n",
       "  </tbody>\n",
       "</table>\n",
       "<p>1488 rows × 3 columns</p>\n",
       "</div>"
      ],
      "text/plain": [
       "                                                  tweet  Kategori  \\\n",
       "0     @MaspiyuO Tampang si Jokowi dan Si Koruptor E-...         2   \n",
       "1     Ribet gini si corona teh. Di Bisnis teruss. Eh...         2   \n",
       "2     @fadlizon Akal sehat pun harus dipakai. Sumber...         2   \n",
       "3     @fadlizon Sumber dan Asal birus corona covid 1...         2   \n",
       "4     Negara yang lalai menjaga rakyat dari terpapar...         2   \n",
       "...                                                 ...       ...   \n",
       "1995  Tak usah ragu dan takut dengan Vaksin,  BPOM p...         1   \n",
       "1996  Untuk mengendalikan pandemi, vaksin Corona per...         1   \n",
       "1997  @jokowi Sehingga vaksin ini mampu menjadi hara...         1   \n",
       "1998  @27_jelo @jokowi #DemiNKRI  Akooh jg siap utk ...         1   \n",
       "1999  @Ephraym9 Gw kuatirnye vaksin yg udh dibeli gk...         2   \n",
       "\n",
       "                                         cleaned_tweets  \n",
       "0     tampang jokowi koruptor e ktp puan maharani da...  \n",
       "1     ruwet corona teh bisnis eh bisnis makan jerink...  \n",
       "2     akal sehat pakai sumber virus corona rokok asa...  \n",
       "3     sumber virus corona rokok cina jual vaksin oba...  \n",
       "4     negara lalai jaga rakyat papar virus corona ne...  \n",
       "...                                                 ...  \n",
       "1995    ragu takut vaksin bpom pasti vaksin corona aman  \n",
       "1996  kendali pandemi vaksin corona populasi dunia b...  \n",
       "1997  vaksin harap indonesia bebas corona vaksin har...  \n",
       "1998                          vaksin vaksin corona aman  \n",
       "1999     khawatir vaksin beli baru corona maklum vaksin  \n",
       "\n",
       "[1488 rows x 3 columns]"
      ]
     },
     "execution_count": 56,
     "metadata": {},
     "output_type": "execute_result"
    }
   ],
   "source": [
    "df1['cleaned_tweets'] = df1['cleaned_tweets'].apply(lambda x: steamming(x))\n",
    "df1"
   ]
  },
  {
   "cell_type": "code",
   "execution_count": 57,
   "metadata": {
    "execution": {
     "iopub.execute_input": "2021-08-14T08:41:34.188068Z",
     "iopub.status.busy": "2021-08-14T08:41:34.187505Z",
     "iopub.status.idle": "2021-08-14T08:41:34.203857Z",
     "shell.execute_reply": "2021-08-14T08:41:34.203330Z",
     "shell.execute_reply.started": "2021-07-29T02:45:56.74646Z"
    },
    "papermill": {
     "duration": 0.083788,
     "end_time": "2021-08-14T08:41:34.203994",
     "exception": false,
     "start_time": "2021-08-14T08:41:34.120206",
     "status": "completed"
    },
    "tags": []
   },
   "outputs": [],
   "source": [
    "df1.to_csv('prepocessing.csv',index=False)"
   ]
  },
  {
   "cell_type": "markdown",
   "metadata": {
    "papermill": {
     "duration": 0.063841,
     "end_time": "2021-08-14T08:41:34.333046",
     "exception": false,
     "start_time": "2021-08-14T08:41:34.269205",
     "status": "completed"
    },
    "tags": []
   },
   "source": [
    "# VEKTORISASI"
   ]
  },
  {
   "cell_type": "code",
   "execution_count": 58,
   "metadata": {
    "execution": {
     "iopub.execute_input": "2021-08-14T08:41:34.480238Z",
     "iopub.status.busy": "2021-08-14T08:41:34.478420Z",
     "iopub.status.idle": "2021-08-14T08:41:34.487300Z",
     "shell.execute_reply": "2021-08-14T08:41:34.486776Z",
     "shell.execute_reply.started": "2021-07-29T02:45:58.45713Z"
    },
    "papermill": {
     "duration": 0.090115,
     "end_time": "2021-08-14T08:41:34.487454",
     "exception": false,
     "start_time": "2021-08-14T08:41:34.397339",
     "status": "completed"
    },
    "tags": []
   },
   "outputs": [],
   "source": [
    "text_counts = cv.fit_transform(df1['cleaned_tweets'])"
   ]
  },
  {
   "cell_type": "markdown",
   "metadata": {
    "papermill": {
     "duration": 0.062733,
     "end_time": "2021-08-14T08:41:34.614382",
     "exception": false,
     "start_time": "2021-08-14T08:41:34.551649",
     "status": "completed"
    },
    "tags": []
   },
   "source": [
    "# SPLIT DATASET"
   ]
  },
  {
   "cell_type": "code",
   "execution_count": 59,
   "metadata": {
    "execution": {
     "iopub.execute_input": "2021-08-14T08:41:34.746002Z",
     "iopub.status.busy": "2021-08-14T08:41:34.744438Z",
     "iopub.status.idle": "2021-08-14T08:41:34.749020Z",
     "shell.execute_reply": "2021-08-14T08:41:34.749565Z",
     "shell.execute_reply.started": "2021-07-29T02:45:58.495268Z"
    },
    "papermill": {
     "duration": 0.073006,
     "end_time": "2021-08-14T08:41:34.749727",
     "exception": false,
     "start_time": "2021-08-14T08:41:34.676721",
     "status": "completed"
    },
    "tags": []
   },
   "outputs": [
    {
     "name": "stdout",
     "output_type": "stream",
     "text": [
      "(1190, 2037) (298, 2037)\n"
     ]
    }
   ],
   "source": [
    "X_train, X_test, Y_train, Y_test = train_test_split(text_counts, df1['Kategori'], test_size=0.2)\n",
    "print(X_train.shape, X_test.shape)"
   ]
  },
  {
   "cell_type": "code",
   "execution_count": 60,
   "metadata": {
    "execution": {
     "iopub.execute_input": "2021-08-14T08:41:34.882567Z",
     "iopub.status.busy": "2021-08-14T08:41:34.881948Z",
     "iopub.status.idle": "2021-08-14T08:41:34.886039Z",
     "shell.execute_reply": "2021-08-14T08:41:34.886503Z"
    },
    "papermill": {
     "duration": 0.073753,
     "end_time": "2021-08-14T08:41:34.886680",
     "exception": false,
     "start_time": "2021-08-14T08:41:34.812927",
     "status": "completed"
    },
    "tags": []
   },
   "outputs": [
    {
     "data": {
      "text/plain": [
       "1    207\n",
       "2     91\n",
       "Name: Kategori, dtype: int64"
      ]
     },
     "execution_count": 60,
     "metadata": {},
     "output_type": "execute_result"
    }
   ],
   "source": [
    "Y_test.value_counts()"
   ]
  },
  {
   "cell_type": "code",
   "execution_count": 61,
   "metadata": {
    "execution": {
     "iopub.execute_input": "2021-08-14T08:41:35.023107Z",
     "iopub.status.busy": "2021-08-14T08:41:35.022261Z",
     "iopub.status.idle": "2021-08-14T08:41:35.026611Z",
     "shell.execute_reply": "2021-08-14T08:41:35.026100Z"
    },
    "papermill": {
     "duration": 0.07416,
     "end_time": "2021-08-14T08:41:35.026746",
     "exception": false,
     "start_time": "2021-08-14T08:41:34.952586",
     "status": "completed"
    },
    "tags": []
   },
   "outputs": [
    {
     "data": {
      "text/plain": [
       "1    829\n",
       "2    361\n",
       "Name: Kategori, dtype: int64"
      ]
     },
     "execution_count": 61,
     "metadata": {},
     "output_type": "execute_result"
    }
   ],
   "source": [
    "Y_train.value_counts()"
   ]
  },
  {
   "cell_type": "markdown",
   "metadata": {
    "papermill": {
     "duration": 0.064139,
     "end_time": "2021-08-14T08:41:35.155256",
     "exception": false,
     "start_time": "2021-08-14T08:41:35.091117",
     "status": "completed"
    },
    "tags": []
   },
   "source": [
    "# KLASIFIKASI"
   ]
  },
  {
   "cell_type": "markdown",
   "metadata": {
    "papermill": {
     "duration": 0.063983,
     "end_time": "2021-08-14T08:41:35.283396",
     "exception": false,
     "start_time": "2021-08-14T08:41:35.219413",
     "status": "completed"
    },
    "tags": []
   },
   "source": [
    "# 1. Naive Bayes MNB"
   ]
  },
  {
   "cell_type": "code",
   "execution_count": 62,
   "metadata": {
    "execution": {
     "iopub.execute_input": "2021-08-14T08:41:35.471869Z",
     "iopub.status.busy": "2021-08-14T08:41:35.471223Z",
     "iopub.status.idle": "2021-08-14T08:41:35.478989Z",
     "shell.execute_reply": "2021-08-14T08:41:35.479478Z",
     "shell.execute_reply.started": "2021-07-29T02:45:58.505107Z"
    },
    "papermill": {
     "duration": 0.1309,
     "end_time": "2021-08-14T08:41:35.479644",
     "exception": false,
     "start_time": "2021-08-14T08:41:35.348744",
     "status": "completed"
    },
    "tags": []
   },
   "outputs": [
    {
     "name": "stdout",
     "output_type": "stream",
     "text": [
      "Akurasi MNB Dengan Stemming dan Stopwords dengan 20% data test 90.27%\n"
     ]
    }
   ],
   "source": [
    "MNB.fit(X_train, Y_train)\n",
    "predicted = MNB.predict(X_test)\n",
    "model5 = metrics.accuracy_score(predicted, Y_test)\n",
    "print('Akurasi MNB Dengan Stemming dan Stopwords dengan 20% data test ' + str('{:04.2f}'.format(model5*100))+'%')"
   ]
  },
  {
   "cell_type": "code",
   "execution_count": 63,
   "metadata": {
    "execution": {
     "iopub.execute_input": "2021-08-14T08:41:35.613739Z",
     "iopub.status.busy": "2021-08-14T08:41:35.613090Z",
     "iopub.status.idle": "2021-08-14T08:41:35.617820Z",
     "shell.execute_reply": "2021-08-14T08:41:35.618704Z",
     "shell.execute_reply.started": "2021-07-29T02:45:58.521652Z"
    },
    "papermill": {
     "duration": 0.074975,
     "end_time": "2021-08-14T08:41:35.618948",
     "exception": false,
     "start_time": "2021-08-14T08:41:35.543973",
     "status": "completed"
    },
    "tags": []
   },
   "outputs": [
    {
     "name": "stdout",
     "output_type": "stream",
     "text": [
      "[[196  11]\n",
      " [ 18  73]]\n"
     ]
    }
   ],
   "source": [
    "from sklearn.metrics import confusion_matrix\n",
    "import numpy as np\n",
    "\n",
    "confusion = confusion_matrix(Y_test, predicted)\n",
    "print(confusion)"
   ]
  },
  {
   "cell_type": "code",
   "execution_count": 64,
   "metadata": {
    "execution": {
     "iopub.execute_input": "2021-08-14T08:41:35.756092Z",
     "iopub.status.busy": "2021-08-14T08:41:35.755491Z",
     "iopub.status.idle": "2021-08-14T08:41:35.841052Z",
     "shell.execute_reply": "2021-08-14T08:41:35.841511Z",
     "shell.execute_reply.started": "2021-07-29T02:45:58.530148Z"
    },
    "papermill": {
     "duration": 0.156057,
     "end_time": "2021-08-14T08:41:35.841725",
     "exception": false,
     "start_time": "2021-08-14T08:41:35.685668",
     "status": "completed"
    },
    "tags": []
   },
   "outputs": [
    {
     "data": {
      "text/plain": [
       "Text(91.68, 0.5, 'predicted label')"
      ]
     },
     "execution_count": 64,
     "metadata": {},
     "output_type": "execute_result"
    },
    {
     "data": {
      "image/png": "[encoded data removed]",
      "text/plain": [
       "<Figure size 432x288 with 1 Axes>"
      ]
     },
     "metadata": {
      "needs_background": "light"
     },
     "output_type": "display_data"
    }
   ],
   "source": [
    "sns.heatmap(confusion, square=True, annot=True, cbar=False, cmap='Blues', fmt='.3g',\n",
    "xticklabels=['positif', 'negatif'], yticklabels=['positif', 'negatif'])\n",
    "plt.xlabel('true label')\n",
    "plt.ylabel('predicted label')"
   ]
  },
  {
   "cell_type": "code",
   "execution_count": 65,
   "metadata": {
    "execution": {
     "iopub.execute_input": "2021-08-14T08:41:35.979010Z",
     "iopub.status.busy": "2021-08-14T08:41:35.978419Z",
     "iopub.status.idle": "2021-08-14T08:41:35.986059Z",
     "shell.execute_reply": "2021-08-14T08:41:35.986502Z",
     "shell.execute_reply.started": "2021-07-29T02:45:58.638779Z"
    },
    "papermill": {
     "duration": 0.077962,
     "end_time": "2021-08-14T08:41:35.986696",
     "exception": false,
     "start_time": "2021-08-14T08:41:35.908734",
     "status": "completed"
    },
    "tags": []
   },
   "outputs": [
    {
     "data": {
      "text/plain": [
       "1    214\n",
       "2     84\n",
       "Name: label, dtype: int64"
      ]
     },
     "execution_count": 65,
     "metadata": {},
     "output_type": "execute_result"
    }
   ],
   "source": [
    "output = pd.DataFrame({'tweet': X_test, 'label': predicted})\n",
    "output['label'].value_counts()"
   ]
  },
  {
   "cell_type": "markdown",
   "metadata": {
    "papermill": {
     "duration": 0.06523,
     "end_time": "2021-08-14T08:41:36.117707",
     "exception": false,
     "start_time": "2021-08-14T08:41:36.052477",
     "status": "completed"
    },
    "tags": []
   },
   "source": [
    "# 2. Naive Bayes BNB"
   ]
  },
  {
   "cell_type": "code",
   "execution_count": 66,
   "metadata": {
    "execution": {
     "iopub.execute_input": "2021-08-14T08:41:36.259539Z",
     "iopub.status.busy": "2021-08-14T08:41:36.258578Z",
     "iopub.status.idle": "2021-08-14T08:41:36.265747Z",
     "shell.execute_reply": "2021-08-14T08:41:36.266269Z",
     "shell.execute_reply.started": "2021-07-29T02:51:39.814977Z"
    },
    "papermill": {
     "duration": 0.082352,
     "end_time": "2021-08-14T08:41:36.266467",
     "exception": false,
     "start_time": "2021-08-14T08:41:36.184115",
     "status": "completed"
    },
    "tags": []
   },
   "outputs": [
    {
     "name": "stdout",
     "output_type": "stream",
     "text": [
      "Akurasi BNB Dengan Stemming dan Stopwords dengan 20% data test = 83.56%\n"
     ]
    }
   ],
   "source": [
    "BNB.fit(X_train, Y_train)\n",
    "model6 = metrics.accuracy_score(BNB.predict(X_test),Y_test)\n",
    "print('Akurasi BNB Dengan Stemming dan Stopwords dengan 20% data test = ' + str('{:4.2f}'.format(model6*100))+'%')"
   ]
  },
  {
   "cell_type": "code",
   "execution_count": 67,
   "metadata": {
    "execution": {
     "iopub.execute_input": "2021-08-14T08:41:36.422111Z",
     "iopub.status.busy": "2021-08-14T08:41:36.421518Z",
     "iopub.status.idle": "2021-08-14T08:41:36.430295Z",
     "shell.execute_reply": "2021-08-14T08:41:36.430838Z",
     "shell.execute_reply.started": "2021-07-29T02:51:25.845186Z"
    },
    "papermill": {
     "duration": 0.086066,
     "end_time": "2021-08-14T08:41:36.431022",
     "exception": false,
     "start_time": "2021-08-14T08:41:36.344956",
     "status": "completed"
    },
    "tags": []
   },
   "outputs": [
    {
     "name": "stdout",
     "output_type": "stream",
     "text": [
      "[[196  11]\n",
      " [ 38  53]]\n"
     ]
    }
   ],
   "source": [
    "predicted = BNB.predict(X_test)\n",
    "confusion = confusion_matrix(Y_test, predicted)\n",
    "print(confusion)"
   ]
  },
  {
   "cell_type": "code",
   "execution_count": 68,
   "metadata": {
    "execution": {
     "iopub.execute_input": "2021-08-14T08:41:36.597180Z",
     "iopub.status.busy": "2021-08-14T08:41:36.596017Z",
     "iopub.status.idle": "2021-08-14T08:41:36.681697Z",
     "shell.execute_reply": "2021-08-14T08:41:36.682239Z",
     "shell.execute_reply.started": "2021-07-29T02:45:58.670904Z"
    },
    "papermill": {
     "duration": 0.173871,
     "end_time": "2021-08-14T08:41:36.682419",
     "exception": false,
     "start_time": "2021-08-14T08:41:36.508548",
     "status": "completed"
    },
    "tags": []
   },
   "outputs": [
    {
     "data": {
      "text/plain": [
       "Text(91.68, 0.5, 'predicted label')"
      ]
     },
     "execution_count": 68,
     "metadata": {},
     "output_type": "execute_result"
    },
    {
     "data": {
      "image/png": "[encoded data removed]",
      "text/plain": [
       "<Figure size 432x288 with 1 Axes>"
      ]
     },
     "metadata": {
      "needs_background": "light"
     },
     "output_type": "display_data"
    }
   ],
   "source": [
    "sns.heatmap(confusion, square=True, annot=True, cbar=False, cmap='Blues', fmt='.3g',\n",
    "xticklabels=['positif', 'negatif'], yticklabels=['positif', 'negatif'])\n",
    "plt.xlabel('true label')\n",
    "plt.ylabel('predicted label')"
   ]
  },
  {
   "cell_type": "code",
   "execution_count": 69,
   "metadata": {
    "execution": {
     "iopub.execute_input": "2021-08-14T08:41:36.825991Z",
     "iopub.status.busy": "2021-08-14T08:41:36.825042Z",
     "iopub.status.idle": "2021-08-14T08:41:36.833179Z",
     "shell.execute_reply": "2021-08-14T08:41:36.833584Z",
     "shell.execute_reply.started": "2021-07-29T02:45:58.776294Z"
    },
    "papermill": {
     "duration": 0.080702,
     "end_time": "2021-08-14T08:41:36.833777",
     "exception": false,
     "start_time": "2021-08-14T08:41:36.753075",
     "status": "completed"
    },
    "tags": []
   },
   "outputs": [
    {
     "data": {
      "text/plain": [
       "1    234\n",
       "2     64\n",
       "Name: label, dtype: int64"
      ]
     },
     "execution_count": 69,
     "metadata": {},
     "output_type": "execute_result"
    }
   ],
   "source": [
    "output = pd.DataFrame({'tweet': X_test, 'label': predicted})\n",
    "output['label'].value_counts()"
   ]
  },
  {
   "cell_type": "markdown",
   "metadata": {
    "papermill": {
     "duration": 0.067064,
     "end_time": "2021-08-14T08:41:36.969407",
     "exception": false,
     "start_time": "2021-08-14T08:41:36.902343",
     "status": "completed"
    },
    "tags": []
   },
   "source": [
    "10% DATA TEST dan 90% DATA TRAIN"
   ]
  },
  {
   "cell_type": "code",
   "execution_count": 70,
   "metadata": {
    "execution": {
     "iopub.execute_input": "2021-08-14T08:41:37.111293Z",
     "iopub.status.busy": "2021-08-14T08:41:37.110331Z",
     "iopub.status.idle": "2021-08-14T08:41:37.118080Z",
     "shell.execute_reply": "2021-08-14T08:41:37.118733Z"
    },
    "papermill": {
     "duration": 0.079938,
     "end_time": "2021-08-14T08:41:37.118982",
     "exception": false,
     "start_time": "2021-08-14T08:41:37.039044",
     "status": "completed"
    },
    "tags": []
   },
   "outputs": [
    {
     "name": "stdout",
     "output_type": "stream",
     "text": [
      "(1339, 2037) (149, 2037)\n"
     ]
    }
   ],
   "source": [
    "X_train, X_test, Y_train, Y_test = train_test_split(text_counts, df1['Kategori'], test_size=0.1)\n",
    "print(X_train.shape, X_test.shape)"
   ]
  },
  {
   "cell_type": "code",
   "execution_count": 71,
   "metadata": {
    "execution": {
     "iopub.execute_input": "2021-08-14T08:41:37.261987Z",
     "iopub.status.busy": "2021-08-14T08:41:37.261309Z",
     "iopub.status.idle": "2021-08-14T08:41:37.267149Z",
     "shell.execute_reply": "2021-08-14T08:41:37.267691Z"
    },
    "papermill": {
     "duration": 0.078849,
     "end_time": "2021-08-14T08:41:37.267856",
     "exception": false,
     "start_time": "2021-08-14T08:41:37.189007",
     "status": "completed"
    },
    "tags": []
   },
   "outputs": [
    {
     "name": "stdout",
     "output_type": "stream",
     "text": [
      "Akurasi MNB Dengan Stemming dan Stopwords dengan 20% data test 91.28%\n"
     ]
    }
   ],
   "source": [
    "MNB.fit(X_train, Y_train)\n",
    "predicted = MNB.predict(X_test)\n",
    "model5_1  = metrics.accuracy_score(predicted, Y_test)\n",
    "print('Akurasi MNB Dengan Stemming dan Stopwords dengan 20% data test ' + str('{:04.2f}'.format(model5_1*100))+'%')"
   ]
  },
  {
   "cell_type": "code",
   "execution_count": 72,
   "metadata": {
    "execution": {
     "iopub.execute_input": "2021-08-14T08:41:37.407256Z",
     "iopub.status.busy": "2021-08-14T08:41:37.406648Z",
     "iopub.status.idle": "2021-08-14T08:41:37.415336Z",
     "shell.execute_reply": "2021-08-14T08:41:37.414799Z"
    },
    "papermill": {
     "duration": 0.07924,
     "end_time": "2021-08-14T08:41:37.415513",
     "exception": false,
     "start_time": "2021-08-14T08:41:37.336273",
     "status": "completed"
    },
    "tags": []
   },
   "outputs": [
    {
     "name": "stdout",
     "output_type": "stream",
     "text": [
      "Akurasi BNB Dengan Stemming dan Stopwords dengan 20% data test = 83.22%\n"
     ]
    }
   ],
   "source": [
    "BNB.fit(X_train, Y_train)\n",
    "model6_1 = metrics.accuracy_score(BNB.predict(X_test),Y_test)\n",
    "print('Akurasi BNB Dengan Stemming dan Stopwords dengan 20% data test = ' + str('{:4.2f}'.format(model6_1*100))+'%')"
   ]
  },
  {
   "cell_type": "code",
   "execution_count": 73,
   "metadata": {
    "execution": {
     "iopub.execute_input": "2021-08-14T08:41:37.563968Z",
     "iopub.status.busy": "2021-08-14T08:41:37.563174Z",
     "iopub.status.idle": "2021-08-14T08:41:37.567301Z",
     "shell.execute_reply": "2021-08-14T08:41:37.566718Z"
    },
    "papermill": {
     "duration": 0.083029,
     "end_time": "2021-08-14T08:41:37.567439",
     "exception": false,
     "start_time": "2021-08-14T08:41:37.484410",
     "status": "completed"
    },
    "tags": []
   },
   "outputs": [
    {
     "data": {
      "text/html": [
       "<div>\n",
       "<style scoped>\n",
       "    .dataframe tbody tr th:only-of-type {\n",
       "        vertical-align: middle;\n",
       "    }\n",
       "\n",
       "    .dataframe tbody tr th {\n",
       "        vertical-align: top;\n",
       "    }\n",
       "\n",
       "    .dataframe thead th {\n",
       "        text-align: right;\n",
       "    }\n",
       "</style>\n",
       "<table border=\"1\" class=\"dataframe\">\n",
       "  <thead>\n",
       "    <tr style=\"text-align: right;\">\n",
       "      <th></th>\n",
       "      <th>Prepocessing</th>\n",
       "      <th>Multinomial</th>\n",
       "      <th>Bernoulli</th>\n",
       "    </tr>\n",
       "  </thead>\n",
       "  <tbody>\n",
       "    <tr>\n",
       "      <th>0</th>\n",
       "      <td>Tanpa Stemming dan Stopwords</td>\n",
       "      <td>0.892617</td>\n",
       "      <td>0.815436</td>\n",
       "    </tr>\n",
       "    <tr>\n",
       "      <th>1</th>\n",
       "      <td>Tanpa Stemming</td>\n",
       "      <td>0.889262</td>\n",
       "      <td>0.835570</td>\n",
       "    </tr>\n",
       "    <tr>\n",
       "      <th>2</th>\n",
       "      <td>Stemming dan Stopwords</td>\n",
       "      <td>0.902685</td>\n",
       "      <td>0.835570</td>\n",
       "    </tr>\n",
       "  </tbody>\n",
       "</table>\n",
       "</div>"
      ],
      "text/plain": [
       "                   Prepocessing  Multinomial  Bernoulli\n",
       "0  Tanpa Stemming dan Stopwords     0.892617   0.815436\n",
       "1                Tanpa Stemming     0.889262   0.835570\n",
       "2        Stemming dan Stopwords     0.902685   0.835570"
      ]
     },
     "execution_count": 73,
     "metadata": {},
     "output_type": "execute_result"
    }
   ],
   "source": [
    "labels = ['Tanpa Stemming dan Stopwords', 'Tanpa Stemming', 'Stemming dan Stopwords']\n",
    "multinomial = [model1, model3, model5]\n",
    "bernoulli = [model2, model4, model6]\n",
    "d={'Prepocessing':labels, 'Multinomial':multinomial, 'Bernoulli':bernoulli}   \n",
    "dataframe=pd.DataFrame(d)\n",
    "dataframe"
   ]
  },
  {
   "cell_type": "code",
   "execution_count": 74,
   "metadata": {
    "execution": {
     "iopub.execute_input": "2021-08-14T08:41:37.718582Z",
     "iopub.status.busy": "2021-08-14T08:41:37.717604Z",
     "iopub.status.idle": "2021-08-14T08:41:37.722364Z",
     "shell.execute_reply": "2021-08-14T08:41:37.721907Z"
    },
    "papermill": {
     "duration": 0.085823,
     "end_time": "2021-08-14T08:41:37.722503",
     "exception": false,
     "start_time": "2021-08-14T08:41:37.636680",
     "status": "completed"
    },
    "tags": []
   },
   "outputs": [
    {
     "data": {
      "text/html": [
       "<div>\n",
       "<style scoped>\n",
       "    .dataframe tbody tr th:only-of-type {\n",
       "        vertical-align: middle;\n",
       "    }\n",
       "\n",
       "    .dataframe tbody tr th {\n",
       "        vertical-align: top;\n",
       "    }\n",
       "\n",
       "    .dataframe thead th {\n",
       "        text-align: right;\n",
       "    }\n",
       "</style>\n",
       "<table border=\"1\" class=\"dataframe\">\n",
       "  <thead>\n",
       "    <tr style=\"text-align: right;\">\n",
       "      <th></th>\n",
       "      <th>Prepocessing</th>\n",
       "      <th>Multinomial</th>\n",
       "      <th>Bernoulli</th>\n",
       "    </tr>\n",
       "  </thead>\n",
       "  <tbody>\n",
       "    <tr>\n",
       "      <th>0</th>\n",
       "      <td>Tanpa Stemming dan Stopwords</td>\n",
       "      <td>0.939597</td>\n",
       "      <td>0.906040</td>\n",
       "    </tr>\n",
       "    <tr>\n",
       "      <th>1</th>\n",
       "      <td>Tanpa Stemming</td>\n",
       "      <td>0.932886</td>\n",
       "      <td>0.919463</td>\n",
       "    </tr>\n",
       "    <tr>\n",
       "      <th>2</th>\n",
       "      <td>Stemming dan Stopwords</td>\n",
       "      <td>0.912752</td>\n",
       "      <td>0.832215</td>\n",
       "    </tr>\n",
       "  </tbody>\n",
       "</table>\n",
       "</div>"
      ],
      "text/plain": [
       "                   Prepocessing  Multinomial  Bernoulli\n",
       "0  Tanpa Stemming dan Stopwords     0.939597   0.906040\n",
       "1                Tanpa Stemming     0.932886   0.919463\n",
       "2        Stemming dan Stopwords     0.912752   0.832215"
      ]
     },
     "execution_count": 74,
     "metadata": {},
     "output_type": "execute_result"
    }
   ],
   "source": [
    "labels = ['Tanpa Stemming dan Stopwords', 'Tanpa Stemming', 'Stemming dan Stopwords']\n",
    "multinomial = [model1_1, model3_1, model5_1]\n",
    "bernoulli = [model2_1, model4_1, model6_1]\n",
    "d={'Prepocessing':labels, 'Multinomial':multinomial, 'Bernoulli':bernoulli}   \n",
    "dataframe=pd.DataFrame(d)\n",
    "dataframe"
   ]
  },
  {
   "cell_type": "code",
   "execution_count": 75,
   "metadata": {
    "execution": {
     "iopub.execute_input": "2021-08-14T08:41:37.996805Z",
     "iopub.status.busy": "2021-08-14T08:41:37.982733Z",
     "iopub.status.idle": "2021-08-14T08:41:38.191244Z",
     "shell.execute_reply": "2021-08-14T08:41:38.190691Z",
     "shell.execute_reply.started": "2021-07-29T02:45:58.787604Z"
    },
    "papermill": {
     "duration": 0.400022,
     "end_time": "2021-08-14T08:41:38.191385",
     "exception": false,
     "start_time": "2021-08-14T08:41:37.791363",
     "status": "completed"
    },
    "tags": []
   },
   "outputs": [
    {
     "data": {
      "image/png": "[encoded data removed]",
      "text/plain": [
       "<Figure size 864x576 with 1 Axes>"
      ]
     },
     "metadata": {
      "needs_background": "light"
     },
     "output_type": "display_data"
    }
   ],
   "source": [
    "import numpy as np\n",
    "\n",
    "\n",
    "labels = ['Tanpa Stemming dan Stopwords', 'Tanpa Stemming', 'Stemming dan Stopwords']\n",
    "MNB = [model1, model3, model5]\n",
    "BNB = [model2, model4, model6]\n",
    "\n",
    "x = np.arange(len(labels))\n",
    "width = 0.3\n",
    "fig, ax = plt.subplots(figsize=(12, 8))\n",
    "rects1 = ax.bar(x - width/2, MNB, width, label='Multinomial')\n",
    "rects2 = ax.bar(x + width/2, BNB, width, label='Bernoulli')\n",
    "\n",
    "ax.set_ylabel('Akurasi')\n",
    "ax.set_xlabel('Model')\n",
    "ax.set_title('Perbandingan Akurasi')\n",
    "ax.set_xticks(x)\n",
    "ax.set_xticklabels(labels)\n",
    "ax.legend()\n",
    "\n",
    "\n",
    "def autolabel(rects):\n",
    "    for rect in rects:\n",
    "        height = rect.get_height()\n",
    "        ax.annotate('{:4.2f}'.format(height),\n",
    "                    xy=(rect.get_x() + rect.get_width() / 2, height),\n",
    "                    xytext=(0, 3),\n",
    "                    textcoords=\"offset points\",\n",
    "                    ha='center', va='bottom')\n",
    "\n",
    "autolabel(rects2)\n",
    "autolabel(rects1)\n",
    "\n",
    "fig.tight_layout()\n"
   ]
  },
  {
   "cell_type": "code",
   "execution_count": 76,
   "metadata": {
    "execution": {
     "iopub.execute_input": "2021-08-14T08:41:38.356545Z",
     "iopub.status.busy": "2021-08-14T08:41:38.353561Z",
     "iopub.status.idle": "2021-08-14T08:41:38.537627Z",
     "shell.execute_reply": "2021-08-14T08:41:38.537030Z"
    },
    "papermill": {
     "duration": 0.276476,
     "end_time": "2021-08-14T08:41:38.537764",
     "exception": false,
     "start_time": "2021-08-14T08:41:38.261288",
     "status": "completed"
    },
    "tags": []
   },
   "outputs": [
    {
     "data": {
      "image/png": "[encoded data removed]",
      "text/plain": [
       "<Figure size 864x576 with 1 Axes>"
      ]
     },
     "metadata": {
      "needs_background": "light"
     },
     "output_type": "display_data"
    }
   ],
   "source": [
    "labels = ['Tanpa Stemming dan Stopwords', 'Tanpa Stemming', 'Stemming dan Stopwords']\n",
    "MNB = [model1_1, model3_1, model5_1]\n",
    "BNB = [model2_1, model4_1, model6_1]\n",
    "\n",
    "x = np.arange(len(labels))\n",
    "width = 0.3\n",
    "fig, ax = plt.subplots(figsize=(12, 8))\n",
    "rects1 = ax.bar(x - width/2, MNB, width, label='Multinomial')\n",
    "rects2 = ax.bar(x + width/2, BNB, width, label='Bernoulli')\n",
    "\n",
    "ax.set_ylabel('Akurasi')\n",
    "ax.set_xlabel('Model')\n",
    "ax.set_title('Perbandingan Akurasi')\n",
    "ax.set_xticks(x)\n",
    "ax.set_xticklabels(labels)\n",
    "ax.legend()\n",
    "\n",
    "\n",
    "def autolabel(rects):\n",
    "    for rect in rects:\n",
    "        height = rect.get_height()\n",
    "        ax.annotate('{:4.2f}'.format(height),\n",
    "                    xy=(rect.get_x() + rect.get_width() / 2, height),\n",
    "                    xytext=(0, 3),\n",
    "                    textcoords=\"offset points\",\n",
    "                    ha='center', va='bottom')\n",
    "\n",
    "autolabel(rects2)\n",
    "autolabel(rects1)\n",
    "\n",
    "fig.tight_layout()\n"
   ]
  },
  {
   "cell_type": "markdown",
   "metadata": {
    "papermill": {
     "duration": 0.069563,
     "end_time": "2021-08-14T08:41:38.679096",
     "exception": false,
     "start_time": "2021-08-14T08:41:38.609533",
     "status": "completed"
    },
    "tags": []
   },
   "source": [
    "# SAVE MODEL"
   ]
  },
  {
   "cell_type": "code",
   "execution_count": 77,
   "metadata": {
    "execution": {
     "iopub.execute_input": "2021-08-14T08:41:38.838184Z",
     "iopub.status.busy": "2021-08-14T08:41:38.837249Z",
     "iopub.status.idle": "2021-08-14T08:41:38.842480Z",
     "shell.execute_reply": "2021-08-14T08:41:38.841989Z",
     "shell.execute_reply.started": "2021-07-29T02:45:59.023986Z"
    },
    "papermill": {
     "duration": 0.093496,
     "end_time": "2021-08-14T08:41:38.842618",
     "exception": false,
     "start_time": "2021-08-14T08:41:38.749122",
     "status": "completed"
    },
    "tags": []
   },
   "outputs": [
    {
     "data": {
      "text/plain": [
       "['vektor.sav']"
      ]
     },
     "execution_count": 77,
     "metadata": {},
     "output_type": "execute_result"
    }
   ],
   "source": [
    "import joblib\n",
    "\n",
    "filename = 'vektor.sav'\n",
    "joblib.dump(cv, filename)"
   ]
  },
  {
   "cell_type": "code",
   "execution_count": 78,
   "metadata": {
    "execution": {
     "iopub.execute_input": "2021-08-14T08:41:38.995021Z",
     "iopub.status.busy": "2021-08-14T08:41:38.994465Z",
     "iopub.status.idle": "2021-08-14T08:41:38.999118Z",
     "shell.execute_reply": "2021-08-14T08:41:38.998672Z",
     "shell.execute_reply.started": "2021-07-29T02:45:59.05114Z"
    },
    "papermill": {
     "duration": 0.084692,
     "end_time": "2021-08-14T08:41:38.999266",
     "exception": false,
     "start_time": "2021-08-14T08:41:38.914574",
     "status": "completed"
    },
    "tags": []
   },
   "outputs": [
    {
     "data": {
      "text/plain": [
       "['MNB.sav']"
      ]
     },
     "execution_count": 78,
     "metadata": {},
     "output_type": "execute_result"
    }
   ],
   "source": [
    "filename = 'MNB.sav'\n",
    "joblib.dump(MNB, filename)"
   ]
  },
  {
   "cell_type": "code",
   "execution_count": 79,
   "metadata": {
    "execution": {
     "iopub.execute_input": "2021-08-14T08:41:39.147141Z",
     "iopub.status.busy": "2021-08-14T08:41:39.146591Z",
     "iopub.status.idle": "2021-08-14T08:41:39.151371Z",
     "shell.execute_reply": "2021-08-14T08:41:39.150861Z",
     "shell.execute_reply.started": "2021-07-29T02:45:59.062936Z"
    },
    "papermill": {
     "duration": 0.080888,
     "end_time": "2021-08-14T08:41:39.151526",
     "exception": false,
     "start_time": "2021-08-14T08:41:39.070638",
     "status": "completed"
    },
    "tags": []
   },
   "outputs": [
    {
     "data": {
      "text/plain": [
       "['BNB.sav']"
      ]
     },
     "execution_count": 79,
     "metadata": {},
     "output_type": "execute_result"
    }
   ],
   "source": [
    "filename = 'BNB.sav'\n",
    "joblib.dump(BNB, filename)"
   ]
  }
 ],
 "metadata": {
  "kernelspec": {
   "display_name": "Python 3",
   "language": "python",
   "name": "python3"
  },
  "language_info": {
   "codemirror_mode": {
    "name": "ipython",
    "version": 3
   },
   "file_extension": ".py",
   "mimetype": "text/x-python",
   "name": "python",
   "nbconvert_exporter": "python",
   "pygments_lexer": "ipython3",
   "version": "3.7.9"
  },
  "papermill": {
   "default_parameters": {},
   "duration": 569.439503,
   "end_time": "2021-08-14T08:41:39.933271",
   "environment_variables": {},
   "exception": null,
   "input_path": "__notebook__.ipynb",
   "output_path": "__notebook__.ipynb",
   "parameters": {},
   "start_time": "2021-08-14T08:32:10.493768",
   "version": "2.2.2"
  }
 },
 "nbformat": 4,
 "nbformat_minor": 4
}
