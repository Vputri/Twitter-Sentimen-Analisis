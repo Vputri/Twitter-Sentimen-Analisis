{
 "cells": [
  {
   "cell_type": "code",
   "execution_count": 1,
   "metadata": {
    "execution": {
     "iopub.execute_input": "2021-02-11T03:19:38.979072Z",
     "iopub.status.busy": "2021-02-11T03:19:38.978175Z",
     "iopub.status.idle": "2021-02-11T03:19:50.263216Z",
     "shell.execute_reply": "2021-02-11T03:19:50.262593Z"
    },
    "papermill": {
     "duration": 11.324326,
     "end_time": "2021-02-11T03:19:50.263439",
     "exception": false,
     "start_time": "2021-02-11T03:19:38.939113",
     "status": "completed"
    },
    "tags": []
   },
   "outputs": [
    {
     "name": "stdout",
     "output_type": "stream",
     "text": [
      "Collecting Sastrawi\r\n",
      "  Downloading Sastrawi-1.0.1-py2.py3-none-any.whl (209 kB)\r\n",
      "\u001b[K     |████████████████████████████████| 209 kB 866 kB/s \r\n",
      "\u001b[?25hInstalling collected packages: Sastrawi\r\n",
      "Successfully installed Sastrawi-1.0.1\r\n",
      "\u001b[33mWARNING: You are using pip version 21.0; however, version 21.0.1 is available.\r\n",
      "You should consider upgrading via the '/opt/conda/bin/python3.7 -m pip install --upgrade pip' command.\u001b[0m\r\n"
     ]
    }
   ],
   "source": [
    "!pip install Sastrawi"
   ]
  },
  {
   "cell_type": "code",
   "execution_count": 2,
   "metadata": {
    "execution": {
     "iopub.execute_input": "2021-02-11T03:19:50.345554Z",
     "iopub.status.busy": "2021-02-11T03:19:50.344884Z",
     "iopub.status.idle": "2021-02-11T03:19:57.226096Z",
     "shell.execute_reply": "2021-02-11T03:19:57.225408Z"
    },
    "papermill": {
     "duration": 6.924526,
     "end_time": "2021-02-11T03:19:57.226229",
     "exception": false,
     "start_time": "2021-02-11T03:19:50.301703",
     "status": "completed"
    },
    "tags": []
   },
   "outputs": [
    {
     "name": "stdout",
     "output_type": "stream",
     "text": [
      "Collecting vaderSentiment\r\n",
      "  Downloading vaderSentiment-3.3.2-py2.py3-none-any.whl (125 kB)\r\n",
      "\u001b[K     |████████████████████████████████| 125 kB 861 kB/s \r\n",
      "\u001b[?25hRequirement already satisfied: requests in /opt/conda/lib/python3.7/site-packages (from vaderSentiment) (2.25.1)\r\n",
      "Requirement already satisfied: urllib3<1.27,>=1.21.1 in /opt/conda/lib/python3.7/site-packages (from requests->vaderSentiment) (1.26.2)\r\n",
      "Requirement already satisfied: certifi>=2017.4.17 in /opt/conda/lib/python3.7/site-packages (from requests->vaderSentiment) (2020.12.5)\r\n",
      "Requirement already satisfied: chardet<5,>=3.0.2 in /opt/conda/lib/python3.7/site-packages (from requests->vaderSentiment) (3.0.4)\r\n",
      "Requirement already satisfied: idna<3,>=2.5 in /opt/conda/lib/python3.7/site-packages (from requests->vaderSentiment) (2.10)\r\n",
      "Installing collected packages: vaderSentiment\r\n",
      "Successfully installed vaderSentiment-3.3.2\r\n",
      "\u001b[33mWARNING: You are using pip version 21.0; however, version 21.0.1 is available.\r\n",
      "You should consider upgrading via the '/opt/conda/bin/python3.7 -m pip install --upgrade pip' command.\u001b[0m\r\n"
     ]
    }
   ],
   "source": [
    "!pip install --upgrade vaderSentiment"
   ]
  },
  {
   "cell_type": "markdown",
   "metadata": {
    "papermill": {
     "duration": 0.039816,
     "end_time": "2021-02-11T03:19:57.310882",
     "exception": false,
     "start_time": "2021-02-11T03:19:57.271066",
     "status": "completed"
    },
    "tags": []
   },
   "source": [
    "# READ DATASET"
   ]
  },
  {
   "cell_type": "code",
   "execution_count": 3,
   "metadata": {
    "_cell_guid": "b1076dfc-b9ad-4769-8c92-a6c4dae69d19",
    "_uuid": "8f2839f25d086af736a60e9eeb907d3b93b6e0e5",
    "execution": {
     "iopub.execute_input": "2021-02-11T03:19:57.398690Z",
     "iopub.status.busy": "2021-02-11T03:19:57.398066Z",
     "iopub.status.idle": "2021-02-11T03:19:57.414833Z",
     "shell.execute_reply": "2021-02-11T03:19:57.414185Z"
    },
    "papermill": {
     "duration": 0.062563,
     "end_time": "2021-02-11T03:19:57.414974",
     "exception": false,
     "start_time": "2021-02-11T03:19:57.352411",
     "status": "completed"
    },
    "tags": []
   },
   "outputs": [
    {
     "name": "stdout",
     "output_type": "stream",
     "text": [
      "/kaggle/input/vaksin2/5.txt\n",
      "/kaggle/input/vaksin2/vaksin.csv\n",
      "/kaggle/input/vaksin2/noise.txt\n"
     ]
    }
   ],
   "source": [
    "import pandas as pd\n",
    "\n",
    "import os\n",
    "for dirname, _, filenames in os.walk('/kaggle/input'):\n",
    "    for filename in filenames:\n",
    "        print(os.path.join(dirname, filename))"
   ]
  },
  {
   "cell_type": "code",
   "execution_count": 4,
   "metadata": {
    "execution": {
     "iopub.execute_input": "2021-02-11T03:19:57.502683Z",
     "iopub.status.busy": "2021-02-11T03:19:57.502053Z",
     "iopub.status.idle": "2021-02-11T03:19:57.653653Z",
     "shell.execute_reply": "2021-02-11T03:19:57.654125Z"
    },
    "papermill": {
     "duration": 0.198044,
     "end_time": "2021-02-11T03:19:57.654289",
     "exception": false,
     "start_time": "2021-02-11T03:19:57.456245",
     "status": "completed"
    },
    "tags": []
   },
   "outputs": [
    {
     "data": {
      "text/html": [
       "<div>\n",
       "<style scoped>\n",
       "    .dataframe tbody tr th:only-of-type {\n",
       "        vertical-align: middle;\n",
       "    }\n",
       "\n",
       "    .dataframe tbody tr th {\n",
       "        vertical-align: top;\n",
       "    }\n",
       "\n",
       "    .dataframe thead th {\n",
       "        text-align: right;\n",
       "    }\n",
       "</style>\n",
       "<table border=\"1\" class=\"dataframe\">\n",
       "  <thead>\n",
       "    <tr style=\"text-align: right;\">\n",
       "      <th></th>\n",
       "      <th>id</th>\n",
       "      <th>date</th>\n",
       "      <th>username</th>\n",
       "      <th>tweet</th>\n",
       "    </tr>\n",
       "  </thead>\n",
       "  <tbody>\n",
       "    <tr>\n",
       "      <th>0</th>\n",
       "      <td>1351679596698103808</td>\n",
       "      <td>2021-01-20</td>\n",
       "      <td>windiastoria1</td>\n",
       "      <td>Manfaat vaksin selain kebal corona juga bisa k...</td>\n",
       "    </tr>\n",
       "    <tr>\n",
       "      <th>1</th>\n",
       "      <td>1351679591958548480</td>\n",
       "      <td>2021-01-20</td>\n",
       "      <td>kontannews</td>\n",
       "      <td>Perbankan menanti ketentuan pemberian vaksin m...</td>\n",
       "    </tr>\n",
       "    <tr>\n",
       "      <th>2</th>\n",
       "      <td>1351676519643418624</td>\n",
       "      <td>2021-01-20</td>\n",
       "      <td>pengawalqalbu</td>\n",
       "      <td>Tebak Kata : 1. Banjir, terjadi karena ... ? 2...</td>\n",
       "    </tr>\n",
       "    <tr>\n",
       "      <th>3</th>\n",
       "      <td>1351675943488655360</td>\n",
       "      <td>2021-01-20</td>\n",
       "      <td>ayusalmila</td>\n",
       "      <td>Yg di suntik vaksin sinovac sampai saat ini be...</td>\n",
       "    </tr>\n",
       "    <tr>\n",
       "      <th>4</th>\n",
       "      <td>1351674894488985600</td>\n",
       "      <td>2021-01-20</td>\n",
       "      <td>gunung_bandung</td>\n",
       "      <td>Mudah2an kita yg merasa beragama, apalagi org ...</td>\n",
       "    </tr>\n",
       "    <tr>\n",
       "      <th>...</th>\n",
       "      <td>...</td>\n",
       "      <td>...</td>\n",
       "      <td>...</td>\n",
       "      <td>...</td>\n",
       "    </tr>\n",
       "    <tr>\n",
       "      <th>10257</th>\n",
       "      <td>1337925772305080320</td>\n",
       "      <td>2020-12-13</td>\n",
       "      <td>sultan_balfas</td>\n",
       "      <td>Ada yang Minta Jokowi Disuntik Duluan Vaksin C...</td>\n",
       "    </tr>\n",
       "    <tr>\n",
       "      <th>10258</th>\n",
       "      <td>1337922376093200384</td>\n",
       "      <td>2020-12-13</td>\n",
       "      <td>vendivendo</td>\n",
       "      <td>Ameh corona ameh vaksin... oraa oroos... Liqui...</td>\n",
       "    </tr>\n",
       "    <tr>\n",
       "      <th>10259</th>\n",
       "      <td>1337919290666668032</td>\n",
       "      <td>2020-12-13</td>\n",
       "      <td>ilhamardhinug</td>\n",
       "      <td>@sociotalker @Dandhy_Laksono Cuman kepikiran j...</td>\n",
       "    </tr>\n",
       "    <tr>\n",
       "      <th>10260</th>\n",
       "      <td>1337911701681815552</td>\n",
       "      <td>2020-12-13</td>\n",
       "      <td>cnnindonesia</td>\n",
       "      <td>Ahli RI Respons Vaksin Corona AstraZeneca yang...</td>\n",
       "    </tr>\n",
       "    <tr>\n",
       "      <th>10261</th>\n",
       "      <td>1337910104746831872</td>\n",
       "      <td>2020-12-13</td>\n",
       "      <td>polibaezreia5</td>\n",
       "      <td>Permasalahan2 ekonomi akan terjawab lewat UU C...</td>\n",
       "    </tr>\n",
       "  </tbody>\n",
       "</table>\n",
       "<p>10262 rows × 4 columns</p>\n",
       "</div>"
      ],
      "text/plain": [
       "                        id        date        username  \\\n",
       "0      1351679596698103808  2021-01-20   windiastoria1   \n",
       "1      1351679591958548480  2021-01-20      kontannews   \n",
       "2      1351676519643418624  2021-01-20   pengawalqalbu   \n",
       "3      1351675943488655360  2021-01-20      ayusalmila   \n",
       "4      1351674894488985600  2021-01-20  gunung_bandung   \n",
       "...                    ...         ...             ...   \n",
       "10257  1337925772305080320  2020-12-13   sultan_balfas   \n",
       "10258  1337922376093200384  2020-12-13      vendivendo   \n",
       "10259  1337919290666668032  2020-12-13   ilhamardhinug   \n",
       "10260  1337911701681815552  2020-12-13    cnnindonesia   \n",
       "10261  1337910104746831872  2020-12-13   polibaezreia5   \n",
       "\n",
       "                                                   tweet  \n",
       "0      Manfaat vaksin selain kebal corona juga bisa k...  \n",
       "1      Perbankan menanti ketentuan pemberian vaksin m...  \n",
       "2      Tebak Kata : 1. Banjir, terjadi karena ... ? 2...  \n",
       "3      Yg di suntik vaksin sinovac sampai saat ini be...  \n",
       "4      Mudah2an kita yg merasa beragama, apalagi org ...  \n",
       "...                                                  ...  \n",
       "10257  Ada yang Minta Jokowi Disuntik Duluan Vaksin C...  \n",
       "10258  Ameh corona ameh vaksin... oraa oroos... Liqui...  \n",
       "10259  @sociotalker @Dandhy_Laksono Cuman kepikiran j...  \n",
       "10260  Ahli RI Respons Vaksin Corona AstraZeneca yang...  \n",
       "10261  Permasalahan2 ekonomi akan terjawab lewat UU C...  \n",
       "\n",
       "[10262 rows x 4 columns]"
      ]
     },
     "execution_count": 4,
     "metadata": {},
     "output_type": "execute_result"
    }
   ],
   "source": [
    "import pandas as pd\n",
    "\n",
    "df = pd.read_csv(\"/kaggle/input/vaksin2/vaksin.csv\")\n",
    "df"
   ]
  },
  {
   "cell_type": "code",
   "execution_count": 5,
   "metadata": {
    "execution": {
     "iopub.execute_input": "2021-02-11T03:19:57.746662Z",
     "iopub.status.busy": "2021-02-11T03:19:57.745187Z",
     "iopub.status.idle": "2021-02-11T03:19:57.764599Z",
     "shell.execute_reply": "2021-02-11T03:19:57.763874Z"
    },
    "papermill": {
     "duration": 0.067816,
     "end_time": "2021-02-11T03:19:57.764780",
     "exception": false,
     "start_time": "2021-02-11T03:19:57.696964",
     "status": "completed"
    },
    "tags": []
   },
   "outputs": [
    {
     "data": {
      "text/html": [
       "<div>\n",
       "<style scoped>\n",
       "    .dataframe tbody tr th:only-of-type {\n",
       "        vertical-align: middle;\n",
       "    }\n",
       "\n",
       "    .dataframe tbody tr th {\n",
       "        vertical-align: top;\n",
       "    }\n",
       "\n",
       "    .dataframe thead th {\n",
       "        text-align: right;\n",
       "    }\n",
       "</style>\n",
       "<table border=\"1\" class=\"dataframe\">\n",
       "  <thead>\n",
       "    <tr style=\"text-align: right;\">\n",
       "      <th></th>\n",
       "      <th>tweet</th>\n",
       "    </tr>\n",
       "  </thead>\n",
       "  <tbody>\n",
       "    <tr>\n",
       "      <th>0</th>\n",
       "      <td>Manfaat vaksin selain kebal corona juga bisa k...</td>\n",
       "    </tr>\n",
       "    <tr>\n",
       "      <th>1</th>\n",
       "      <td>Perbankan menanti ketentuan pemberian vaksin m...</td>\n",
       "    </tr>\n",
       "    <tr>\n",
       "      <th>2</th>\n",
       "      <td>Tebak Kata : 1. Banjir, terjadi karena ... ? 2...</td>\n",
       "    </tr>\n",
       "    <tr>\n",
       "      <th>3</th>\n",
       "      <td>Yg di suntik vaksin sinovac sampai saat ini be...</td>\n",
       "    </tr>\n",
       "    <tr>\n",
       "      <th>4</th>\n",
       "      <td>Mudah2an kita yg merasa beragama, apalagi org ...</td>\n",
       "    </tr>\n",
       "    <tr>\n",
       "      <th>...</th>\n",
       "      <td>...</td>\n",
       "    </tr>\n",
       "    <tr>\n",
       "      <th>10257</th>\n",
       "      <td>Ada yang Minta Jokowi Disuntik Duluan Vaksin C...</td>\n",
       "    </tr>\n",
       "    <tr>\n",
       "      <th>10258</th>\n",
       "      <td>Ameh corona ameh vaksin... oraa oroos... Liqui...</td>\n",
       "    </tr>\n",
       "    <tr>\n",
       "      <th>10259</th>\n",
       "      <td>@sociotalker @Dandhy_Laksono Cuman kepikiran j...</td>\n",
       "    </tr>\n",
       "    <tr>\n",
       "      <th>10260</th>\n",
       "      <td>Ahli RI Respons Vaksin Corona AstraZeneca yang...</td>\n",
       "    </tr>\n",
       "    <tr>\n",
       "      <th>10261</th>\n",
       "      <td>Permasalahan2 ekonomi akan terjawab lewat UU C...</td>\n",
       "    </tr>\n",
       "  </tbody>\n",
       "</table>\n",
       "<p>10262 rows × 1 columns</p>\n",
       "</div>"
      ],
      "text/plain": [
       "                                                   tweet\n",
       "0      Manfaat vaksin selain kebal corona juga bisa k...\n",
       "1      Perbankan menanti ketentuan pemberian vaksin m...\n",
       "2      Tebak Kata : 1. Banjir, terjadi karena ... ? 2...\n",
       "3      Yg di suntik vaksin sinovac sampai saat ini be...\n",
       "4      Mudah2an kita yg merasa beragama, apalagi org ...\n",
       "...                                                  ...\n",
       "10257  Ada yang Minta Jokowi Disuntik Duluan Vaksin C...\n",
       "10258  Ameh corona ameh vaksin... oraa oroos... Liqui...\n",
       "10259  @sociotalker @Dandhy_Laksono Cuman kepikiran j...\n",
       "10260  Ahli RI Respons Vaksin Corona AstraZeneca yang...\n",
       "10261  Permasalahan2 ekonomi akan terjawab lewat UU C...\n",
       "\n",
       "[10262 rows x 1 columns]"
      ]
     },
     "execution_count": 5,
     "metadata": {},
     "output_type": "execute_result"
    }
   ],
   "source": [
    "df1 = df.copy()\n",
    "del df1['id'], df1['date'], df1['username']\n",
    "df1"
   ]
  },
  {
   "cell_type": "code",
   "execution_count": 6,
   "metadata": {
    "execution": {
     "iopub.execute_input": "2021-02-11T03:19:57.903729Z",
     "iopub.status.busy": "2021-02-11T03:19:57.902945Z",
     "iopub.status.idle": "2021-02-11T03:19:57.922762Z",
     "shell.execute_reply": "2021-02-11T03:19:57.922226Z"
    },
    "papermill": {
     "duration": 0.093378,
     "end_time": "2021-02-11T03:19:57.922907",
     "exception": false,
     "start_time": "2021-02-11T03:19:57.829529",
     "status": "completed"
    },
    "tags": []
   },
   "outputs": [
    {
     "data": {
      "text/html": [
       "<div>\n",
       "<style scoped>\n",
       "    .dataframe tbody tr th:only-of-type {\n",
       "        vertical-align: middle;\n",
       "    }\n",
       "\n",
       "    .dataframe tbody tr th {\n",
       "        vertical-align: top;\n",
       "    }\n",
       "\n",
       "    .dataframe thead th {\n",
       "        text-align: right;\n",
       "    }\n",
       "</style>\n",
       "<table border=\"1\" class=\"dataframe\">\n",
       "  <thead>\n",
       "    <tr style=\"text-align: right;\">\n",
       "      <th></th>\n",
       "      <th>tweet</th>\n",
       "    </tr>\n",
       "  </thead>\n",
       "  <tbody>\n",
       "    <tr>\n",
       "      <th>0</th>\n",
       "      <td>Manfaat vaksin selain kebal corona juga bisa k...</td>\n",
       "    </tr>\n",
       "    <tr>\n",
       "      <th>1</th>\n",
       "      <td>Perbankan menanti ketentuan pemberian vaksin m...</td>\n",
       "    </tr>\n",
       "    <tr>\n",
       "      <th>2</th>\n",
       "      <td>Tebak Kata : 1. Banjir, terjadi karena ... ? 2...</td>\n",
       "    </tr>\n",
       "    <tr>\n",
       "      <th>3</th>\n",
       "      <td>Yg di suntik vaksin sinovac sampai saat ini be...</td>\n",
       "    </tr>\n",
       "    <tr>\n",
       "      <th>4</th>\n",
       "      <td>Mudah2an kita yg merasa beragama, apalagi org ...</td>\n",
       "    </tr>\n",
       "    <tr>\n",
       "      <th>...</th>\n",
       "      <td>...</td>\n",
       "    </tr>\n",
       "    <tr>\n",
       "      <th>7408</th>\n",
       "      <td>Ada yang Minta Jokowi Disuntik Duluan Vaksin C...</td>\n",
       "    </tr>\n",
       "    <tr>\n",
       "      <th>7409</th>\n",
       "      <td>Ameh corona ameh vaksin... oraa oroos... Liqui...</td>\n",
       "    </tr>\n",
       "    <tr>\n",
       "      <th>7410</th>\n",
       "      <td>@sociotalker @Dandhy_Laksono Cuman kepikiran j...</td>\n",
       "    </tr>\n",
       "    <tr>\n",
       "      <th>7411</th>\n",
       "      <td>Ahli RI Respons Vaksin Corona AstraZeneca yang...</td>\n",
       "    </tr>\n",
       "    <tr>\n",
       "      <th>7412</th>\n",
       "      <td>Permasalahan2 ekonomi akan terjawab lewat UU C...</td>\n",
       "    </tr>\n",
       "  </tbody>\n",
       "</table>\n",
       "<p>6765 rows × 1 columns</p>\n",
       "</div>"
      ],
      "text/plain": [
       "                                                  tweet\n",
       "0     Manfaat vaksin selain kebal corona juga bisa k...\n",
       "1     Perbankan menanti ketentuan pemberian vaksin m...\n",
       "2     Tebak Kata : 1. Banjir, terjadi karena ... ? 2...\n",
       "3     Yg di suntik vaksin sinovac sampai saat ini be...\n",
       "4     Mudah2an kita yg merasa beragama, apalagi org ...\n",
       "...                                                 ...\n",
       "7408  Ada yang Minta Jokowi Disuntik Duluan Vaksin C...\n",
       "7409  Ameh corona ameh vaksin... oraa oroos... Liqui...\n",
       "7410  @sociotalker @Dandhy_Laksono Cuman kepikiran j...\n",
       "7411  Ahli RI Respons Vaksin Corona AstraZeneca yang...\n",
       "7412  Permasalahan2 ekonomi akan terjawab lewat UU C...\n",
       "\n",
       "[6765 rows x 1 columns]"
      ]
     },
     "execution_count": 6,
     "metadata": {},
     "output_type": "execute_result"
    }
   ],
   "source": [
    "df1 = df1.drop_duplicates()\n",
    "df1"
   ]
  },
  {
   "cell_type": "markdown",
   "metadata": {
    "papermill": {
     "duration": 0.044305,
     "end_time": "2021-02-11T03:19:58.010910",
     "exception": false,
     "start_time": "2021-02-11T03:19:57.966605",
     "status": "completed"
    },
    "tags": []
   },
   "source": [
    "# PREPROCESSING"
   ]
  },
  {
   "cell_type": "markdown",
   "metadata": {
    "papermill": {
     "duration": 0.042011,
     "end_time": "2021-02-11T03:19:58.095614",
     "exception": false,
     "start_time": "2021-02-11T03:19:58.053603",
     "status": "completed"
    },
    "tags": []
   },
   "source": [
    "# 1. CASE FOLDING"
   ]
  },
  {
   "cell_type": "code",
   "execution_count": 7,
   "metadata": {
    "execution": {
     "iopub.execute_input": "2021-02-11T03:19:58.187520Z",
     "iopub.status.busy": "2021-02-11T03:19:58.186691Z",
     "iopub.status.idle": "2021-02-11T03:19:58.190223Z",
     "shell.execute_reply": "2021-02-11T03:19:58.189553Z"
    },
    "papermill": {
     "duration": 0.051463,
     "end_time": "2021-02-11T03:19:58.190361",
     "exception": false,
     "start_time": "2021-02-11T03:19:58.138898",
     "status": "completed"
    },
    "tags": []
   },
   "outputs": [],
   "source": [
    "def make_lower_case(text):\n",
    "    return text.lower()"
   ]
  },
  {
   "cell_type": "code",
   "execution_count": 8,
   "metadata": {
    "execution": {
     "iopub.execute_input": "2021-02-11T03:19:58.280471Z",
     "iopub.status.busy": "2021-02-11T03:19:58.279756Z",
     "iopub.status.idle": "2021-02-11T03:19:58.284294Z",
     "shell.execute_reply": "2021-02-11T03:19:58.283717Z"
    },
    "papermill": {
     "duration": 0.051321,
     "end_time": "2021-02-11T03:19:58.284494",
     "exception": false,
     "start_time": "2021-02-11T03:19:58.233173",
     "status": "completed"
    },
    "tags": []
   },
   "outputs": [
    {
     "name": "stdout",
     "output_type": "stream",
     "text": [
      "@adudu71     ___  👊perusaha2an kalo di sini                       prioritas dulu-dulu baru para pejuang medis nya. yg sabar ya para tenaga medis, semoga selalu diberi kesehatan dan umur yg panjang untuk tetap menjalankan tugas. 👊👊👊👊 #vaksinasinasional #vaksinhalal #vaksincorona  https://t.co/xipqwfcxfg\n"
     ]
    }
   ],
   "source": [
    "kalimat = '@adudu71     ___  👊Perusaha2an kalo di sini                       prioritas dulu-dulu baru para pejuang medis nya. Yg sabar ya para tenaga medis, semoga selalu diberi kesehatan dan umur yg panjang untuk tetap menjalankan tugas. 👊👊👊👊 #VaksinasiNasional #VaksinHalal #VaksinCorona  https://t.co/XipQWFCxfg'\n",
    "\n",
    "lowercase = make_lower_case(kalimat)\n",
    "print(lowercase)"
   ]
  },
  {
   "cell_type": "code",
   "execution_count": 9,
   "metadata": {
    "execution": {
     "iopub.execute_input": "2021-02-11T03:19:58.411053Z",
     "iopub.status.busy": "2021-02-11T03:19:58.410265Z",
     "iopub.status.idle": "2021-02-11T03:19:58.418295Z",
     "shell.execute_reply": "2021-02-11T03:19:58.417364Z"
    },
    "papermill": {
     "duration": 0.081869,
     "end_time": "2021-02-11T03:19:58.418528",
     "exception": false,
     "start_time": "2021-02-11T03:19:58.336659",
     "status": "completed"
    },
    "tags": []
   },
   "outputs": [
    {
     "name": "stderr",
     "output_type": "stream",
     "text": [
      "/opt/conda/lib/python3.7/site-packages/ipykernel_launcher.py:1: SettingWithCopyWarning: \n",
      "A value is trying to be set on a copy of a slice from a DataFrame.\n",
      "Try using .loc[row_indexer,col_indexer] = value instead\n",
      "\n",
      "See the caveats in the documentation: https://pandas.pydata.org/pandas-docs/stable/user_guide/indexing.html#returning-a-view-versus-a-copy\n",
      "  \"\"\"Entry point for launching an IPython kernel.\n"
     ]
    },
    {
     "data": {
      "text/html": [
       "<div>\n",
       "<style scoped>\n",
       "    .dataframe tbody tr th:only-of-type {\n",
       "        vertical-align: middle;\n",
       "    }\n",
       "\n",
       "    .dataframe tbody tr th {\n",
       "        vertical-align: top;\n",
       "    }\n",
       "\n",
       "    .dataframe thead th {\n",
       "        text-align: right;\n",
       "    }\n",
       "</style>\n",
       "<table border=\"1\" class=\"dataframe\">\n",
       "  <thead>\n",
       "    <tr style=\"text-align: right;\">\n",
       "      <th></th>\n",
       "      <th>tweet</th>\n",
       "      <th>cleaned_tweets</th>\n",
       "    </tr>\n",
       "  </thead>\n",
       "  <tbody>\n",
       "    <tr>\n",
       "      <th>0</th>\n",
       "      <td>Manfaat vaksin selain kebal corona juga bisa k...</td>\n",
       "      <td>manfaat vaksin selain kebal corona juga bisa k...</td>\n",
       "    </tr>\n",
       "    <tr>\n",
       "      <th>1</th>\n",
       "      <td>Perbankan menanti ketentuan pemberian vaksin m...</td>\n",
       "      <td>perbankan menanti ketentuan pemberian vaksin m...</td>\n",
       "    </tr>\n",
       "    <tr>\n",
       "      <th>2</th>\n",
       "      <td>Tebak Kata : 1. Banjir, terjadi karena ... ? 2...</td>\n",
       "      <td>tebak kata : 1. banjir, terjadi karena ... ? 2...</td>\n",
       "    </tr>\n",
       "    <tr>\n",
       "      <th>3</th>\n",
       "      <td>Yg di suntik vaksin sinovac sampai saat ini be...</td>\n",
       "      <td>yg di suntik vaksin sinovac sampai saat ini be...</td>\n",
       "    </tr>\n",
       "    <tr>\n",
       "      <th>4</th>\n",
       "      <td>Mudah2an kita yg merasa beragama, apalagi org ...</td>\n",
       "      <td>mudah2an kita yg merasa beragama, apalagi org ...</td>\n",
       "    </tr>\n",
       "    <tr>\n",
       "      <th>...</th>\n",
       "      <td>...</td>\n",
       "      <td>...</td>\n",
       "    </tr>\n",
       "    <tr>\n",
       "      <th>7408</th>\n",
       "      <td>Ada yang Minta Jokowi Disuntik Duluan Vaksin C...</td>\n",
       "      <td>ada yang minta jokowi disuntik duluan vaksin c...</td>\n",
       "    </tr>\n",
       "    <tr>\n",
       "      <th>7409</th>\n",
       "      <td>Ameh corona ameh vaksin... oraa oroos... Liqui...</td>\n",
       "      <td>ameh corona ameh vaksin... oraa oroos... liqui...</td>\n",
       "    </tr>\n",
       "    <tr>\n",
       "      <th>7410</th>\n",
       "      <td>@sociotalker @Dandhy_Laksono Cuman kepikiran j...</td>\n",
       "      <td>@sociotalker @dandhy_laksono cuman kepikiran j...</td>\n",
       "    </tr>\n",
       "    <tr>\n",
       "      <th>7411</th>\n",
       "      <td>Ahli RI Respons Vaksin Corona AstraZeneca yang...</td>\n",
       "      <td>ahli ri respons vaksin corona astrazeneca yang...</td>\n",
       "    </tr>\n",
       "    <tr>\n",
       "      <th>7412</th>\n",
       "      <td>Permasalahan2 ekonomi akan terjawab lewat UU C...</td>\n",
       "      <td>permasalahan2 ekonomi akan terjawab lewat uu c...</td>\n",
       "    </tr>\n",
       "  </tbody>\n",
       "</table>\n",
       "<p>6765 rows × 2 columns</p>\n",
       "</div>"
      ],
      "text/plain": [
       "                                                  tweet  \\\n",
       "0     Manfaat vaksin selain kebal corona juga bisa k...   \n",
       "1     Perbankan menanti ketentuan pemberian vaksin m...   \n",
       "2     Tebak Kata : 1. Banjir, terjadi karena ... ? 2...   \n",
       "3     Yg di suntik vaksin sinovac sampai saat ini be...   \n",
       "4     Mudah2an kita yg merasa beragama, apalagi org ...   \n",
       "...                                                 ...   \n",
       "7408  Ada yang Minta Jokowi Disuntik Duluan Vaksin C...   \n",
       "7409  Ameh corona ameh vaksin... oraa oroos... Liqui...   \n",
       "7410  @sociotalker @Dandhy_Laksono Cuman kepikiran j...   \n",
       "7411  Ahli RI Respons Vaksin Corona AstraZeneca yang...   \n",
       "7412  Permasalahan2 ekonomi akan terjawab lewat UU C...   \n",
       "\n",
       "                                         cleaned_tweets  \n",
       "0     manfaat vaksin selain kebal corona juga bisa k...  \n",
       "1     perbankan menanti ketentuan pemberian vaksin m...  \n",
       "2     tebak kata : 1. banjir, terjadi karena ... ? 2...  \n",
       "3     yg di suntik vaksin sinovac sampai saat ini be...  \n",
       "4     mudah2an kita yg merasa beragama, apalagi org ...  \n",
       "...                                                 ...  \n",
       "7408  ada yang minta jokowi disuntik duluan vaksin c...  \n",
       "7409  ameh corona ameh vaksin... oraa oroos... liqui...  \n",
       "7410  @sociotalker @dandhy_laksono cuman kepikiran j...  \n",
       "7411  ahli ri respons vaksin corona astrazeneca yang...  \n",
       "7412  permasalahan2 ekonomi akan terjawab lewat uu c...  \n",
       "\n",
       "[6765 rows x 2 columns]"
      ]
     },
     "execution_count": 9,
     "metadata": {},
     "output_type": "execute_result"
    }
   ],
   "source": [
    "df1['cleaned_tweets'] = df1['tweet'].apply(lambda x: make_lower_case(x))\n",
    "df1"
   ]
  },
  {
   "cell_type": "markdown",
   "metadata": {
    "papermill": {
     "duration": 0.069629,
     "end_time": "2021-02-11T03:19:58.565999",
     "exception": false,
     "start_time": "2021-02-11T03:19:58.496370",
     "status": "completed"
    },
    "tags": []
   },
   "source": [
    "# 2. NORMALISASI"
   ]
  },
  {
   "cell_type": "code",
   "execution_count": 10,
   "metadata": {
    "execution": {
     "iopub.execute_input": "2021-02-11T03:19:58.717259Z",
     "iopub.status.busy": "2021-02-11T03:19:58.716229Z",
     "iopub.status.idle": "2021-02-11T03:19:58.720037Z",
     "shell.execute_reply": "2021-02-11T03:19:58.719224Z"
    },
    "papermill": {
     "duration": 0.078853,
     "end_time": "2021-02-11T03:19:58.720196",
     "exception": false,
     "start_time": "2021-02-11T03:19:58.641343",
     "status": "completed"
    },
    "tags": []
   },
   "outputs": [],
   "source": [
    "import re\n",
    "\n",
    "def normalisasi(text):\n",
    "  text = re.sub(r\"http\\S+\", \" \", text)\n",
    "  text = re.sub(r\"@\\w+\", \" \", text)\n",
    "  text = re.sub(r\"#\\w+\", \" \", text)\n",
    "  text = re.sub(r'\\W', \" \", text)\n",
    "  text = re.sub(r\"\\d+\", \"\", text)\n",
    "  text = re.sub(r'_', ' ',text)\n",
    "  text = re.sub(r' +', ' ', text)\n",
    "  text = re.sub(r\"^\\s+\", '', text)\n",
    "  #text = text.lstrip()\n",
    "  return text"
   ]
  },
  {
   "cell_type": "code",
   "execution_count": 11,
   "metadata": {
    "execution": {
     "iopub.execute_input": "2021-02-11T03:19:58.862828Z",
     "iopub.status.busy": "2021-02-11T03:19:58.861905Z",
     "iopub.status.idle": "2021-02-11T03:19:58.866241Z",
     "shell.execute_reply": "2021-02-11T03:19:58.866906Z"
    },
    "papermill": {
     "duration": 0.078313,
     "end_time": "2021-02-11T03:19:58.867120",
     "exception": false,
     "start_time": "2021-02-11T03:19:58.788807",
     "status": "completed"
    },
    "tags": []
   },
   "outputs": [
    {
     "name": "stdout",
     "output_type": "stream",
     "text": [
      "perusahaan kalo di sini prioritas dulu dulu baru para pejuang medis nya yg sabar ya para tenaga medis semoga selalu diberi kesehatan dan umur yg panjang untuk tetap menjalankan tugas \n"
     ]
    }
   ],
   "source": [
    "normal = normalisasi(lowercase)\n",
    "print(normal)"
   ]
  },
  {
   "cell_type": "code",
   "execution_count": 12,
   "metadata": {
    "execution": {
     "iopub.execute_input": "2021-02-11T03:19:58.979065Z",
     "iopub.status.busy": "2021-02-11T03:19:58.973849Z",
     "iopub.status.idle": "2021-02-11T03:19:59.216570Z",
     "shell.execute_reply": "2021-02-11T03:19:59.215850Z"
    },
    "papermill": {
     "duration": 0.302499,
     "end_time": "2021-02-11T03:19:59.216728",
     "exception": false,
     "start_time": "2021-02-11T03:19:58.914229",
     "status": "completed"
    },
    "tags": []
   },
   "outputs": [
    {
     "name": "stderr",
     "output_type": "stream",
     "text": [
      "/opt/conda/lib/python3.7/site-packages/ipykernel_launcher.py:1: SettingWithCopyWarning: \n",
      "A value is trying to be set on a copy of a slice from a DataFrame.\n",
      "Try using .loc[row_indexer,col_indexer] = value instead\n",
      "\n",
      "See the caveats in the documentation: https://pandas.pydata.org/pandas-docs/stable/user_guide/indexing.html#returning-a-view-versus-a-copy\n",
      "  \"\"\"Entry point for launching an IPython kernel.\n"
     ]
    },
    {
     "data": {
      "text/html": [
       "<div>\n",
       "<style scoped>\n",
       "    .dataframe tbody tr th:only-of-type {\n",
       "        vertical-align: middle;\n",
       "    }\n",
       "\n",
       "    .dataframe tbody tr th {\n",
       "        vertical-align: top;\n",
       "    }\n",
       "\n",
       "    .dataframe thead th {\n",
       "        text-align: right;\n",
       "    }\n",
       "</style>\n",
       "<table border=\"1\" class=\"dataframe\">\n",
       "  <thead>\n",
       "    <tr style=\"text-align: right;\">\n",
       "      <th></th>\n",
       "      <th>tweet</th>\n",
       "      <th>cleaned_tweets</th>\n",
       "    </tr>\n",
       "  </thead>\n",
       "  <tbody>\n",
       "    <tr>\n",
       "      <th>0</th>\n",
       "      <td>Manfaat vaksin selain kebal corona juga bisa k...</td>\n",
       "      <td>manfaat vaksin selain kebal corona juga bisa k...</td>\n",
       "    </tr>\n",
       "    <tr>\n",
       "      <th>1</th>\n",
       "      <td>Perbankan menanti ketentuan pemberian vaksin m...</td>\n",
       "      <td>perbankan menanti ketentuan pemberian vaksin m...</td>\n",
       "    </tr>\n",
       "    <tr>\n",
       "      <th>2</th>\n",
       "      <td>Tebak Kata : 1. Banjir, terjadi karena ... ? 2...</td>\n",
       "      <td>tebak kata banjir terjadi karena gunung meletu...</td>\n",
       "    </tr>\n",
       "    <tr>\n",
       "      <th>3</th>\n",
       "      <td>Yg di suntik vaksin sinovac sampai saat ini be...</td>\n",
       "      <td>yg di suntik vaksin sinovac sampai saat ini be...</td>\n",
       "    </tr>\n",
       "    <tr>\n",
       "      <th>4</th>\n",
       "      <td>Mudah2an kita yg merasa beragama, apalagi org ...</td>\n",
       "      <td>mudahan kita yg merasa beragama apalagi org is...</td>\n",
       "    </tr>\n",
       "    <tr>\n",
       "      <th>...</th>\n",
       "      <td>...</td>\n",
       "      <td>...</td>\n",
       "    </tr>\n",
       "    <tr>\n",
       "      <th>7408</th>\n",
       "      <td>Ada yang Minta Jokowi Disuntik Duluan Vaksin C...</td>\n",
       "      <td>ada yang minta jokowi disuntik duluan vaksin c...</td>\n",
       "    </tr>\n",
       "    <tr>\n",
       "      <th>7409</th>\n",
       "      <td>Ameh corona ameh vaksin... oraa oroos... Liqui...</td>\n",
       "      <td>ameh corona ameh vaksin oraa oroos liquidku or...</td>\n",
       "    </tr>\n",
       "    <tr>\n",
       "      <th>7410</th>\n",
       "      <td>@sociotalker @Dandhy_Laksono Cuman kepikiran j...</td>\n",
       "      <td>cuman kepikiran jangan sampai gara gara ngebet...</td>\n",
       "    </tr>\n",
       "    <tr>\n",
       "      <th>7411</th>\n",
       "      <td>Ahli RI Respons Vaksin Corona AstraZeneca yang...</td>\n",
       "      <td>ahli ri respons vaksin corona astrazeneca yang...</td>\n",
       "    </tr>\n",
       "    <tr>\n",
       "      <th>7412</th>\n",
       "      <td>Permasalahan2 ekonomi akan terjawab lewat UU C...</td>\n",
       "      <td>permasalahan ekonomi akan terjawab lewat uu ci...</td>\n",
       "    </tr>\n",
       "  </tbody>\n",
       "</table>\n",
       "<p>6765 rows × 2 columns</p>\n",
       "</div>"
      ],
      "text/plain": [
       "                                                  tweet  \\\n",
       "0     Manfaat vaksin selain kebal corona juga bisa k...   \n",
       "1     Perbankan menanti ketentuan pemberian vaksin m...   \n",
       "2     Tebak Kata : 1. Banjir, terjadi karena ... ? 2...   \n",
       "3     Yg di suntik vaksin sinovac sampai saat ini be...   \n",
       "4     Mudah2an kita yg merasa beragama, apalagi org ...   \n",
       "...                                                 ...   \n",
       "7408  Ada yang Minta Jokowi Disuntik Duluan Vaksin C...   \n",
       "7409  Ameh corona ameh vaksin... oraa oroos... Liqui...   \n",
       "7410  @sociotalker @Dandhy_Laksono Cuman kepikiran j...   \n",
       "7411  Ahli RI Respons Vaksin Corona AstraZeneca yang...   \n",
       "7412  Permasalahan2 ekonomi akan terjawab lewat UU C...   \n",
       "\n",
       "                                         cleaned_tweets  \n",
       "0     manfaat vaksin selain kebal corona juga bisa k...  \n",
       "1     perbankan menanti ketentuan pemberian vaksin m...  \n",
       "2     tebak kata banjir terjadi karena gunung meletu...  \n",
       "3     yg di suntik vaksin sinovac sampai saat ini be...  \n",
       "4     mudahan kita yg merasa beragama apalagi org is...  \n",
       "...                                                 ...  \n",
       "7408  ada yang minta jokowi disuntik duluan vaksin c...  \n",
       "7409  ameh corona ameh vaksin oraa oroos liquidku or...  \n",
       "7410  cuman kepikiran jangan sampai gara gara ngebet...  \n",
       "7411  ahli ri respons vaksin corona astrazeneca yang...  \n",
       "7412  permasalahan ekonomi akan terjawab lewat uu ci...  \n",
       "\n",
       "[6765 rows x 2 columns]"
      ]
     },
     "execution_count": 12,
     "metadata": {},
     "output_type": "execute_result"
    }
   ],
   "source": [
    "df1['cleaned_tweets'] = df1['cleaned_tweets'].apply(lambda x: normalisasi(x))\n",
    "df1"
   ]
  },
  {
   "cell_type": "markdown",
   "metadata": {
    "papermill": {
     "duration": 0.06983,
     "end_time": "2021-02-11T03:19:59.356943",
     "exception": false,
     "start_time": "2021-02-11T03:19:59.287113",
     "status": "completed"
    },
    "tags": []
   },
   "source": [
    "# 3. BAKU"
   ]
  },
  {
   "cell_type": "code",
   "execution_count": 13,
   "metadata": {
    "execution": {
     "iopub.execute_input": "2021-02-11T03:19:59.504309Z",
     "iopub.status.busy": "2021-02-11T03:19:59.503684Z",
     "iopub.status.idle": "2021-02-11T03:19:59.507014Z",
     "shell.execute_reply": "2021-02-11T03:19:59.506391Z"
    },
    "papermill": {
     "duration": 0.080092,
     "end_time": "2021-02-11T03:19:59.507145",
     "exception": false,
     "start_time": "2021-02-11T03:19:59.427053",
     "status": "completed"
    },
    "tags": []
   },
   "outputs": [],
   "source": [
    "def kbbi(token): \n",
    "    kbba=[kamus.strip('\\n').strip('\\r') for kamus in open('/kaggle/input/vaksin2/5.txt')]\n",
    "    dic={}\n",
    "    for i in kbba: \n",
    "        (key,val)=i.split('\\t')\n",
    "        dic[str(key)]=val \n",
    "    final_string = ' '.join(str(dic.get(word, word)) for word in token)\n",
    "    return final_string\n",
    "\n",
    "def baku(text):\n",
    "    text=text.split()\n",
    "    text=kbbi(text)\n",
    "    return text"
   ]
  },
  {
   "cell_type": "code",
   "execution_count": 14,
   "metadata": {
    "execution": {
     "iopub.execute_input": "2021-02-11T03:19:59.600742Z",
     "iopub.status.busy": "2021-02-11T03:19:59.600130Z",
     "iopub.status.idle": "2021-02-11T03:19:59.619180Z",
     "shell.execute_reply": "2021-02-11T03:19:59.618599Z"
    },
    "papermill": {
     "duration": 0.066702,
     "end_time": "2021-02-11T03:19:59.619302",
     "exception": false,
     "start_time": "2021-02-11T03:19:59.552600",
     "status": "completed"
    },
    "tags": []
   },
   "outputs": [
    {
     "name": "stdout",
     "output_type": "stream",
     "text": [
      "perusahaan kalau di sini prioritas dulu dulu baru para pejuang medis nya yang sabar iya para tenaga medis semoga selalu diberi kesehatan dan umur yang panjang untuk tetap menjalankan tugas\n"
     ]
    }
   ],
   "source": [
    "katabaku = baku(normal)\n",
    "print(katabaku)"
   ]
  },
  {
   "cell_type": "code",
   "execution_count": 15,
   "metadata": {
    "execution": {
     "iopub.execute_input": "2021-02-11T03:19:59.716799Z",
     "iopub.status.busy": "2021-02-11T03:19:59.716154Z",
     "iopub.status.idle": "2021-02-11T03:20:14.280208Z",
     "shell.execute_reply": "2021-02-11T03:20:14.279615Z"
    },
    "papermill": {
     "duration": 14.614848,
     "end_time": "2021-02-11T03:20:14.280337",
     "exception": false,
     "start_time": "2021-02-11T03:19:59.665489",
     "status": "completed"
    },
    "tags": []
   },
   "outputs": [
    {
     "name": "stderr",
     "output_type": "stream",
     "text": [
      "/opt/conda/lib/python3.7/site-packages/ipykernel_launcher.py:1: SettingWithCopyWarning: \n",
      "A value is trying to be set on a copy of a slice from a DataFrame.\n",
      "Try using .loc[row_indexer,col_indexer] = value instead\n",
      "\n",
      "See the caveats in the documentation: https://pandas.pydata.org/pandas-docs/stable/user_guide/indexing.html#returning-a-view-versus-a-copy\n",
      "  \"\"\"Entry point for launching an IPython kernel.\n"
     ]
    },
    {
     "data": {
      "text/html": [
       "<div>\n",
       "<style scoped>\n",
       "    .dataframe tbody tr th:only-of-type {\n",
       "        vertical-align: middle;\n",
       "    }\n",
       "\n",
       "    .dataframe tbody tr th {\n",
       "        vertical-align: top;\n",
       "    }\n",
       "\n",
       "    .dataframe thead th {\n",
       "        text-align: right;\n",
       "    }\n",
       "</style>\n",
       "<table border=\"1\" class=\"dataframe\">\n",
       "  <thead>\n",
       "    <tr style=\"text-align: right;\">\n",
       "      <th></th>\n",
       "      <th>tweet</th>\n",
       "      <th>cleaned_tweets</th>\n",
       "    </tr>\n",
       "  </thead>\n",
       "  <tbody>\n",
       "    <tr>\n",
       "      <th>0</th>\n",
       "      <td>Manfaat vaksin selain kebal corona juga bisa k...</td>\n",
       "      <td>manfaat vaksin selain kebal corona juga bisa k...</td>\n",
       "    </tr>\n",
       "    <tr>\n",
       "      <th>1</th>\n",
       "      <td>Perbankan menanti ketentuan pemberian vaksin m...</td>\n",
       "      <td>perbankan menanti ketentuan pemberian vaksin m...</td>\n",
       "    </tr>\n",
       "    <tr>\n",
       "      <th>2</th>\n",
       "      <td>Tebak Kata : 1. Banjir, terjadi karena ... ? 2...</td>\n",
       "      <td>tebak kata banjir terjadi karena gunung meletu...</td>\n",
       "    </tr>\n",
       "    <tr>\n",
       "      <th>3</th>\n",
       "      <td>Yg di suntik vaksin sinovac sampai saat ini be...</td>\n",
       "      <td>yang di suntik vaksin sinovac sampai saat ini ...</td>\n",
       "    </tr>\n",
       "    <tr>\n",
       "      <th>4</th>\n",
       "      <td>Mudah2an kita yg merasa beragama, apalagi org ...</td>\n",
       "      <td>semoga kita yang merasa beragama apalagi orang...</td>\n",
       "    </tr>\n",
       "    <tr>\n",
       "      <th>...</th>\n",
       "      <td>...</td>\n",
       "      <td>...</td>\n",
       "    </tr>\n",
       "    <tr>\n",
       "      <th>7408</th>\n",
       "      <td>Ada yang Minta Jokowi Disuntik Duluan Vaksin C...</td>\n",
       "      <td>ada yang minta jokowi disuntik duluan vaksin c...</td>\n",
       "    </tr>\n",
       "    <tr>\n",
       "      <th>7409</th>\n",
       "      <td>Ameh corona ameh vaksin... oraa oroos... Liqui...</td>\n",
       "      <td>mau corona mau vaksin tidak peduli liquidku ti...</td>\n",
       "    </tr>\n",
       "    <tr>\n",
       "      <th>7410</th>\n",
       "      <td>@sociotalker @Dandhy_Laksono Cuman kepikiran j...</td>\n",
       "      <td>cuma terpikirkan jangan sampai gara gara ngebe...</td>\n",
       "    </tr>\n",
       "    <tr>\n",
       "      <th>7411</th>\n",
       "      <td>Ahli RI Respons Vaksin Corona AstraZeneca yang...</td>\n",
       "      <td>ahli republik indonesia respons vaksin corona ...</td>\n",
       "    </tr>\n",
       "    <tr>\n",
       "      <th>7412</th>\n",
       "      <td>Permasalahan2 ekonomi akan terjawab lewat UU C...</td>\n",
       "      <td>permasalahan ekonomi akan terjawab lewat uu ci...</td>\n",
       "    </tr>\n",
       "  </tbody>\n",
       "</table>\n",
       "<p>6765 rows × 2 columns</p>\n",
       "</div>"
      ],
      "text/plain": [
       "                                                  tweet  \\\n",
       "0     Manfaat vaksin selain kebal corona juga bisa k...   \n",
       "1     Perbankan menanti ketentuan pemberian vaksin m...   \n",
       "2     Tebak Kata : 1. Banjir, terjadi karena ... ? 2...   \n",
       "3     Yg di suntik vaksin sinovac sampai saat ini be...   \n",
       "4     Mudah2an kita yg merasa beragama, apalagi org ...   \n",
       "...                                                 ...   \n",
       "7408  Ada yang Minta Jokowi Disuntik Duluan Vaksin C...   \n",
       "7409  Ameh corona ameh vaksin... oraa oroos... Liqui...   \n",
       "7410  @sociotalker @Dandhy_Laksono Cuman kepikiran j...   \n",
       "7411  Ahli RI Respons Vaksin Corona AstraZeneca yang...   \n",
       "7412  Permasalahan2 ekonomi akan terjawab lewat UU C...   \n",
       "\n",
       "                                         cleaned_tweets  \n",
       "0     manfaat vaksin selain kebal corona juga bisa k...  \n",
       "1     perbankan menanti ketentuan pemberian vaksin m...  \n",
       "2     tebak kata banjir terjadi karena gunung meletu...  \n",
       "3     yang di suntik vaksin sinovac sampai saat ini ...  \n",
       "4     semoga kita yang merasa beragama apalagi orang...  \n",
       "...                                                 ...  \n",
       "7408  ada yang minta jokowi disuntik duluan vaksin c...  \n",
       "7409  mau corona mau vaksin tidak peduli liquidku ti...  \n",
       "7410  cuma terpikirkan jangan sampai gara gara ngebe...  \n",
       "7411  ahli republik indonesia respons vaksin corona ...  \n",
       "7412  permasalahan ekonomi akan terjawab lewat uu ci...  \n",
       "\n",
       "[6765 rows x 2 columns]"
      ]
     },
     "execution_count": 15,
     "metadata": {},
     "output_type": "execute_result"
    }
   ],
   "source": [
    "df1['cleaned_tweets'] = df1['cleaned_tweets'].apply(lambda x: baku(x))\n",
    "df1"
   ]
  },
  {
   "cell_type": "markdown",
   "metadata": {
    "papermill": {
     "duration": 0.045781,
     "end_time": "2021-02-11T03:20:14.372128",
     "exception": false,
     "start_time": "2021-02-11T03:20:14.326347",
     "status": "completed"
    },
    "tags": []
   },
   "source": [
    "# 4. STOPWORDS"
   ]
  },
  {
   "cell_type": "code",
   "execution_count": 16,
   "metadata": {
    "execution": {
     "iopub.execute_input": "2021-02-11T03:20:14.470882Z",
     "iopub.status.busy": "2021-02-11T03:20:14.470226Z",
     "iopub.status.idle": "2021-02-11T03:20:16.328285Z",
     "shell.execute_reply": "2021-02-11T03:20:16.328945Z"
    },
    "papermill": {
     "duration": 1.911306,
     "end_time": "2021-02-11T03:20:16.329147",
     "exception": false,
     "start_time": "2021-02-11T03:20:14.417841",
     "status": "completed"
    },
    "tags": []
   },
   "outputs": [
    {
     "name": "stdout",
     "output_type": "stream",
     "text": [
      "[nltk_data] Downloading package stopwords to /usr/share/nltk_data...\n",
      "[nltk_data]   Package stopwords is already up-to-date!\n"
     ]
    }
   ],
   "source": [
    "import nltk\n",
    "nltk.download('stopwords')\n",
    "from nltk.corpus import stopwords  \n",
    "\n",
    "def remove_stop_words(text):\n",
    "    text = text.split()\n",
    "    listStopword =  set(stopwords.words('indonesian'))\n",
    "    text = [w for w in text if not w in listStopword]\n",
    "    text = \" \".join(text)\n",
    "    return text"
   ]
  },
  {
   "cell_type": "code",
   "execution_count": 17,
   "metadata": {
    "execution": {
     "iopub.execute_input": "2021-02-11T03:20:16.476704Z",
     "iopub.status.busy": "2021-02-11T03:20:16.475863Z",
     "iopub.status.idle": "2021-02-11T03:20:16.487145Z",
     "shell.execute_reply": "2021-02-11T03:20:16.487952Z"
    },
    "papermill": {
     "duration": 0.086546,
     "end_time": "2021-02-11T03:20:16.488154",
     "exception": false,
     "start_time": "2021-02-11T03:20:16.401608",
     "status": "completed"
    },
    "tags": []
   },
   "outputs": [
    {
     "name": "stdout",
     "output_type": "stream",
     "text": [
      "perusahaan prioritas pejuang medis nya sabar iya tenaga medis semoga kesehatan umur menjalankan tugas\n"
     ]
    }
   ],
   "source": [
    "stopword = remove_stop_words(katabaku)\n",
    "print(stopword)"
   ]
  },
  {
   "cell_type": "code",
   "execution_count": 18,
   "metadata": {
    "execution": {
     "iopub.execute_input": "2021-02-11T03:20:16.638289Z",
     "iopub.status.busy": "2021-02-11T03:20:16.637527Z",
     "iopub.status.idle": "2021-02-11T03:20:19.420541Z",
     "shell.execute_reply": "2021-02-11T03:20:19.419523Z"
    },
    "papermill": {
     "duration": 2.859102,
     "end_time": "2021-02-11T03:20:19.420702",
     "exception": false,
     "start_time": "2021-02-11T03:20:16.561600",
     "status": "completed"
    },
    "tags": []
   },
   "outputs": [
    {
     "name": "stderr",
     "output_type": "stream",
     "text": [
      "/opt/conda/lib/python3.7/site-packages/ipykernel_launcher.py:1: SettingWithCopyWarning: \n",
      "A value is trying to be set on a copy of a slice from a DataFrame.\n",
      "Try using .loc[row_indexer,col_indexer] = value instead\n",
      "\n",
      "See the caveats in the documentation: https://pandas.pydata.org/pandas-docs/stable/user_guide/indexing.html#returning-a-view-versus-a-copy\n",
      "  \"\"\"Entry point for launching an IPython kernel.\n"
     ]
    },
    {
     "data": {
      "text/html": [
       "<div>\n",
       "<style scoped>\n",
       "    .dataframe tbody tr th:only-of-type {\n",
       "        vertical-align: middle;\n",
       "    }\n",
       "\n",
       "    .dataframe tbody tr th {\n",
       "        vertical-align: top;\n",
       "    }\n",
       "\n",
       "    .dataframe thead th {\n",
       "        text-align: right;\n",
       "    }\n",
       "</style>\n",
       "<table border=\"1\" class=\"dataframe\">\n",
       "  <thead>\n",
       "    <tr style=\"text-align: right;\">\n",
       "      <th></th>\n",
       "      <th>tweet</th>\n",
       "      <th>cleaned_tweets</th>\n",
       "    </tr>\n",
       "  </thead>\n",
       "  <tbody>\n",
       "    <tr>\n",
       "      <th>0</th>\n",
       "      <td>Manfaat vaksin selain kebal corona juga bisa k...</td>\n",
       "      <td>manfaat vaksin kebal corona kebal hukum tertan...</td>\n",
       "    </tr>\n",
       "    <tr>\n",
       "      <th>1</th>\n",
       "      <td>Perbankan menanti ketentuan pemberian vaksin m...</td>\n",
       "      <td>perbankan ketentuan pemberian vaksin mandiri</td>\n",
       "    </tr>\n",
       "    <tr>\n",
       "      <th>2</th>\n",
       "      <td>Tebak Kata : 1. Banjir, terjadi karena ... ? 2...</td>\n",
       "      <td>tebak banjir gunung meletus tanah longsor vaks...</td>\n",
       "    </tr>\n",
       "    <tr>\n",
       "      <th>3</th>\n",
       "      <td>Yg di suntik vaksin sinovac sampai saat ini be...</td>\n",
       "      <td>suntik vaksin sinovac laporan kematian preside...</td>\n",
       "    </tr>\n",
       "    <tr>\n",
       "      <th>4</th>\n",
       "      <td>Mudah2an kita yg merasa beragama, apalagi org ...</td>\n",
       "      <td>semoga beragama orang islam mendukung upaya pe...</td>\n",
       "    </tr>\n",
       "    <tr>\n",
       "      <th>...</th>\n",
       "      <td>...</td>\n",
       "      <td>...</td>\n",
       "    </tr>\n",
       "    <tr>\n",
       "      <th>7408</th>\n",
       "      <td>Ada yang Minta Jokowi Disuntik Duluan Vaksin C...</td>\n",
       "      <td>jokowi disuntik duluan vaksin corona luhut pre...</td>\n",
       "    </tr>\n",
       "    <tr>\n",
       "      <th>7409</th>\n",
       "      <td>Ameh corona ameh vaksin... oraa oroos... Liqui...</td>\n",
       "      <td>corona vaksin peduli liquidku dibayari negara</td>\n",
       "    </tr>\n",
       "    <tr>\n",
       "      <th>7410</th>\n",
       "      <td>@sociotalker @Dandhy_Laksono Cuman kepikiran j...</td>\n",
       "      <td>terpikirkan gara gara ngebet vaksin laku isu k...</td>\n",
       "    </tr>\n",
       "    <tr>\n",
       "      <th>7411</th>\n",
       "      <td>Ahli RI Respons Vaksin Corona AstraZeneca yang...</td>\n",
       "      <td>ahli republik indonesia respons vaksin corona ...</td>\n",
       "    </tr>\n",
       "    <tr>\n",
       "      <th>7412</th>\n",
       "      <td>Permasalahan2 ekonomi akan terjawab lewat UU C...</td>\n",
       "      <td>permasalahan ekonomi terjawab uu ciptaker hadi...</td>\n",
       "    </tr>\n",
       "  </tbody>\n",
       "</table>\n",
       "<p>6765 rows × 2 columns</p>\n",
       "</div>"
      ],
      "text/plain": [
       "                                                  tweet  \\\n",
       "0     Manfaat vaksin selain kebal corona juga bisa k...   \n",
       "1     Perbankan menanti ketentuan pemberian vaksin m...   \n",
       "2     Tebak Kata : 1. Banjir, terjadi karena ... ? 2...   \n",
       "3     Yg di suntik vaksin sinovac sampai saat ini be...   \n",
       "4     Mudah2an kita yg merasa beragama, apalagi org ...   \n",
       "...                                                 ...   \n",
       "7408  Ada yang Minta Jokowi Disuntik Duluan Vaksin C...   \n",
       "7409  Ameh corona ameh vaksin... oraa oroos... Liqui...   \n",
       "7410  @sociotalker @Dandhy_Laksono Cuman kepikiran j...   \n",
       "7411  Ahli RI Respons Vaksin Corona AstraZeneca yang...   \n",
       "7412  Permasalahan2 ekonomi akan terjawab lewat UU C...   \n",
       "\n",
       "                                         cleaned_tweets  \n",
       "0     manfaat vaksin kebal corona kebal hukum tertan...  \n",
       "1          perbankan ketentuan pemberian vaksin mandiri  \n",
       "2     tebak banjir gunung meletus tanah longsor vaks...  \n",
       "3     suntik vaksin sinovac laporan kematian preside...  \n",
       "4     semoga beragama orang islam mendukung upaya pe...  \n",
       "...                                                 ...  \n",
       "7408  jokowi disuntik duluan vaksin corona luhut pre...  \n",
       "7409      corona vaksin peduli liquidku dibayari negara  \n",
       "7410  terpikirkan gara gara ngebet vaksin laku isu k...  \n",
       "7411  ahli republik indonesia respons vaksin corona ...  \n",
       "7412  permasalahan ekonomi terjawab uu ciptaker hadi...  \n",
       "\n",
       "[6765 rows x 2 columns]"
      ]
     },
     "execution_count": 18,
     "metadata": {},
     "output_type": "execute_result"
    }
   ],
   "source": [
    "df1['cleaned_tweets'] = df1['cleaned_tweets'].apply(lambda x: remove_stop_words(x))\n",
    "df1"
   ]
  },
  {
   "cell_type": "code",
   "execution_count": 19,
   "metadata": {
    "execution": {
     "iopub.execute_input": "2021-02-11T03:20:19.574174Z",
     "iopub.status.busy": "2021-02-11T03:20:19.573267Z",
     "iopub.status.idle": "2021-02-11T03:20:19.576442Z",
     "shell.execute_reply": "2021-02-11T03:20:19.577061Z"
    },
    "papermill": {
     "duration": 0.082681,
     "end_time": "2021-02-11T03:20:19.577231",
     "exception": false,
     "start_time": "2021-02-11T03:20:19.494550",
     "status": "completed"
    },
    "tags": []
   },
   "outputs": [],
   "source": [
    "def noise(text): \n",
    "    text = text.split()\n",
    "    listStopword =  [kamus.strip('\\n').strip('\\r') for kamus in open('/kaggle/input/vaksin2/noise.txt')]\n",
    "    text = [w for w in text if not w in listStopword]\n",
    "    text = \" \".join(text)\n",
    "    return text"
   ]
  },
  {
   "cell_type": "code",
   "execution_count": 20,
   "metadata": {
    "execution": {
     "iopub.execute_input": "2021-02-11T03:20:19.678224Z",
     "iopub.status.busy": "2021-02-11T03:20:19.677644Z",
     "iopub.status.idle": "2021-02-11T03:20:19.694043Z",
     "shell.execute_reply": "2021-02-11T03:20:19.693523Z"
    },
    "papermill": {
     "duration": 0.068717,
     "end_time": "2021-02-11T03:20:19.694176",
     "exception": false,
     "start_time": "2021-02-11T03:20:19.625459",
     "status": "completed"
    },
    "tags": []
   },
   "outputs": [
    {
     "name": "stdout",
     "output_type": "stream",
     "text": [
      "perusahaan prioritas pejuang medis sabar tenaga medis semoga kesehatan umur menjalankan tugas\n"
     ]
    }
   ],
   "source": [
    "nois = noise(stopword)\n",
    "print(nois)"
   ]
  },
  {
   "cell_type": "code",
   "execution_count": 21,
   "metadata": {
    "execution": {
     "iopub.execute_input": "2021-02-11T03:20:19.801157Z",
     "iopub.status.busy": "2021-02-11T03:20:19.800469Z",
     "iopub.status.idle": "2021-02-11T03:20:22.667612Z",
     "shell.execute_reply": "2021-02-11T03:20:22.668094Z"
    },
    "papermill": {
     "duration": 2.924872,
     "end_time": "2021-02-11T03:20:22.668269",
     "exception": false,
     "start_time": "2021-02-11T03:20:19.743397",
     "status": "completed"
    },
    "tags": []
   },
   "outputs": [
    {
     "name": "stderr",
     "output_type": "stream",
     "text": [
      "/opt/conda/lib/python3.7/site-packages/ipykernel_launcher.py:1: SettingWithCopyWarning: \n",
      "A value is trying to be set on a copy of a slice from a DataFrame.\n",
      "Try using .loc[row_indexer,col_indexer] = value instead\n",
      "\n",
      "See the caveats in the documentation: https://pandas.pydata.org/pandas-docs/stable/user_guide/indexing.html#returning-a-view-versus-a-copy\n",
      "  \"\"\"Entry point for launching an IPython kernel.\n"
     ]
    },
    {
     "data": {
      "text/html": [
       "<div>\n",
       "<style scoped>\n",
       "    .dataframe tbody tr th:only-of-type {\n",
       "        vertical-align: middle;\n",
       "    }\n",
       "\n",
       "    .dataframe tbody tr th {\n",
       "        vertical-align: top;\n",
       "    }\n",
       "\n",
       "    .dataframe thead th {\n",
       "        text-align: right;\n",
       "    }\n",
       "</style>\n",
       "<table border=\"1\" class=\"dataframe\">\n",
       "  <thead>\n",
       "    <tr style=\"text-align: right;\">\n",
       "      <th></th>\n",
       "      <th>tweet</th>\n",
       "      <th>cleaned_tweets</th>\n",
       "    </tr>\n",
       "  </thead>\n",
       "  <tbody>\n",
       "    <tr>\n",
       "      <th>0</th>\n",
       "      <td>Manfaat vaksin selain kebal corona juga bisa k...</td>\n",
       "      <td>manfaat vaksin kebal corona kebal hukum tertan...</td>\n",
       "    </tr>\n",
       "    <tr>\n",
       "      <th>1</th>\n",
       "      <td>Perbankan menanti ketentuan pemberian vaksin m...</td>\n",
       "      <td>perbankan ketentuan pemberian vaksin mandiri</td>\n",
       "    </tr>\n",
       "    <tr>\n",
       "      <th>2</th>\n",
       "      <td>Tebak Kata : 1. Banjir, terjadi karena ... ? 2...</td>\n",
       "      <td>tebak banjir gunung meletus tanah longsor vaks...</td>\n",
       "    </tr>\n",
       "    <tr>\n",
       "      <th>3</th>\n",
       "      <td>Yg di suntik vaksin sinovac sampai saat ini be...</td>\n",
       "      <td>suntik vaksin sinovac laporan kematian preside...</td>\n",
       "    </tr>\n",
       "    <tr>\n",
       "      <th>4</th>\n",
       "      <td>Mudah2an kita yg merasa beragama, apalagi org ...</td>\n",
       "      <td>semoga beragama orang islam mendukung upaya pe...</td>\n",
       "    </tr>\n",
       "    <tr>\n",
       "      <th>...</th>\n",
       "      <td>...</td>\n",
       "      <td>...</td>\n",
       "    </tr>\n",
       "    <tr>\n",
       "      <th>7408</th>\n",
       "      <td>Ada yang Minta Jokowi Disuntik Duluan Vaksin C...</td>\n",
       "      <td>jokowi disuntik duluan vaksin corona luhut pre...</td>\n",
       "    </tr>\n",
       "    <tr>\n",
       "      <th>7409</th>\n",
       "      <td>Ameh corona ameh vaksin... oraa oroos... Liqui...</td>\n",
       "      <td>corona vaksin peduli liquidku dibayari negara</td>\n",
       "    </tr>\n",
       "    <tr>\n",
       "      <th>7410</th>\n",
       "      <td>@sociotalker @Dandhy_Laksono Cuman kepikiran j...</td>\n",
       "      <td>terpikirkan gara gara ngebet vaksin laku isu k...</td>\n",
       "    </tr>\n",
       "    <tr>\n",
       "      <th>7411</th>\n",
       "      <td>Ahli RI Respons Vaksin Corona AstraZeneca yang...</td>\n",
       "      <td>ahli republik indonesia respons vaksin corona ...</td>\n",
       "    </tr>\n",
       "    <tr>\n",
       "      <th>7412</th>\n",
       "      <td>Permasalahan2 ekonomi akan terjawab lewat UU C...</td>\n",
       "      <td>permasalahan ekonomi terjawab uu ciptaker hadi...</td>\n",
       "    </tr>\n",
       "  </tbody>\n",
       "</table>\n",
       "<p>6765 rows × 2 columns</p>\n",
       "</div>"
      ],
      "text/plain": [
       "                                                  tweet  \\\n",
       "0     Manfaat vaksin selain kebal corona juga bisa k...   \n",
       "1     Perbankan menanti ketentuan pemberian vaksin m...   \n",
       "2     Tebak Kata : 1. Banjir, terjadi karena ... ? 2...   \n",
       "3     Yg di suntik vaksin sinovac sampai saat ini be...   \n",
       "4     Mudah2an kita yg merasa beragama, apalagi org ...   \n",
       "...                                                 ...   \n",
       "7408  Ada yang Minta Jokowi Disuntik Duluan Vaksin C...   \n",
       "7409  Ameh corona ameh vaksin... oraa oroos... Liqui...   \n",
       "7410  @sociotalker @Dandhy_Laksono Cuman kepikiran j...   \n",
       "7411  Ahli RI Respons Vaksin Corona AstraZeneca yang...   \n",
       "7412  Permasalahan2 ekonomi akan terjawab lewat UU C...   \n",
       "\n",
       "                                         cleaned_tweets  \n",
       "0     manfaat vaksin kebal corona kebal hukum tertan...  \n",
       "1          perbankan ketentuan pemberian vaksin mandiri  \n",
       "2     tebak banjir gunung meletus tanah longsor vaks...  \n",
       "3     suntik vaksin sinovac laporan kematian preside...  \n",
       "4     semoga beragama orang islam mendukung upaya pe...  \n",
       "...                                                 ...  \n",
       "7408  jokowi disuntik duluan vaksin corona luhut pre...  \n",
       "7409      corona vaksin peduli liquidku dibayari negara  \n",
       "7410  terpikirkan gara gara ngebet vaksin laku isu k...  \n",
       "7411  ahli republik indonesia respons vaksin corona ...  \n",
       "7412  permasalahan ekonomi terjawab uu ciptaker hadi...  \n",
       "\n",
       "[6765 rows x 2 columns]"
      ]
     },
     "execution_count": 21,
     "metadata": {},
     "output_type": "execute_result"
    }
   ],
   "source": [
    "df1['cleaned_tweets'] = df1['cleaned_tweets'].apply(lambda x: noise(x))\n",
    "df1"
   ]
  },
  {
   "cell_type": "markdown",
   "metadata": {
    "papermill": {
     "duration": 0.049235,
     "end_time": "2021-02-11T03:20:22.767504",
     "exception": false,
     "start_time": "2021-02-11T03:20:22.718269",
     "status": "completed"
    },
    "tags": []
   },
   "source": [
    "# 5. STEAMING"
   ]
  },
  {
   "cell_type": "code",
   "execution_count": 22,
   "metadata": {
    "execution": {
     "iopub.execute_input": "2021-02-11T03:20:22.873304Z",
     "iopub.status.busy": "2021-02-11T03:20:22.872621Z",
     "iopub.status.idle": "2021-02-11T03:20:22.891239Z",
     "shell.execute_reply": "2021-02-11T03:20:22.890610Z"
    },
    "papermill": {
     "duration": 0.074217,
     "end_time": "2021-02-11T03:20:22.891373",
     "exception": false,
     "start_time": "2021-02-11T03:20:22.817156",
     "status": "completed"
    },
    "tags": []
   },
   "outputs": [],
   "source": [
    "from Sastrawi.Stemmer.StemmerFactory import StemmerFactory\n",
    "\n",
    "def steamming(text):\n",
    "    factory = StemmerFactory()\n",
    "    stemmer = factory.create_stemmer()\n",
    "    split = text.split()\n",
    "    hasil = [stemmer.stem(token) for token in split]\n",
    "    hasil = \" \".join(hasil)\n",
    "    return hasil"
   ]
  },
  {
   "cell_type": "code",
   "execution_count": 23,
   "metadata": {
    "execution": {
     "iopub.execute_input": "2021-02-11T03:20:22.996293Z",
     "iopub.status.busy": "2021-02-11T03:20:22.995702Z",
     "iopub.status.idle": "2021-02-11T03:20:23.842228Z",
     "shell.execute_reply": "2021-02-11T03:20:23.841596Z"
    },
    "papermill": {
     "duration": 0.901548,
     "end_time": "2021-02-11T03:20:23.842369",
     "exception": false,
     "start_time": "2021-02-11T03:20:22.940821",
     "status": "completed"
    },
    "tags": []
   },
   "outputs": [
    {
     "name": "stdout",
     "output_type": "stream",
     "text": [
      "hutang seperti rupa solusi tunggal yang kerap ambil perintah telah corona loan kali ini wacana untuk vaksin corona gratis pun akan buah utang\n"
     ]
    }
   ],
   "source": [
    "steam = steamming(\"Berhutang sepertinya merupakan solusi tunggal yang kerap diambil pemerintah. Setelah corona loan, kali ini wacana untuk vaksin corona gratis pun akan berbuah utang.\")\n",
    "print(steam)"
   ]
  },
  {
   "cell_type": "code",
   "execution_count": 24,
   "metadata": {
    "execution": {
     "iopub.execute_input": "2021-02-11T03:20:23.948683Z",
     "iopub.status.busy": "2021-02-11T03:20:23.948010Z",
     "iopub.status.idle": "2021-02-11T04:42:13.134285Z",
     "shell.execute_reply": "2021-02-11T04:42:13.133754Z"
    },
    "papermill": {
     "duration": 4909.241946,
     "end_time": "2021-02-11T04:42:13.134437",
     "exception": false,
     "start_time": "2021-02-11T03:20:23.892491",
     "status": "completed"
    },
    "tags": []
   },
   "outputs": [
    {
     "name": "stderr",
     "output_type": "stream",
     "text": [
      "/opt/conda/lib/python3.7/site-packages/ipykernel_launcher.py:1: SettingWithCopyWarning: \n",
      "A value is trying to be set on a copy of a slice from a DataFrame.\n",
      "Try using .loc[row_indexer,col_indexer] = value instead\n",
      "\n",
      "See the caveats in the documentation: https://pandas.pydata.org/pandas-docs/stable/user_guide/indexing.html#returning-a-view-versus-a-copy\n",
      "  \"\"\"Entry point for launching an IPython kernel.\n"
     ]
    },
    {
     "data": {
      "text/html": [
       "<div>\n",
       "<style scoped>\n",
       "    .dataframe tbody tr th:only-of-type {\n",
       "        vertical-align: middle;\n",
       "    }\n",
       "\n",
       "    .dataframe tbody tr th {\n",
       "        vertical-align: top;\n",
       "    }\n",
       "\n",
       "    .dataframe thead th {\n",
       "        text-align: right;\n",
       "    }\n",
       "</style>\n",
       "<table border=\"1\" class=\"dataframe\">\n",
       "  <thead>\n",
       "    <tr style=\"text-align: right;\">\n",
       "      <th></th>\n",
       "      <th>tweet</th>\n",
       "      <th>cleaned_tweets</th>\n",
       "    </tr>\n",
       "  </thead>\n",
       "  <tbody>\n",
       "    <tr>\n",
       "      <th>0</th>\n",
       "      <td>Manfaat vaksin selain kebal corona juga bisa k...</td>\n",
       "      <td>manfaat vaksin kebal corona kebal hukum tanda ...</td>\n",
       "    </tr>\n",
       "    <tr>\n",
       "      <th>1</th>\n",
       "      <td>Perbankan menanti ketentuan pemberian vaksin m...</td>\n",
       "      <td>perban tentu beri vaksin mandiri</td>\n",
       "    </tr>\n",
       "    <tr>\n",
       "      <th>2</th>\n",
       "      <td>Tebak Kata : 1. Banjir, terjadi karena ... ? 2...</td>\n",
       "      <td>tebak banjir gunung letus tanah longsor vaksin...</td>\n",
       "    </tr>\n",
       "    <tr>\n",
       "      <th>3</th>\n",
       "      <td>Yg di suntik vaksin sinovac sampai saat ini be...</td>\n",
       "      <td>suntik vaksin sinovac lapor mati presiden fili...</td>\n",
       "    </tr>\n",
       "    <tr>\n",
       "      <th>4</th>\n",
       "      <td>Mudah2an kita yg merasa beragama, apalagi org ...</td>\n",
       "      <td>moga agama orang islam dukung upaya cegah tula...</td>\n",
       "    </tr>\n",
       "    <tr>\n",
       "      <th>...</th>\n",
       "      <td>...</td>\n",
       "      <td>...</td>\n",
       "    </tr>\n",
       "    <tr>\n",
       "      <th>7408</th>\n",
       "      <td>Ada yang Minta Jokowi Disuntik Duluan Vaksin C...</td>\n",
       "      <td>jokowi suntik duluan vaksin corona luhut presiden</td>\n",
       "    </tr>\n",
       "    <tr>\n",
       "      <th>7409</th>\n",
       "      <td>Ameh corona ameh vaksin... oraa oroos... Liqui...</td>\n",
       "      <td>corona vaksin peduli liquidku bayar negara</td>\n",
       "    </tr>\n",
       "    <tr>\n",
       "      <th>7410</th>\n",
       "      <td>@sociotalker @Dandhy_Laksono Cuman kepikiran j...</td>\n",
       "      <td>pikir gara gara ngebet vaksin laku isu korban ...</td>\n",
       "    </tr>\n",
       "    <tr>\n",
       "      <th>7411</th>\n",
       "      <td>Ahli RI Respons Vaksin Corona AstraZeneca yang...</td>\n",
       "      <td>ahli republik indonesia respons vaksin corona ...</td>\n",
       "    </tr>\n",
       "    <tr>\n",
       "      <th>7412</th>\n",
       "      <td>Permasalahan2 ekonomi akan terjawab lewat UU C...</td>\n",
       "      <td>masalah ekonomi jawab uu ciptaker hadir vaksin...</td>\n",
       "    </tr>\n",
       "  </tbody>\n",
       "</table>\n",
       "<p>6765 rows × 2 columns</p>\n",
       "</div>"
      ],
      "text/plain": [
       "                                                  tweet  \\\n",
       "0     Manfaat vaksin selain kebal corona juga bisa k...   \n",
       "1     Perbankan menanti ketentuan pemberian vaksin m...   \n",
       "2     Tebak Kata : 1. Banjir, terjadi karena ... ? 2...   \n",
       "3     Yg di suntik vaksin sinovac sampai saat ini be...   \n",
       "4     Mudah2an kita yg merasa beragama, apalagi org ...   \n",
       "...                                                 ...   \n",
       "7408  Ada yang Minta Jokowi Disuntik Duluan Vaksin C...   \n",
       "7409  Ameh corona ameh vaksin... oraa oroos... Liqui...   \n",
       "7410  @sociotalker @Dandhy_Laksono Cuman kepikiran j...   \n",
       "7411  Ahli RI Respons Vaksin Corona AstraZeneca yang...   \n",
       "7412  Permasalahan2 ekonomi akan terjawab lewat UU C...   \n",
       "\n",
       "                                         cleaned_tweets  \n",
       "0     manfaat vaksin kebal corona kebal hukum tanda ...  \n",
       "1                      perban tentu beri vaksin mandiri  \n",
       "2     tebak banjir gunung letus tanah longsor vaksin...  \n",
       "3     suntik vaksin sinovac lapor mati presiden fili...  \n",
       "4     moga agama orang islam dukung upaya cegah tula...  \n",
       "...                                                 ...  \n",
       "7408  jokowi suntik duluan vaksin corona luhut presiden  \n",
       "7409         corona vaksin peduli liquidku bayar negara  \n",
       "7410  pikir gara gara ngebet vaksin laku isu korban ...  \n",
       "7411  ahli republik indonesia respons vaksin corona ...  \n",
       "7412  masalah ekonomi jawab uu ciptaker hadir vaksin...  \n",
       "\n",
       "[6765 rows x 2 columns]"
      ]
     },
     "execution_count": 24,
     "metadata": {},
     "output_type": "execute_result"
    }
   ],
   "source": [
    "df1['cleaned_tweets'] = df1['cleaned_tweets'].apply(lambda x: steamming(x))\n",
    "df1"
   ]
  },
  {
   "cell_type": "code",
   "execution_count": 25,
   "metadata": {
    "execution": {
     "iopub.execute_input": "2021-02-11T04:42:13.243348Z",
     "iopub.status.busy": "2021-02-11T04:42:13.242592Z",
     "iopub.status.idle": "2021-02-11T04:42:13.277657Z",
     "shell.execute_reply": "2021-02-11T04:42:13.277104Z"
    },
    "papermill": {
     "duration": 0.09224,
     "end_time": "2021-02-11T04:42:13.277791",
     "exception": false,
     "start_time": "2021-02-11T04:42:13.185551",
     "status": "completed"
    },
    "tags": []
   },
   "outputs": [
    {
     "data": {
      "text/html": [
       "<div>\n",
       "<style scoped>\n",
       "    .dataframe tbody tr th:only-of-type {\n",
       "        vertical-align: middle;\n",
       "    }\n",
       "\n",
       "    .dataframe tbody tr th {\n",
       "        vertical-align: top;\n",
       "    }\n",
       "\n",
       "    .dataframe thead th {\n",
       "        text-align: right;\n",
       "    }\n",
       "</style>\n",
       "<table border=\"1\" class=\"dataframe\">\n",
       "  <thead>\n",
       "    <tr style=\"text-align: right;\">\n",
       "      <th></th>\n",
       "      <th>cleaned_tweets</th>\n",
       "    </tr>\n",
       "  </thead>\n",
       "  <tbody>\n",
       "    <tr>\n",
       "      <th>0</th>\n",
       "      <td>manfaat vaksin kebal corona kebal hukum tanda ...</td>\n",
       "    </tr>\n",
       "    <tr>\n",
       "      <th>1</th>\n",
       "      <td>perban tentu beri vaksin mandiri</td>\n",
       "    </tr>\n",
       "    <tr>\n",
       "      <th>2</th>\n",
       "      <td>tebak banjir gunung letus tanah longsor vaksin...</td>\n",
       "    </tr>\n",
       "    <tr>\n",
       "      <th>3</th>\n",
       "      <td>suntik vaksin sinovac lapor mati presiden fili...</td>\n",
       "    </tr>\n",
       "    <tr>\n",
       "      <th>4</th>\n",
       "      <td>moga agama orang islam dukung upaya cegah tula...</td>\n",
       "    </tr>\n",
       "    <tr>\n",
       "      <th>...</th>\n",
       "      <td>...</td>\n",
       "    </tr>\n",
       "    <tr>\n",
       "      <th>7408</th>\n",
       "      <td>jokowi suntik duluan vaksin corona luhut presiden</td>\n",
       "    </tr>\n",
       "    <tr>\n",
       "      <th>7409</th>\n",
       "      <td>corona vaksin peduli liquidku bayar negara</td>\n",
       "    </tr>\n",
       "    <tr>\n",
       "      <th>7410</th>\n",
       "      <td>pikir gara gara ngebet vaksin laku isu korban ...</td>\n",
       "    </tr>\n",
       "    <tr>\n",
       "      <th>7411</th>\n",
       "      <td>ahli republik indonesia respons vaksin corona ...</td>\n",
       "    </tr>\n",
       "    <tr>\n",
       "      <th>7412</th>\n",
       "      <td>masalah ekonomi jawab uu ciptaker hadir vaksin...</td>\n",
       "    </tr>\n",
       "  </tbody>\n",
       "</table>\n",
       "<p>5772 rows × 1 columns</p>\n",
       "</div>"
      ],
      "text/plain": [
       "                                         cleaned_tweets\n",
       "0     manfaat vaksin kebal corona kebal hukum tanda ...\n",
       "1                      perban tentu beri vaksin mandiri\n",
       "2     tebak banjir gunung letus tanah longsor vaksin...\n",
       "3     suntik vaksin sinovac lapor mati presiden fili...\n",
       "4     moga agama orang islam dukung upaya cegah tula...\n",
       "...                                                 ...\n",
       "7408  jokowi suntik duluan vaksin corona luhut presiden\n",
       "7409         corona vaksin peduli liquidku bayar negara\n",
       "7410  pikir gara gara ngebet vaksin laku isu korban ...\n",
       "7411  ahli republik indonesia respons vaksin corona ...\n",
       "7412  masalah ekonomi jawab uu ciptaker hadir vaksin...\n",
       "\n",
       "[5772 rows x 1 columns]"
      ]
     },
     "execution_count": 25,
     "metadata": {},
     "output_type": "execute_result"
    }
   ],
   "source": [
    "df2 = df1.copy()\n",
    "del df2['tweet']\n",
    "df2 = df2.drop_duplicates()\n",
    "df2 = df2.dropna()\n",
    "df2"
   ]
  },
  {
   "cell_type": "code",
   "execution_count": 26,
   "metadata": {
    "execution": {
     "iopub.execute_input": "2021-02-11T04:42:13.387402Z",
     "iopub.status.busy": "2021-02-11T04:42:13.386740Z",
     "iopub.status.idle": "2021-02-11T04:42:13.423657Z",
     "shell.execute_reply": "2021-02-11T04:42:13.423096Z"
    },
    "papermill": {
     "duration": 0.093866,
     "end_time": "2021-02-11T04:42:13.423808",
     "exception": false,
     "start_time": "2021-02-11T04:42:13.329942",
     "status": "completed"
    },
    "tags": []
   },
   "outputs": [],
   "source": [
    "df2.to_csv('prepocessing.csv',index=False)"
   ]
  },
  {
   "cell_type": "code",
   "execution_count": 27,
   "metadata": {
    "execution": {
     "iopub.execute_input": "2021-02-11T04:42:13.529995Z",
     "iopub.status.busy": "2021-02-11T04:42:13.529405Z",
     "iopub.status.idle": "2021-02-11T04:42:13.533980Z",
     "shell.execute_reply": "2021-02-11T04:42:13.533482Z"
    },
    "papermill": {
     "duration": 0.0587,
     "end_time": "2021-02-11T04:42:13.534105",
     "exception": false,
     "start_time": "2021-02-11T04:42:13.475405",
     "status": "completed"
    },
    "tags": []
   },
   "outputs": [],
   "source": [
    "from vaderSentiment.vaderSentiment import SentimentIntensityAnalyzer"
   ]
  },
  {
   "cell_type": "code",
   "execution_count": 28,
   "metadata": {
    "execution": {
     "iopub.execute_input": "2021-02-11T04:42:13.646643Z",
     "iopub.status.busy": "2021-02-11T04:42:13.644765Z",
     "iopub.status.idle": "2021-02-11T04:42:14.053545Z",
     "shell.execute_reply": "2021-02-11T04:42:14.052695Z"
    },
    "papermill": {
     "duration": 0.467161,
     "end_time": "2021-02-11T04:42:14.053713",
     "exception": false,
     "start_time": "2021-02-11T04:42:13.586552",
     "status": "completed"
    },
    "tags": []
   },
   "outputs": [],
   "source": [
    "sid = SentimentIntensityAnalyzer()\n",
    "df2['sentiment'] = df2['cleaned_tweets'].apply(lambda x: sid.polarity_scores(x))\n",
    "def convert(x):\n",
    "    if x <= -0.05:\n",
    "        return \"negative\"\n",
    "    elif x >= 0.05:\n",
    "        return \"positive\"\n",
    "    else:\n",
    "        return \"neutral\"\n",
    "\n",
    "def kategori(x):\n",
    "    if x <= -0.05:\n",
    "        return 1\n",
    "    elif x >= 0.05:\n",
    "        return 2\n",
    "    else:\n",
    "        return 3\n",
    "\"\"\"\n",
    "df2['negatif'] = df2['sentiment'].apply(lambda x:(x['neg']))\n",
    "df2['positif'] = df2['sentiment'].apply(lambda x:(x['neu']))\n",
    "df2['Neutral'] = df2['sentiment'].apply(lambda x:(x['pos']))\"\"\"\n",
    "df2['compound'] = df2['sentiment'].apply(lambda x:(x['compound']))\n",
    "df2['result'] = df2['sentiment'].apply(lambda x:convert(x['compound']))\n",
    "df2['ketegori'] = df2['sentiment'].apply(lambda x:kategori(x['compound']))"
   ]
  },
  {
   "cell_type": "code",
   "execution_count": 29,
   "metadata": {
    "execution": {
     "iopub.execute_input": "2021-02-11T04:42:14.219800Z",
     "iopub.status.busy": "2021-02-11T04:42:14.219136Z",
     "iopub.status.idle": "2021-02-11T04:42:16.818594Z",
     "shell.execute_reply": "2021-02-11T04:42:16.819091Z"
    },
    "papermill": {
     "duration": 2.685995,
     "end_time": "2021-02-11T04:42:16.819250",
     "exception": false,
     "start_time": "2021-02-11T04:42:14.133255",
     "status": "completed"
    },
    "tags": []
   },
   "outputs": [
    {
     "data": {
      "image/png": "[encoded data removed]",
      "text/plain": [
       "<Figure size 864x720 with 1 Axes>"
      ]
     },
     "metadata": {
      "needs_background": "light"
     },
     "output_type": "display_data"
    }
   ],
   "source": [
    "import matplotlib.pyplot as plt\n",
    "from wordcloud import WordCloud, ImageColorGenerator\n",
    "\n",
    "wd_list = df2['cleaned_tweets']\n",
    "liststopwords = set(stopwords.words('indonesian'))\n",
    "all_words = ' '.join([text for text in wd_list])\n",
    "\n",
    "wordcloud = WordCloud(\n",
    "    background_color='white',\n",
    "    stopwords=liststopwords,\n",
    "    width=1600,\n",
    "    height=800,\n",
    "    random_state=1,\n",
    "    colormap='jet',\n",
    "    max_words=80,\n",
    "    max_font_size=200).generate(all_words)\n",
    "plt.figure(figsize=(12, 10))\n",
    "plt.axis('off')\n",
    "plt.imshow(wordcloud, interpolation=\"bilinear\");"
   ]
  },
  {
   "cell_type": "code",
   "execution_count": 30,
   "metadata": {
    "execution": {
     "iopub.execute_input": "2021-02-11T04:42:16.942248Z",
     "iopub.status.busy": "2021-02-11T04:42:16.941666Z",
     "iopub.status.idle": "2021-02-11T04:42:17.205076Z",
     "shell.execute_reply": "2021-02-11T04:42:17.204559Z"
    },
    "papermill": {
     "duration": 0.328046,
     "end_time": "2021-02-11T04:42:17.205212",
     "exception": false,
     "start_time": "2021-02-11T04:42:16.877166",
     "status": "completed"
    },
    "tags": []
   },
   "outputs": [
    {
     "data": {
      "text/plain": [
       "<AxesSubplot:xlabel='ketegori', ylabel='count'>"
      ]
     },
     "execution_count": 30,
     "metadata": {},
     "output_type": "execute_result"
    },
    {
     "data": {
      "image/png": "[encoded data removed]",
      "text/plain": [
       "<Figure size 432x288 with 1 Axes>"
      ]
     },
     "metadata": {
      "needs_background": "light"
     },
     "output_type": "display_data"
    }
   ],
   "source": [
    "import seaborn as sns\n",
    "\n",
    "sns.countplot(x=\"ketegori\", data=df2)"
   ]
  },
  {
   "cell_type": "code",
   "execution_count": 31,
   "metadata": {
    "execution": {
     "iopub.execute_input": "2021-02-11T04:42:17.331791Z",
     "iopub.status.busy": "2021-02-11T04:42:17.331017Z",
     "iopub.status.idle": "2021-02-11T04:42:17.476657Z",
     "shell.execute_reply": "2021-02-11T04:42:17.477259Z"
    },
    "papermill": {
     "duration": 0.214199,
     "end_time": "2021-02-11T04:42:17.477439",
     "exception": false,
     "start_time": "2021-02-11T04:42:17.263240",
     "status": "completed"
    },
    "tags": []
   },
   "outputs": [
    {
     "data": {
      "image/png": "[encoded data removed]",
      "text/plain": [
       "<Figure size 432x288 with 1 Axes>"
      ]
     },
     "metadata": {},
     "output_type": "display_data"
    }
   ],
   "source": [
    "df2['result'].value_counts().plot.pie()\n",
    "plt.show()"
   ]
  },
  {
   "cell_type": "code",
   "execution_count": 32,
   "metadata": {
    "execution": {
     "iopub.execute_input": "2021-02-11T04:42:17.598822Z",
     "iopub.status.busy": "2021-02-11T04:42:17.598177Z",
     "iopub.status.idle": "2021-02-11T04:42:17.623410Z",
     "shell.execute_reply": "2021-02-11T04:42:17.624011Z"
    },
    "papermill": {
     "duration": 0.088156,
     "end_time": "2021-02-11T04:42:17.624164",
     "exception": false,
     "start_time": "2021-02-11T04:42:17.536008",
     "status": "completed"
    },
    "tags": []
   },
   "outputs": [
    {
     "data": {
      "text/html": [
       "<div>\n",
       "<style scoped>\n",
       "    .dataframe tbody tr th:only-of-type {\n",
       "        vertical-align: middle;\n",
       "    }\n",
       "\n",
       "    .dataframe tbody tr th {\n",
       "        vertical-align: top;\n",
       "    }\n",
       "\n",
       "    .dataframe thead th {\n",
       "        text-align: right;\n",
       "    }\n",
       "</style>\n",
       "<table border=\"1\" class=\"dataframe\">\n",
       "  <thead>\n",
       "    <tr style=\"text-align: right;\">\n",
       "      <th></th>\n",
       "      <th>cleaned_tweets</th>\n",
       "      <th>ketegori</th>\n",
       "    </tr>\n",
       "  </thead>\n",
       "  <tbody>\n",
       "    <tr>\n",
       "      <th>0</th>\n",
       "      <td>manfaat vaksin kebal corona kebal hukum tanda ...</td>\n",
       "      <td>3</td>\n",
       "    </tr>\n",
       "    <tr>\n",
       "      <th>1</th>\n",
       "      <td>perban tentu beri vaksin mandiri</td>\n",
       "      <td>3</td>\n",
       "    </tr>\n",
       "    <tr>\n",
       "      <th>2</th>\n",
       "      <td>tebak banjir gunung letus tanah longsor vaksin...</td>\n",
       "      <td>3</td>\n",
       "    </tr>\n",
       "    <tr>\n",
       "      <th>3</th>\n",
       "      <td>suntik vaksin sinovac lapor mati presiden fili...</td>\n",
       "      <td>3</td>\n",
       "    </tr>\n",
       "    <tr>\n",
       "      <th>4</th>\n",
       "      <td>moga agama orang islam dukung upaya cegah tula...</td>\n",
       "      <td>3</td>\n",
       "    </tr>\n",
       "    <tr>\n",
       "      <th>...</th>\n",
       "      <td>...</td>\n",
       "      <td>...</td>\n",
       "    </tr>\n",
       "    <tr>\n",
       "      <th>7408</th>\n",
       "      <td>jokowi suntik duluan vaksin corona luhut presiden</td>\n",
       "      <td>3</td>\n",
       "    </tr>\n",
       "    <tr>\n",
       "      <th>7409</th>\n",
       "      <td>corona vaksin peduli liquidku bayar negara</td>\n",
       "      <td>3</td>\n",
       "    </tr>\n",
       "    <tr>\n",
       "      <th>7410</th>\n",
       "      <td>pikir gara gara ngebet vaksin laku isu korban ...</td>\n",
       "      <td>3</td>\n",
       "    </tr>\n",
       "    <tr>\n",
       "      <th>7411</th>\n",
       "      <td>ahli republik indonesia respons vaksin corona ...</td>\n",
       "      <td>3</td>\n",
       "    </tr>\n",
       "    <tr>\n",
       "      <th>7412</th>\n",
       "      <td>masalah ekonomi jawab uu ciptaker hadir vaksin...</td>\n",
       "      <td>3</td>\n",
       "    </tr>\n",
       "  </tbody>\n",
       "</table>\n",
       "<p>5772 rows × 2 columns</p>\n",
       "</div>"
      ],
      "text/plain": [
       "                                         cleaned_tweets  ketegori\n",
       "0     manfaat vaksin kebal corona kebal hukum tanda ...         3\n",
       "1                      perban tentu beri vaksin mandiri         3\n",
       "2     tebak banjir gunung letus tanah longsor vaksin...         3\n",
       "3     suntik vaksin sinovac lapor mati presiden fili...         3\n",
       "4     moga agama orang islam dukung upaya cegah tula...         3\n",
       "...                                                 ...       ...\n",
       "7408  jokowi suntik duluan vaksin corona luhut presiden         3\n",
       "7409         corona vaksin peduli liquidku bayar negara         3\n",
       "7410  pikir gara gara ngebet vaksin laku isu korban ...         3\n",
       "7411  ahli republik indonesia respons vaksin corona ...         3\n",
       "7412  masalah ekonomi jawab uu ciptaker hadir vaksin...         3\n",
       "\n",
       "[5772 rows x 2 columns]"
      ]
     },
     "execution_count": 32,
     "metadata": {},
     "output_type": "execute_result"
    }
   ],
   "source": [
    "df3 = df2.copy()\n",
    "del df3['sentiment'], df3['compound'],  df3['result']\n",
    "df3 = df3.drop_duplicates()\n",
    "df3 = df3.dropna()\n",
    "df3"
   ]
  },
  {
   "cell_type": "code",
   "execution_count": 33,
   "metadata": {
    "execution": {
     "iopub.execute_input": "2021-02-11T04:42:17.747620Z",
     "iopub.status.busy": "2021-02-11T04:42:17.745274Z",
     "iopub.status.idle": "2021-02-11T04:42:17.768471Z",
     "shell.execute_reply": "2021-02-11T04:42:17.767886Z"
    },
    "papermill": {
     "duration": 0.085117,
     "end_time": "2021-02-11T04:42:17.768591",
     "exception": false,
     "start_time": "2021-02-11T04:42:17.683474",
     "status": "completed"
    },
    "tags": []
   },
   "outputs": [],
   "source": [
    "df3.to_csv('pelabelan.csv',index=False)"
   ]
  },
  {
   "cell_type": "code",
   "execution_count": 34,
   "metadata": {
    "execution": {
     "iopub.execute_input": "2021-02-11T04:42:17.888729Z",
     "iopub.status.busy": "2021-02-11T04:42:17.888088Z",
     "iopub.status.idle": "2021-02-11T04:42:17.900074Z",
     "shell.execute_reply": "2021-02-11T04:42:17.900596Z"
    },
    "papermill": {
     "duration": 0.073342,
     "end_time": "2021-02-11T04:42:17.900734",
     "exception": false,
     "start_time": "2021-02-11T04:42:17.827392",
     "status": "completed"
    },
    "tags": []
   },
   "outputs": [
    {
     "data": {
      "text/html": [
       "<div>\n",
       "<style scoped>\n",
       "    .dataframe tbody tr th:only-of-type {\n",
       "        vertical-align: middle;\n",
       "    }\n",
       "\n",
       "    .dataframe tbody tr th {\n",
       "        vertical-align: top;\n",
       "    }\n",
       "\n",
       "    .dataframe thead th {\n",
       "        text-align: right;\n",
       "    }\n",
       "</style>\n",
       "<table border=\"1\" class=\"dataframe\">\n",
       "  <thead>\n",
       "    <tr style=\"text-align: right;\">\n",
       "      <th></th>\n",
       "      <th>cleaned_tweets</th>\n",
       "      <th>ketegori</th>\n",
       "    </tr>\n",
       "  </thead>\n",
       "  <tbody>\n",
       "    <tr>\n",
       "      <th>50</th>\n",
       "      <td>yall do asking too much tbh selesai corona vak...</td>\n",
       "      <td>1</td>\n",
       "    </tr>\n",
       "    <tr>\n",
       "      <th>76</th>\n",
       "      <td>alas takut vaksin besok obrol</td>\n",
       "      <td>1</td>\n",
       "    </tr>\n",
       "    <tr>\n",
       "      <th>80</th>\n",
       "      <td>sebenernya atur vaksin hak tolak maksud penjar...</td>\n",
       "      <td>2</td>\n",
       "    </tr>\n",
       "    <tr>\n",
       "      <th>88</th>\n",
       "      <td>kayak vaksin corona tugas pasien pakai masker ...</td>\n",
       "      <td>1</td>\n",
       "    </tr>\n",
       "    <tr>\n",
       "      <th>114</th>\n",
       "      <td>serah corona hilang vaksin gratis silah vaksin...</td>\n",
       "      <td>2</td>\n",
       "    </tr>\n",
       "    <tr>\n",
       "      <th>...</th>\n",
       "      <td>...</td>\n",
       "      <td>...</td>\n",
       "    </tr>\n",
       "    <tr>\n",
       "      <th>7377</th>\n",
       "      <td>idiot takut banget vaksin akan suntik mati per...</td>\n",
       "      <td>1</td>\n",
       "    </tr>\n",
       "    <tr>\n",
       "      <th>7385</th>\n",
       "      <td>perdana menteri kanada vaksin corona sedia gra...</td>\n",
       "      <td>2</td>\n",
       "    </tr>\n",
       "    <tr>\n",
       "      <th>7390</th>\n",
       "      <td>negara kapitalis sosiais usaha kasih vaksin gr...</td>\n",
       "      <td>2</td>\n",
       "    </tr>\n",
       "    <tr>\n",
       "      <th>7391</th>\n",
       "      <td>luhut ungkap alas jokowi prioritas vaksin corona</td>\n",
       "      <td>1</td>\n",
       "    </tr>\n",
       "    <tr>\n",
       "      <th>7396</th>\n",
       "      <td>sakit corona indonesia mahal gratis ribetnya n...</td>\n",
       "      <td>2</td>\n",
       "    </tr>\n",
       "  </tbody>\n",
       "</table>\n",
       "<p>1160 rows × 2 columns</p>\n",
       "</div>"
      ],
      "text/plain": [
       "                                         cleaned_tweets  ketegori\n",
       "50    yall do asking too much tbh selesai corona vak...         1\n",
       "76                        alas takut vaksin besok obrol         1\n",
       "80    sebenernya atur vaksin hak tolak maksud penjar...         2\n",
       "88    kayak vaksin corona tugas pasien pakai masker ...         1\n",
       "114   serah corona hilang vaksin gratis silah vaksin...         2\n",
       "...                                                 ...       ...\n",
       "7377  idiot takut banget vaksin akan suntik mati per...         1\n",
       "7385  perdana menteri kanada vaksin corona sedia gra...         2\n",
       "7390  negara kapitalis sosiais usaha kasih vaksin gr...         2\n",
       "7391   luhut ungkap alas jokowi prioritas vaksin corona         1\n",
       "7396  sakit corona indonesia mahal gratis ribetnya n...         2\n",
       "\n",
       "[1160 rows x 2 columns]"
      ]
     },
     "execution_count": 34,
     "metadata": {},
     "output_type": "execute_result"
    }
   ],
   "source": [
    "df3 = df3[df3.ketegori != 3]\n",
    "df3"
   ]
  },
  {
   "cell_type": "code",
   "execution_count": 35,
   "metadata": {
    "execution": {
     "iopub.execute_input": "2021-02-11T04:42:18.062013Z",
     "iopub.status.busy": "2021-02-11T04:42:18.061457Z",
     "iopub.status.idle": "2021-02-11T04:42:18.066995Z",
     "shell.execute_reply": "2021-02-11T04:42:18.067457Z"
    },
    "papermill": {
     "duration": 0.067944,
     "end_time": "2021-02-11T04:42:18.067597",
     "exception": false,
     "start_time": "2021-02-11T04:42:17.999653",
     "status": "completed"
    },
    "tags": []
   },
   "outputs": [],
   "source": [
    "from sklearn.model_selection import train_test_split\n",
    "\n",
    "train, test = train_test_split(df3, test_size=0.25)"
   ]
  },
  {
   "cell_type": "code",
   "execution_count": 36,
   "metadata": {
    "execution": {
     "iopub.execute_input": "2021-02-11T04:42:18.190482Z",
     "iopub.status.busy": "2021-02-11T04:42:18.189874Z",
     "iopub.status.idle": "2021-02-11T04:42:18.236020Z",
     "shell.execute_reply": "2021-02-11T04:42:18.235323Z"
    },
    "papermill": {
     "duration": 0.108428,
     "end_time": "2021-02-11T04:42:18.236159",
     "exception": false,
     "start_time": "2021-02-11T04:42:18.127731",
     "status": "completed"
    },
    "tags": []
   },
   "outputs": [],
   "source": [
    "from sklearn.feature_extraction.text import CountVectorizer\n",
    "\n",
    "cv = CountVectorizer()\n",
    "\n",
    "X_train_cv = cv.fit_transform(train['cleaned_tweets'])\n",
    "X_test_cv = cv.fit_transform(test['cleaned_tweets'])"
   ]
  },
  {
   "cell_type": "code",
   "execution_count": 37,
   "metadata": {
    "execution": {
     "iopub.execute_input": "2021-02-11T04:42:18.365391Z",
     "iopub.status.busy": "2021-02-11T04:42:18.364248Z",
     "iopub.status.idle": "2021-02-11T04:42:18.369163Z",
     "shell.execute_reply": "2021-02-11T04:42:18.369836Z"
    },
    "papermill": {
     "duration": 0.073142,
     "end_time": "2021-02-11T04:42:18.370047",
     "exception": false,
     "start_time": "2021-02-11T04:42:18.296905",
     "status": "completed"
    },
    "tags": []
   },
   "outputs": [],
   "source": [
    "from sklearn.naive_bayes import MultinomialNB\n",
    "y_train = train['ketegori']\n",
    "y_test = test['ketegori']\n",
    "x_train = train['cleaned_tweets']\n",
    "x_test = test['cleaned_tweets']"
   ]
  },
  {
   "cell_type": "code",
   "execution_count": 38,
   "metadata": {
    "execution": {
     "iopub.execute_input": "2021-02-11T04:42:18.553716Z",
     "iopub.status.busy": "2021-02-11T04:42:18.552614Z",
     "iopub.status.idle": "2021-02-11T04:42:18.620587Z",
     "shell.execute_reply": "2021-02-11T04:42:18.621040Z"
    },
    "papermill": {
     "duration": 0.161642,
     "end_time": "2021-02-11T04:42:18.621211",
     "exception": false,
     "start_time": "2021-02-11T04:42:18.459569",
     "status": "completed"
    },
    "tags": []
   },
   "outputs": [
    {
     "data": {
      "text/plain": [
       "0.8068965517241379"
      ]
     },
     "execution_count": 38,
     "metadata": {},
     "output_type": "execute_result"
    }
   ],
   "source": [
    "import numpy as np\n",
    "from sklearn.pipeline import Pipeline\n",
    "from sklearn.feature_extraction.text import TfidfTransformer\n",
    "\n",
    "text_clf = Pipeline([('vect', CountVectorizer()),\n",
    "                     ('tfidf', TfidfTransformer()),\n",
    "                     ('clf', MultinomialNB()),])\n",
    "text_clf = text_clf.fit(x_train, y_train)\n",
    "\n",
    "text_clf = text_clf.predict(x_test)\n",
    "np.mean(text_clf == y_test)"
   ]
  },
  {
   "cell_type": "code",
   "execution_count": 39,
   "metadata": {
    "execution": {
     "iopub.execute_input": "2021-02-11T04:42:18.751387Z",
     "iopub.status.busy": "2021-02-11T04:42:18.750818Z",
     "iopub.status.idle": "2021-02-11T04:42:18.801981Z",
     "shell.execute_reply": "2021-02-11T04:42:18.801514Z"
    },
    "papermill": {
     "duration": 0.120271,
     "end_time": "2021-02-11T04:42:18.802105",
     "exception": false,
     "start_time": "2021-02-11T04:42:18.681834",
     "status": "completed"
    },
    "tags": []
   },
   "outputs": [
    {
     "data": {
      "text/plain": [
       "0.8862068965517241"
      ]
     },
     "execution_count": 39,
     "metadata": {},
     "output_type": "execute_result"
    }
   ],
   "source": [
    "pipeline = Pipeline([('vect', CountVectorizer()),\n",
    "                     ('clf', MultinomialNB()),])\n",
    "pipeline = pipeline.fit(x_train, y_train)\n",
    "\n",
    "akurasi = pipeline.predict(x_test)\n",
    "np.mean(akurasi == y_test)"
   ]
  },
  {
   "cell_type": "code",
   "execution_count": 40,
   "metadata": {
    "execution": {
     "iopub.execute_input": "2021-02-11T04:42:18.930356Z",
     "iopub.status.busy": "2021-02-11T04:42:18.929776Z",
     "iopub.status.idle": "2021-02-11T04:42:19.167315Z",
     "shell.execute_reply": "2021-02-11T04:42:19.166695Z"
    },
    "papermill": {
     "duration": 0.304149,
     "end_time": "2021-02-11T04:42:19.167468",
     "exception": false,
     "start_time": "2021-02-11T04:42:18.863319",
     "status": "completed"
    },
    "tags": []
   },
   "outputs": [
    {
     "data": {
      "text/plain": [
       "<AxesSubplot:>"
      ]
     },
     "execution_count": 40,
     "metadata": {},
     "output_type": "execute_result"
    },
    {
     "data": {
      "image/png": "[encoded data removed]",
      "text/plain": [
       "<Figure size 432x288 with 2 Axes>"
      ]
     },
     "metadata": {
      "needs_background": "light"
     },
     "output_type": "display_data"
    }
   ],
   "source": [
    "from sklearn.metrics import confusion_matrix\n",
    "confusion = confusion_matrix(text_clf, y_test)\n",
    "sns.heatmap(confusion/np.sum(confusion) , annot=True,  cmap='Blues')"
   ]
  },
  {
   "cell_type": "code",
   "execution_count": 41,
   "metadata": {
    "execution": {
     "iopub.execute_input": "2021-02-11T04:42:19.299031Z",
     "iopub.status.busy": "2021-02-11T04:42:19.298458Z",
     "iopub.status.idle": "2021-02-11T04:42:19.305478Z",
     "shell.execute_reply": "2021-02-11T04:42:19.306033Z"
    },
    "papermill": {
     "duration": 0.076294,
     "end_time": "2021-02-11T04:42:19.306195",
     "exception": false,
     "start_time": "2021-02-11T04:42:19.229901",
     "status": "completed"
    },
    "tags": []
   },
   "outputs": [
    {
     "data": {
      "text/plain": [
       "'positif'"
      ]
     },
     "execution_count": 41,
     "metadata": {},
     "output_type": "execute_result"
    }
   ],
   "source": [
    "pred = pipeline.predict([\"pemberian vaksin covid gratis rakyat indonesia dinilai langkah optimal pandemi virus corona tanah air\"])\n",
    "if (pred == [1]) :\n",
    "  result = \"negatif\"\n",
    "else:\n",
    "  result = \"positif\"\n",
    "\n",
    "result"
   ]
  },
  {
   "cell_type": "code",
   "execution_count": 42,
   "metadata": {
    "execution": {
     "iopub.execute_input": "2021-02-11T04:42:19.436132Z",
     "iopub.status.busy": "2021-02-11T04:42:19.435560Z",
     "iopub.status.idle": "2021-02-11T04:42:19.480940Z",
     "shell.execute_reply": "2021-02-11T04:42:19.481542Z"
    },
    "papermill": {
     "duration": 0.112412,
     "end_time": "2021-02-11T04:42:19.481689",
     "exception": false,
     "start_time": "2021-02-11T04:42:19.369277",
     "status": "completed"
    },
    "tags": []
   },
   "outputs": [
    {
     "data": {
      "text/plain": [
       "['pipeline.sav']"
      ]
     },
     "execution_count": 42,
     "metadata": {},
     "output_type": "execute_result"
    }
   ],
   "source": [
    "import joblib\n",
    "filename = 'pipeline.sav'\n",
    "joblib.dump(pipeline, filename)"
   ]
  },
  {
   "cell_type": "code",
   "execution_count": 43,
   "metadata": {
    "execution": {
     "iopub.execute_input": "2021-02-11T04:42:19.629543Z",
     "iopub.status.busy": "2021-02-11T04:42:19.628690Z",
     "iopub.status.idle": "2021-02-11T04:42:19.633764Z",
     "shell.execute_reply": "2021-02-11T04:42:19.633159Z"
    },
    "papermill": {
     "duration": 0.089256,
     "end_time": "2021-02-11T04:42:19.633929",
     "exception": false,
     "start_time": "2021-02-11T04:42:19.544673",
     "status": "completed"
    },
    "tags": []
   },
   "outputs": [
    {
     "data": {
      "text/plain": [
       "'positif'"
      ]
     },
     "execution_count": 43,
     "metadata": {},
     "output_type": "execute_result"
    }
   ],
   "source": [
    "filename = 'pipeline.sav'\n",
    "loaded_model = joblib.load(filename)\n",
    "result = loaded_model.predict([\"Pemerintah Gratiskan Vaksin COVID-19 Untuk Masyarakat itu keputusan yang sangat bagus untuk Semuanya\"])\n",
    "if (result == [1]) :\n",
    "  result = \"negatif\"\n",
    "else:\n",
    "  result = \"positif\"\n",
    "\n",
    "result"
   ]
  },
  {
   "cell_type": "code",
   "execution_count": 44,
   "metadata": {
    "execution": {
     "iopub.execute_input": "2021-02-11T04:42:19.767954Z",
     "iopub.status.busy": "2021-02-11T04:42:19.767062Z",
     "iopub.status.idle": "2021-02-11T04:42:19.773480Z",
     "shell.execute_reply": "2021-02-11T04:42:19.772271Z"
    },
    "papermill": {
     "duration": 0.075997,
     "end_time": "2021-02-11T04:42:19.773618",
     "exception": false,
     "start_time": "2021-02-11T04:42:19.697621",
     "status": "completed"
    },
    "tags": []
   },
   "outputs": [],
   "source": [
    "import pickle\n",
    "filename = 'finalized_model.sav'\n",
    "\n",
    "pickle.dump(pipeline, open(filename, 'wb'))"
   ]
  },
  {
   "cell_type": "code",
   "execution_count": 45,
   "metadata": {
    "execution": {
     "iopub.execute_input": "2021-02-11T04:42:19.906386Z",
     "iopub.status.busy": "2021-02-11T04:42:19.905617Z",
     "iopub.status.idle": "2021-02-11T04:42:19.913565Z",
     "shell.execute_reply": "2021-02-11T04:42:19.913001Z"
    },
    "papermill": {
     "duration": 0.076155,
     "end_time": "2021-02-11T04:42:19.913689",
     "exception": false,
     "start_time": "2021-02-11T04:42:19.837534",
     "status": "completed"
    },
    "tags": []
   },
   "outputs": [
    {
     "data": {
      "text/plain": [
       "'positif'"
      ]
     },
     "execution_count": 45,
     "metadata": {},
     "output_type": "execute_result"
    }
   ],
   "source": [
    "loaded_model = pickle.load(open(filename, 'rb'))\n",
    "\n",
    "result = loaded_model.predict([\"Dulu pas awal awal corona koar koar minta vaksin ini itu. Sekarang udah ada vaksin bacot juga. \"])\n",
    "if (result == [0]) :\n",
    "  result = \"negatif\"\n",
    "else:\n",
    "  result = \"positif\"\n",
    "\n",
    "result"
   ]
  },
  {
   "cell_type": "code",
   "execution_count": 46,
   "metadata": {
    "execution": {
     "iopub.execute_input": "2021-02-11T04:42:20.047936Z",
     "iopub.status.busy": "2021-02-11T04:42:20.047292Z",
     "iopub.status.idle": "2021-02-11T04:42:20.051557Z",
     "shell.execute_reply": "2021-02-11T04:42:20.052055Z"
    },
    "papermill": {
     "duration": 0.074222,
     "end_time": "2021-02-11T04:42:20.052198",
     "exception": false,
     "start_time": "2021-02-11T04:42:19.977976",
     "status": "completed"
    },
    "tags": []
   },
   "outputs": [
    {
     "data": {
      "text/plain": [
       "'negatif'"
      ]
     },
     "execution_count": 46,
     "metadata": {},
     "output_type": "execute_result"
    }
   ],
   "source": [
    "result = loaded_model.predict([\"budak sekolah anti vaksin selamat corona agenda dunia\"])\n",
    "if (result == [1]) :\n",
    "  result = \"negatif\"\n",
    "else:\n",
    "  result = \"positif\"\n",
    "\n",
    "result"
   ]
  }
 ],
 "metadata": {
  "kernelspec": {
   "display_name": "Python 3",
   "language": "python",
   "name": "python3"
  },
  "language_info": {
   "codemirror_mode": {
    "name": "ipython",
    "version": 3
   },
   "file_extension": ".py",
   "mimetype": "text/x-python",
   "name": "python",
   "nbconvert_exporter": "python",
   "pygments_lexer": "ipython3",
   "version": "3.7.9"
  },
  "papermill": {
   "default_parameters": {},
   "duration": 4968.966921,
   "end_time": "2021-02-11T04:42:21.026896",
   "environment_variables": {},
   "exception": null,
   "input_path": "__notebook__.ipynb",
   "output_path": "__notebook__.ipynb",
   "parameters": {},
   "start_time": "2021-02-11T03:19:32.059975",
   "version": "2.2.2"
  }
 },
 "nbformat": 4,
 "nbformat_minor": 4
}
